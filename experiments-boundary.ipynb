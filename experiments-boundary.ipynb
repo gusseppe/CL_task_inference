{
 "cells": [
  {
   "attachments": {},
   "cell_type": "markdown",
   "id": "2f323332-bd58-4bd6-b93b-9d3dfe36b4eb",
   "metadata": {},
   "source": [
    "# Experiments: Standard Scenario"
   ]
  },
  {
   "attachments": {},
   "cell_type": "markdown",
   "id": "b9a4ed81-d530-4026-a5a9-7318c2690d06",
   "metadata": {},
   "source": [
    "## Utils: \n",
    "\n",
    "- Density based clustering\n",
    "- Nearest-cluster centroids"
   ]
  },
  {
   "cell_type": "code",
   "execution_count": 2,
   "id": "a2a42f29-5322-48cb-b3dd-e7bd8c33b701",
   "metadata": {},
   "outputs": [],
   "source": [
    "from sklearn.neighbors import NearestNeighbors\n",
    "from sklearn.neighbors import NearestCentroid\n",
    "from sklearn.cluster import DBSCAN\n",
    "from sklearn import metrics\n",
    "import numpy as np\n",
    "from torchvision import transforms\n",
    "import torch\n",
    "import clip\n",
    "import matplotlib.pyplot as plt\n",
    "import pickle\n",
    "from PIL import Image\n",
    "from rich import print\n",
    "from scipy.stats import trim_mean\n",
    "\n",
    "\n",
    "def find_avg_centroid(x):\n",
    "    return np.mean(x, axis=0)\n",
    "\n",
    "def trimmed_mean_centroid(x, proportion_to_cut=0.1):\n",
    "    \"\"\"\n",
    "    Compute the trimmed mean centroid of an array of points.\n",
    "    \"\"\"\n",
    "    return trim_mean(x, proportiontocut=proportion_to_cut, axis=0)\n",
    "\n",
    "def find_better_centroid(x):\n",
    "    return trimmed_mean_centroid(x)\n",
    "\n",
    "def find_nearest_centroids(x, y):\n",
    "    if not isinstance(x, (np.ndarray, np.generic)):\n",
    "        x = x.detach().cpu().numpy()\n",
    "        \n",
    "    clf = NearestCentroid(metric='manhattan')\n",
    "    clf = clf.fit(x, y)\n",
    "    centroids = clf.centroids_\n",
    "    return centroids\n",
    "\n",
    "def find_knn(x, centroids, n_neighbors=10):\n",
    "    if not isinstance(x, (np.ndarray, np.generic)):\n",
    "        x = x.detach().cpu().numpy()\n",
    "\n",
    "    knn_search = NearestNeighbors(n_neighbors=n_neighbors,\n",
    "                            metric='manhattan', \n",
    "                            algorithm='auto', #'ball_tree'\n",
    "                            n_jobs=-1)  \n",
    "    knn_search.fit(x)\n",
    "\n",
    "    indexes = knn_search.kneighbors(centroids, return_distance=False)\n",
    "    return x[indexes][0]\n",
    "\n",
    "        \n",
    "def get_clusters(x):\n",
    "    db = DBSCAN(eps=0.3, min_samples=10, leaf_size=30, \n",
    "                n_jobs=-1, metric='cosine').fit(x)\n",
    "\n",
    "    # core_samples_mask = np.zeros_like(db.labels_, dtype=bool)\n",
    "    # core_samples_mask[db.core_sample_indices_] = True\n",
    "    labels = db.labels_\n",
    "    # Number of clusters in labels, ignoring noise if present.\n",
    "    n_clusters_ = len(set(labels)) - (1 if -1 in labels else 0)\n",
    "    n_noise_ = list(labels).count(-1)\n",
    "\n",
    "    print(\"Estimated number of clusters: %d\" % n_clusters_)\n",
    "    print(\"Estimated number of noise points: %d\" % n_noise_)\n",
    "    if n_clusters_ == 0:\n",
    "        return x, labels, n_clusters_\n",
    "    # Remove outliers to avoid affecting the centroids\n",
    "    x = x[np.where(labels != -1)]\n",
    "    labels = labels[np.where(labels != -1)]\n",
    "    \n",
    "    return x, labels, n_clusters_\n",
    "\n",
    "\n",
    "def get_nearest_embedding_centroids(x, n_neighbors=10):\n",
    "    \n",
    "    #1. Get the CLIP embeddings\n",
    "    if not isinstance(x, (np.ndarray, np.generic)):\n",
    "        x = x.detach().cpu().numpy()\n",
    "    \n",
    "    #2. Cluster the embeddings\n",
    "    x, labels, n_clusters = get_clusters(x)\n",
    "\n",
    "    #3. Find centroids of embeddings\n",
    "    if n_clusters < 2:\n",
    "        # centroids = find_avg_centroid(x)\n",
    "        centroids = find_better_centroid(x)\n",
    "        centroids = centroids.reshape(1, -1)\n",
    "    else:\n",
    "        centroids = find_nearest_centroids(x, labels)\n",
    "\n",
    "    # If some infinite/nan values appear\n",
    "    centroids = np.nan_to_num(centroids)\n",
    "    #4. Find knn of centroids        \n",
    "    x_nearest_centroids = find_knn(x, centroids, n_neighbors)\n",
    "    x_chosen = np.vstack([centroids, x_nearest_centroids])\n",
    "\n",
    "    print(f\"# nearest centroids ({round((x_chosen.shape[0]/x.shape[0])*100, 2)}%):\", x_chosen.shape)\n",
    "    print()\n",
    "\n",
    "    return x_chosen\n"
   ]
  },
  {
   "attachments": {},
   "cell_type": "markdown",
   "id": "0dde7f1a-9b47-48bb-b559-da2c2ff78380",
   "metadata": {},
   "source": [
    "### Semantic embedding"
   ]
  },
  {
   "cell_type": "code",
   "execution_count": 3,
   "id": "8b98b290-c1c8-49ed-9b5e-a451c703d7fc",
   "metadata": {},
   "outputs": [
    {
     "data": {
      "text/html": [
       "<pre style=\"white-space:pre;overflow-x:auto;line-height:normal;font-family:Menlo,'DejaVu Sans Mono',consolas,'Courier New',monospace\">Device: cpu\n",
       "</pre>\n"
      ],
      "text/plain": [
       "Device: cpu\n"
      ]
     },
     "metadata": {},
     "output_type": "display_data"
    }
   ],
   "source": [
    "device = \"cuda\" if torch.cuda.is_available() else \"cpu\"\n",
    "print(f\"Device: {device}\")\n",
    "embeder, preprocess = clip.load(\"ViT-B/32\", device=device)"
   ]
  },
  {
   "cell_type": "code",
   "execution_count": 4,
   "id": "069d7442-3e6e-4db5-9a81-e8dd59a9c1f7",
   "metadata": {},
   "outputs": [],
   "source": [
    "from tqdm import tqdm\n",
    "from torch.utils.data import DataLoader\n",
    "from sentence_transformers import SentenceTransformer, util\n",
    "from functools import lru_cache\n",
    "\n",
    "@lru_cache(maxsize=None)\n",
    "def get_embeddings(dataset):\n",
    "    \n",
    "    all_features = []\n",
    "    all_labels = []\n",
    "    all_tasks = []\n",
    "    \n",
    "    with torch.no_grad():\n",
    "        for images, labels, tasks in tqdm(DataLoader(dataset, batch_size=100, num_workers=8)):\n",
    "            features = embeder.encode_image(images.to(device))\n",
    "            # features = embeder_resnet(images.to(device)).squeeze()\n",
    "\n",
    "            all_features.append(features)\n",
    "            all_labels.append(labels)\n",
    "            all_tasks.append(tasks)\n",
    "\n",
    "    return (torch.cat(all_features).cpu().numpy(), \n",
    "            torch.cat(all_labels).cpu().numpy(), torch.cat(all_tasks).cpu().numpy())\n"
   ]
  },
  {
   "attachments": {},
   "cell_type": "markdown",
   "id": "0df5330d-53e2-47b5-88cb-3c09ed63bf09",
   "metadata": {},
   "source": [
    "## Obtain the SODA10M dataset"
   ]
  },
  {
   "cell_type": "code",
   "execution_count": 5,
   "id": "25d16b2d-f317-4554-ba2d-0489602eda15",
   "metadata": {},
   "outputs": [
    {
     "name": "stdout",
     "output_type": "stream",
     "text": [
      "[INFO] No Detectron installation found, continuing without.\n"
     ]
    },
    {
     "data": {
      "text/html": [
       "<pre style=\"white-space:pre;overflow-x:auto;line-height:normal;font-family:Menlo,'DejaVu Sans Mono',consolas,'Courier New',monospace\"><span style=\"color: #008080; text-decoration-color: #008080; font-weight: bold\">6</span>\n",
       "</pre>\n"
      ],
      "text/plain": [
       "\u001b[1;36m6\u001b[0m\n"
      ]
     },
     "metadata": {},
     "output_type": "display_data"
    },
    {
     "data": {
      "text/html": [
       "<pre style=\"white-space:pre;overflow-x:auto;line-height:normal;font-family:Menlo,'DejaVu Sans Mono',consolas,'Courier New',monospace\"><span style=\"font-weight: bold\">[</span><span style=\"color: #008080; text-decoration-color: #008080; font-weight: bold\">5157</span>, <span style=\"color: #008080; text-decoration-color: #008080; font-weight: bold\">1154</span>, <span style=\"color: #008080; text-decoration-color: #008080; font-weight: bold\">6742</span>, <span style=\"color: #008080; text-decoration-color: #008080; font-weight: bold\">2560</span>, <span style=\"color: #008080; text-decoration-color: #008080; font-weight: bold\">4517</span>, <span style=\"color: #008080; text-decoration-color: #008080; font-weight: bold\">2119</span><span style=\"font-weight: bold\">]</span>\n",
       "</pre>\n"
      ],
      "text/plain": [
       "\u001b[1m[\u001b[0m\u001b[1;36m5157\u001b[0m, \u001b[1;36m1154\u001b[0m, \u001b[1;36m6742\u001b[0m, \u001b[1;36m2560\u001b[0m, \u001b[1;36m4517\u001b[0m, \u001b[1;36m2119\u001b[0m\u001b[1m]\u001b[0m\n"
      ]
     },
     "metadata": {},
     "output_type": "display_data"
    }
   ],
   "source": [
    "import sys\n",
    "sys.path.append('./CLAD/')\n",
    "import clad\n",
    "import torchvision\n",
    "\n",
    "\n",
    "root = \"./data\"\n",
    "original_transform = torchvision.transforms.Compose([\n",
    "    torchvision.transforms.ToTensor(),\n",
    "    torchvision.transforms.Normalize((0.3252, 0.3283, 0.3407), (0.0265, 0.0241, 0.0252))\n",
    "\n",
    "])\n",
    "\n",
    "# all_train_sets = clad.get_cladc_train(root, transform=lambda x: x)\n",
    "all_train_sets = clad.get_cladc_train(root, transform=original_transform)\n",
    "# val_sets = clad.get_cladc_val(root, transform=torchvision.transforms.ToTensor())\n",
    "print(len(all_train_sets))\n",
    "print([len(ts) for ts in all_train_sets])"
   ]
  },
  {
   "cell_type": "code",
   "execution_count": 6,
   "id": "213d2cbb-668c-4705-a616-49c94403b8f4",
   "metadata": {},
   "outputs": [
    {
     "data": {
      "text/html": [
       "<pre style=\"white-space:pre;overflow-x:auto;line-height:normal;font-family:Menlo,'DejaVu Sans Mono',consolas,'Courier New',monospace\"><span style=\"color: #008080; text-decoration-color: #008080; font-weight: bold\">6</span>\n",
       "</pre>\n"
      ],
      "text/plain": [
       "\u001b[1;36m6\u001b[0m\n"
      ]
     },
     "metadata": {},
     "output_type": "display_data"
    },
    {
     "data": {
      "text/html": [
       "<pre style=\"white-space:pre;overflow-x:auto;line-height:normal;font-family:Menlo,'DejaVu Sans Mono',consolas,'Courier New',monospace\"><span style=\"font-weight: bold\">[</span><span style=\"color: #008080; text-decoration-color: #008080; font-weight: bold\">5157</span>, <span style=\"color: #008080; text-decoration-color: #008080; font-weight: bold\">1154</span>, <span style=\"color: #008080; text-decoration-color: #008080; font-weight: bold\">6742</span>, <span style=\"color: #008080; text-decoration-color: #008080; font-weight: bold\">2560</span>, <span style=\"color: #008080; text-decoration-color: #008080; font-weight: bold\">4517</span>, <span style=\"color: #008080; text-decoration-color: #008080; font-weight: bold\">2119</span><span style=\"font-weight: bold\">]</span>\n",
       "</pre>\n"
      ],
      "text/plain": [
       "\u001b[1m[\u001b[0m\u001b[1;36m5157\u001b[0m, \u001b[1;36m1154\u001b[0m, \u001b[1;36m6742\u001b[0m, \u001b[1;36m2560\u001b[0m, \u001b[1;36m4517\u001b[0m, \u001b[1;36m2119\u001b[0m\u001b[1m]\u001b[0m\n"
      ]
     },
     "metadata": {},
     "output_type": "display_data"
    }
   ],
   "source": [
    "# method_transform = torchvision.transforms.Compose([\n",
    "#     torchvision.transforms.ToTensor(),\n",
    "#     torchvision.transforms.ToPILImage()\n",
    "# ])\n",
    "method_transform = torchvision.transforms.Compose([\n",
    "    preprocess\n",
    "])\n",
    "all_train_sets_method = clad.get_cladc_train(root, transform=method_transform)\n",
    "print(len(all_train_sets_method))\n",
    "print([len(ts) for ts in all_train_sets_method])"
   ]
  },
  {
   "attachments": {},
   "cell_type": "markdown",
   "id": "20ce93c0-ca36-4408-a3c0-e0dd377aa286",
   "metadata": {},
   "source": [
    "### Train/Test split"
   ]
  },
  {
   "cell_type": "code",
   "execution_count": 7,
   "id": "b09d88eb-a438-4e71-bda4-752964149767",
   "metadata": {},
   "outputs": [
    {
     "data": {
      "text/html": [
       "<pre style=\"white-space:pre;overflow-x:auto;line-height:normal;font-family:Menlo,'DejaVu Sans Mono',consolas,'Courier New',monospace\">Original data\n",
       "</pre>\n"
      ],
      "text/plain": [
       "Original data\n"
      ]
     },
     "metadata": {},
     "output_type": "display_data"
    },
    {
     "data": {
      "text/html": [
       "<pre style=\"white-space:pre;overflow-x:auto;line-height:normal;font-family:Menlo,'DejaVu Sans Mono',consolas,'Courier New',monospace\">Training lenghts: \n",
       "<span style=\"font-weight: bold\">[</span><span style=\"color: #008080; text-decoration-color: #008080; font-weight: bold\">4125</span>, <span style=\"color: #008080; text-decoration-color: #008080; font-weight: bold\">923</span>, <span style=\"color: #008080; text-decoration-color: #008080; font-weight: bold\">5393</span>, <span style=\"color: #008080; text-decoration-color: #008080; font-weight: bold\">2048</span>, <span style=\"color: #008080; text-decoration-color: #008080; font-weight: bold\">3613</span>, <span style=\"color: #008080; text-decoration-color: #008080; font-weight: bold\">1695</span><span style=\"font-weight: bold\">]</span>\n",
       "</pre>\n"
      ],
      "text/plain": [
       "Training lenghts: \n",
       "\u001b[1m[\u001b[0m\u001b[1;36m4125\u001b[0m, \u001b[1;36m923\u001b[0m, \u001b[1;36m5393\u001b[0m, \u001b[1;36m2048\u001b[0m, \u001b[1;36m3613\u001b[0m, \u001b[1;36m1695\u001b[0m\u001b[1m]\u001b[0m\n"
      ]
     },
     "metadata": {},
     "output_type": "display_data"
    },
    {
     "data": {
      "text/html": [
       "<pre style=\"white-space:pre;overflow-x:auto;line-height:normal;font-family:Menlo,'DejaVu Sans Mono',consolas,'Courier New',monospace\">Testing lenghts: \n",
       "<span style=\"font-weight: bold\">[</span><span style=\"color: #008080; text-decoration-color: #008080; font-weight: bold\">1032</span>, <span style=\"color: #008080; text-decoration-color: #008080; font-weight: bold\">231</span>, <span style=\"color: #008080; text-decoration-color: #008080; font-weight: bold\">1349</span>, <span style=\"color: #008080; text-decoration-color: #008080; font-weight: bold\">512</span>, <span style=\"color: #008080; text-decoration-color: #008080; font-weight: bold\">904</span>, <span style=\"color: #008080; text-decoration-color: #008080; font-weight: bold\">424</span><span style=\"font-weight: bold\">]</span>\n",
       "</pre>\n"
      ],
      "text/plain": [
       "Testing lenghts: \n",
       "\u001b[1m[\u001b[0m\u001b[1;36m1032\u001b[0m, \u001b[1;36m231\u001b[0m, \u001b[1;36m1349\u001b[0m, \u001b[1;36m512\u001b[0m, \u001b[1;36m904\u001b[0m, \u001b[1;36m424\u001b[0m\u001b[1m]\u001b[0m\n"
      ]
     },
     "metadata": {},
     "output_type": "display_data"
    },
    {
     "data": {
      "text/html": [
       "<pre style=\"white-space:pre;overflow-x:auto;line-height:normal;font-family:Menlo,'DejaVu Sans Mono',consolas,'Courier New',monospace\">Method data\n",
       "</pre>\n"
      ],
      "text/plain": [
       "Method data\n"
      ]
     },
     "metadata": {},
     "output_type": "display_data"
    },
    {
     "data": {
      "text/html": [
       "<pre style=\"white-space:pre;overflow-x:auto;line-height:normal;font-family:Menlo,'DejaVu Sans Mono',consolas,'Courier New',monospace\">Training lenghts: \n",
       "<span style=\"font-weight: bold\">[</span><span style=\"color: #008080; text-decoration-color: #008080; font-weight: bold\">4125</span>, <span style=\"color: #008080; text-decoration-color: #008080; font-weight: bold\">923</span>, <span style=\"color: #008080; text-decoration-color: #008080; font-weight: bold\">5393</span>, <span style=\"color: #008080; text-decoration-color: #008080; font-weight: bold\">2048</span>, <span style=\"color: #008080; text-decoration-color: #008080; font-weight: bold\">3613</span>, <span style=\"color: #008080; text-decoration-color: #008080; font-weight: bold\">1695</span><span style=\"font-weight: bold\">]</span>\n",
       "</pre>\n"
      ],
      "text/plain": [
       "Training lenghts: \n",
       "\u001b[1m[\u001b[0m\u001b[1;36m4125\u001b[0m, \u001b[1;36m923\u001b[0m, \u001b[1;36m5393\u001b[0m, \u001b[1;36m2048\u001b[0m, \u001b[1;36m3613\u001b[0m, \u001b[1;36m1695\u001b[0m\u001b[1m]\u001b[0m\n"
      ]
     },
     "metadata": {},
     "output_type": "display_data"
    },
    {
     "data": {
      "text/html": [
       "<pre style=\"white-space:pre;overflow-x:auto;line-height:normal;font-family:Menlo,'DejaVu Sans Mono',consolas,'Courier New',monospace\">Testing lenghts: \n",
       "<span style=\"font-weight: bold\">[</span><span style=\"color: #008080; text-decoration-color: #008080; font-weight: bold\">1032</span>, <span style=\"color: #008080; text-decoration-color: #008080; font-weight: bold\">231</span>, <span style=\"color: #008080; text-decoration-color: #008080; font-weight: bold\">1349</span>, <span style=\"color: #008080; text-decoration-color: #008080; font-weight: bold\">512</span>, <span style=\"color: #008080; text-decoration-color: #008080; font-weight: bold\">904</span>, <span style=\"color: #008080; text-decoration-color: #008080; font-weight: bold\">424</span><span style=\"font-weight: bold\">]</span>\n",
       "</pre>\n"
      ],
      "text/plain": [
       "Testing lenghts: \n",
       "\u001b[1m[\u001b[0m\u001b[1;36m1032\u001b[0m, \u001b[1;36m231\u001b[0m, \u001b[1;36m1349\u001b[0m, \u001b[1;36m512\u001b[0m, \u001b[1;36m904\u001b[0m, \u001b[1;36m424\u001b[0m\u001b[1m]\u001b[0m\n"
      ]
     },
     "metadata": {},
     "output_type": "display_data"
    }
   ],
   "source": [
    "import torch\n",
    "from torch.utils.data import random_split\n",
    "\n",
    "# Define the split sizes for each dataset\n",
    "train_size = 0.8\n",
    "# test_size = 0.2\n",
    "\n",
    "# Split each dataset in the train_sets list into training and testing sets\n",
    "train_sets = []\n",
    "test_sets = []\n",
    "for dataset in all_train_sets:\n",
    "    dataset_size = len(dataset)\n",
    "    train_dataset_size = int(train_size * dataset_size)\n",
    "    test_dataset_size = dataset_size - train_dataset_size\n",
    "    train_dataset, test_dataset = random_split(dataset, [train_dataset_size, test_dataset_size], \n",
    "                                               generator=torch.Generator().manual_seed(42))\n",
    "    train_sets.append(train_dataset)\n",
    "    test_sets.append(test_dataset)\n",
    "\n",
    "print(\"Original data\")\n",
    "print('Training lenghts: ', [len(ts) for ts in train_sets])\n",
    "print('Testing lenghts: ', [len(ts) for ts in test_sets])\n",
    "\n",
    "train_sets_method = []\n",
    "test_sets_method = []\n",
    "for dataset in all_train_sets_method:\n",
    "    dataset_size = len(dataset)\n",
    "    train_dataset_size = int(train_size * dataset_size)\n",
    "    test_dataset_size = dataset_size - train_dataset_size\n",
    "    train_dataset, test_dataset = random_split(dataset, [train_dataset_size, test_dataset_size], \n",
    "                                               generator=torch.Generator().manual_seed(42))\n",
    "    train_sets_method.append(train_dataset)\n",
    "    test_sets_method.append(test_dataset)\n",
    "\n",
    "print(\"Method data\")\n",
    "print('Training lenghts: ', [len(ts) for ts in train_sets_method])\n",
    "print('Testing lenghts: ', [len(ts) for ts in test_sets_method])"
   ]
  },
  {
   "cell_type": "code",
   "execution_count": 8,
   "id": "4274a3a2-e586-4c14-b18a-a98020046a37",
   "metadata": {},
   "outputs": [
    {
     "name": "stdout",
     "output_type": "stream",
     "text": [
      "CPU times: user 615 ms, sys: 124 ms, total: 740 ms\n",
      "Wall time: 777 ms\n"
     ]
    }
   ],
   "source": [
    "%%time\n",
    "from torch.utils.data.dataset import TensorDataset\n",
    "from avalanche.benchmarks.utils import AvalancheDataset\n",
    "from avalanche.benchmarks.utils import make_classification_dataset\n",
    "from torch.utils.data import DataLoader\n",
    "from avalanche.benchmarks.generators import filelist_benchmark, dataset_benchmark\n",
    "\n",
    "\n",
    "\n",
    "# Original benchmark with tasks\n",
    "training_datasets = list()\n",
    "testing_datasets = list()\n",
    "\n",
    "for task, (train_s, test_s) in enumerate(zip(train_sets, test_sets), start=0):\n",
    "    training_datasets.append(make_classification_dataset(train_s, task_labels=np.repeat(task, len(train_s))))\n",
    "    testing_datasets.append(make_classification_dataset(test_s, task_labels=np.repeat(task, len(test_s))))\n",
    "\n",
    "benchmark= dataset_benchmark(\n",
    "    training_datasets,\n",
    "    testing_datasets\n",
    ")\n",
    "\n",
    "# Original benchmark without tasks\n",
    "training_datasets = list()\n",
    "testing_datasets = list()\n",
    "for task, (train_s, test_s) in enumerate(zip(train_sets, test_sets), start=0):\n",
    "    training_datasets.append(make_classification_dataset(train_s, task_labels=np.repeat(0, len(train_s))))\n",
    "    testing_datasets.append(make_classification_dataset(test_s, task_labels=np.repeat(0, len(test_s))))\n",
    "\n",
    "benchmark_no_task= dataset_benchmark(\n",
    "    training_datasets,\n",
    "    testing_datasets\n",
    ")\n",
    "\n",
    "# Method benchmark\n",
    "training_datasets = list()\n",
    "testing_datasets = list()\n",
    "for task, (train_s, test_s) in enumerate(zip(train_sets_method, test_sets_method), start=0):\n",
    "    training_datasets.append(make_classification_dataset(train_s, task_labels=np.repeat(task, len(train_s))))\n",
    "    testing_datasets.append(make_classification_dataset(test_s, task_labels=np.repeat(task, len(test_s))))\n",
    "\n",
    "benchmark_method= dataset_benchmark(\n",
    "    training_datasets,\n",
    "    testing_datasets\n",
    ")"
   ]
  },
  {
   "attachments": {},
   "cell_type": "markdown",
   "id": "d637684b-eafb-460f-afd9-03b66fe41332",
   "metadata": {},
   "source": [
    "## Test a simple Task classifier and save in cache"
   ]
  },
  {
   "cell_type": "code",
   "execution_count": null,
   "id": "8a431a5a-8d1e-4a53-ac36-bd7be795704b",
   "metadata": {},
   "outputs": [
    {
     "data": {
      "text/html": [
       "<pre style=\"white-space:pre;overflow-x:auto;line-height:normal;font-family:Menlo,'DejaVu Sans Mono',consolas,'Courier New',monospace\">Getting embeddings\n",
       "</pre>\n"
      ],
      "text/plain": [
       "Getting embeddings\n"
      ]
     },
     "metadata": {},
     "output_type": "display_data"
    },
    {
     "name": "stderr",
     "output_type": "stream",
     "text": [
      "100%|██████████| 42/42 [02:01<00:00,  2.89s/it]\n"
     ]
    },
    {
     "data": {
      "text/html": [
       "<pre style=\"white-space:pre;overflow-x:auto;line-height:normal;font-family:Menlo,'DejaVu Sans Mono',consolas,'Courier New',monospace\">x_train shape: \n",
       "<span style=\"font-weight: bold\">(</span><span style=\"color: #008080; text-decoration-color: #008080; font-weight: bold\">4125</span>, <span style=\"color: #008080; text-decoration-color: #008080; font-weight: bold\">512</span><span style=\"font-weight: bold\">)</span>\n",
       "</pre>\n"
      ],
      "text/plain": [
       "x_train shape: \n",
       "\u001b[1m(\u001b[0m\u001b[1;36m4125\u001b[0m, \u001b[1;36m512\u001b[0m\u001b[1m)\u001b[0m\n"
      ]
     },
     "metadata": {},
     "output_type": "display_data"
    },
    {
     "name": "stderr",
     "output_type": "stream",
     "text": [
      "  0%|          | 0/11 [00:00<?, ?it/s]"
     ]
    }
   ],
   "source": [
    "train_stream = benchmark_method.train_stream\n",
    "test_stream = benchmark_method.test_stream\n",
    "\n",
    "all_x_train_emb = list()\n",
    "all_y_train = list()\n",
    "all_t_train = list()\n",
    "\n",
    "all_x_test_emb = list()\n",
    "all_y_test = list()\n",
    "all_t_test = list()\n",
    "\n",
    "\n",
    "for task, experience in enumerate(train_stream):\n",
    "    print(\"Getting embeddings\")\n",
    "    x_train_emb, y_train, t_train = get_embeddings(train_stream[task].dataset)\n",
    "\n",
    "    print(\"x_train shape: \", x_train_emb.shape)\n",
    "    all_x_train_emb.append(x_train_emb)\n",
    "    all_y_train.append(y_train)\n",
    "    all_t_train.append(t_train)\n",
    "\n",
    "    x_test_emb, y_test, t_test = get_embeddings(test_stream[task].dataset)\n",
    "    print(\"x_test shape: \", x_test_emb.shape)\n",
    "    all_x_test_emb.append(x_test_emb)\n",
    "    all_y_test.append(y_test)\n",
    "    all_t_test.append(t_test)"
   ]
  },
  {
   "cell_type": "code",
   "execution_count": null,
   "id": "191177bb-dc70-4566-aeb0-79a801a0a8a6",
   "metadata": {},
   "outputs": [],
   "source": [
    "%%time\n",
    "print(\"Training data knn\")\n",
    "x_train_knn_total = [get_nearest_embedding_centroids(task, n_neighbors=10) for task in all_x_train_emb]\n",
    "print(\"x_train_knn shape: \", [e.shape[0] for e in x_train_knn_total])\n",
    "y_train_knn_total = [all_t_train[i][:x_train_knn_total[i].shape[0]] for i in range(len(all_t_train))]\n",
    "x_train_knn_total = np.vstack(x_train_knn_total)\n",
    "y_train_knn_total = np.hstack(y_train_knn_total)\n",
    "print(x_train_knn_total.shape)\n",
    "print(\"y_train_knn_total \", y_train_knn_total.shape)\n",
    "\n",
    "print()\n",
    "print(\"Testing\")\n",
    "print(\"x_test shape: \", [e.shape[0] for e in all_x_test_emb])\n",
    "x_test_total = np.vstack(all_x_test_emb)\n",
    "y_test_total = np.hstack(all_t_test)\n",
    "print(\"x_test_total \", x_test_total.shape)\n",
    "print(\"y_test_total \", y_test_total.shape)"
   ]
  },
  {
   "cell_type": "code",
   "execution_count": null,
   "id": "3507a494-7398-4710-8bca-23874746a2f8",
   "metadata": {},
   "outputs": [],
   "source": [
    "# from sklearn.neighbors import NearestCentroid\n",
    "# from sklearn.preprocessing import StandardScaler\n",
    "\n",
    "# def scale_data(x_train, x_test):\n",
    "#     scaler = StandardScaler()\n",
    "#     scaler.fit(x_train)\n",
    "#     x_train_scaled = scaler.transform(x_train)\n",
    "#     x_test_scaled = scaler.transform(x_test)\n",
    "#     return x_train_scaled, x_test_scaled\n",
    "\n",
    "# x_train_scaled, x_test_scaled = scale_data(x_train_knn_total, x_test_total)\n",
    "\n",
    "clf = NearestCentroid(metric='manhattan')\n",
    "clf = clf.fit(x_train_knn_total, y_train_knn_total)\n",
    "print(f\"score training knn: {clf.score(x_train_knn_total, y_train_knn_total)}\")\n",
    "print(f\"score testing: {clf.score(x_test_total, y_test_total)}\")\n",
    "# clf = clf.fit(x_train_scaled, y_train_knn_total)\n",
    "# print(f\"score training knn: {clf.score(x_train_scaled, y_train_knn_total)}\")\n",
    "# print(f\"score testing: {clf.score(x_test_scaled, y_test_total)}\")\n"
   ]
  },
  {
   "cell_type": "code",
   "execution_count": null,
   "id": "35b830db-c50e-4b83-b4f7-07d7a2c5ce54",
   "metadata": {},
   "outputs": [],
   "source": [
    "from sklearn.metrics import ConfusionMatrixDisplay, confusion_matrix\n",
    "import matplotlib.pyplot as plt\n",
    "# plot_confusion_matrix(clf, x_val_total, y_val_total)  \n",
    "predictions = clf.predict(x_test_total)\n",
    "cm = confusion_matrix(y_test_total, predictions, labels=clf.classes_)\n",
    "disp = ConfusionMatrixDisplay(confusion_matrix=cm,\n",
    "                             display_labels=clf.classes_)\n",
    "\n",
    "disp.plot()\n",
    "plt.title(f\"SODA(n_tasks=6) | Accuracy: {round(clf.score(x_test_total, y_test_total), 2)}%\")\n",
    "plt.show();"
   ]
  },
  {
   "attachments": {},
   "cell_type": "markdown",
   "id": "592fbc86-dce1-40ac-8821-86bf68f95800",
   "metadata": {},
   "source": [
    "## Utils for the incremental task classifier"
   ]
  },
  {
   "cell_type": "code",
   "execution_count": null,
   "id": "ed74f54e-435a-45e8-a69c-be43ad56a64a",
   "metadata": {},
   "outputs": [],
   "source": [
    "import statistics as st\n",
    "\n",
    "\n",
    "def run_method(benchmark_method, test_stream, new_training, new_testing, task=0):\n",
    "    print(\"Getting embeddings\")\n",
    "    x_train_emb, y_train, t_train = get_embeddings(benchmark_method.train_stream[task].dataset)\n",
    "\n",
    "\n",
    "    print(\"x_train shape: \", x_train_emb.shape)\n",
    "    all_x_train_emb.append(x_train_emb)\n",
    "    all_y_train.append(y_train)\n",
    "    all_t_train.append(t_train)\n",
    "\n",
    "    # Training incremental domain classifier\n",
    "    print(\"Training Domain Classifier model\")\n",
    "    x_train_knn_total = [get_nearest_embedding_centroids(_x_train, n_neighbors=10) for _x_train in all_x_train_emb]\n",
    "    print(\"x_train_knn shape: \", [e.shape[0] for e in x_train_knn_total])\n",
    "    y_train_knn_total = [all_t_train[i][:x_train_knn_total[i].shape[0]] for i in range(len(all_t_train))]\n",
    "    x_train_knn_total = np.vstack(x_train_knn_total)\n",
    "    y_train_knn_total = np.hstack(y_train_knn_total)\n",
    "    print(\"x_train_knn_total shape: \", x_train_knn_total.shape)\n",
    "    print(\"y_train_knn_total shape\", y_train_knn_total.shape)\n",
    "    if len(set(y_train_knn_total)) > 1:\n",
    "        clf = NearestCentroid(metric='manhattan')\n",
    "        clf = clf.fit(x_train_knn_total, y_train_knn_total)\n",
    "        \n",
    "    print(\"y_train_knn_total\", np.random.choice(y_train_knn_total, 10))\n",
    "    \n",
    "    # Testing\n",
    "    # print(\"Testing\")\n",
    "    x_test_emb, y_test, t_test = get_embeddings(benchmark_method.test_stream[task].dataset)\n",
    "\n",
    "    if len(set(y_train_knn_total)) > 1:\n",
    "        print(\"Using the classifier:\")\n",
    "        task_labels = clf.predict(x_test_emb)\n",
    "        print(\"Count predictions: \", dict(zip(*np.unique(task_labels, return_counts=True))))\n",
    "        print(\"Using the mode to get the most voting prediction:\")\n",
    "        mode = st.mode(task_labels)\n",
    "        task_labels = np.repeat(mode, len(task_labels))\n",
    "    else:\n",
    "        print(\"Fist scenario: Task ID=\", task)\n",
    "        task_labels = np.repeat(task, len(benchmark_method.test_stream[task].dataset))\n",
    "    print(f\"Predictions: {np.random.choice(task_labels, 10)}\")\n",
    "    print(f\"Predictions shape: {task_labels.shape}\")\n",
    "\n",
    "    new_training.append(benchmark_method.train_stream[task].dataset)\n",
    "    new_testing.append(make_classification_dataset(test_stream[task].dataset, task_labels=task_labels))\n",
    "\n",
    "    benchmark_custom = dataset_benchmark(\n",
    "        new_training,\n",
    "        new_testing\n",
    "    )\n",
    "\n",
    "    return benchmark_custom"
   ]
  },
  {
   "attachments": {},
   "cell_type": "markdown",
   "id": "df868394-0d48-494c-89e1-4c740e0916bf",
   "metadata": {},
   "source": [
    "## Prepare the strategies to run"
   ]
  },
  {
   "cell_type": "code",
   "execution_count": null,
   "id": "d4552878-a54d-4ccd-b254-87b4e63b4cb0",
   "metadata": {
    "tags": []
   },
   "outputs": [],
   "source": [
    "def get_strategy(strategy_name, model, optimizer, criterion, eval_plugin, n_epochs=6):\n",
    "    strategies = {\n",
    "        'EWC': EWC( #Regularization-based method\n",
    "            model=model,\n",
    "            optimizer=optimizer,\n",
    "            criterion=criterion,\n",
    "            train_mb_size=200,\n",
    "            train_epochs=n_epochs,\n",
    "            eval_mb_size=200,\n",
    "            device=device,\n",
    "            evaluator=eval_plugin,\n",
    "            ewc_lambda=0.2,\n",
    "        ),\n",
    "        'Replay': Replay( #Rehearsal-based method\n",
    "            model=model,\n",
    "            optimizer=optimizer,\n",
    "            criterion=criterion,\n",
    "            train_mb_size=200,\n",
    "            train_epochs=n_epochs,\n",
    "            eval_mb_size=200,\n",
    "            device=device,\n",
    "            evaluator=eval_plugin,\n",
    "            mem_size=200,\n",
    "        ),\n",
    "        'LwF': LwF( #Architecture-based method\n",
    "            model,\n",
    "            optimizer,\n",
    "            criterion,\n",
    "            alpha=0.5,\n",
    "            temperature=0.2,\n",
    "            train_epochs=n_epochs,\n",
    "            device=device,\n",
    "            train_mb_size=200,\n",
    "            eval_mb_size=200,\n",
    "            evaluator=eval_plugin,\n",
    "        ),\n",
    "    }\n",
    "\n",
    "    return strategies[strategy_name]"
   ]
  },
  {
   "attachments": {},
   "cell_type": "markdown",
   "id": "47899f7f-b1e8-4638-8d40-bdabc5b3e54a",
   "metadata": {},
   "source": [
    "## Prepare and run the experiments"
   ]
  },
  {
   "cell_type": "code",
   "execution_count": null,
   "id": "c56ee3ff-2371-4994-a2d2-d3d0d317be0b",
   "metadata": {},
   "outputs": [],
   "source": [
    "root_exp_name = 'Task_boundary'\n",
    "# root_exp_name = 'Agnostic_with_repetition'\n",
    "# sequence = [0, 1, 2, 1, 3, 3, 4, 5]\n",
    "# sequence = [0, 1, 2, 3, 4, 5]\n",
    "n_epochs = 6\n",
    "random_seeds = [7]\n",
    "# random_seeds = [51, 12, 42, 7]\n",
    "num_experiments = len(random_seeds)\n",
    "print(f\"n_exps = {num_experiments}\")\n",
    "print(f\"Setup = {root_exp_name}\")\n",
    "print(f\"Epochs = {n_epochs}\")"
   ]
  },
  {
   "cell_type": "code",
   "execution_count": null,
   "id": "5b2f3998-9d12-46f7-a2e1-5067d21cecc4",
   "metadata": {
    "tags": []
   },
   "outputs": [],
   "source": [
    "import torch\n",
    "import random\n",
    "import gc\n",
    "from torch.nn import CrossEntropyLoss\n",
    "import copy\n",
    "import statistics as st\n",
    "from torch.optim import Adam\n",
    "from rich import print\n",
    "from avalanche.models import as_multitask\n",
    "from avalanche.benchmarks.classic import SplitMNIST, PermutedMNIST\n",
    "from avalanche.models import MTSimpleMLP, MTSimpleCNN, SimpleCNN, SimpleMLP\n",
    "# from avalanche.training.supervised import EWC, Naive, LFL\n",
    "from avalanche.evaluation.metrics import (\n",
    "    forgetting_metrics,\n",
    "    accuracy_metrics,\n",
    ")\n",
    "from avalanche.training.plugins import EvaluationPlugin\n",
    "from avalanche.logging import InteractiveLogger, TextLogger, TensorboardLogger\n",
    "# from avalanche.training import Naive\n",
    "from torch.nn import CrossEntropyLoss\n",
    "from torch.optim import SGD\n",
    "from avalanche.benchmarks.classic import SplitMNIST, PermutedMNIST, RotatedMNIST, SplitCIFAR10, SplitCIFAR100\n",
    "from avalanche.benchmarks.generators import filelist_benchmark, dataset_benchmark\n",
    "from avalanche.training.utils import adapt_classification_layer\n",
    "\n",
    "from datetime import datetime\n",
    "from avalanche.evaluation.metrics.images_samples import images_samples_metrics\n",
    "from avalanche.evaluation.metrics.labels_repartition import (\n",
    "    labels_repartition_metrics,\n",
    ")\n",
    "from avalanche.evaluation.metrics.mean_scores import mean_scores_metrics\n",
    "from torch.nn import Linear\n",
    "from avalanche.training.supervised import Replay, GEM, LwF, EWC\n",
    "\n",
    "# choose some metrics and evaluation method\n",
    "# loggers = []\n",
    "\n",
    "# loggers.append(InteractiveLogger())\n",
    "\n",
    "# eval_plugin = EvaluationPlugin(\n",
    "#     accuracy_metrics(\n",
    "#         minibatch=False, epoch=True, experience=True\n",
    "#     ),\n",
    "\n",
    "#     forgetting_metrics(experience=True),\n",
    "#     loggers=loggers,\n",
    "# )\n",
    "    \n",
    "# num_experiments = 2\n",
    "# # num_experiments = 3\n",
    "# random_seeds = [42, 123, 456]\n",
    "\n",
    "# results_list = []\n",
    "for exp in range(num_experiments):\n",
    "    \n",
    "    train_stream = benchmark.train_stream\n",
    "    test_stream = benchmark.test_stream\n",
    "\n",
    "    print(f\"Length training: {len(benchmark.train_stream[0].dataset)}\")\n",
    "    print(f\"Length testing: {len(benchmark.test_stream[0].dataset)}\")\n",
    "\n",
    "    print(\"-\"*50)\n",
    "\n",
    "\n",
    "    n_workers = 8\n",
    "\n",
    "    seed = random_seeds[exp]\n",
    "    random.seed(seed)\n",
    "    torch.manual_seed(seed)\n",
    "    print(f\"Setup = {root_exp_name}\")\n",
    "    print(f\"Experiment: {exp+1} / {num_experiments}\")\n",
    "    print(f\"Seed = {seed}\")\n",
    "    # torch.cuda.manual_seed(seed)\n",
    "    all_strategies = ['EWC', 'Replay', 'LwF']\n",
    "    \n",
    "    for strategy_name in all_strategies:\n",
    "        loggers = []\n",
    "\n",
    "        loggers.append(InteractiveLogger())\n",
    "\n",
    "        eval_plugin = EvaluationPlugin(\n",
    "            accuracy_metrics(\n",
    "                minibatch=False, epoch=False, experience=True\n",
    "            ),\n",
    "\n",
    "            # forgetting_metrics(experience=True),\n",
    "            loggers=loggers,\n",
    "        )\n",
    "\n",
    "        model = torchvision.models.resnet18(weights=True)\n",
    "        # model.fc = Linear(model.fc.in_features, 7, bias=True)\n",
    "        model.fc = Linear(model.fc.in_features, 7, bias=True)\n",
    "        mt_model = as_multitask(model, 'fc')\n",
    "\n",
    "        optimizer = Adam(mt_model.parameters(), lr=0.01)\n",
    "        criterion = CrossEntropyLoss()\n",
    "    \n",
    "        strategy = get_strategy(strategy_name, mt_model, optimizer, criterion, eval_plugin, n_epochs)\n",
    "        print(f\"Running strategy: {strategy}, experiment: {exp}\")\n",
    "        results = {key: [] for key in ['ground_truth', 'TADIL', 'normal']}\n",
    "        \n",
    "        all_x_train_emb = list()\n",
    "        all_y_train = list()\n",
    "        all_t_train = list()\n",
    "\n",
    "        all_x_test_emb = list()\n",
    "        all_y_test = list()\n",
    "        all_t_test = list()        \n",
    "        new_training = list()\n",
    "        new_testing = list()\n",
    "\n",
    "        for task, experience in enumerate(train_stream):\n",
    "            curr_experience = experience.current_experience\n",
    "            print(\"Current experience: \", curr_experience)    \n",
    "            print(\"Experience task ID \", experience.task_label)\n",
    "            print('Experience shape:', len(experience.dataset))\n",
    "\n",
    "\n",
    "            # Training\n",
    "            print(\"Training multi-head model\")\n",
    "            strategy.train(experience, num_workers=n_workers)\n",
    "            print('Training multi-head model completed')\n",
    "\n",
    "            # Run the method\n",
    "            benchmark_custom = run_method(benchmark_method, test_stream, new_training, new_testing, task=task)\n",
    "\n",
    "            # Testing\n",
    "            print(\"Evaluation benchmark: Ground Truth\")\n",
    "            results['ground_truth'].append(strategy.eval(benchmark.test_stream[:task+1], num_workers=n_workers))\n",
    "\n",
    "            print(\"Evaluation benchmark: TADIL\")\n",
    "            results['TADIL'].append(strategy.eval(benchmark_custom.test_stream, num_workers=n_workers))\n",
    "\n",
    "            print(\"Evaluation benchmark: Normal\")\n",
    "            results['normal'].append(strategy.eval(benchmark_no_task.test_stream[:task+1], num_workers=n_workers))\n",
    "\n",
    "            print(\"-\"*40)\n",
    "            print()\n",
    "\n",
    "        \n",
    "        benchmark_custom = None\n",
    "            \n",
    "        with open(f'{root_exp_name}_{strategy_name}_{seed}.pickle', 'wb') as handle:\n",
    "            pickle.dump(results, handle, protocol=pickle.HIGHEST_PROTOCOL)\n",
    "            print(f\"Saved results for {root_exp_name}_{strategy_name}, seed: {seed}\")\n",
    "\n",
    "\n",
    "        print(\"-\"*40)\n",
    "        print()\n",
    "    print(\"-\"*80)"
   ]
  },
  {
   "attachments": {},
   "cell_type": "markdown",
   "id": "0bd28139-56e2-4a98-b53f-888833740a34",
   "metadata": {
    "tags": []
   },
   "source": [
    "## Plot the comparison using model's accuracies"
   ]
  },
  {
   "cell_type": "code",
   "execution_count": 21,
   "id": "1117baad-9896-4275-806d-ace9b10507a7",
   "metadata": {},
   "outputs": [],
   "source": [
    "strategy_name = \"EWC\"\n",
    "n_exp = 0\n",
    "# strategy_name = \"LwF\"\n",
    "with open(f'{strategy_name}_{n_exp}.pickle', 'rb') as handle:\n",
    "    results = pickle.load(handle)"
   ]
  },
  {
   "cell_type": "code",
   "execution_count": 23,
   "id": "3bd89072-a743-493e-89db-598fadd1a1be",
   "metadata": {},
   "outputs": [
    {
     "data": {
      "text/plain": [
       "dict_keys(['ground_truth', 'TADIL', 'normal'])"
      ]
     },
     "execution_count": 23,
     "metadata": {},
     "output_type": "execute_result"
    }
   ],
   "source": [
    "results.keys()"
   ]
  },
  {
   "cell_type": "code",
   "execution_count": 98,
   "id": "76469831-b6c5-482d-a038-3f8d0e2bc306",
   "metadata": {},
   "outputs": [],
   "source": [
    "# import matplotlib.pyplot as plt\n",
    "\n",
    "# # Extract the eval_phase values\n",
    "# def get_eval_phase_values(data, keyword):\n",
    "#     eval_values = []\n",
    "#     for exp in data:\n",
    "#         eval_values.append({k: v for k, v in exp.items() if ('eval_phase/test_stream' in k) and (keyword in k)})\n",
    "#     return eval_values\n",
    "\n",
    "# results_clean = {k:get_eval_phase_values(results[k], \"Top1_Acc_Exp\") for k in results.keys()}"
   ]
  },
  {
   "attachments": {},
   "cell_type": "markdown",
   "id": "3de7a14e-bf91-411e-88c0-f00cb208098c",
   "metadata": {},
   "source": [
    "### Plot the numbers"
   ]
  },
  {
   "cell_type": "code",
   "execution_count": 18,
   "id": "8c2e499c-caef-4143-9d4f-fa5a11c95730",
   "metadata": {},
   "outputs": [
    {
     "data": {
      "image/png": "[encoded data removed]",
      "text/plain": [
       "<Figure size 1080x360 with 3 Axes>"
      ]
     },
     "metadata": {
      "needs_background": "light"
     },
     "output_type": "display_data"
    }
   ],
   "source": [
    "import matplotlib.pyplot as plt\n",
    "import pickle\n",
    "import numpy as np\n",
    "\n",
    "strategy_name = \"EWC\"\n",
    "n_exp = 1\n",
    "# strategy_name = \"LwF\"\n",
    "with open(f'{strategy_name}_{n_exp}.pickle', 'rb') as handle:\n",
    "    results = pickle.load(handle)\n",
    "\n",
    "\n",
    "metric_root_name = \"Top1_Acc_Exp/eval_phase/test_stream\"\n",
    "\n",
    "# Create a dictionary to store the scores for each method\n",
    "method_scores = {\n",
    "    'ground_truth': [],\n",
    "    'TADIL': [],\n",
    "    'normal': [],\n",
    "}\n",
    "\n",
    "for domain in range(len(results['ground_truth'])):\n",
    "    scores_task = []\n",
    "    scores_method = []\n",
    "    scores_third_method = [] # Initialize an empty list for the scores of the third method\n",
    "    iters_ = []\n",
    "    for index, r in enumerate(results['ground_truth']):\n",
    "        try:\n",
    "            score_task = r[f\"{metric_root_name}/Task00{domain}/Exp00{domain}\"]\n",
    "            score_method = results['TADIL'][index][f\"{metric_root_name}/Task00{domain}/Exp00{domain}\"]\n",
    "            score_third_method = results['normal'][index][f\"{metric_root_name}/Task00{0}/Exp00{domain}\"] # Get the score of the third method\n",
    "            if score_task != 0:\n",
    "                scores_task.append(score_task)\n",
    "                scores_method.append(score_method)\n",
    "                scores_third_method.append(score_third_method) # Append the score of the third method to the list\n",
    "                iters_.append(index + 1)\n",
    "        except:\n",
    "            pass\n",
    "    method_scores['ground_truth'].append((iters_, scores_task))\n",
    "    method_scores['TADIL'].append((iters_, scores_method))\n",
    "    method_scores['normal'].append((iters_, scores_third_method)) # Append the scores of the third method to the dictionary\n",
    "\n",
    "\n",
    "max_iter = max([max(scores, key=lambda s: s[0][-1])[0][-1] for scores in method_scores.values()])  # Get the maximum iteration index for all methods\n",
    "\n",
    "fig, axs = plt.subplots(1, 3, figsize=(15, 5)) # Create 3 subplots arranged horizontally\n",
    "plt.suptitle(f\"Strategy: {strategy_name}, Dataset: Soda10-class with {len(results['ground_truth'])} tasks\")\n",
    "\n",
    "for i, (method_name, method_scores_list) in enumerate(method_scores.items()):\n",
    "    \n",
    "    avg_list = list()\n",
    "    for j, (x, y) in enumerate(method_scores_list):\n",
    "        average_accuracy = np.mean(y)  # Calculate the average accuracy\n",
    "        avg_list.append(average_accuracy)\n",
    "        axs[i].plot(x, y, '*--', label=f'{method_name}-Task{j+1} (Avg Acc: {average_accuracy:.2f})')  # Include the average accuracy in the label\n",
    "        axs[i].set_yticks(np.arange(0, 1.1, 0.1))\n",
    "        axs[i].set_yticklabels([\"{:.2f}\".format(val) for val in np.arange(0, 1.1, 0.1)])\n",
    "        axs[i].legend()\n",
    "        \n",
    "    axs[i].set_title(f\"Approach: {method_name} | Avg Acc: {round(np.mean(avg_list), 2)}\")\n",
    "    \n",
    "    axs[i].set_xlabel(\"Number of Tasks\")\n",
    "    axs[i].set_ylabel(\"Performance\")\n",
    "    axs[i].set_xticks(np.arange(1, max_iter+1))\n",
    "\n",
    "plt.tight_layout() \n",
    "plt.savefig(f'{strategy_name}.pdf', bbox_inches='tight', pad_inches=0)\n",
    "plt.show()\n"
   ]
  },
  {
   "attachments": {},
   "cell_type": "markdown",
   "id": "eb5e2bb8-6619-4faa-a238-4edfd933378d",
   "metadata": {},
   "source": [
    "## Table"
   ]
  },
  {
   "cell_type": "code",
   "execution_count": 112,
   "id": "a1fcfa48-a894-4df8-b71f-9b79913ec902",
   "metadata": {},
   "outputs": [
    {
     "data": {
      "text/html": [
       "<pre style=\"white-space:pre;overflow-x:auto;line-height:normal;font-family:Menlo,'DejaVu Sans Mono',consolas,'Courier New',monospace\">EWC\n",
       "</pre>\n"
      ],
      "text/plain": [
       "EWC\n"
      ]
     },
     "metadata": {},
     "output_type": "display_data"
    },
    {
     "data": {
      "text/html": [
       "<pre style=\"white-space:pre;overflow-x:auto;line-height:normal;font-family:Menlo,'DejaVu Sans Mono',consolas,'Courier New',monospace\">  Task ID Ground Truth        TADIL       Normal\n",
       "<span style=\"color: #008080; text-decoration-color: #008080; font-weight: bold\">0</span>  Task <span style=\"color: #008080; text-decoration-color: #008080; font-weight: bold\">1</span>  <span style=\"color: #008080; text-decoration-color: #008080; font-weight: bold\">0.59</span> <span style=\"font-weight: bold\">(</span><span style=\"color: #008080; text-decoration-color: #008080; font-weight: bold\">0.04</span><span style=\"font-weight: bold\">)</span>  <span style=\"color: #008080; text-decoration-color: #008080; font-weight: bold\">0.59</span> <span style=\"font-weight: bold\">(</span><span style=\"color: #008080; text-decoration-color: #008080; font-weight: bold\">0.04</span><span style=\"font-weight: bold\">)</span>  <span style=\"color: #008080; text-decoration-color: #008080; font-weight: bold\">0.59</span> <span style=\"font-weight: bold\">(</span><span style=\"color: #008080; text-decoration-color: #008080; font-weight: bold\">0.04</span><span style=\"font-weight: bold\">)</span>\n",
       "<span style=\"color: #008080; text-decoration-color: #008080; font-weight: bold\">1</span>  Task <span style=\"color: #008080; text-decoration-color: #008080; font-weight: bold\">2</span>  <span style=\"color: #008080; text-decoration-color: #008080; font-weight: bold\">0.82</span> <span style=\"font-weight: bold\">(</span><span style=\"color: #008080; text-decoration-color: #008080; font-weight: bold\">0.08</span><span style=\"font-weight: bold\">)</span>  <span style=\"color: #008080; text-decoration-color: #008080; font-weight: bold\">0.82</span> <span style=\"font-weight: bold\">(</span><span style=\"color: #008080; text-decoration-color: #008080; font-weight: bold\">0.08</span><span style=\"font-weight: bold\">)</span>  <span style=\"color: #008080; text-decoration-color: #008080; font-weight: bold\">0.69</span> <span style=\"font-weight: bold\">(</span><span style=\"color: #008080; text-decoration-color: #008080; font-weight: bold\">0.03</span><span style=\"font-weight: bold\">)</span>\n",
       "<span style=\"color: #008080; text-decoration-color: #008080; font-weight: bold\">2</span>  Task <span style=\"color: #008080; text-decoration-color: #008080; font-weight: bold\">3</span>  <span style=\"color: #008080; text-decoration-color: #008080; font-weight: bold\">0.69</span> <span style=\"font-weight: bold\">(</span><span style=\"color: #008080; text-decoration-color: #008080; font-weight: bold\">0.07</span><span style=\"font-weight: bold\">)</span>  <span style=\"color: #008080; text-decoration-color: #008080; font-weight: bold\">0.69</span> <span style=\"font-weight: bold\">(</span><span style=\"color: #008080; text-decoration-color: #008080; font-weight: bold\">0.07</span><span style=\"font-weight: bold\">)</span>  <span style=\"color: #008080; text-decoration-color: #008080; font-weight: bold\">0.56</span> <span style=\"font-weight: bold\">(</span><span style=\"color: #008080; text-decoration-color: #008080; font-weight: bold\">0.04</span><span style=\"font-weight: bold\">)</span>\n",
       "<span style=\"color: #008080; text-decoration-color: #008080; font-weight: bold\">3</span>  Task <span style=\"color: #008080; text-decoration-color: #008080; font-weight: bold\">4</span>   <span style=\"color: #008080; text-decoration-color: #008080; font-weight: bold\">0.89</span> <span style=\"font-weight: bold\">(</span><span style=\"color: #008080; text-decoration-color: #008080; font-weight: bold\">0.0</span><span style=\"font-weight: bold\">)</span>   <span style=\"color: #008080; text-decoration-color: #008080; font-weight: bold\">0.89</span> <span style=\"font-weight: bold\">(</span><span style=\"color: #008080; text-decoration-color: #008080; font-weight: bold\">0.0</span><span style=\"font-weight: bold\">)</span>  <span style=\"color: #008080; text-decoration-color: #008080; font-weight: bold\">0.74</span> <span style=\"font-weight: bold\">(</span><span style=\"color: #008080; text-decoration-color: #008080; font-weight: bold\">0.03</span><span style=\"font-weight: bold\">)</span>\n",
       "<span style=\"color: #008080; text-decoration-color: #008080; font-weight: bold\">4</span>  Task <span style=\"color: #008080; text-decoration-color: #008080; font-weight: bold\">5</span>  <span style=\"color: #008080; text-decoration-color: #008080; font-weight: bold\">0.74</span> <span style=\"font-weight: bold\">(</span><span style=\"color: #008080; text-decoration-color: #008080; font-weight: bold\">0.05</span><span style=\"font-weight: bold\">)</span>  <span style=\"color: #008080; text-decoration-color: #008080; font-weight: bold\">0.74</span> <span style=\"font-weight: bold\">(</span><span style=\"color: #008080; text-decoration-color: #008080; font-weight: bold\">0.05</span><span style=\"font-weight: bold\">)</span>  <span style=\"color: #008080; text-decoration-color: #008080; font-weight: bold\">0.68</span> <span style=\"font-weight: bold\">(</span><span style=\"color: #008080; text-decoration-color: #008080; font-weight: bold\">0.03</span><span style=\"font-weight: bold\">)</span>\n",
       "<span style=\"color: #008080; text-decoration-color: #008080; font-weight: bold\">5</span>  Task <span style=\"color: #008080; text-decoration-color: #008080; font-weight: bold\">6</span>   <span style=\"color: #008080; text-decoration-color: #008080; font-weight: bold\">0.73</span> <span style=\"font-weight: bold\">(</span><span style=\"color: #008080; text-decoration-color: #008080; font-weight: bold\">0.0</span><span style=\"font-weight: bold\">)</span>   <span style=\"color: #008080; text-decoration-color: #008080; font-weight: bold\">0.73</span> <span style=\"font-weight: bold\">(</span><span style=\"color: #008080; text-decoration-color: #008080; font-weight: bold\">0.0</span><span style=\"font-weight: bold\">)</span>   <span style=\"color: #008080; text-decoration-color: #008080; font-weight: bold\">0.71</span> <span style=\"font-weight: bold\">(</span><span style=\"color: #008080; text-decoration-color: #008080; font-weight: bold\">0.0</span><span style=\"font-weight: bold\">)</span>\n",
       "</pre>\n"
      ],
      "text/plain": [
       "  Task ID Ground Truth        TADIL       Normal\n",
       "\u001b[1;36m0\u001b[0m  Task \u001b[1;36m1\u001b[0m  \u001b[1;36m0.59\u001b[0m \u001b[1m(\u001b[0m\u001b[1;36m0.04\u001b[0m\u001b[1m)\u001b[0m  \u001b[1;36m0.59\u001b[0m \u001b[1m(\u001b[0m\u001b[1;36m0.04\u001b[0m\u001b[1m)\u001b[0m  \u001b[1;36m0.59\u001b[0m \u001b[1m(\u001b[0m\u001b[1;36m0.04\u001b[0m\u001b[1m)\u001b[0m\n",
       "\u001b[1;36m1\u001b[0m  Task \u001b[1;36m2\u001b[0m  \u001b[1;36m0.82\u001b[0m \u001b[1m(\u001b[0m\u001b[1;36m0.08\u001b[0m\u001b[1m)\u001b[0m  \u001b[1;36m0.82\u001b[0m \u001b[1m(\u001b[0m\u001b[1;36m0.08\u001b[0m\u001b[1m)\u001b[0m  \u001b[1;36m0.69\u001b[0m \u001b[1m(\u001b[0m\u001b[1;36m0.03\u001b[0m\u001b[1m)\u001b[0m\n",
       "\u001b[1;36m2\u001b[0m  Task \u001b[1;36m3\u001b[0m  \u001b[1;36m0.69\u001b[0m \u001b[1m(\u001b[0m\u001b[1;36m0.07\u001b[0m\u001b[1m)\u001b[0m  \u001b[1;36m0.69\u001b[0m \u001b[1m(\u001b[0m\u001b[1;36m0.07\u001b[0m\u001b[1m)\u001b[0m  \u001b[1;36m0.56\u001b[0m \u001b[1m(\u001b[0m\u001b[1;36m0.04\u001b[0m\u001b[1m)\u001b[0m\n",
       "\u001b[1;36m3\u001b[0m  Task \u001b[1;36m4\u001b[0m   \u001b[1;36m0.89\u001b[0m \u001b[1m(\u001b[0m\u001b[1;36m0.0\u001b[0m\u001b[1m)\u001b[0m   \u001b[1;36m0.89\u001b[0m \u001b[1m(\u001b[0m\u001b[1;36m0.0\u001b[0m\u001b[1m)\u001b[0m  \u001b[1;36m0.74\u001b[0m \u001b[1m(\u001b[0m\u001b[1;36m0.03\u001b[0m\u001b[1m)\u001b[0m\n",
       "\u001b[1;36m4\u001b[0m  Task \u001b[1;36m5\u001b[0m  \u001b[1;36m0.74\u001b[0m \u001b[1m(\u001b[0m\u001b[1;36m0.05\u001b[0m\u001b[1m)\u001b[0m  \u001b[1;36m0.74\u001b[0m \u001b[1m(\u001b[0m\u001b[1;36m0.05\u001b[0m\u001b[1m)\u001b[0m  \u001b[1;36m0.68\u001b[0m \u001b[1m(\u001b[0m\u001b[1;36m0.03\u001b[0m\u001b[1m)\u001b[0m\n",
       "\u001b[1;36m5\u001b[0m  Task \u001b[1;36m6\u001b[0m   \u001b[1;36m0.73\u001b[0m \u001b[1m(\u001b[0m\u001b[1;36m0.0\u001b[0m\u001b[1m)\u001b[0m   \u001b[1;36m0.73\u001b[0m \u001b[1m(\u001b[0m\u001b[1;36m0.0\u001b[0m\u001b[1m)\u001b[0m   \u001b[1;36m0.71\u001b[0m \u001b[1m(\u001b[0m\u001b[1;36m0.0\u001b[0m\u001b[1m)\u001b[0m\n"
      ]
     },
     "metadata": {},
     "output_type": "display_data"
    },
    {
     "data": {
      "text/html": [
       "<pre style=\"white-space:pre;overflow-x:auto;line-height:normal;font-family:Menlo,'DejaVu Sans Mono',consolas,'Courier New',monospace\">LwF\n",
       "</pre>\n"
      ],
      "text/plain": [
       "LwF\n"
      ]
     },
     "metadata": {},
     "output_type": "display_data"
    },
    {
     "data": {
      "text/html": [
       "<pre style=\"white-space:pre;overflow-x:auto;line-height:normal;font-family:Menlo,'DejaVu Sans Mono',consolas,'Courier New',monospace\">  Task ID Ground Truth        TADIL       Normal\n",
       "<span style=\"color: #008080; text-decoration-color: #008080; font-weight: bold\">0</span>  Task <span style=\"color: #008080; text-decoration-color: #008080; font-weight: bold\">1</span>  <span style=\"color: #008080; text-decoration-color: #008080; font-weight: bold\">0.62</span> <span style=\"font-weight: bold\">(</span><span style=\"color: #008080; text-decoration-color: #008080; font-weight: bold\">0.05</span><span style=\"font-weight: bold\">)</span>  <span style=\"color: #008080; text-decoration-color: #008080; font-weight: bold\">0.62</span> <span style=\"font-weight: bold\">(</span><span style=\"color: #008080; text-decoration-color: #008080; font-weight: bold\">0.05</span><span style=\"font-weight: bold\">)</span>  <span style=\"color: #008080; text-decoration-color: #008080; font-weight: bold\">0.62</span> <span style=\"font-weight: bold\">(</span><span style=\"color: #008080; text-decoration-color: #008080; font-weight: bold\">0.05</span><span style=\"font-weight: bold\">)</span>\n",
       "<span style=\"color: #008080; text-decoration-color: #008080; font-weight: bold\">1</span>  Task <span style=\"color: #008080; text-decoration-color: #008080; font-weight: bold\">2</span>  <span style=\"color: #008080; text-decoration-color: #008080; font-weight: bold\">0.86</span> <span style=\"font-weight: bold\">(</span><span style=\"color: #008080; text-decoration-color: #008080; font-weight: bold\">0.01</span><span style=\"font-weight: bold\">)</span>  <span style=\"color: #008080; text-decoration-color: #008080; font-weight: bold\">0.86</span> <span style=\"font-weight: bold\">(</span><span style=\"color: #008080; text-decoration-color: #008080; font-weight: bold\">0.01</span><span style=\"font-weight: bold\">)</span>  <span style=\"color: #008080; text-decoration-color: #008080; font-weight: bold\">0.86</span> <span style=\"font-weight: bold\">(</span><span style=\"color: #008080; text-decoration-color: #008080; font-weight: bold\">0.02</span><span style=\"font-weight: bold\">)</span>\n",
       "<span style=\"color: #008080; text-decoration-color: #008080; font-weight: bold\">2</span>  Task <span style=\"color: #008080; text-decoration-color: #008080; font-weight: bold\">3</span>  <span style=\"color: #008080; text-decoration-color: #008080; font-weight: bold\">0.70</span> <span style=\"font-weight: bold\">(</span><span style=\"color: #008080; text-decoration-color: #008080; font-weight: bold\">0.02</span><span style=\"font-weight: bold\">)</span>  <span style=\"color: #008080; text-decoration-color: #008080; font-weight: bold\">0.70</span> <span style=\"font-weight: bold\">(</span><span style=\"color: #008080; text-decoration-color: #008080; font-weight: bold\">0.02</span><span style=\"font-weight: bold\">)</span>  <span style=\"color: #008080; text-decoration-color: #008080; font-weight: bold\">0.56</span> <span style=\"font-weight: bold\">(</span><span style=\"color: #008080; text-decoration-color: #008080; font-weight: bold\">0.03</span><span style=\"font-weight: bold\">)</span>\n",
       "<span style=\"color: #008080; text-decoration-color: #008080; font-weight: bold\">3</span>  Task <span style=\"color: #008080; text-decoration-color: #008080; font-weight: bold\">4</span>  <span style=\"color: #008080; text-decoration-color: #008080; font-weight: bold\">0.87</span> <span style=\"font-weight: bold\">(</span><span style=\"color: #008080; text-decoration-color: #008080; font-weight: bold\">0.01</span><span style=\"font-weight: bold\">)</span>  <span style=\"color: #008080; text-decoration-color: #008080; font-weight: bold\">0.87</span> <span style=\"font-weight: bold\">(</span><span style=\"color: #008080; text-decoration-color: #008080; font-weight: bold\">0.01</span><span style=\"font-weight: bold\">)</span>  <span style=\"color: #008080; text-decoration-color: #008080; font-weight: bold\">0.85</span> <span style=\"font-weight: bold\">(</span><span style=\"color: #008080; text-decoration-color: #008080; font-weight: bold\">0.03</span><span style=\"font-weight: bold\">)</span>\n",
       "<span style=\"color: #008080; text-decoration-color: #008080; font-weight: bold\">4</span>  Task <span style=\"color: #008080; text-decoration-color: #008080; font-weight: bold\">5</span>   <span style=\"color: #008080; text-decoration-color: #008080; font-weight: bold\">0.75</span> <span style=\"font-weight: bold\">(</span><span style=\"color: #008080; text-decoration-color: #008080; font-weight: bold\">0.0</span><span style=\"font-weight: bold\">)</span>   <span style=\"color: #008080; text-decoration-color: #008080; font-weight: bold\">0.75</span> <span style=\"font-weight: bold\">(</span><span style=\"color: #008080; text-decoration-color: #008080; font-weight: bold\">0.0</span><span style=\"font-weight: bold\">)</span>  <span style=\"color: #008080; text-decoration-color: #008080; font-weight: bold\">0.74</span> <span style=\"font-weight: bold\">(</span><span style=\"color: #008080; text-decoration-color: #008080; font-weight: bold\">0.01</span><span style=\"font-weight: bold\">)</span>\n",
       "<span style=\"color: #008080; text-decoration-color: #008080; font-weight: bold\">5</span>  Task <span style=\"color: #008080; text-decoration-color: #008080; font-weight: bold\">6</span>   <span style=\"color: #008080; text-decoration-color: #008080; font-weight: bold\">0.65</span> <span style=\"font-weight: bold\">(</span><span style=\"color: #008080; text-decoration-color: #008080; font-weight: bold\">0.0</span><span style=\"font-weight: bold\">)</span>   <span style=\"color: #008080; text-decoration-color: #008080; font-weight: bold\">0.65</span> <span style=\"font-weight: bold\">(</span><span style=\"color: #008080; text-decoration-color: #008080; font-weight: bold\">0.0</span><span style=\"font-weight: bold\">)</span>   <span style=\"color: #008080; text-decoration-color: #008080; font-weight: bold\">0.58</span> <span style=\"font-weight: bold\">(</span><span style=\"color: #008080; text-decoration-color: #008080; font-weight: bold\">0.0</span><span style=\"font-weight: bold\">)</span>\n",
       "</pre>\n"
      ],
      "text/plain": [
       "  Task ID Ground Truth        TADIL       Normal\n",
       "\u001b[1;36m0\u001b[0m  Task \u001b[1;36m1\u001b[0m  \u001b[1;36m0.62\u001b[0m \u001b[1m(\u001b[0m\u001b[1;36m0.05\u001b[0m\u001b[1m)\u001b[0m  \u001b[1;36m0.62\u001b[0m \u001b[1m(\u001b[0m\u001b[1;36m0.05\u001b[0m\u001b[1m)\u001b[0m  \u001b[1;36m0.62\u001b[0m \u001b[1m(\u001b[0m\u001b[1;36m0.05\u001b[0m\u001b[1m)\u001b[0m\n",
       "\u001b[1;36m1\u001b[0m  Task \u001b[1;36m2\u001b[0m  \u001b[1;36m0.86\u001b[0m \u001b[1m(\u001b[0m\u001b[1;36m0.01\u001b[0m\u001b[1m)\u001b[0m  \u001b[1;36m0.86\u001b[0m \u001b[1m(\u001b[0m\u001b[1;36m0.01\u001b[0m\u001b[1m)\u001b[0m  \u001b[1;36m0.86\u001b[0m \u001b[1m(\u001b[0m\u001b[1;36m0.02\u001b[0m\u001b[1m)\u001b[0m\n",
       "\u001b[1;36m2\u001b[0m  Task \u001b[1;36m3\u001b[0m  \u001b[1;36m0.70\u001b[0m \u001b[1m(\u001b[0m\u001b[1;36m0.02\u001b[0m\u001b[1m)\u001b[0m  \u001b[1;36m0.70\u001b[0m \u001b[1m(\u001b[0m\u001b[1;36m0.02\u001b[0m\u001b[1m)\u001b[0m  \u001b[1;36m0.56\u001b[0m \u001b[1m(\u001b[0m\u001b[1;36m0.03\u001b[0m\u001b[1m)\u001b[0m\n",
       "\u001b[1;36m3\u001b[0m  Task \u001b[1;36m4\u001b[0m  \u001b[1;36m0.87\u001b[0m \u001b[1m(\u001b[0m\u001b[1;36m0.01\u001b[0m\u001b[1m)\u001b[0m  \u001b[1;36m0.87\u001b[0m \u001b[1m(\u001b[0m\u001b[1;36m0.01\u001b[0m\u001b[1m)\u001b[0m  \u001b[1;36m0.85\u001b[0m \u001b[1m(\u001b[0m\u001b[1;36m0.03\u001b[0m\u001b[1m)\u001b[0m\n",
       "\u001b[1;36m4\u001b[0m  Task \u001b[1;36m5\u001b[0m   \u001b[1;36m0.75\u001b[0m \u001b[1m(\u001b[0m\u001b[1;36m0.0\u001b[0m\u001b[1m)\u001b[0m   \u001b[1;36m0.75\u001b[0m \u001b[1m(\u001b[0m\u001b[1;36m0.0\u001b[0m\u001b[1m)\u001b[0m  \u001b[1;36m0.74\u001b[0m \u001b[1m(\u001b[0m\u001b[1;36m0.01\u001b[0m\u001b[1m)\u001b[0m\n",
       "\u001b[1;36m5\u001b[0m  Task \u001b[1;36m6\u001b[0m   \u001b[1;36m0.65\u001b[0m \u001b[1m(\u001b[0m\u001b[1;36m0.0\u001b[0m\u001b[1m)\u001b[0m   \u001b[1;36m0.65\u001b[0m \u001b[1m(\u001b[0m\u001b[1;36m0.0\u001b[0m\u001b[1m)\u001b[0m   \u001b[1;36m0.58\u001b[0m \u001b[1m(\u001b[0m\u001b[1;36m0.0\u001b[0m\u001b[1m)\u001b[0m\n"
      ]
     },
     "metadata": {},
     "output_type": "display_data"
    },
    {
     "data": {
      "text/html": [
       "<pre style=\"white-space:pre;overflow-x:auto;line-height:normal;font-family:Menlo,'DejaVu Sans Mono',consolas,'Courier New',monospace\">Replay\n",
       "</pre>\n"
      ],
      "text/plain": [
       "Replay\n"
      ]
     },
     "metadata": {},
     "output_type": "display_data"
    },
    {
     "data": {
      "text/html": [
       "<pre style=\"white-space:pre;overflow-x:auto;line-height:normal;font-family:Menlo,'DejaVu Sans Mono',consolas,'Courier New',monospace\">  Task ID Ground Truth        TADIL       Normal\n",
       "<span style=\"color: #008080; text-decoration-color: #008080; font-weight: bold\">0</span>  Task <span style=\"color: #008080; text-decoration-color: #008080; font-weight: bold\">1</span>  <span style=\"color: #008080; text-decoration-color: #008080; font-weight: bold\">0.77</span> <span style=\"font-weight: bold\">(</span><span style=\"color: #008080; text-decoration-color: #008080; font-weight: bold\">0.03</span><span style=\"font-weight: bold\">)</span>  <span style=\"color: #008080; text-decoration-color: #008080; font-weight: bold\">0.77</span> <span style=\"font-weight: bold\">(</span><span style=\"color: #008080; text-decoration-color: #008080; font-weight: bold\">0.03</span><span style=\"font-weight: bold\">)</span>  <span style=\"color: #008080; text-decoration-color: #008080; font-weight: bold\">0.77</span> <span style=\"font-weight: bold\">(</span><span style=\"color: #008080; text-decoration-color: #008080; font-weight: bold\">0.03</span><span style=\"font-weight: bold\">)</span>\n",
       "<span style=\"color: #008080; text-decoration-color: #008080; font-weight: bold\">1</span>  Task <span style=\"color: #008080; text-decoration-color: #008080; font-weight: bold\">2</span>  <span style=\"color: #008080; text-decoration-color: #008080; font-weight: bold\">0.93</span> <span style=\"font-weight: bold\">(</span><span style=\"color: #008080; text-decoration-color: #008080; font-weight: bold\">0.02</span><span style=\"font-weight: bold\">)</span>  <span style=\"color: #008080; text-decoration-color: #008080; font-weight: bold\">0.93</span> <span style=\"font-weight: bold\">(</span><span style=\"color: #008080; text-decoration-color: #008080; font-weight: bold\">0.02</span><span style=\"font-weight: bold\">)</span>  <span style=\"color: #008080; text-decoration-color: #008080; font-weight: bold\">0.88</span> <span style=\"font-weight: bold\">(</span><span style=\"color: #008080; text-decoration-color: #008080; font-weight: bold\">0.02</span><span style=\"font-weight: bold\">)</span>\n",
       "<span style=\"color: #008080; text-decoration-color: #008080; font-weight: bold\">2</span>  Task <span style=\"color: #008080; text-decoration-color: #008080; font-weight: bold\">3</span>  <span style=\"color: #008080; text-decoration-color: #008080; font-weight: bold\">0.81</span> <span style=\"font-weight: bold\">(</span><span style=\"color: #008080; text-decoration-color: #008080; font-weight: bold\">0.01</span><span style=\"font-weight: bold\">)</span>  <span style=\"color: #008080; text-decoration-color: #008080; font-weight: bold\">0.81</span> <span style=\"font-weight: bold\">(</span><span style=\"color: #008080; text-decoration-color: #008080; font-weight: bold\">0.01</span><span style=\"font-weight: bold\">)</span>   <span style=\"color: #008080; text-decoration-color: #008080; font-weight: bold\">0.75</span> <span style=\"font-weight: bold\">(</span><span style=\"color: #008080; text-decoration-color: #008080; font-weight: bold\">0.0</span><span style=\"font-weight: bold\">)</span>\n",
       "<span style=\"color: #008080; text-decoration-color: #008080; font-weight: bold\">3</span>  Task <span style=\"color: #008080; text-decoration-color: #008080; font-weight: bold\">4</span>  <span style=\"color: #008080; text-decoration-color: #008080; font-weight: bold\">0.90</span> <span style=\"font-weight: bold\">(</span><span style=\"color: #008080; text-decoration-color: #008080; font-weight: bold\">0.01</span><span style=\"font-weight: bold\">)</span>  <span style=\"color: #008080; text-decoration-color: #008080; font-weight: bold\">0.90</span> <span style=\"font-weight: bold\">(</span><span style=\"color: #008080; text-decoration-color: #008080; font-weight: bold\">0.01</span><span style=\"font-weight: bold\">)</span>  <span style=\"color: #008080; text-decoration-color: #008080; font-weight: bold\">0.83</span> <span style=\"font-weight: bold\">(</span><span style=\"color: #008080; text-decoration-color: #008080; font-weight: bold\">0.02</span><span style=\"font-weight: bold\">)</span>\n",
       "<span style=\"color: #008080; text-decoration-color: #008080; font-weight: bold\">4</span>  Task <span style=\"color: #008080; text-decoration-color: #008080; font-weight: bold\">5</span>  <span style=\"color: #008080; text-decoration-color: #008080; font-weight: bold\">0.82</span> <span style=\"font-weight: bold\">(</span><span style=\"color: #008080; text-decoration-color: #008080; font-weight: bold\">0.01</span><span style=\"font-weight: bold\">)</span>  <span style=\"color: #008080; text-decoration-color: #008080; font-weight: bold\">0.82</span> <span style=\"font-weight: bold\">(</span><span style=\"color: #008080; text-decoration-color: #008080; font-weight: bold\">0.01</span><span style=\"font-weight: bold\">)</span>  <span style=\"color: #008080; text-decoration-color: #008080; font-weight: bold\">0.76</span> <span style=\"font-weight: bold\">(</span><span style=\"color: #008080; text-decoration-color: #008080; font-weight: bold\">0.01</span><span style=\"font-weight: bold\">)</span>\n",
       "<span style=\"color: #008080; text-decoration-color: #008080; font-weight: bold\">5</span>  Task <span style=\"color: #008080; text-decoration-color: #008080; font-weight: bold\">6</span>   <span style=\"color: #008080; text-decoration-color: #008080; font-weight: bold\">0.80</span> <span style=\"font-weight: bold\">(</span><span style=\"color: #008080; text-decoration-color: #008080; font-weight: bold\">0.0</span><span style=\"font-weight: bold\">)</span>   <span style=\"color: #008080; text-decoration-color: #008080; font-weight: bold\">0.80</span> <span style=\"font-weight: bold\">(</span><span style=\"color: #008080; text-decoration-color: #008080; font-weight: bold\">0.0</span><span style=\"font-weight: bold\">)</span>   <span style=\"color: #008080; text-decoration-color: #008080; font-weight: bold\">0.77</span> <span style=\"font-weight: bold\">(</span><span style=\"color: #008080; text-decoration-color: #008080; font-weight: bold\">0.0</span><span style=\"font-weight: bold\">)</span>\n",
       "</pre>\n"
      ],
      "text/plain": [
       "  Task ID Ground Truth        TADIL       Normal\n",
       "\u001b[1;36m0\u001b[0m  Task \u001b[1;36m1\u001b[0m  \u001b[1;36m0.77\u001b[0m \u001b[1m(\u001b[0m\u001b[1;36m0.03\u001b[0m\u001b[1m)\u001b[0m  \u001b[1;36m0.77\u001b[0m \u001b[1m(\u001b[0m\u001b[1;36m0.03\u001b[0m\u001b[1m)\u001b[0m  \u001b[1;36m0.77\u001b[0m \u001b[1m(\u001b[0m\u001b[1;36m0.03\u001b[0m\u001b[1m)\u001b[0m\n",
       "\u001b[1;36m1\u001b[0m  Task \u001b[1;36m2\u001b[0m  \u001b[1;36m0.93\u001b[0m \u001b[1m(\u001b[0m\u001b[1;36m0.02\u001b[0m\u001b[1m)\u001b[0m  \u001b[1;36m0.93\u001b[0m \u001b[1m(\u001b[0m\u001b[1;36m0.02\u001b[0m\u001b[1m)\u001b[0m  \u001b[1;36m0.88\u001b[0m \u001b[1m(\u001b[0m\u001b[1;36m0.02\u001b[0m\u001b[1m)\u001b[0m\n",
       "\u001b[1;36m2\u001b[0m  Task \u001b[1;36m3\u001b[0m  \u001b[1;36m0.81\u001b[0m \u001b[1m(\u001b[0m\u001b[1;36m0.01\u001b[0m\u001b[1m)\u001b[0m  \u001b[1;36m0.81\u001b[0m \u001b[1m(\u001b[0m\u001b[1;36m0.01\u001b[0m\u001b[1m)\u001b[0m   \u001b[1;36m0.75\u001b[0m \u001b[1m(\u001b[0m\u001b[1;36m0.0\u001b[0m\u001b[1m)\u001b[0m\n",
       "\u001b[1;36m3\u001b[0m  Task \u001b[1;36m4\u001b[0m  \u001b[1;36m0.90\u001b[0m \u001b[1m(\u001b[0m\u001b[1;36m0.01\u001b[0m\u001b[1m)\u001b[0m  \u001b[1;36m0.90\u001b[0m \u001b[1m(\u001b[0m\u001b[1;36m0.01\u001b[0m\u001b[1m)\u001b[0m  \u001b[1;36m0.83\u001b[0m \u001b[1m(\u001b[0m\u001b[1;36m0.02\u001b[0m\u001b[1m)\u001b[0m\n",
       "\u001b[1;36m4\u001b[0m  Task \u001b[1;36m5\u001b[0m  \u001b[1;36m0.82\u001b[0m \u001b[1m(\u001b[0m\u001b[1;36m0.01\u001b[0m\u001b[1m)\u001b[0m  \u001b[1;36m0.82\u001b[0m \u001b[1m(\u001b[0m\u001b[1;36m0.01\u001b[0m\u001b[1m)\u001b[0m  \u001b[1;36m0.76\u001b[0m \u001b[1m(\u001b[0m\u001b[1;36m0.01\u001b[0m\u001b[1m)\u001b[0m\n",
       "\u001b[1;36m5\u001b[0m  Task \u001b[1;36m6\u001b[0m   \u001b[1;36m0.80\u001b[0m \u001b[1m(\u001b[0m\u001b[1;36m0.0\u001b[0m\u001b[1m)\u001b[0m   \u001b[1;36m0.80\u001b[0m \u001b[1m(\u001b[0m\u001b[1;36m0.0\u001b[0m\u001b[1m)\u001b[0m   \u001b[1;36m0.77\u001b[0m \u001b[1m(\u001b[0m\u001b[1;36m0.0\u001b[0m\u001b[1m)\u001b[0m\n"
      ]
     },
     "metadata": {},
     "output_type": "display_data"
    }
   ],
   "source": [
    "import pandas as pd\n",
    "\n",
    "df_tables = dict()\n",
    "strategy_names = ['EWC', 'LwF', 'Replay']\n",
    "for strategy_name in strategy_names:\n",
    "    # strategy_name = \"LwF\"\n",
    "    n_exp = 1\n",
    "    # strategy_name = \"LwF\"\n",
    "    with open(f'{strategy_name}_{n_exp}.pickle', 'rb') as handle:\n",
    "        results = pickle.load(handle)\n",
    "\n",
    "    method_scores = {\n",
    "        'ground_truth': [],\n",
    "        'TADIL': [],\n",
    "        'normal': [],\n",
    "    }\n",
    "\n",
    "    for domain in range(len(results['ground_truth'])):\n",
    "        scores_task = []\n",
    "        scores_method = []\n",
    "        scores_third_method = []\n",
    "        iters_ = []\n",
    "        for index, r in enumerate(results['ground_truth']):\n",
    "            try:\n",
    "                score_task = r[f\"{metric_root_name}/Task00{domain}/Exp00{domain}\"]\n",
    "                score_method = results['TADIL'][index][f\"{metric_root_name}/Task00{domain}/Exp00{domain}\"]\n",
    "                score_third_method = results['normal'][index][f\"{metric_root_name}/Task00{0}/Exp00{domain}\"] # Get the score of the third method\n",
    "                if score_task != 0:\n",
    "                    scores_task.append(score_task)\n",
    "                    scores_method.append(score_method)\n",
    "                    scores_third_method.append(score_third_method) # Append the score of the third method to the list\n",
    "                    iters_.append(index + 1)\n",
    "            except:\n",
    "                pass\n",
    "        method_scores['ground_truth'].append((iters_, scores_task))\n",
    "        method_scores['TADIL'].append((iters_, scores_method))\n",
    "        method_scores['normal'].append((iters_, scores_third_method)) # Append the scores of the third method to the dictionary\n",
    "\n",
    "\n",
    "    max_iter = max([max(scores, key=lambda s: s[0][-1])[0][-1] for scores in method_scores.values()])  # Get the maximum iteration index for all methods\n",
    "\n",
    "    avg_acc_df = pd.DataFrame(columns=method_scores.keys(), index=range(1, len(method_scores_list) + 1))\n",
    "\n",
    "\n",
    "    for method_name, method_scores_list in method_scores.items():\n",
    "        for j, (x, y) in enumerate(method_scores_list):\n",
    "            average_accuracy = np.mean(y)\n",
    "            std_dev = np.std(y)\n",
    "            avg_acc_df.at[j+1, method_name] = f\"{average_accuracy:.2f} ({round(std_dev, 2)})\"\n",
    "\n",
    "    # Display the DataFrame\n",
    "    avg_acc_df.index = [f\"Task {i+1}\" for i in range(len(method_scores_list))]\n",
    "    avg_acc_df = avg_acc_df.reset_index()\n",
    "    avg_acc_df = avg_acc_df.rename(columns={'index': 'Task ID', 'ground_truth': 'Ground Truth', 'normal': 'Normal'})\n",
    "    print(strategy_name)\n",
    "    print(avg_acc_df)\n",
    "    df_tables[strategy_name] = avg_acc_df"
   ]
  },
  {
   "attachments": {},
   "cell_type": "markdown",
   "id": "7e25f87f-ba24-4d2f-8e45-b2242c4f0f94",
   "metadata": {},
   "source": [
    "## Table to latex"
   ]
  },
  {
   "cell_type": "code",
   "execution_count": 113,
   "id": "11129d2d-9599-4626-843b-344b52416668",
   "metadata": {},
   "outputs": [
    {
     "name": "stderr",
     "output_type": "stream",
     "text": [
      "<ipython-input-113-0ca883fb85e9>:9: FutureWarning: The frame.append method is deprecated and will be removed from pandas in a future version. Use pandas.concat instead.\n",
      "  final_df = final_df.append(df, ignore_index=True)\n",
      "<ipython-input-113-0ca883fb85e9>:9: FutureWarning: The frame.append method is deprecated and will be removed from pandas in a future version. Use pandas.concat instead.\n",
      "  final_df = final_df.append(df, ignore_index=True)\n",
      "<ipython-input-113-0ca883fb85e9>:9: FutureWarning: The frame.append method is deprecated and will be removed from pandas in a future version. Use pandas.concat instead.\n",
      "  final_df = final_df.append(df, ignore_index=True)\n",
      "<ipython-input-113-0ca883fb85e9>:16: FutureWarning: In future versions `DataFrame.to_latex` is expected to utilise the base implementation of `Styler.to_latex` for formatting and rendering. The arguments signature may therefore change. It is recommended instead to use `DataFrame.style.to_latex` which also contains additional functionality.\n",
      "  latex_table = final_df.to_latex(index=False, float_format=\"%.2f\", bold_rows=True, column_format=\"|l|l|c|c|c|\", multicolumn_format=\"c\")\n"
     ]
    },
    {
     "data": {
      "text/html": [
       "<pre style=\"white-space:pre;overflow-x:auto;line-height:normal;font-family:Menlo,'DejaVu Sans Mono',consolas,'Courier New',monospace\">\\begin<span style=\"font-weight: bold\">{</span>tabular<span style=\"font-weight: bold\">}{</span>|l|l|c|c|c|<span style=\"font-weight: bold\">}</span>\n",
       "\\hline\n",
       "Strategy &amp; Task ID &amp; Ground Truth &amp;       TADIL &amp;      Normal \\\\\n",
       "\\hline\n",
       "     EWC &amp;  Task <span style=\"color: #008080; text-decoration-color: #008080; font-weight: bold\">1</span> &amp;  <span style=\"color: #008080; text-decoration-color: #008080; font-weight: bold\">0.59</span> <span style=\"font-weight: bold\">(</span><span style=\"color: #008080; text-decoration-color: #008080; font-weight: bold\">0.04</span><span style=\"font-weight: bold\">)</span> &amp; <span style=\"color: #008080; text-decoration-color: #008080; font-weight: bold\">0.59</span> <span style=\"font-weight: bold\">(</span><span style=\"color: #008080; text-decoration-color: #008080; font-weight: bold\">0.04</span><span style=\"font-weight: bold\">)</span> &amp; <span style=\"color: #008080; text-decoration-color: #008080; font-weight: bold\">0.59</span> <span style=\"font-weight: bold\">(</span><span style=\"color: #008080; text-decoration-color: #008080; font-weight: bold\">0.04</span><span style=\"font-weight: bold\">)</span> \\\\\n",
       "         &amp;  Task <span style=\"color: #008080; text-decoration-color: #008080; font-weight: bold\">2</span> &amp;  <span style=\"color: #008080; text-decoration-color: #008080; font-weight: bold\">0.82</span> <span style=\"font-weight: bold\">(</span><span style=\"color: #008080; text-decoration-color: #008080; font-weight: bold\">0.08</span><span style=\"font-weight: bold\">)</span> &amp; <span style=\"color: #008080; text-decoration-color: #008080; font-weight: bold\">0.82</span> <span style=\"font-weight: bold\">(</span><span style=\"color: #008080; text-decoration-color: #008080; font-weight: bold\">0.08</span><span style=\"font-weight: bold\">)</span> &amp; <span style=\"color: #008080; text-decoration-color: #008080; font-weight: bold\">0.69</span> <span style=\"font-weight: bold\">(</span><span style=\"color: #008080; text-decoration-color: #008080; font-weight: bold\">0.03</span><span style=\"font-weight: bold\">)</span> \\\\\n",
       "         &amp;  Task <span style=\"color: #008080; text-decoration-color: #008080; font-weight: bold\">3</span> &amp;  <span style=\"color: #008080; text-decoration-color: #008080; font-weight: bold\">0.69</span> <span style=\"font-weight: bold\">(</span><span style=\"color: #008080; text-decoration-color: #008080; font-weight: bold\">0.07</span><span style=\"font-weight: bold\">)</span> &amp; <span style=\"color: #008080; text-decoration-color: #008080; font-weight: bold\">0.69</span> <span style=\"font-weight: bold\">(</span><span style=\"color: #008080; text-decoration-color: #008080; font-weight: bold\">0.07</span><span style=\"font-weight: bold\">)</span> &amp; <span style=\"color: #008080; text-decoration-color: #008080; font-weight: bold\">0.56</span> <span style=\"font-weight: bold\">(</span><span style=\"color: #008080; text-decoration-color: #008080; font-weight: bold\">0.04</span><span style=\"font-weight: bold\">)</span> \\\\\n",
       "         &amp;  Task <span style=\"color: #008080; text-decoration-color: #008080; font-weight: bold\">4</span> &amp;   <span style=\"color: #008080; text-decoration-color: #008080; font-weight: bold\">0.89</span> <span style=\"font-weight: bold\">(</span><span style=\"color: #008080; text-decoration-color: #008080; font-weight: bold\">0.0</span><span style=\"font-weight: bold\">)</span> &amp;  <span style=\"color: #008080; text-decoration-color: #008080; font-weight: bold\">0.89</span> <span style=\"font-weight: bold\">(</span><span style=\"color: #008080; text-decoration-color: #008080; font-weight: bold\">0.0</span><span style=\"font-weight: bold\">)</span> &amp; <span style=\"color: #008080; text-decoration-color: #008080; font-weight: bold\">0.74</span> <span style=\"font-weight: bold\">(</span><span style=\"color: #008080; text-decoration-color: #008080; font-weight: bold\">0.03</span><span style=\"font-weight: bold\">)</span> \\\\\n",
       "         &amp;  Task <span style=\"color: #008080; text-decoration-color: #008080; font-weight: bold\">5</span> &amp;  <span style=\"color: #008080; text-decoration-color: #008080; font-weight: bold\">0.74</span> <span style=\"font-weight: bold\">(</span><span style=\"color: #008080; text-decoration-color: #008080; font-weight: bold\">0.05</span><span style=\"font-weight: bold\">)</span> &amp; <span style=\"color: #008080; text-decoration-color: #008080; font-weight: bold\">0.74</span> <span style=\"font-weight: bold\">(</span><span style=\"color: #008080; text-decoration-color: #008080; font-weight: bold\">0.05</span><span style=\"font-weight: bold\">)</span> &amp; <span style=\"color: #008080; text-decoration-color: #008080; font-weight: bold\">0.68</span> <span style=\"font-weight: bold\">(</span><span style=\"color: #008080; text-decoration-color: #008080; font-weight: bold\">0.03</span><span style=\"font-weight: bold\">)</span> \\\\\n",
       "         &amp;  Task <span style=\"color: #008080; text-decoration-color: #008080; font-weight: bold\">6</span> &amp;   <span style=\"color: #008080; text-decoration-color: #008080; font-weight: bold\">0.73</span> <span style=\"font-weight: bold\">(</span><span style=\"color: #008080; text-decoration-color: #008080; font-weight: bold\">0.0</span><span style=\"font-weight: bold\">)</span> &amp;  <span style=\"color: #008080; text-decoration-color: #008080; font-weight: bold\">0.73</span> <span style=\"font-weight: bold\">(</span><span style=\"color: #008080; text-decoration-color: #008080; font-weight: bold\">0.0</span><span style=\"font-weight: bold\">)</span> &amp;  <span style=\"color: #008080; text-decoration-color: #008080; font-weight: bold\">0.71</span> <span style=\"font-weight: bold\">(</span><span style=\"color: #008080; text-decoration-color: #008080; font-weight: bold\">0.0</span><span style=\"font-weight: bold\">)</span> \\\\\n",
       "     LwF &amp;  Task <span style=\"color: #008080; text-decoration-color: #008080; font-weight: bold\">1</span> &amp;  <span style=\"color: #008080; text-decoration-color: #008080; font-weight: bold\">0.62</span> <span style=\"font-weight: bold\">(</span><span style=\"color: #008080; text-decoration-color: #008080; font-weight: bold\">0.05</span><span style=\"font-weight: bold\">)</span> &amp; <span style=\"color: #008080; text-decoration-color: #008080; font-weight: bold\">0.62</span> <span style=\"font-weight: bold\">(</span><span style=\"color: #008080; text-decoration-color: #008080; font-weight: bold\">0.05</span><span style=\"font-weight: bold\">)</span> &amp; <span style=\"color: #008080; text-decoration-color: #008080; font-weight: bold\">0.62</span> <span style=\"font-weight: bold\">(</span><span style=\"color: #008080; text-decoration-color: #008080; font-weight: bold\">0.05</span><span style=\"font-weight: bold\">)</span> \\\\\n",
       "         &amp;  Task <span style=\"color: #008080; text-decoration-color: #008080; font-weight: bold\">2</span> &amp;  <span style=\"color: #008080; text-decoration-color: #008080; font-weight: bold\">0.86</span> <span style=\"font-weight: bold\">(</span><span style=\"color: #008080; text-decoration-color: #008080; font-weight: bold\">0.01</span><span style=\"font-weight: bold\">)</span> &amp; <span style=\"color: #008080; text-decoration-color: #008080; font-weight: bold\">0.86</span> <span style=\"font-weight: bold\">(</span><span style=\"color: #008080; text-decoration-color: #008080; font-weight: bold\">0.01</span><span style=\"font-weight: bold\">)</span> &amp; <span style=\"color: #008080; text-decoration-color: #008080; font-weight: bold\">0.86</span> <span style=\"font-weight: bold\">(</span><span style=\"color: #008080; text-decoration-color: #008080; font-weight: bold\">0.02</span><span style=\"font-weight: bold\">)</span> \\\\\n",
       "         &amp;  Task <span style=\"color: #008080; text-decoration-color: #008080; font-weight: bold\">3</span> &amp;  <span style=\"color: #008080; text-decoration-color: #008080; font-weight: bold\">0.70</span> <span style=\"font-weight: bold\">(</span><span style=\"color: #008080; text-decoration-color: #008080; font-weight: bold\">0.02</span><span style=\"font-weight: bold\">)</span> &amp; <span style=\"color: #008080; text-decoration-color: #008080; font-weight: bold\">0.70</span> <span style=\"font-weight: bold\">(</span><span style=\"color: #008080; text-decoration-color: #008080; font-weight: bold\">0.02</span><span style=\"font-weight: bold\">)</span> &amp; <span style=\"color: #008080; text-decoration-color: #008080; font-weight: bold\">0.56</span> <span style=\"font-weight: bold\">(</span><span style=\"color: #008080; text-decoration-color: #008080; font-weight: bold\">0.03</span><span style=\"font-weight: bold\">)</span> \\\\\n",
       "         &amp;  Task <span style=\"color: #008080; text-decoration-color: #008080; font-weight: bold\">4</span> &amp;  <span style=\"color: #008080; text-decoration-color: #008080; font-weight: bold\">0.87</span> <span style=\"font-weight: bold\">(</span><span style=\"color: #008080; text-decoration-color: #008080; font-weight: bold\">0.01</span><span style=\"font-weight: bold\">)</span> &amp; <span style=\"color: #008080; text-decoration-color: #008080; font-weight: bold\">0.87</span> <span style=\"font-weight: bold\">(</span><span style=\"color: #008080; text-decoration-color: #008080; font-weight: bold\">0.01</span><span style=\"font-weight: bold\">)</span> &amp; <span style=\"color: #008080; text-decoration-color: #008080; font-weight: bold\">0.85</span> <span style=\"font-weight: bold\">(</span><span style=\"color: #008080; text-decoration-color: #008080; font-weight: bold\">0.03</span><span style=\"font-weight: bold\">)</span> \\\\\n",
       "         &amp;  Task <span style=\"color: #008080; text-decoration-color: #008080; font-weight: bold\">5</span> &amp;   <span style=\"color: #008080; text-decoration-color: #008080; font-weight: bold\">0.75</span> <span style=\"font-weight: bold\">(</span><span style=\"color: #008080; text-decoration-color: #008080; font-weight: bold\">0.0</span><span style=\"font-weight: bold\">)</span> &amp;  <span style=\"color: #008080; text-decoration-color: #008080; font-weight: bold\">0.75</span> <span style=\"font-weight: bold\">(</span><span style=\"color: #008080; text-decoration-color: #008080; font-weight: bold\">0.0</span><span style=\"font-weight: bold\">)</span> &amp; <span style=\"color: #008080; text-decoration-color: #008080; font-weight: bold\">0.74</span> <span style=\"font-weight: bold\">(</span><span style=\"color: #008080; text-decoration-color: #008080; font-weight: bold\">0.01</span><span style=\"font-weight: bold\">)</span> \\\\\n",
       "         &amp;  Task <span style=\"color: #008080; text-decoration-color: #008080; font-weight: bold\">6</span> &amp;   <span style=\"color: #008080; text-decoration-color: #008080; font-weight: bold\">0.65</span> <span style=\"font-weight: bold\">(</span><span style=\"color: #008080; text-decoration-color: #008080; font-weight: bold\">0.0</span><span style=\"font-weight: bold\">)</span> &amp;  <span style=\"color: #008080; text-decoration-color: #008080; font-weight: bold\">0.65</span> <span style=\"font-weight: bold\">(</span><span style=\"color: #008080; text-decoration-color: #008080; font-weight: bold\">0.0</span><span style=\"font-weight: bold\">)</span> &amp;  <span style=\"color: #008080; text-decoration-color: #008080; font-weight: bold\">0.58</span> <span style=\"font-weight: bold\">(</span><span style=\"color: #008080; text-decoration-color: #008080; font-weight: bold\">0.0</span><span style=\"font-weight: bold\">)</span> \\\\\n",
       "  Replay &amp;  Task <span style=\"color: #008080; text-decoration-color: #008080; font-weight: bold\">1</span> &amp;  <span style=\"color: #008080; text-decoration-color: #008080; font-weight: bold\">0.77</span> <span style=\"font-weight: bold\">(</span><span style=\"color: #008080; text-decoration-color: #008080; font-weight: bold\">0.03</span><span style=\"font-weight: bold\">)</span> &amp; <span style=\"color: #008080; text-decoration-color: #008080; font-weight: bold\">0.77</span> <span style=\"font-weight: bold\">(</span><span style=\"color: #008080; text-decoration-color: #008080; font-weight: bold\">0.03</span><span style=\"font-weight: bold\">)</span> &amp; <span style=\"color: #008080; text-decoration-color: #008080; font-weight: bold\">0.77</span> <span style=\"font-weight: bold\">(</span><span style=\"color: #008080; text-decoration-color: #008080; font-weight: bold\">0.03</span><span style=\"font-weight: bold\">)</span> \\\\\n",
       "         &amp;  Task <span style=\"color: #008080; text-decoration-color: #008080; font-weight: bold\">2</span> &amp;  <span style=\"color: #008080; text-decoration-color: #008080; font-weight: bold\">0.93</span> <span style=\"font-weight: bold\">(</span><span style=\"color: #008080; text-decoration-color: #008080; font-weight: bold\">0.02</span><span style=\"font-weight: bold\">)</span> &amp; <span style=\"color: #008080; text-decoration-color: #008080; font-weight: bold\">0.93</span> <span style=\"font-weight: bold\">(</span><span style=\"color: #008080; text-decoration-color: #008080; font-weight: bold\">0.02</span><span style=\"font-weight: bold\">)</span> &amp; <span style=\"color: #008080; text-decoration-color: #008080; font-weight: bold\">0.88</span> <span style=\"font-weight: bold\">(</span><span style=\"color: #008080; text-decoration-color: #008080; font-weight: bold\">0.02</span><span style=\"font-weight: bold\">)</span> \\\\\n",
       "         &amp;  Task <span style=\"color: #008080; text-decoration-color: #008080; font-weight: bold\">3</span> &amp;  <span style=\"color: #008080; text-decoration-color: #008080; font-weight: bold\">0.81</span> <span style=\"font-weight: bold\">(</span><span style=\"color: #008080; text-decoration-color: #008080; font-weight: bold\">0.01</span><span style=\"font-weight: bold\">)</span> &amp; <span style=\"color: #008080; text-decoration-color: #008080; font-weight: bold\">0.81</span> <span style=\"font-weight: bold\">(</span><span style=\"color: #008080; text-decoration-color: #008080; font-weight: bold\">0.01</span><span style=\"font-weight: bold\">)</span> &amp;  <span style=\"color: #008080; text-decoration-color: #008080; font-weight: bold\">0.75</span> <span style=\"font-weight: bold\">(</span><span style=\"color: #008080; text-decoration-color: #008080; font-weight: bold\">0.0</span><span style=\"font-weight: bold\">)</span> \\\\\n",
       "         &amp;  Task <span style=\"color: #008080; text-decoration-color: #008080; font-weight: bold\">4</span> &amp;  <span style=\"color: #008080; text-decoration-color: #008080; font-weight: bold\">0.90</span> <span style=\"font-weight: bold\">(</span><span style=\"color: #008080; text-decoration-color: #008080; font-weight: bold\">0.01</span><span style=\"font-weight: bold\">)</span> &amp; <span style=\"color: #008080; text-decoration-color: #008080; font-weight: bold\">0.90</span> <span style=\"font-weight: bold\">(</span><span style=\"color: #008080; text-decoration-color: #008080; font-weight: bold\">0.01</span><span style=\"font-weight: bold\">)</span> &amp; <span style=\"color: #008080; text-decoration-color: #008080; font-weight: bold\">0.83</span> <span style=\"font-weight: bold\">(</span><span style=\"color: #008080; text-decoration-color: #008080; font-weight: bold\">0.02</span><span style=\"font-weight: bold\">)</span> \\\\\n",
       "         &amp;  Task <span style=\"color: #008080; text-decoration-color: #008080; font-weight: bold\">5</span> &amp;  <span style=\"color: #008080; text-decoration-color: #008080; font-weight: bold\">0.82</span> <span style=\"font-weight: bold\">(</span><span style=\"color: #008080; text-decoration-color: #008080; font-weight: bold\">0.01</span><span style=\"font-weight: bold\">)</span> &amp; <span style=\"color: #008080; text-decoration-color: #008080; font-weight: bold\">0.82</span> <span style=\"font-weight: bold\">(</span><span style=\"color: #008080; text-decoration-color: #008080; font-weight: bold\">0.01</span><span style=\"font-weight: bold\">)</span> &amp; <span style=\"color: #008080; text-decoration-color: #008080; font-weight: bold\">0.76</span> <span style=\"font-weight: bold\">(</span><span style=\"color: #008080; text-decoration-color: #008080; font-weight: bold\">0.01</span><span style=\"font-weight: bold\">)</span> \\\\\n",
       "         &amp;  Task <span style=\"color: #008080; text-decoration-color: #008080; font-weight: bold\">6</span> &amp;   <span style=\"color: #008080; text-decoration-color: #008080; font-weight: bold\">0.80</span> <span style=\"font-weight: bold\">(</span><span style=\"color: #008080; text-decoration-color: #008080; font-weight: bold\">0.0</span><span style=\"font-weight: bold\">)</span> &amp;  <span style=\"color: #008080; text-decoration-color: #008080; font-weight: bold\">0.80</span> <span style=\"font-weight: bold\">(</span><span style=\"color: #008080; text-decoration-color: #008080; font-weight: bold\">0.0</span><span style=\"font-weight: bold\">)</span> &amp;  <span style=\"color: #008080; text-decoration-color: #008080; font-weight: bold\">0.77</span> <span style=\"font-weight: bold\">(</span><span style=\"color: #008080; text-decoration-color: #008080; font-weight: bold\">0.0</span><span style=\"font-weight: bold\">)</span> \\\\\n",
       "\\hline\n",
       "\\end<span style=\"font-weight: bold\">{</span>tabular<span style=\"font-weight: bold\">}</span>\n",
       "\n",
       "</pre>\n"
      ],
      "text/plain": [
       "\\begin\u001b[1m{\u001b[0mtabular\u001b[1m}\u001b[0m\u001b[1m{\u001b[0m|l|l|c|c|c|\u001b[1m}\u001b[0m\n",
       "\\hline\n",
       "Strategy & Task ID & Ground Truth &       TADIL &      Normal \\\\\n",
       "\\hline\n",
       "     EWC &  Task \u001b[1;36m1\u001b[0m &  \u001b[1;36m0.59\u001b[0m \u001b[1m(\u001b[0m\u001b[1;36m0.04\u001b[0m\u001b[1m)\u001b[0m & \u001b[1;36m0.59\u001b[0m \u001b[1m(\u001b[0m\u001b[1;36m0.04\u001b[0m\u001b[1m)\u001b[0m & \u001b[1;36m0.59\u001b[0m \u001b[1m(\u001b[0m\u001b[1;36m0.04\u001b[0m\u001b[1m)\u001b[0m \\\\\n",
       "         &  Task \u001b[1;36m2\u001b[0m &  \u001b[1;36m0.82\u001b[0m \u001b[1m(\u001b[0m\u001b[1;36m0.08\u001b[0m\u001b[1m)\u001b[0m & \u001b[1;36m0.82\u001b[0m \u001b[1m(\u001b[0m\u001b[1;36m0.08\u001b[0m\u001b[1m)\u001b[0m & \u001b[1;36m0.69\u001b[0m \u001b[1m(\u001b[0m\u001b[1;36m0.03\u001b[0m\u001b[1m)\u001b[0m \\\\\n",
       "         &  Task \u001b[1;36m3\u001b[0m &  \u001b[1;36m0.69\u001b[0m \u001b[1m(\u001b[0m\u001b[1;36m0.07\u001b[0m\u001b[1m)\u001b[0m & \u001b[1;36m0.69\u001b[0m \u001b[1m(\u001b[0m\u001b[1;36m0.07\u001b[0m\u001b[1m)\u001b[0m & \u001b[1;36m0.56\u001b[0m \u001b[1m(\u001b[0m\u001b[1;36m0.04\u001b[0m\u001b[1m)\u001b[0m \\\\\n",
       "         &  Task \u001b[1;36m4\u001b[0m &   \u001b[1;36m0.89\u001b[0m \u001b[1m(\u001b[0m\u001b[1;36m0.0\u001b[0m\u001b[1m)\u001b[0m &  \u001b[1;36m0.89\u001b[0m \u001b[1m(\u001b[0m\u001b[1;36m0.0\u001b[0m\u001b[1m)\u001b[0m & \u001b[1;36m0.74\u001b[0m \u001b[1m(\u001b[0m\u001b[1;36m0.03\u001b[0m\u001b[1m)\u001b[0m \\\\\n",
       "         &  Task \u001b[1;36m5\u001b[0m &  \u001b[1;36m0.74\u001b[0m \u001b[1m(\u001b[0m\u001b[1;36m0.05\u001b[0m\u001b[1m)\u001b[0m & \u001b[1;36m0.74\u001b[0m \u001b[1m(\u001b[0m\u001b[1;36m0.05\u001b[0m\u001b[1m)\u001b[0m & \u001b[1;36m0.68\u001b[0m \u001b[1m(\u001b[0m\u001b[1;36m0.03\u001b[0m\u001b[1m)\u001b[0m \\\\\n",
       "         &  Task \u001b[1;36m6\u001b[0m &   \u001b[1;36m0.73\u001b[0m \u001b[1m(\u001b[0m\u001b[1;36m0.0\u001b[0m\u001b[1m)\u001b[0m &  \u001b[1;36m0.73\u001b[0m \u001b[1m(\u001b[0m\u001b[1;36m0.0\u001b[0m\u001b[1m)\u001b[0m &  \u001b[1;36m0.71\u001b[0m \u001b[1m(\u001b[0m\u001b[1;36m0.0\u001b[0m\u001b[1m)\u001b[0m \\\\\n",
       "     LwF &  Task \u001b[1;36m1\u001b[0m &  \u001b[1;36m0.62\u001b[0m \u001b[1m(\u001b[0m\u001b[1;36m0.05\u001b[0m\u001b[1m)\u001b[0m & \u001b[1;36m0.62\u001b[0m \u001b[1m(\u001b[0m\u001b[1;36m0.05\u001b[0m\u001b[1m)\u001b[0m & \u001b[1;36m0.62\u001b[0m \u001b[1m(\u001b[0m\u001b[1;36m0.05\u001b[0m\u001b[1m)\u001b[0m \\\\\n",
       "         &  Task \u001b[1;36m2\u001b[0m &  \u001b[1;36m0.86\u001b[0m \u001b[1m(\u001b[0m\u001b[1;36m0.01\u001b[0m\u001b[1m)\u001b[0m & \u001b[1;36m0.86\u001b[0m \u001b[1m(\u001b[0m\u001b[1;36m0.01\u001b[0m\u001b[1m)\u001b[0m & \u001b[1;36m0.86\u001b[0m \u001b[1m(\u001b[0m\u001b[1;36m0.02\u001b[0m\u001b[1m)\u001b[0m \\\\\n",
       "         &  Task \u001b[1;36m3\u001b[0m &  \u001b[1;36m0.70\u001b[0m \u001b[1m(\u001b[0m\u001b[1;36m0.02\u001b[0m\u001b[1m)\u001b[0m & \u001b[1;36m0.70\u001b[0m \u001b[1m(\u001b[0m\u001b[1;36m0.02\u001b[0m\u001b[1m)\u001b[0m & \u001b[1;36m0.56\u001b[0m \u001b[1m(\u001b[0m\u001b[1;36m0.03\u001b[0m\u001b[1m)\u001b[0m \\\\\n",
       "         &  Task \u001b[1;36m4\u001b[0m &  \u001b[1;36m0.87\u001b[0m \u001b[1m(\u001b[0m\u001b[1;36m0.01\u001b[0m\u001b[1m)\u001b[0m & \u001b[1;36m0.87\u001b[0m \u001b[1m(\u001b[0m\u001b[1;36m0.01\u001b[0m\u001b[1m)\u001b[0m & \u001b[1;36m0.85\u001b[0m \u001b[1m(\u001b[0m\u001b[1;36m0.03\u001b[0m\u001b[1m)\u001b[0m \\\\\n",
       "         &  Task \u001b[1;36m5\u001b[0m &   \u001b[1;36m0.75\u001b[0m \u001b[1m(\u001b[0m\u001b[1;36m0.0\u001b[0m\u001b[1m)\u001b[0m &  \u001b[1;36m0.75\u001b[0m \u001b[1m(\u001b[0m\u001b[1;36m0.0\u001b[0m\u001b[1m)\u001b[0m & \u001b[1;36m0.74\u001b[0m \u001b[1m(\u001b[0m\u001b[1;36m0.01\u001b[0m\u001b[1m)\u001b[0m \\\\\n",
       "         &  Task \u001b[1;36m6\u001b[0m &   \u001b[1;36m0.65\u001b[0m \u001b[1m(\u001b[0m\u001b[1;36m0.0\u001b[0m\u001b[1m)\u001b[0m &  \u001b[1;36m0.65\u001b[0m \u001b[1m(\u001b[0m\u001b[1;36m0.0\u001b[0m\u001b[1m)\u001b[0m &  \u001b[1;36m0.58\u001b[0m \u001b[1m(\u001b[0m\u001b[1;36m0.0\u001b[0m\u001b[1m)\u001b[0m \\\\\n",
       "  Replay &  Task \u001b[1;36m1\u001b[0m &  \u001b[1;36m0.77\u001b[0m \u001b[1m(\u001b[0m\u001b[1;36m0.03\u001b[0m\u001b[1m)\u001b[0m & \u001b[1;36m0.77\u001b[0m \u001b[1m(\u001b[0m\u001b[1;36m0.03\u001b[0m\u001b[1m)\u001b[0m & \u001b[1;36m0.77\u001b[0m \u001b[1m(\u001b[0m\u001b[1;36m0.03\u001b[0m\u001b[1m)\u001b[0m \\\\\n",
       "         &  Task \u001b[1;36m2\u001b[0m &  \u001b[1;36m0.93\u001b[0m \u001b[1m(\u001b[0m\u001b[1;36m0.02\u001b[0m\u001b[1m)\u001b[0m & \u001b[1;36m0.93\u001b[0m \u001b[1m(\u001b[0m\u001b[1;36m0.02\u001b[0m\u001b[1m)\u001b[0m & \u001b[1;36m0.88\u001b[0m \u001b[1m(\u001b[0m\u001b[1;36m0.02\u001b[0m\u001b[1m)\u001b[0m \\\\\n",
       "         &  Task \u001b[1;36m3\u001b[0m &  \u001b[1;36m0.81\u001b[0m \u001b[1m(\u001b[0m\u001b[1;36m0.01\u001b[0m\u001b[1m)\u001b[0m & \u001b[1;36m0.81\u001b[0m \u001b[1m(\u001b[0m\u001b[1;36m0.01\u001b[0m\u001b[1m)\u001b[0m &  \u001b[1;36m0.75\u001b[0m \u001b[1m(\u001b[0m\u001b[1;36m0.0\u001b[0m\u001b[1m)\u001b[0m \\\\\n",
       "         &  Task \u001b[1;36m4\u001b[0m &  \u001b[1;36m0.90\u001b[0m \u001b[1m(\u001b[0m\u001b[1;36m0.01\u001b[0m\u001b[1m)\u001b[0m & \u001b[1;36m0.90\u001b[0m \u001b[1m(\u001b[0m\u001b[1;36m0.01\u001b[0m\u001b[1m)\u001b[0m & \u001b[1;36m0.83\u001b[0m \u001b[1m(\u001b[0m\u001b[1;36m0.02\u001b[0m\u001b[1m)\u001b[0m \\\\\n",
       "         &  Task \u001b[1;36m5\u001b[0m &  \u001b[1;36m0.82\u001b[0m \u001b[1m(\u001b[0m\u001b[1;36m0.01\u001b[0m\u001b[1m)\u001b[0m & \u001b[1;36m0.82\u001b[0m \u001b[1m(\u001b[0m\u001b[1;36m0.01\u001b[0m\u001b[1m)\u001b[0m & \u001b[1;36m0.76\u001b[0m \u001b[1m(\u001b[0m\u001b[1;36m0.01\u001b[0m\u001b[1m)\u001b[0m \\\\\n",
       "         &  Task \u001b[1;36m6\u001b[0m &   \u001b[1;36m0.80\u001b[0m \u001b[1m(\u001b[0m\u001b[1;36m0.0\u001b[0m\u001b[1m)\u001b[0m &  \u001b[1;36m0.80\u001b[0m \u001b[1m(\u001b[0m\u001b[1;36m0.0\u001b[0m\u001b[1m)\u001b[0m &  \u001b[1;36m0.77\u001b[0m \u001b[1m(\u001b[0m\u001b[1;36m0.0\u001b[0m\u001b[1m)\u001b[0m \\\\\n",
       "\\hline\n",
       "\\end\u001b[1m{\u001b[0mtabular\u001b[1m}\u001b[0m\n",
       "\n"
      ]
     },
     "metadata": {},
     "output_type": "display_data"
    }
   ],
   "source": [
    "import pandas as pd\n",
    "\n",
    "\n",
    "final_df = pd.DataFrame()\n",
    "for key, df in df_tables.items():\n",
    "\n",
    "    df = df.reset_index(drop=True)\n",
    "    df.insert(0, \"Strategy\", key)\n",
    "    final_df = final_df.append(df, ignore_index=True)\n",
    "    \n",
    "unique_strategies = final_df[\"Strategy\"].unique()\n",
    "for i, strategy in enumerate(unique_strategies):\n",
    "    final_df.loc[(final_df[\"Strategy\"] == strategy) & (final_df.index != i * len(df)), \"Strategy\"] = \"\"\n",
    "\n",
    "\n",
    "latex_table = final_df.to_latex(index=False, float_format=\"%.2f\", bold_rows=True, column_format=\"|l|l|c|c|c|\", multicolumn_format=\"c\")\n",
    "\n",
    "\n",
    "# Add grid lines to the table\n",
    "latex_table = latex_table.replace('\\\\toprule', '\\\\hline')\n",
    "latex_table = latex_table.replace('\\\\midrule', '\\\\hline')\n",
    "latex_table = latex_table.replace('\\\\bottomrule', '\\\\hline')\n",
    "\n",
    "# Print the LaTeX table\n",
    "print(latex_table)\n"
   ]
  }
 ],
 "metadata": {
  "kernelspec": {
   "display_name": "Python [conda env:pytorch] *",
   "language": "python",
   "name": "conda-env-pytorch-py"
  },
  "language_info": {
   "codemirror_mode": {
    "name": "ipython",
    "version": 3
   },
   "file_extension": ".py",
   "mimetype": "text/x-python",
   "name": "python",
   "nbconvert_exporter": "python",
   "pygments_lexer": "ipython3",
   "version": "3.9.15"
  }
 },
 "nbformat": 4,
 "nbformat_minor": 5
}
