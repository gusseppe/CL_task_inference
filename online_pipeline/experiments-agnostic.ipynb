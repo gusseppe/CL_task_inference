{
 "cells": [
  {
   "cell_type": "markdown",
   "id": "2f323332-bd58-4bd6-b93b-9d3dfe36b4eb",
   "metadata": {},
   "source": [
    "# Experiments: Agnostic scenario"
   ]
  },
  {
   "cell_type": "markdown",
   "id": "c7f61cb3-fd84-418a-a769-6dc678f8d2e4",
   "metadata": {},
   "source": [
    "## Utils: \n",
    "\n",
    "- Density based clustering\n",
    "- Nearest-cluster centroids"
   ]
  },
  {
   "cell_type": "code",
   "execution_count": 43,
   "id": "a2a42f29-5322-48cb-b3dd-e7bd8c33b701",
   "metadata": {},
   "outputs": [],
   "source": [
    "from sklearn.neighbors import NearestNeighbors\n",
    "from sklearn.neighbors import NearestCentroid\n",
    "from sklearn.cluster import DBSCAN\n",
    "from sklearn import metrics\n",
    "import numpy as np\n",
    "from torchvision import transforms\n",
    "import torch\n",
    "import clip\n",
    "import matplotlib.pyplot as plt\n",
    "import pickle\n",
    "from PIL import Image\n",
    "from rich import print\n",
    "from scipy.stats import trim_mean\n",
    "\n",
    "\n",
    "def find_avg_centroid(x):\n",
    "    return np.mean(x, axis=0)\n",
    "\n",
    "def trimmed_mean_centroid(x, proportion_to_cut=0.1):\n",
    "    \"\"\"\n",
    "    Compute the trimmed mean centroid of an array of points.\n",
    "    \"\"\"\n",
    "    return trim_mean(x, proportiontocut=proportion_to_cut, axis=0)\n",
    "\n",
    "def find_better_centroid(x):\n",
    "    return trimmed_mean_centroid(x)\n",
    "\n",
    "def find_nearest_centroids(x, y):\n",
    "    if not isinstance(x, (np.ndarray, np.generic)):\n",
    "        x = x.detach().cpu().numpy()\n",
    "        \n",
    "    clf = NearestCentroid(metric='manhattan')\n",
    "    clf = clf.fit(x, y)\n",
    "    centroids = clf.centroids_\n",
    "    return centroids\n",
    "\n",
    "def find_knn(x, centroids, n_neighbors=10):\n",
    "    if not isinstance(x, (np.ndarray, np.generic)):\n",
    "        x = x.detach().cpu().numpy()\n",
    "\n",
    "    knn_search = NearestNeighbors(n_neighbors=n_neighbors,\n",
    "                            metric='manhattan', \n",
    "                            algorithm='auto', #'ball_tree'\n",
    "                            n_jobs=-1)  \n",
    "    knn_search.fit(x)\n",
    "\n",
    "    indexes = knn_search.kneighbors(centroids, return_distance=False)\n",
    "    return x[indexes][0]\n",
    "\n",
    "        \n",
    "def get_clusters(x):\n",
    "    db = DBSCAN(eps=0.3, min_samples=10, leaf_size=30, \n",
    "                n_jobs=-1, metric='cosine').fit(x)\n",
    "\n",
    "    # core_samples_mask = np.zeros_like(db.labels_, dtype=bool)\n",
    "    # core_samples_mask[db.core_sample_indices_] = True\n",
    "    labels = db.labels_\n",
    "    # Number of clusters in labels, ignoring noise if present.\n",
    "    n_clusters_ = len(set(labels)) - (1 if -1 in labels else 0)\n",
    "    n_noise_ = list(labels).count(-1)\n",
    "\n",
    "    print(\"Estimated number of clusters: %d\" % n_clusters_)\n",
    "    print(\"Estimated number of noise points: %d\" % n_noise_)\n",
    "    if n_clusters_ == 0:\n",
    "        return x, labels, n_clusters_\n",
    "    # Remove outliers to avoid affecting the centroids\n",
    "    x = x[np.where(labels != -1)]\n",
    "    labels = labels[np.where(labels != -1)]\n",
    "    \n",
    "    return x, labels, n_clusters_\n",
    "\n",
    "\n",
    "def get_nearest_embedding_centroids(x, n_neighbors=10):\n",
    "    \n",
    "    #1. Get the CLIP embeddings\n",
    "    if not isinstance(x, (np.ndarray, np.generic)):\n",
    "        x = x.detach().cpu().numpy()\n",
    "    \n",
    "    #2. Cluster the embeddings\n",
    "    x, labels, n_clusters = get_clusters(x)\n",
    "\n",
    "    #3. Find centroids of embeddings\n",
    "    if n_clusters < 2:\n",
    "        # centroids = find_avg_centroid(x)\n",
    "        centroids = find_better_centroid(x)\n",
    "        centroids = centroids.reshape(1, -1)\n",
    "    else:\n",
    "        centroids = find_nearest_centroids(x, labels)\n",
    "\n",
    "    # If some infinite/nan values appear\n",
    "    centroids = np.nan_to_num(centroids)\n",
    "    #4. Find knn of centroids        \n",
    "    x_nearest_centroids = find_knn(x, centroids, n_neighbors)\n",
    "    x_chosen = np.vstack([centroids, x_nearest_centroids])\n",
    "\n",
    "    print(f\"# nearest centroids ({round((x_chosen.shape[0]/x.shape[0])*100, 2)}%):\", x_chosen.shape)\n",
    "    print()\n",
    "\n",
    "    return x_chosen\n"
   ]
  },
  {
   "cell_type": "markdown",
   "id": "7ec40d00-8e8e-4e27-8824-24bdbc54a83d",
   "metadata": {},
   "source": [
    "### Semantic embedding"
   ]
  },
  {
   "cell_type": "code",
   "execution_count": 44,
   "id": "8b98b290-c1c8-49ed-9b5e-a451c703d7fc",
   "metadata": {},
   "outputs": [
    {
     "data": {
      "text/html": [
       "<pre style=\"white-space:pre;overflow-x:auto;line-height:normal;font-family:Menlo,'DejaVu Sans Mono',consolas,'Courier New',monospace\">Device: cpu\n",
       "</pre>\n"
      ],
      "text/plain": [
       "Device: cpu\n"
      ]
     },
     "metadata": {},
     "output_type": "display_data"
    }
   ],
   "source": [
    "device = \"cuda\" if torch.cuda.is_available() else \"cpu\"\n",
    "print(f\"Device: {device}\")\n",
    "embeder, preprocess = clip.load(\"ViT-B/32\", device=device)"
   ]
  },
  {
   "cell_type": "code",
   "execution_count": 45,
   "id": "069d7442-3e6e-4db5-9a81-e8dd59a9c1f7",
   "metadata": {},
   "outputs": [],
   "source": [
    "from tqdm import tqdm\n",
    "from torch.utils.data import DataLoader\n",
    "from sentence_transformers import SentenceTransformer, util\n",
    "from functools import lru_cache\n",
    "\n",
    "@lru_cache(maxsize=None)\n",
    "def get_embeddings(dataset):\n",
    "    \n",
    "    all_features = []\n",
    "    all_labels = []\n",
    "    all_tasks = []\n",
    "    \n",
    "    with torch.no_grad():\n",
    "        for images, labels, tasks in tqdm(DataLoader(dataset, batch_size=100, num_workers=8)):\n",
    "            features = embeder.encode_image(images.to(device))\n",
    "            # features = embeder_resnet(images.to(device)).squeeze()\n",
    "\n",
    "            all_features.append(features)\n",
    "            all_labels.append(labels)\n",
    "            all_tasks.append(tasks)\n",
    "\n",
    "    return (torch.cat(all_features).cpu().numpy(), \n",
    "            torch.cat(all_labels).cpu().numpy(), torch.cat(all_tasks).cpu().numpy())\n"
   ]
  },
  {
   "cell_type": "markdown",
   "id": "1aa4e046-f5a5-4afc-a3cf-04f0860a1a8d",
   "metadata": {},
   "source": [
    "## Obtain the SODA10M dataset"
   ]
  },
  {
   "cell_type": "code",
   "execution_count": 47,
   "id": "25d16b2d-f317-4554-ba2d-0489602eda15",
   "metadata": {},
   "outputs": [
    {
     "data": {
      "text/html": [
       "<pre style=\"white-space:pre;overflow-x:auto;line-height:normal;font-family:Menlo,'DejaVu Sans Mono',consolas,'Courier New',monospace\"><span style=\"color: #008080; text-decoration-color: #008080; font-weight: bold\">6</span>\n",
       "</pre>\n"
      ],
      "text/plain": [
       "\u001b[1;36m6\u001b[0m\n"
      ]
     },
     "metadata": {},
     "output_type": "display_data"
    },
    {
     "data": {
      "text/html": [
       "<pre style=\"white-space:pre;overflow-x:auto;line-height:normal;font-family:Menlo,'DejaVu Sans Mono',consolas,'Courier New',monospace\"><span style=\"font-weight: bold\">[</span><span style=\"color: #008080; text-decoration-color: #008080; font-weight: bold\">5157</span>, <span style=\"color: #008080; text-decoration-color: #008080; font-weight: bold\">1154</span>, <span style=\"color: #008080; text-decoration-color: #008080; font-weight: bold\">6742</span>, <span style=\"color: #008080; text-decoration-color: #008080; font-weight: bold\">2560</span>, <span style=\"color: #008080; text-decoration-color: #008080; font-weight: bold\">4517</span>, <span style=\"color: #008080; text-decoration-color: #008080; font-weight: bold\">2119</span><span style=\"font-weight: bold\">]</span>\n",
       "</pre>\n"
      ],
      "text/plain": [
       "\u001b[1m[\u001b[0m\u001b[1;36m5157\u001b[0m, \u001b[1;36m1154\u001b[0m, \u001b[1;36m6742\u001b[0m, \u001b[1;36m2560\u001b[0m, \u001b[1;36m4517\u001b[0m, \u001b[1;36m2119\u001b[0m\u001b[1m]\u001b[0m\n"
      ]
     },
     "metadata": {},
     "output_type": "display_data"
    }
   ],
   "source": [
    "import clad\n",
    "import torchvision\n",
    "import sys\n",
    "sys.path.append('./CLAD/')\n",
    "\n",
    "root = \"./data\"\n",
    "original_transform = torchvision.transforms.Compose([\n",
    "    torchvision.transforms.ToTensor(),\n",
    "    torchvision.transforms.Normalize((0.3252, 0.3283, 0.3407), (0.0265, 0.0241, 0.0252))\n",
    "\n",
    "])\n",
    "\n",
    "# all_train_sets = clad.get_cladc_train(root, transform=lambda x: x)\n",
    "all_train_sets = clad.get_cladc_train(root, transform=original_transform)\n",
    "# val_sets = clad.get_cladc_val(root, transform=torchvision.transforms.ToTensor())\n",
    "print(len(all_train_sets))\n",
    "print([len(ts) for ts in all_train_sets])"
   ]
  },
  {
   "cell_type": "code",
   "execution_count": 48,
   "id": "213d2cbb-668c-4705-a616-49c94403b8f4",
   "metadata": {},
   "outputs": [
    {
     "data": {
      "text/html": [
       "<pre style=\"white-space:pre;overflow-x:auto;line-height:normal;font-family:Menlo,'DejaVu Sans Mono',consolas,'Courier New',monospace\"><span style=\"color: #008080; text-decoration-color: #008080; font-weight: bold\">6</span>\n",
       "</pre>\n"
      ],
      "text/plain": [
       "\u001b[1;36m6\u001b[0m\n"
      ]
     },
     "metadata": {},
     "output_type": "display_data"
    },
    {
     "data": {
      "text/html": [
       "<pre style=\"white-space:pre;overflow-x:auto;line-height:normal;font-family:Menlo,'DejaVu Sans Mono',consolas,'Courier New',monospace\"><span style=\"font-weight: bold\">[</span><span style=\"color: #008080; text-decoration-color: #008080; font-weight: bold\">5157</span>, <span style=\"color: #008080; text-decoration-color: #008080; font-weight: bold\">1154</span>, <span style=\"color: #008080; text-decoration-color: #008080; font-weight: bold\">6742</span>, <span style=\"color: #008080; text-decoration-color: #008080; font-weight: bold\">2560</span>, <span style=\"color: #008080; text-decoration-color: #008080; font-weight: bold\">4517</span>, <span style=\"color: #008080; text-decoration-color: #008080; font-weight: bold\">2119</span><span style=\"font-weight: bold\">]</span>\n",
       "</pre>\n"
      ],
      "text/plain": [
       "\u001b[1m[\u001b[0m\u001b[1;36m5157\u001b[0m, \u001b[1;36m1154\u001b[0m, \u001b[1;36m6742\u001b[0m, \u001b[1;36m2560\u001b[0m, \u001b[1;36m4517\u001b[0m, \u001b[1;36m2119\u001b[0m\u001b[1m]\u001b[0m\n"
      ]
     },
     "metadata": {},
     "output_type": "display_data"
    }
   ],
   "source": [
    "# method_transform = torchvision.transforms.Compose([\n",
    "#     torchvision.transforms.ToTensor(),\n",
    "#     torchvision.transforms.ToPILImage()\n",
    "# ])\n",
    "method_transform = torchvision.transforms.Compose([\n",
    "    preprocess\n",
    "])\n",
    "all_train_sets_method = clad.get_cladc_train(root, transform=method_transform)\n",
    "print(len(all_train_sets_method))\n",
    "print([len(ts) for ts in all_train_sets_method])"
   ]
  },
  {
   "cell_type": "markdown",
   "id": "b3f30136-dd16-41e9-a400-400a1ef6d6be",
   "metadata": {},
   "source": [
    "### Train/Test split"
   ]
  },
  {
   "cell_type": "code",
   "execution_count": 51,
   "id": "b09d88eb-a438-4e71-bda4-752964149767",
   "metadata": {},
   "outputs": [
    {
     "data": {
      "text/html": [
       "<pre style=\"white-space:pre;overflow-x:auto;line-height:normal;font-family:Menlo,'DejaVu Sans Mono',consolas,'Courier New',monospace\">Original data\n",
       "</pre>\n"
      ],
      "text/plain": [
       "Original data\n"
      ]
     },
     "metadata": {},
     "output_type": "display_data"
    },
    {
     "data": {
      "text/html": [
       "<pre style=\"white-space:pre;overflow-x:auto;line-height:normal;font-family:Menlo,'DejaVu Sans Mono',consolas,'Courier New',monospace\">Training lenghts: \n",
       "<span style=\"font-weight: bold\">[</span><span style=\"color: #008080; text-decoration-color: #008080; font-weight: bold\">4125</span>, <span style=\"color: #008080; text-decoration-color: #008080; font-weight: bold\">923</span>, <span style=\"color: #008080; text-decoration-color: #008080; font-weight: bold\">5393</span>, <span style=\"color: #008080; text-decoration-color: #008080; font-weight: bold\">2048</span>, <span style=\"color: #008080; text-decoration-color: #008080; font-weight: bold\">3613</span>, <span style=\"color: #008080; text-decoration-color: #008080; font-weight: bold\">1695</span><span style=\"font-weight: bold\">]</span>\n",
       "</pre>\n"
      ],
      "text/plain": [
       "Training lenghts: \n",
       "\u001b[1m[\u001b[0m\u001b[1;36m4125\u001b[0m, \u001b[1;36m923\u001b[0m, \u001b[1;36m5393\u001b[0m, \u001b[1;36m2048\u001b[0m, \u001b[1;36m3613\u001b[0m, \u001b[1;36m1695\u001b[0m\u001b[1m]\u001b[0m\n"
      ]
     },
     "metadata": {},
     "output_type": "display_data"
    },
    {
     "data": {
      "text/html": [
       "<pre style=\"white-space:pre;overflow-x:auto;line-height:normal;font-family:Menlo,'DejaVu Sans Mono',consolas,'Courier New',monospace\">Testing lenghts: \n",
       "<span style=\"font-weight: bold\">[</span><span style=\"color: #008080; text-decoration-color: #008080; font-weight: bold\">1032</span>, <span style=\"color: #008080; text-decoration-color: #008080; font-weight: bold\">231</span>, <span style=\"color: #008080; text-decoration-color: #008080; font-weight: bold\">1349</span>, <span style=\"color: #008080; text-decoration-color: #008080; font-weight: bold\">512</span>, <span style=\"color: #008080; text-decoration-color: #008080; font-weight: bold\">904</span>, <span style=\"color: #008080; text-decoration-color: #008080; font-weight: bold\">424</span><span style=\"font-weight: bold\">]</span>\n",
       "</pre>\n"
      ],
      "text/plain": [
       "Testing lenghts: \n",
       "\u001b[1m[\u001b[0m\u001b[1;36m1032\u001b[0m, \u001b[1;36m231\u001b[0m, \u001b[1;36m1349\u001b[0m, \u001b[1;36m512\u001b[0m, \u001b[1;36m904\u001b[0m, \u001b[1;36m424\u001b[0m\u001b[1m]\u001b[0m\n"
      ]
     },
     "metadata": {},
     "output_type": "display_data"
    },
    {
     "data": {
      "text/html": [
       "<pre style=\"white-space:pre;overflow-x:auto;line-height:normal;font-family:Menlo,'DejaVu Sans Mono',consolas,'Courier New',monospace\">Method data\n",
       "</pre>\n"
      ],
      "text/plain": [
       "Method data\n"
      ]
     },
     "metadata": {},
     "output_type": "display_data"
    },
    {
     "data": {
      "text/html": [
       "<pre style=\"white-space:pre;overflow-x:auto;line-height:normal;font-family:Menlo,'DejaVu Sans Mono',consolas,'Courier New',monospace\">Training lenghts: \n",
       "<span style=\"font-weight: bold\">[</span><span style=\"color: #008080; text-decoration-color: #008080; font-weight: bold\">4125</span>, <span style=\"color: #008080; text-decoration-color: #008080; font-weight: bold\">923</span>, <span style=\"color: #008080; text-decoration-color: #008080; font-weight: bold\">5393</span>, <span style=\"color: #008080; text-decoration-color: #008080; font-weight: bold\">2048</span>, <span style=\"color: #008080; text-decoration-color: #008080; font-weight: bold\">3613</span>, <span style=\"color: #008080; text-decoration-color: #008080; font-weight: bold\">1695</span><span style=\"font-weight: bold\">]</span>\n",
       "</pre>\n"
      ],
      "text/plain": [
       "Training lenghts: \n",
       "\u001b[1m[\u001b[0m\u001b[1;36m4125\u001b[0m, \u001b[1;36m923\u001b[0m, \u001b[1;36m5393\u001b[0m, \u001b[1;36m2048\u001b[0m, \u001b[1;36m3613\u001b[0m, \u001b[1;36m1695\u001b[0m\u001b[1m]\u001b[0m\n"
      ]
     },
     "metadata": {},
     "output_type": "display_data"
    },
    {
     "data": {
      "text/html": [
       "<pre style=\"white-space:pre;overflow-x:auto;line-height:normal;font-family:Menlo,'DejaVu Sans Mono',consolas,'Courier New',monospace\">Testing lenghts: \n",
       "<span style=\"font-weight: bold\">[</span><span style=\"color: #008080; text-decoration-color: #008080; font-weight: bold\">1032</span>, <span style=\"color: #008080; text-decoration-color: #008080; font-weight: bold\">231</span>, <span style=\"color: #008080; text-decoration-color: #008080; font-weight: bold\">1349</span>, <span style=\"color: #008080; text-decoration-color: #008080; font-weight: bold\">512</span>, <span style=\"color: #008080; text-decoration-color: #008080; font-weight: bold\">904</span>, <span style=\"color: #008080; text-decoration-color: #008080; font-weight: bold\">424</span><span style=\"font-weight: bold\">]</span>\n",
       "</pre>\n"
      ],
      "text/plain": [
       "Testing lenghts: \n",
       "\u001b[1m[\u001b[0m\u001b[1;36m1032\u001b[0m, \u001b[1;36m231\u001b[0m, \u001b[1;36m1349\u001b[0m, \u001b[1;36m512\u001b[0m, \u001b[1;36m904\u001b[0m, \u001b[1;36m424\u001b[0m\u001b[1m]\u001b[0m\n"
      ]
     },
     "metadata": {},
     "output_type": "display_data"
    }
   ],
   "source": [
    "import torch\n",
    "from torch.utils.data import random_split\n",
    "\n",
    "# Define the split sizes for each dataset\n",
    "train_size = 0.8\n",
    "# test_size = 0.2\n",
    "\n",
    "# Split each dataset in the train_sets list into training and testing sets\n",
    "train_sets = []\n",
    "test_sets = []\n",
    "for dataset in all_train_sets:\n",
    "    dataset_size = len(dataset)\n",
    "    train_dataset_size = int(train_size * dataset_size)\n",
    "    test_dataset_size = dataset_size - train_dataset_size\n",
    "    train_dataset, test_dataset = random_split(dataset, [train_dataset_size, test_dataset_size], \n",
    "                                               generator=torch.Generator().manual_seed(42))\n",
    "    train_sets.append(train_dataset)\n",
    "    test_sets.append(test_dataset)\n",
    "\n",
    "print(\"Original data\")\n",
    "print('Training lenghts: ', [len(ts) for ts in train_sets])\n",
    "print('Testing lenghts: ', [len(ts) for ts in test_sets])\n",
    "\n",
    "train_sets_method = []\n",
    "test_sets_method = []\n",
    "for dataset in all_train_sets_method:\n",
    "    dataset_size = len(dataset)\n",
    "    train_dataset_size = int(train_size * dataset_size)\n",
    "    test_dataset_size = dataset_size - train_dataset_size\n",
    "    train_dataset, test_dataset = random_split(dataset, [train_dataset_size, test_dataset_size], \n",
    "                                               generator=torch.Generator().manual_seed(42))\n",
    "    train_sets_method.append(train_dataset)\n",
    "    test_sets_method.append(test_dataset)\n",
    "\n",
    "print(\"Method data\")\n",
    "print('Training lenghts: ', [len(ts) for ts in train_sets_method])\n",
    "print('Testing lenghts: ', [len(ts) for ts in test_sets_method])"
   ]
  },
  {
   "cell_type": "code",
   "execution_count": 52,
   "id": "4274a3a2-e586-4c14-b18a-a98020046a37",
   "metadata": {},
   "outputs": [
    {
     "name": "stdout",
     "output_type": "stream",
     "text": [
      "CPU times: user 241 ms, sys: 12.3 ms, total: 253 ms\n",
      "Wall time: 252 ms\n"
     ]
    }
   ],
   "source": [
    "%%time\n",
    "from torch.utils.data.dataset import TensorDataset\n",
    "from avalanche.benchmarks.utils import AvalancheDataset\n",
    "from avalanche.benchmarks.utils import make_classification_dataset\n",
    "from torch.utils.data import DataLoader\n",
    "from avalanche.benchmarks.generators import filelist_benchmark, dataset_benchmark\n",
    "\n",
    "\n",
    "\n",
    "# Original benchmark with tasks\n",
    "training_datasets = list()\n",
    "testing_datasets = list()\n",
    "\n",
    "for task, (train_s, test_s) in enumerate(zip(train_sets, test_sets), start=0):\n",
    "    training_datasets.append(make_classification_dataset(train_s, task_labels=np.repeat(task, len(train_s))))\n",
    "    testing_datasets.append(make_classification_dataset(test_s, task_labels=np.repeat(task, len(test_s))))\n",
    "\n",
    "benchmark= dataset_benchmark(\n",
    "    training_datasets,\n",
    "    testing_datasets\n",
    ")\n",
    "\n",
    "# Original benchmark without tasks\n",
    "training_datasets = list()\n",
    "testing_datasets = list()\n",
    "for task, (train_s, test_s) in enumerate(zip(train_sets, test_sets), start=0):\n",
    "    training_datasets.append(make_classification_dataset(train_s, task_labels=np.repeat(0, len(train_s))))\n",
    "    testing_datasets.append(make_classification_dataset(test_s, task_labels=np.repeat(0, len(test_s))))\n",
    "\n",
    "benchmark_no_task= dataset_benchmark(\n",
    "    training_datasets,\n",
    "    testing_datasets\n",
    ")\n",
    "\n",
    "# Method benchmark\n",
    "training_datasets = list()\n",
    "testing_datasets = list()\n",
    "for task, (train_s, test_s) in enumerate(zip(train_sets_method, test_sets_method), start=0):\n",
    "    training_datasets.append(make_classification_dataset(train_s, task_labels=np.repeat(task, len(train_s))))\n",
    "    testing_datasets.append(make_classification_dataset(test_s, task_labels=np.repeat(task, len(test_s))))\n",
    "\n",
    "benchmark_method= dataset_benchmark(\n",
    "    training_datasets,\n",
    "    testing_datasets\n",
    ")"
   ]
  },
  {
   "cell_type": "markdown",
   "id": "d1009691-cd16-4153-bfe5-491def851195",
   "metadata": {},
   "source": [
    "## Test a simple Task classifier and save in cache"
   ]
  },
  {
   "cell_type": "code",
   "execution_count": 53,
   "id": "8a431a5a-8d1e-4a53-ac36-bd7be795704b",
   "metadata": {},
   "outputs": [
    {
     "data": {
      "text/html": [
       "<pre style=\"white-space:pre;overflow-x:auto;line-height:normal;font-family:Menlo,'DejaVu Sans Mono',consolas,'Courier New',monospace\">Getting embeddings\n",
       "</pre>\n"
      ],
      "text/plain": [
       "Getting embeddings\n"
      ]
     },
     "metadata": {},
     "output_type": "display_data"
    },
    {
     "name": "stderr",
     "output_type": "stream",
     "text": [
      "100%|██████████| 42/42 [02:18<00:00,  3.31s/it]\n"
     ]
    },
    {
     "data": {
      "text/html": [
       "<pre style=\"white-space:pre;overflow-x:auto;line-height:normal;font-family:Menlo,'DejaVu Sans Mono',consolas,'Courier New',monospace\">x_train shape: \n",
       "<span style=\"font-weight: bold\">(</span><span style=\"color: #008080; text-decoration-color: #008080; font-weight: bold\">4125</span>, <span style=\"color: #008080; text-decoration-color: #008080; font-weight: bold\">512</span><span style=\"font-weight: bold\">)</span>\n",
       "</pre>\n"
      ],
      "text/plain": [
       "x_train shape: \n",
       "\u001b[1m(\u001b[0m\u001b[1;36m4125\u001b[0m, \u001b[1;36m512\u001b[0m\u001b[1m)\u001b[0m\n"
      ]
     },
     "metadata": {},
     "output_type": "display_data"
    },
    {
     "name": "stderr",
     "output_type": "stream",
     "text": [
      "100%|██████████| 11/11 [00:43<00:00,  3.98s/it]\n"
     ]
    },
    {
     "data": {
      "text/html": [
       "<pre style=\"white-space:pre;overflow-x:auto;line-height:normal;font-family:Menlo,'DejaVu Sans Mono',consolas,'Courier New',monospace\">x_test shape: \n",
       "<span style=\"font-weight: bold\">(</span><span style=\"color: #008080; text-decoration-color: #008080; font-weight: bold\">1032</span>, <span style=\"color: #008080; text-decoration-color: #008080; font-weight: bold\">512</span><span style=\"font-weight: bold\">)</span>\n",
       "</pre>\n"
      ],
      "text/plain": [
       "x_test shape: \n",
       "\u001b[1m(\u001b[0m\u001b[1;36m1032\u001b[0m, \u001b[1;36m512\u001b[0m\u001b[1m)\u001b[0m\n"
      ]
     },
     "metadata": {},
     "output_type": "display_data"
    },
    {
     "data": {
      "text/html": [
       "<pre style=\"white-space:pre;overflow-x:auto;line-height:normal;font-family:Menlo,'DejaVu Sans Mono',consolas,'Courier New',monospace\">Getting embeddings\n",
       "</pre>\n"
      ],
      "text/plain": [
       "Getting embeddings\n"
      ]
     },
     "metadata": {},
     "output_type": "display_data"
    },
    {
     "name": "stderr",
     "output_type": "stream",
     "text": [
      "100%|██████████| 10/10 [00:22<00:00,  2.21s/it]\n"
     ]
    },
    {
     "data": {
      "text/html": [
       "<pre style=\"white-space:pre;overflow-x:auto;line-height:normal;font-family:Menlo,'DejaVu Sans Mono',consolas,'Courier New',monospace\">x_train shape: \n",
       "<span style=\"font-weight: bold\">(</span><span style=\"color: #008080; text-decoration-color: #008080; font-weight: bold\">923</span>, <span style=\"color: #008080; text-decoration-color: #008080; font-weight: bold\">512</span><span style=\"font-weight: bold\">)</span>\n",
       "</pre>\n"
      ],
      "text/plain": [
       "x_train shape: \n",
       "\u001b[1m(\u001b[0m\u001b[1;36m923\u001b[0m, \u001b[1;36m512\u001b[0m\u001b[1m)\u001b[0m\n"
      ]
     },
     "metadata": {},
     "output_type": "display_data"
    },
    {
     "name": "stderr",
     "output_type": "stream",
     "text": [
      "100%|██████████| 3/3 [00:09<00:00,  3.23s/it]\n"
     ]
    },
    {
     "data": {
      "text/html": [
       "<pre style=\"white-space:pre;overflow-x:auto;line-height:normal;font-family:Menlo,'DejaVu Sans Mono',consolas,'Courier New',monospace\">x_test shape: \n",
       "<span style=\"font-weight: bold\">(</span><span style=\"color: #008080; text-decoration-color: #008080; font-weight: bold\">231</span>, <span style=\"color: #008080; text-decoration-color: #008080; font-weight: bold\">512</span><span style=\"font-weight: bold\">)</span>\n",
       "</pre>\n"
      ],
      "text/plain": [
       "x_test shape: \n",
       "\u001b[1m(\u001b[0m\u001b[1;36m231\u001b[0m, \u001b[1;36m512\u001b[0m\u001b[1m)\u001b[0m\n"
      ]
     },
     "metadata": {},
     "output_type": "display_data"
    },
    {
     "data": {
      "text/html": [
       "<pre style=\"white-space:pre;overflow-x:auto;line-height:normal;font-family:Menlo,'DejaVu Sans Mono',consolas,'Courier New',monospace\">Getting embeddings\n",
       "</pre>\n"
      ],
      "text/plain": [
       "Getting embeddings\n"
      ]
     },
     "metadata": {},
     "output_type": "display_data"
    },
    {
     "name": "stderr",
     "output_type": "stream",
     "text": [
      "100%|██████████| 54/54 [03:16<00:00,  3.64s/it]\n"
     ]
    },
    {
     "data": {
      "text/html": [
       "<pre style=\"white-space:pre;overflow-x:auto;line-height:normal;font-family:Menlo,'DejaVu Sans Mono',consolas,'Courier New',monospace\">x_train shape: \n",
       "<span style=\"font-weight: bold\">(</span><span style=\"color: #008080; text-decoration-color: #008080; font-weight: bold\">5393</span>, <span style=\"color: #008080; text-decoration-color: #008080; font-weight: bold\">512</span><span style=\"font-weight: bold\">)</span>\n",
       "</pre>\n"
      ],
      "text/plain": [
       "x_train shape: \n",
       "\u001b[1m(\u001b[0m\u001b[1;36m5393\u001b[0m, \u001b[1;36m512\u001b[0m\u001b[1m)\u001b[0m\n"
      ]
     },
     "metadata": {},
     "output_type": "display_data"
    },
    {
     "name": "stderr",
     "output_type": "stream",
     "text": [
      "100%|██████████| 14/14 [00:12<00:00,  1.10it/s]\n"
     ]
    },
    {
     "data": {
      "text/html": [
       "<pre style=\"white-space:pre;overflow-x:auto;line-height:normal;font-family:Menlo,'DejaVu Sans Mono',consolas,'Courier New',monospace\">x_test shape: \n",
       "<span style=\"font-weight: bold\">(</span><span style=\"color: #008080; text-decoration-color: #008080; font-weight: bold\">1349</span>, <span style=\"color: #008080; text-decoration-color: #008080; font-weight: bold\">512</span><span style=\"font-weight: bold\">)</span>\n",
       "</pre>\n"
      ],
      "text/plain": [
       "x_test shape: \n",
       "\u001b[1m(\u001b[0m\u001b[1;36m1349\u001b[0m, \u001b[1;36m512\u001b[0m\u001b[1m)\u001b[0m\n"
      ]
     },
     "metadata": {},
     "output_type": "display_data"
    },
    {
     "data": {
      "text/html": [
       "<pre style=\"white-space:pre;overflow-x:auto;line-height:normal;font-family:Menlo,'DejaVu Sans Mono',consolas,'Courier New',monospace\">Getting embeddings\n",
       "</pre>\n"
      ],
      "text/plain": [
       "Getting embeddings\n"
      ]
     },
     "metadata": {},
     "output_type": "display_data"
    },
    {
     "name": "stderr",
     "output_type": "stream",
     "text": [
      "100%|██████████| 21/21 [00:17<00:00,  1.21it/s]\n"
     ]
    },
    {
     "data": {
      "text/html": [
       "<pre style=\"white-space:pre;overflow-x:auto;line-height:normal;font-family:Menlo,'DejaVu Sans Mono',consolas,'Courier New',monospace\">x_train shape: \n",
       "<span style=\"font-weight: bold\">(</span><span style=\"color: #008080; text-decoration-color: #008080; font-weight: bold\">2048</span>, <span style=\"color: #008080; text-decoration-color: #008080; font-weight: bold\">512</span><span style=\"font-weight: bold\">)</span>\n",
       "</pre>\n"
      ],
      "text/plain": [
       "x_train shape: \n",
       "\u001b[1m(\u001b[0m\u001b[1;36m2048\u001b[0m, \u001b[1;36m512\u001b[0m\u001b[1m)\u001b[0m\n"
      ]
     },
     "metadata": {},
     "output_type": "display_data"
    },
    {
     "name": "stderr",
     "output_type": "stream",
     "text": [
      "100%|██████████| 6/6 [00:06<00:00,  1.09s/it]\n"
     ]
    },
    {
     "data": {
      "text/html": [
       "<pre style=\"white-space:pre;overflow-x:auto;line-height:normal;font-family:Menlo,'DejaVu Sans Mono',consolas,'Courier New',monospace\">x_test shape: \n",
       "<span style=\"font-weight: bold\">(</span><span style=\"color: #008080; text-decoration-color: #008080; font-weight: bold\">512</span>, <span style=\"color: #008080; text-decoration-color: #008080; font-weight: bold\">512</span><span style=\"font-weight: bold\">)</span>\n",
       "</pre>\n"
      ],
      "text/plain": [
       "x_test shape: \n",
       "\u001b[1m(\u001b[0m\u001b[1;36m512\u001b[0m, \u001b[1;36m512\u001b[0m\u001b[1m)\u001b[0m\n"
      ]
     },
     "metadata": {},
     "output_type": "display_data"
    },
    {
     "data": {
      "text/html": [
       "<pre style=\"white-space:pre;overflow-x:auto;line-height:normal;font-family:Menlo,'DejaVu Sans Mono',consolas,'Courier New',monospace\">Getting embeddings\n",
       "</pre>\n"
      ],
      "text/plain": [
       "Getting embeddings\n"
      ]
     },
     "metadata": {},
     "output_type": "display_data"
    },
    {
     "name": "stderr",
     "output_type": "stream",
     "text": [
      "100%|██████████| 37/37 [00:26<00:00,  1.38it/s]\n"
     ]
    },
    {
     "data": {
      "text/html": [
       "<pre style=\"white-space:pre;overflow-x:auto;line-height:normal;font-family:Menlo,'DejaVu Sans Mono',consolas,'Courier New',monospace\">x_train shape: \n",
       "<span style=\"font-weight: bold\">(</span><span style=\"color: #008080; text-decoration-color: #008080; font-weight: bold\">3613</span>, <span style=\"color: #008080; text-decoration-color: #008080; font-weight: bold\">512</span><span style=\"font-weight: bold\">)</span>\n",
       "</pre>\n"
      ],
      "text/plain": [
       "x_train shape: \n",
       "\u001b[1m(\u001b[0m\u001b[1;36m3613\u001b[0m, \u001b[1;36m512\u001b[0m\u001b[1m)\u001b[0m\n"
      ]
     },
     "metadata": {},
     "output_type": "display_data"
    },
    {
     "name": "stderr",
     "output_type": "stream",
     "text": [
      "100%|██████████| 10/10 [00:09<00:00,  1.03it/s]\n"
     ]
    },
    {
     "data": {
      "text/html": [
       "<pre style=\"white-space:pre;overflow-x:auto;line-height:normal;font-family:Menlo,'DejaVu Sans Mono',consolas,'Courier New',monospace\">x_test shape: \n",
       "<span style=\"font-weight: bold\">(</span><span style=\"color: #008080; text-decoration-color: #008080; font-weight: bold\">904</span>, <span style=\"color: #008080; text-decoration-color: #008080; font-weight: bold\">512</span><span style=\"font-weight: bold\">)</span>\n",
       "</pre>\n"
      ],
      "text/plain": [
       "x_test shape: \n",
       "\u001b[1m(\u001b[0m\u001b[1;36m904\u001b[0m, \u001b[1;36m512\u001b[0m\u001b[1m)\u001b[0m\n"
      ]
     },
     "metadata": {},
     "output_type": "display_data"
    },
    {
     "data": {
      "text/html": [
       "<pre style=\"white-space:pre;overflow-x:auto;line-height:normal;font-family:Menlo,'DejaVu Sans Mono',consolas,'Courier New',monospace\">Getting embeddings\n",
       "</pre>\n"
      ],
      "text/plain": [
       "Getting embeddings\n"
      ]
     },
     "metadata": {},
     "output_type": "display_data"
    },
    {
     "name": "stderr",
     "output_type": "stream",
     "text": [
      "100%|██████████| 17/17 [00:14<00:00,  1.20it/s]\n"
     ]
    },
    {
     "data": {
      "text/html": [
       "<pre style=\"white-space:pre;overflow-x:auto;line-height:normal;font-family:Menlo,'DejaVu Sans Mono',consolas,'Courier New',monospace\">x_train shape: \n",
       "<span style=\"font-weight: bold\">(</span><span style=\"color: #008080; text-decoration-color: #008080; font-weight: bold\">1695</span>, <span style=\"color: #008080; text-decoration-color: #008080; font-weight: bold\">512</span><span style=\"font-weight: bold\">)</span>\n",
       "</pre>\n"
      ],
      "text/plain": [
       "x_train shape: \n",
       "\u001b[1m(\u001b[0m\u001b[1;36m1695\u001b[0m, \u001b[1;36m512\u001b[0m\u001b[1m)\u001b[0m\n"
      ]
     },
     "metadata": {},
     "output_type": "display_data"
    },
    {
     "name": "stderr",
     "output_type": "stream",
     "text": [
      "100%|██████████| 5/5 [00:06<00:00,  1.21s/it]\n"
     ]
    },
    {
     "data": {
      "text/html": [
       "<pre style=\"white-space:pre;overflow-x:auto;line-height:normal;font-family:Menlo,'DejaVu Sans Mono',consolas,'Courier New',monospace\">x_test shape: \n",
       "<span style=\"font-weight: bold\">(</span><span style=\"color: #008080; text-decoration-color: #008080; font-weight: bold\">424</span>, <span style=\"color: #008080; text-decoration-color: #008080; font-weight: bold\">512</span><span style=\"font-weight: bold\">)</span>\n",
       "</pre>\n"
      ],
      "text/plain": [
       "x_test shape: \n",
       "\u001b[1m(\u001b[0m\u001b[1;36m424\u001b[0m, \u001b[1;36m512\u001b[0m\u001b[1m)\u001b[0m\n"
      ]
     },
     "metadata": {},
     "output_type": "display_data"
    }
   ],
   "source": [
    "train_stream = benchmark_method.train_stream\n",
    "test_stream = benchmark_method.test_stream\n",
    "\n",
    "all_x_train_emb = list()\n",
    "all_y_train = list()\n",
    "all_t_train = list()\n",
    "\n",
    "all_x_test_emb = list()\n",
    "all_y_test = list()\n",
    "all_t_test = list()\n",
    "\n",
    "\n",
    "for task, experience in enumerate(train_stream):\n",
    "    print(\"Getting embeddings\")\n",
    "    x_train_emb, y_train, t_train = get_embeddings(train_stream[task].dataset)\n",
    "\n",
    "    print(\"x_train shape: \", x_train_emb.shape)\n",
    "    all_x_train_emb.append(x_train_emb)\n",
    "    all_y_train.append(y_train)\n",
    "    all_t_train.append(t_train)\n",
    "\n",
    "    x_test_emb, y_test, t_test = get_embeddings(test_stream[task].dataset)\n",
    "    print(\"x_test shape: \", x_test_emb.shape)\n",
    "    all_x_test_emb.append(x_test_emb)\n",
    "    all_y_test.append(y_test)\n",
    "    all_t_test.append(t_test)"
   ]
  },
  {
   "cell_type": "code",
   "execution_count": 54,
   "id": "191177bb-dc70-4566-aeb0-79a801a0a8a6",
   "metadata": {},
   "outputs": [
    {
     "data": {
      "text/html": [
       "<pre style=\"white-space:pre;overflow-x:auto;line-height:normal;font-family:Menlo,'DejaVu Sans Mono',consolas,'Courier New',monospace\">Training data knn\n",
       "</pre>\n"
      ],
      "text/plain": [
       "Training data knn\n"
      ]
     },
     "metadata": {},
     "output_type": "display_data"
    },
    {
     "data": {
      "text/html": [
       "<pre style=\"white-space:pre;overflow-x:auto;line-height:normal;font-family:Menlo,'DejaVu Sans Mono',consolas,'Courier New',monospace\">Estimated number of clusters: <span style=\"color: #008080; text-decoration-color: #008080; font-weight: bold\">1</span>\n",
       "</pre>\n"
      ],
      "text/plain": [
       "Estimated number of clusters: \u001b[1;36m1\u001b[0m\n"
      ]
     },
     "metadata": {},
     "output_type": "display_data"
    },
    {
     "data": {
      "text/html": [
       "<pre style=\"white-space:pre;overflow-x:auto;line-height:normal;font-family:Menlo,'DejaVu Sans Mono',consolas,'Courier New',monospace\">Estimated number of noise points: <span style=\"color: #008080; text-decoration-color: #008080; font-weight: bold\">0</span>\n",
       "</pre>\n"
      ],
      "text/plain": [
       "Estimated number of noise points: \u001b[1;36m0\u001b[0m\n"
      ]
     },
     "metadata": {},
     "output_type": "display_data"
    },
    {
     "data": {
      "text/html": [
       "<pre style=\"white-space:pre;overflow-x:auto;line-height:normal;font-family:Menlo,'DejaVu Sans Mono',consolas,'Courier New',monospace\"># nearest centroids <span style=\"font-weight: bold\">(</span><span style=\"color: #008080; text-decoration-color: #008080; font-weight: bold\">0.27</span>%<span style=\"font-weight: bold\">)</span>:\n",
       "<span style=\"font-weight: bold\">(</span><span style=\"color: #008080; text-decoration-color: #008080; font-weight: bold\">11</span>, <span style=\"color: #008080; text-decoration-color: #008080; font-weight: bold\">512</span><span style=\"font-weight: bold\">)</span>\n",
       "</pre>\n"
      ],
      "text/plain": [
       "# nearest centroids \u001b[1m(\u001b[0m\u001b[1;36m0.27\u001b[0m%\u001b[1m)\u001b[0m:\n",
       "\u001b[1m(\u001b[0m\u001b[1;36m11\u001b[0m, \u001b[1;36m512\u001b[0m\u001b[1m)\u001b[0m\n"
      ]
     },
     "metadata": {},
     "output_type": "display_data"
    },
    {
     "data": {
      "text/html": [
       "<pre style=\"white-space:pre;overflow-x:auto;line-height:normal;font-family:Menlo,'DejaVu Sans Mono',consolas,'Courier New',monospace\">\n",
       "</pre>\n"
      ],
      "text/plain": [
       "\n"
      ]
     },
     "metadata": {},
     "output_type": "display_data"
    },
    {
     "data": {
      "text/html": [
       "<pre style=\"white-space:pre;overflow-x:auto;line-height:normal;font-family:Menlo,'DejaVu Sans Mono',consolas,'Courier New',monospace\">Estimated number of clusters: <span style=\"color: #008080; text-decoration-color: #008080; font-weight: bold\">1</span>\n",
       "</pre>\n"
      ],
      "text/plain": [
       "Estimated number of clusters: \u001b[1;36m1\u001b[0m\n"
      ]
     },
     "metadata": {},
     "output_type": "display_data"
    },
    {
     "data": {
      "text/html": [
       "<pre style=\"white-space:pre;overflow-x:auto;line-height:normal;font-family:Menlo,'DejaVu Sans Mono',consolas,'Courier New',monospace\">Estimated number of noise points: <span style=\"color: #008080; text-decoration-color: #008080; font-weight: bold\">0</span>\n",
       "</pre>\n"
      ],
      "text/plain": [
       "Estimated number of noise points: \u001b[1;36m0\u001b[0m\n"
      ]
     },
     "metadata": {},
     "output_type": "display_data"
    },
    {
     "data": {
      "text/html": [
       "<pre style=\"white-space:pre;overflow-x:auto;line-height:normal;font-family:Menlo,'DejaVu Sans Mono',consolas,'Courier New',monospace\"># nearest centroids <span style=\"font-weight: bold\">(</span><span style=\"color: #008080; text-decoration-color: #008080; font-weight: bold\">1.19</span>%<span style=\"font-weight: bold\">)</span>:\n",
       "<span style=\"font-weight: bold\">(</span><span style=\"color: #008080; text-decoration-color: #008080; font-weight: bold\">11</span>, <span style=\"color: #008080; text-decoration-color: #008080; font-weight: bold\">512</span><span style=\"font-weight: bold\">)</span>\n",
       "</pre>\n"
      ],
      "text/plain": [
       "# nearest centroids \u001b[1m(\u001b[0m\u001b[1;36m1.19\u001b[0m%\u001b[1m)\u001b[0m:\n",
       "\u001b[1m(\u001b[0m\u001b[1;36m11\u001b[0m, \u001b[1;36m512\u001b[0m\u001b[1m)\u001b[0m\n"
      ]
     },
     "metadata": {},
     "output_type": "display_data"
    },
    {
     "data": {
      "text/html": [
       "<pre style=\"white-space:pre;overflow-x:auto;line-height:normal;font-family:Menlo,'DejaVu Sans Mono',consolas,'Courier New',monospace\">\n",
       "</pre>\n"
      ],
      "text/plain": [
       "\n"
      ]
     },
     "metadata": {},
     "output_type": "display_data"
    },
    {
     "data": {
      "text/html": [
       "<pre style=\"white-space:pre;overflow-x:auto;line-height:normal;font-family:Menlo,'DejaVu Sans Mono',consolas,'Courier New',monospace\">Estimated number of clusters: <span style=\"color: #008080; text-decoration-color: #008080; font-weight: bold\">1</span>\n",
       "</pre>\n"
      ],
      "text/plain": [
       "Estimated number of clusters: \u001b[1;36m1\u001b[0m\n"
      ]
     },
     "metadata": {},
     "output_type": "display_data"
    },
    {
     "data": {
      "text/html": [
       "<pre style=\"white-space:pre;overflow-x:auto;line-height:normal;font-family:Menlo,'DejaVu Sans Mono',consolas,'Courier New',monospace\">Estimated number of noise points: <span style=\"color: #008080; text-decoration-color: #008080; font-weight: bold\">0</span>\n",
       "</pre>\n"
      ],
      "text/plain": [
       "Estimated number of noise points: \u001b[1;36m0\u001b[0m\n"
      ]
     },
     "metadata": {},
     "output_type": "display_data"
    },
    {
     "data": {
      "text/html": [
       "<pre style=\"white-space:pre;overflow-x:auto;line-height:normal;font-family:Menlo,'DejaVu Sans Mono',consolas,'Courier New',monospace\"># nearest centroids <span style=\"font-weight: bold\">(</span><span style=\"color: #008080; text-decoration-color: #008080; font-weight: bold\">0.2</span>%<span style=\"font-weight: bold\">)</span>:\n",
       "<span style=\"font-weight: bold\">(</span><span style=\"color: #008080; text-decoration-color: #008080; font-weight: bold\">11</span>, <span style=\"color: #008080; text-decoration-color: #008080; font-weight: bold\">512</span><span style=\"font-weight: bold\">)</span>\n",
       "</pre>\n"
      ],
      "text/plain": [
       "# nearest centroids \u001b[1m(\u001b[0m\u001b[1;36m0.2\u001b[0m%\u001b[1m)\u001b[0m:\n",
       "\u001b[1m(\u001b[0m\u001b[1;36m11\u001b[0m, \u001b[1;36m512\u001b[0m\u001b[1m)\u001b[0m\n"
      ]
     },
     "metadata": {},
     "output_type": "display_data"
    },
    {
     "data": {
      "text/html": [
       "<pre style=\"white-space:pre;overflow-x:auto;line-height:normal;font-family:Menlo,'DejaVu Sans Mono',consolas,'Courier New',monospace\">\n",
       "</pre>\n"
      ],
      "text/plain": [
       "\n"
      ]
     },
     "metadata": {},
     "output_type": "display_data"
    },
    {
     "data": {
      "text/html": [
       "<pre style=\"white-space:pre;overflow-x:auto;line-height:normal;font-family:Menlo,'DejaVu Sans Mono',consolas,'Courier New',monospace\">Estimated number of clusters: <span style=\"color: #008080; text-decoration-color: #008080; font-weight: bold\">1</span>\n",
       "</pre>\n"
      ],
      "text/plain": [
       "Estimated number of clusters: \u001b[1;36m1\u001b[0m\n"
      ]
     },
     "metadata": {},
     "output_type": "display_data"
    },
    {
     "data": {
      "text/html": [
       "<pre style=\"white-space:pre;overflow-x:auto;line-height:normal;font-family:Menlo,'DejaVu Sans Mono',consolas,'Courier New',monospace\">Estimated number of noise points: <span style=\"color: #008080; text-decoration-color: #008080; font-weight: bold\">0</span>\n",
       "</pre>\n"
      ],
      "text/plain": [
       "Estimated number of noise points: \u001b[1;36m0\u001b[0m\n"
      ]
     },
     "metadata": {},
     "output_type": "display_data"
    },
    {
     "data": {
      "text/html": [
       "<pre style=\"white-space:pre;overflow-x:auto;line-height:normal;font-family:Menlo,'DejaVu Sans Mono',consolas,'Courier New',monospace\"># nearest centroids <span style=\"font-weight: bold\">(</span><span style=\"color: #008080; text-decoration-color: #008080; font-weight: bold\">0.54</span>%<span style=\"font-weight: bold\">)</span>:\n",
       "<span style=\"font-weight: bold\">(</span><span style=\"color: #008080; text-decoration-color: #008080; font-weight: bold\">11</span>, <span style=\"color: #008080; text-decoration-color: #008080; font-weight: bold\">512</span><span style=\"font-weight: bold\">)</span>\n",
       "</pre>\n"
      ],
      "text/plain": [
       "# nearest centroids \u001b[1m(\u001b[0m\u001b[1;36m0.54\u001b[0m%\u001b[1m)\u001b[0m:\n",
       "\u001b[1m(\u001b[0m\u001b[1;36m11\u001b[0m, \u001b[1;36m512\u001b[0m\u001b[1m)\u001b[0m\n"
      ]
     },
     "metadata": {},
     "output_type": "display_data"
    },
    {
     "data": {
      "text/html": [
       "<pre style=\"white-space:pre;overflow-x:auto;line-height:normal;font-family:Menlo,'DejaVu Sans Mono',consolas,'Courier New',monospace\">\n",
       "</pre>\n"
      ],
      "text/plain": [
       "\n"
      ]
     },
     "metadata": {},
     "output_type": "display_data"
    },
    {
     "data": {
      "text/html": [
       "<pre style=\"white-space:pre;overflow-x:auto;line-height:normal;font-family:Menlo,'DejaVu Sans Mono',consolas,'Courier New',monospace\">Estimated number of clusters: <span style=\"color: #008080; text-decoration-color: #008080; font-weight: bold\">1</span>\n",
       "</pre>\n"
      ],
      "text/plain": [
       "Estimated number of clusters: \u001b[1;36m1\u001b[0m\n"
      ]
     },
     "metadata": {},
     "output_type": "display_data"
    },
    {
     "data": {
      "text/html": [
       "<pre style=\"white-space:pre;overflow-x:auto;line-height:normal;font-family:Menlo,'DejaVu Sans Mono',consolas,'Courier New',monospace\">Estimated number of noise points: <span style=\"color: #008080; text-decoration-color: #008080; font-weight: bold\">0</span>\n",
       "</pre>\n"
      ],
      "text/plain": [
       "Estimated number of noise points: \u001b[1;36m0\u001b[0m\n"
      ]
     },
     "metadata": {},
     "output_type": "display_data"
    },
    {
     "data": {
      "text/html": [
       "<pre style=\"white-space:pre;overflow-x:auto;line-height:normal;font-family:Menlo,'DejaVu Sans Mono',consolas,'Courier New',monospace\"># nearest centroids <span style=\"font-weight: bold\">(</span><span style=\"color: #008080; text-decoration-color: #008080; font-weight: bold\">0.3</span>%<span style=\"font-weight: bold\">)</span>:\n",
       "<span style=\"font-weight: bold\">(</span><span style=\"color: #008080; text-decoration-color: #008080; font-weight: bold\">11</span>, <span style=\"color: #008080; text-decoration-color: #008080; font-weight: bold\">512</span><span style=\"font-weight: bold\">)</span>\n",
       "</pre>\n"
      ],
      "text/plain": [
       "# nearest centroids \u001b[1m(\u001b[0m\u001b[1;36m0.3\u001b[0m%\u001b[1m)\u001b[0m:\n",
       "\u001b[1m(\u001b[0m\u001b[1;36m11\u001b[0m, \u001b[1;36m512\u001b[0m\u001b[1m)\u001b[0m\n"
      ]
     },
     "metadata": {},
     "output_type": "display_data"
    },
    {
     "data": {
      "text/html": [
       "<pre style=\"white-space:pre;overflow-x:auto;line-height:normal;font-family:Menlo,'DejaVu Sans Mono',consolas,'Courier New',monospace\">\n",
       "</pre>\n"
      ],
      "text/plain": [
       "\n"
      ]
     },
     "metadata": {},
     "output_type": "display_data"
    },
    {
     "data": {
      "text/html": [
       "<pre style=\"white-space:pre;overflow-x:auto;line-height:normal;font-family:Menlo,'DejaVu Sans Mono',consolas,'Courier New',monospace\">Estimated number of clusters: <span style=\"color: #008080; text-decoration-color: #008080; font-weight: bold\">1</span>\n",
       "</pre>\n"
      ],
      "text/plain": [
       "Estimated number of clusters: \u001b[1;36m1\u001b[0m\n"
      ]
     },
     "metadata": {},
     "output_type": "display_data"
    },
    {
     "data": {
      "text/html": [
       "<pre style=\"white-space:pre;overflow-x:auto;line-height:normal;font-family:Menlo,'DejaVu Sans Mono',consolas,'Courier New',monospace\">Estimated number of noise points: <span style=\"color: #008080; text-decoration-color: #008080; font-weight: bold\">0</span>\n",
       "</pre>\n"
      ],
      "text/plain": [
       "Estimated number of noise points: \u001b[1;36m0\u001b[0m\n"
      ]
     },
     "metadata": {},
     "output_type": "display_data"
    },
    {
     "data": {
      "text/html": [
       "<pre style=\"white-space:pre;overflow-x:auto;line-height:normal;font-family:Menlo,'DejaVu Sans Mono',consolas,'Courier New',monospace\"># nearest centroids <span style=\"font-weight: bold\">(</span><span style=\"color: #008080; text-decoration-color: #008080; font-weight: bold\">0.65</span>%<span style=\"font-weight: bold\">)</span>:\n",
       "<span style=\"font-weight: bold\">(</span><span style=\"color: #008080; text-decoration-color: #008080; font-weight: bold\">11</span>, <span style=\"color: #008080; text-decoration-color: #008080; font-weight: bold\">512</span><span style=\"font-weight: bold\">)</span>\n",
       "</pre>\n"
      ],
      "text/plain": [
       "# nearest centroids \u001b[1m(\u001b[0m\u001b[1;36m0.65\u001b[0m%\u001b[1m)\u001b[0m:\n",
       "\u001b[1m(\u001b[0m\u001b[1;36m11\u001b[0m, \u001b[1;36m512\u001b[0m\u001b[1m)\u001b[0m\n"
      ]
     },
     "metadata": {},
     "output_type": "display_data"
    },
    {
     "data": {
      "text/html": [
       "<pre style=\"white-space:pre;overflow-x:auto;line-height:normal;font-family:Menlo,'DejaVu Sans Mono',consolas,'Courier New',monospace\">\n",
       "</pre>\n"
      ],
      "text/plain": [
       "\n"
      ]
     },
     "metadata": {},
     "output_type": "display_data"
    },
    {
     "data": {
      "text/html": [
       "<pre style=\"white-space:pre;overflow-x:auto;line-height:normal;font-family:Menlo,'DejaVu Sans Mono',consolas,'Courier New',monospace\">x_train_knn shape: \n",
       "<span style=\"font-weight: bold\">[</span><span style=\"color: #008080; text-decoration-color: #008080; font-weight: bold\">11</span>, <span style=\"color: #008080; text-decoration-color: #008080; font-weight: bold\">11</span>, <span style=\"color: #008080; text-decoration-color: #008080; font-weight: bold\">11</span>, <span style=\"color: #008080; text-decoration-color: #008080; font-weight: bold\">11</span>, <span style=\"color: #008080; text-decoration-color: #008080; font-weight: bold\">11</span>, <span style=\"color: #008080; text-decoration-color: #008080; font-weight: bold\">11</span><span style=\"font-weight: bold\">]</span>\n",
       "</pre>\n"
      ],
      "text/plain": [
       "x_train_knn shape: \n",
       "\u001b[1m[\u001b[0m\u001b[1;36m11\u001b[0m, \u001b[1;36m11\u001b[0m, \u001b[1;36m11\u001b[0m, \u001b[1;36m11\u001b[0m, \u001b[1;36m11\u001b[0m, \u001b[1;36m11\u001b[0m\u001b[1m]\u001b[0m\n"
      ]
     },
     "metadata": {},
     "output_type": "display_data"
    },
    {
     "data": {
      "text/html": [
       "<pre style=\"white-space:pre;overflow-x:auto;line-height:normal;font-family:Menlo,'DejaVu Sans Mono',consolas,'Courier New',monospace\"><span style=\"font-weight: bold\">(</span><span style=\"color: #008080; text-decoration-color: #008080; font-weight: bold\">66</span>, <span style=\"color: #008080; text-decoration-color: #008080; font-weight: bold\">512</span><span style=\"font-weight: bold\">)</span>\n",
       "</pre>\n"
      ],
      "text/plain": [
       "\u001b[1m(\u001b[0m\u001b[1;36m66\u001b[0m, \u001b[1;36m512\u001b[0m\u001b[1m)\u001b[0m\n"
      ]
     },
     "metadata": {},
     "output_type": "display_data"
    },
    {
     "data": {
      "text/html": [
       "<pre style=\"white-space:pre;overflow-x:auto;line-height:normal;font-family:Menlo,'DejaVu Sans Mono',consolas,'Courier New',monospace\">y_train_knn_total \n",
       "<span style=\"font-weight: bold\">(</span><span style=\"color: #008080; text-decoration-color: #008080; font-weight: bold\">66</span>,<span style=\"font-weight: bold\">)</span>\n",
       "</pre>\n"
      ],
      "text/plain": [
       "y_train_knn_total \n",
       "\u001b[1m(\u001b[0m\u001b[1;36m66\u001b[0m,\u001b[1m)\u001b[0m\n"
      ]
     },
     "metadata": {},
     "output_type": "display_data"
    },
    {
     "data": {
      "text/html": [
       "<pre style=\"white-space:pre;overflow-x:auto;line-height:normal;font-family:Menlo,'DejaVu Sans Mono',consolas,'Courier New',monospace\">\n",
       "</pre>\n"
      ],
      "text/plain": [
       "\n"
      ]
     },
     "metadata": {},
     "output_type": "display_data"
    },
    {
     "data": {
      "text/html": [
       "<pre style=\"white-space:pre;overflow-x:auto;line-height:normal;font-family:Menlo,'DejaVu Sans Mono',consolas,'Courier New',monospace\">Testing\n",
       "</pre>\n"
      ],
      "text/plain": [
       "Testing\n"
      ]
     },
     "metadata": {},
     "output_type": "display_data"
    },
    {
     "data": {
      "text/html": [
       "<pre style=\"white-space:pre;overflow-x:auto;line-height:normal;font-family:Menlo,'DejaVu Sans Mono',consolas,'Courier New',monospace\">x_test shape: \n",
       "<span style=\"font-weight: bold\">[</span><span style=\"color: #008080; text-decoration-color: #008080; font-weight: bold\">1032</span>, <span style=\"color: #008080; text-decoration-color: #008080; font-weight: bold\">231</span>, <span style=\"color: #008080; text-decoration-color: #008080; font-weight: bold\">1349</span>, <span style=\"color: #008080; text-decoration-color: #008080; font-weight: bold\">512</span>, <span style=\"color: #008080; text-decoration-color: #008080; font-weight: bold\">904</span>, <span style=\"color: #008080; text-decoration-color: #008080; font-weight: bold\">424</span><span style=\"font-weight: bold\">]</span>\n",
       "</pre>\n"
      ],
      "text/plain": [
       "x_test shape: \n",
       "\u001b[1m[\u001b[0m\u001b[1;36m1032\u001b[0m, \u001b[1;36m231\u001b[0m, \u001b[1;36m1349\u001b[0m, \u001b[1;36m512\u001b[0m, \u001b[1;36m904\u001b[0m, \u001b[1;36m424\u001b[0m\u001b[1m]\u001b[0m\n"
      ]
     },
     "metadata": {},
     "output_type": "display_data"
    },
    {
     "data": {
      "text/html": [
       "<pre style=\"white-space:pre;overflow-x:auto;line-height:normal;font-family:Menlo,'DejaVu Sans Mono',consolas,'Courier New',monospace\">x_test_total \n",
       "<span style=\"font-weight: bold\">(</span><span style=\"color: #008080; text-decoration-color: #008080; font-weight: bold\">4452</span>, <span style=\"color: #008080; text-decoration-color: #008080; font-weight: bold\">512</span><span style=\"font-weight: bold\">)</span>\n",
       "</pre>\n"
      ],
      "text/plain": [
       "x_test_total \n",
       "\u001b[1m(\u001b[0m\u001b[1;36m4452\u001b[0m, \u001b[1;36m512\u001b[0m\u001b[1m)\u001b[0m\n"
      ]
     },
     "metadata": {},
     "output_type": "display_data"
    },
    {
     "data": {
      "text/html": [
       "<pre style=\"white-space:pre;overflow-x:auto;line-height:normal;font-family:Menlo,'DejaVu Sans Mono',consolas,'Courier New',monospace\">y_test_total \n",
       "<span style=\"font-weight: bold\">(</span><span style=\"color: #008080; text-decoration-color: #008080; font-weight: bold\">4452</span>,<span style=\"font-weight: bold\">)</span>\n",
       "</pre>\n"
      ],
      "text/plain": [
       "y_test_total \n",
       "\u001b[1m(\u001b[0m\u001b[1;36m4452\u001b[0m,\u001b[1m)\u001b[0m\n"
      ]
     },
     "metadata": {},
     "output_type": "display_data"
    },
    {
     "name": "stdout",
     "output_type": "stream",
     "text": [
      "CPU times: user 56.7 s, sys: 1min 21s, total: 2min 17s\n",
      "Wall time: 2.88 s\n"
     ]
    }
   ],
   "source": [
    "%%time\n",
    "print(\"Training data knn\")\n",
    "x_train_knn_total = [get_nearest_embedding_centroids(task, n_neighbors=10) for task in all_x_train_emb]\n",
    "print(\"x_train_knn shape: \", [e.shape[0] for e in x_train_knn_total])\n",
    "y_train_knn_total = [all_t_train[i][:x_train_knn_total[i].shape[0]] for i in range(len(all_t_train))]\n",
    "x_train_knn_total = np.vstack(x_train_knn_total)\n",
    "y_train_knn_total = np.hstack(y_train_knn_total)\n",
    "print(x_train_knn_total.shape)\n",
    "print(\"y_train_knn_total \", y_train_knn_total.shape)\n",
    "\n",
    "print()\n",
    "print(\"Testing\")\n",
    "print(\"x_test shape: \", [e.shape[0] for e in all_x_test_emb])\n",
    "x_test_total = np.vstack(all_x_test_emb)\n",
    "y_test_total = np.hstack(all_t_test)\n",
    "print(\"x_test_total \", x_test_total.shape)\n",
    "print(\"y_test_total \", y_test_total.shape)"
   ]
  },
  {
   "cell_type": "code",
   "execution_count": 55,
   "id": "3507a494-7398-4710-8bca-23874746a2f8",
   "metadata": {},
   "outputs": [
    {
     "data": {
      "text/html": [
       "<pre style=\"white-space:pre;overflow-x:auto;line-height:normal;font-family:Menlo,'DejaVu Sans Mono',consolas,'Courier New',monospace\">score training knn: <span style=\"color: #008080; text-decoration-color: #008080; font-weight: bold\">0.9848484848484849</span>\n",
       "</pre>\n"
      ],
      "text/plain": [
       "score training knn: \u001b[1;36m0.9848484848484849\u001b[0m\n"
      ]
     },
     "metadata": {},
     "output_type": "display_data"
    },
    {
     "data": {
      "text/html": [
       "<pre style=\"white-space:pre;overflow-x:auto;line-height:normal;font-family:Menlo,'DejaVu Sans Mono',consolas,'Courier New',monospace\">score testing: <span style=\"color: #008080; text-decoration-color: #008080; font-weight: bold\">0.511455525606469</span>\n",
       "</pre>\n"
      ],
      "text/plain": [
       "score testing: \u001b[1;36m0.511455525606469\u001b[0m\n"
      ]
     },
     "metadata": {},
     "output_type": "display_data"
    }
   ],
   "source": [
    "# from sklearn.neighbors import NearestCentroid\n",
    "# from sklearn.preprocessing import StandardScaler\n",
    "\n",
    "# def scale_data(x_train, x_test):\n",
    "#     scaler = StandardScaler()\n",
    "#     scaler.fit(x_train)\n",
    "#     x_train_scaled = scaler.transform(x_train)\n",
    "#     x_test_scaled = scaler.transform(x_test)\n",
    "#     return x_train_scaled, x_test_scaled\n",
    "\n",
    "# x_train_scaled, x_test_scaled = scale_data(x_train_knn_total, x_test_total)\n",
    "\n",
    "clf = NearestCentroid(metric='manhattan')\n",
    "clf = clf.fit(x_train_knn_total, y_train_knn_total)\n",
    "print(f\"score training knn: {clf.score(x_train_knn_total, y_train_knn_total)}\")\n",
    "print(f\"score testing: {clf.score(x_test_total, y_test_total)}\")\n"
   ]
  },
  {
   "cell_type": "code",
   "execution_count": 13,
   "id": "35b830db-c50e-4b83-b4f7-07d7a2c5ce54",
   "metadata": {},
   "outputs": [
    {
     "data": {
      "image/png": "[encoded data removed]",
      "text/plain": [
       "<Figure size 432x288 with 2 Axes>"
      ]
     },
     "metadata": {
      "needs_background": "light"
     },
     "output_type": "display_data"
    }
   ],
   "source": [
    "from sklearn.metrics import ConfusionMatrixDisplay, confusion_matrix\n",
    "import matplotlib.pyplot as plt\n",
    "# plot_confusion_matrix(clf, x_val_total, y_val_total)  \n",
    "predictions = clf.predict(x_test_total)\n",
    "cm = confusion_matrix(y_test_total, predictions, labels=clf.classes_)\n",
    "disp = ConfusionMatrixDisplay(confusion_matrix=cm,\n",
    "                             display_labels=clf.classes_)\n",
    "\n",
    "disp.plot()\n",
    "plt.title(f\"SODA(n_tasks=6) | Accuracy: {round(clf.score(x_test_total, y_test_total), 2)}%\")\n",
    "plt.show();"
   ]
  },
  {
   "cell_type": "markdown",
   "id": "3313a955-f42f-4565-a275-6244ebf85d27",
   "metadata": {},
   "source": [
    "## Utils for the incremental task classifier"
   ]
  },
  {
   "cell_type": "code",
   "execution_count": 132,
   "id": "ed74f54e-435a-45e8-a69c-be43ad56a64a",
   "metadata": {},
   "outputs": [],
   "source": [
    "import statistics as st\n",
    "\n",
    "def get_task_classifier(memory):\n",
    "    print(\"Getting Task Classifier\")\n",
    "\n",
    "    if len(memory) < 2:\n",
    "        return None\n",
    "\n",
    "    x_train_knn_total = np.vstack([_x_train.nearest_centroids for _x_train in memory])\n",
    "    y_train_knn_total = np.hstack([np.repeat(mem.task, len(mem.nearest_centroids)) for mem in memory])\n",
    "\n",
    "    print(\"x_train_knn_total shape: \", x_train_knn_total.shape)\n",
    "    print(\"y_train_knn_total shape\", y_train_knn_total.shape)\n",
    "\n",
    "    task_classifier = NearestCentroid(metric='manhattan')\n",
    "    task_classifier = task_classifier.fit(x_train_knn_total, y_train_knn_total)\n",
    "\n",
    "    \n",
    "    return task_classifier\n",
    "\n",
    "    \n",
    "def get_benchmark_method(task_classifier, benchmark_method_train_stream, benchmark_method_test_stream, benchmark_test_stream, \n",
    "                         new_training, new_testing, task=0):\n",
    "\n",
    "    x_test_emb, y_test, t_test = get_embeddings(benchmark_method_test_stream[task].dataset)\n",
    "\n",
    "    if task_classifier:\n",
    "        print(\"Using the classifier:\")\n",
    "        task_labels = task_classifier.predict(x_test_emb)\n",
    "        print(\"Count predictions: \", dict(zip(*np.unique(task_labels, return_counts=True))))\n",
    "        print(\"Using the mode to get the most voted prediction:\")\n",
    "        mode = st.mode(task_labels)\n",
    "        task_labels = np.repeat(mode, len(task_labels))\n",
    "        print(\"Count predictions after: \", dict(zip(*np.unique(task_labels, return_counts=True))))\n",
    "    else:\n",
    "        print(\"Fist scenario: Task ID=\", task)\n",
    "        task_labels = np.repeat(task, len(benchmark_method_test_stream[task].dataset))\n",
    "    print(f\"Predictions: {np.random.choice(task_labels, 10)}\")\n",
    "    print(f\"Predictions shape: {task_labels.shape}\")\n",
    "\n",
    "    new_training.append(benchmark_method_train_stream[task].dataset)\n",
    "    new_testing.append(make_classification_dataset(benchmark_test_stream[task].dataset, task_labels=task_labels))\n",
    "\n",
    "    benchmark_custom = dataset_benchmark(\n",
    "        new_training, # will be ignored\n",
    "        new_testing\n",
    "    )\n",
    "\n",
    "    return benchmark_custom"
   ]
  },
  {
   "cell_type": "markdown",
   "id": "7569378b-0d85-49f9-bfea-6af1bb248bdd",
   "metadata": {},
   "source": [
    "## Definition of Memory, Drift and Sequences"
   ]
  },
  {
   "cell_type": "markdown",
   "id": "e5ec0daf-d05c-4682-8946-7d0e5fc75f71",
   "metadata": {},
   "source": [
    "### Memory"
   ]
  },
  {
   "cell_type": "code",
   "execution_count": 85,
   "id": "2f12b6e9-fe74-4e21-b2b9-43eb52474a36",
   "metadata": {},
   "outputs": [],
   "source": [
    "from dataclasses import dataclass, InitVar\n",
    "from typing import List\n",
    "from alibi_detect.cd import MMDDrift\n",
    "\n",
    "@dataclass\n",
    "class Memory:\n",
    "    task: int\n",
    "    shape: List = None\n",
    "    nearest_centroids: InitVar[List] = None\n",
    "    def __post_init__(self, points):\n",
    "        self.nearest_centroids = points\n",
    "        self.shape = self.nearest_centroids.shape"
   ]
  },
  {
   "cell_type": "markdown",
   "id": "f86e33d6-faed-4c48-aae6-ea3ccad94ae5",
   "metadata": {},
   "source": [
    "### Drift"
   ]
  },
  {
   "cell_type": "code",
   "execution_count": null,
   "id": "61c7bf95-5e35-4b64-a9d6-9725c1b1d695",
   "metadata": {},
   "outputs": [],
   "source": [
    "def get_drift(x_ref, x_new):\n",
    "    drift_detector = MMDDrift(x_ref, backend='pytorch', device=device)\n",
    "    preds = drift_detector.predict(x_new)\n",
    "    # drift = preds['data']['is_drift']\n",
    "    drift = 0 if preds['data']['distance'] < 0 else 1\n",
    "    print(f\"Drift = {drift}\")\n",
    "\n",
    "    return drift"
   ]
  },
  {
   "cell_type": "markdown",
   "id": "c4358bf1-7f9a-4e25-81e4-e9e60a1aa85d",
   "metadata": {},
   "source": [
    "### Sequences"
   ]
  },
  {
   "cell_type": "code",
   "execution_count": null,
   "id": "b034115d-d6d7-45c8-8efb-1c39955d427f",
   "metadata": {},
   "outputs": [],
   "source": [
    "def get_sequence(sequence, stream):\n",
    "    return [stream[i] for i in sequence]\n",
    "sequence = [0, 1, 1, 2]\n",
    "stream_seq = get_sequence(sequence, benchmark_method.train_stream)\n",
    "stream_seq"
   ]
  },
  {
   "cell_type": "code",
   "execution_count": 109,
   "id": "1c2bc6f8-cd8e-49dd-a638-adc3b2f49b7d",
   "metadata": {},
   "outputs": [
    {
     "data": {
      "text/plain": [
       "tensor(True)"
      ]
     },
     "execution_count": 109,
     "metadata": {},
     "output_type": "execute_result"
    }
   ],
   "source": [
    "torch.all(stream_seq[1].dataset[0][0] == stream_seq[2].dataset[0][0])"
   ]
  },
  {
   "cell_type": "markdown",
   "id": "18e638cc-5475-4ab6-98e6-45f3ddabd097",
   "metadata": {},
   "source": [
    "## Prepare the strategies to run"
   ]
  },
  {
   "cell_type": "code",
   "execution_count": null,
   "id": "d4552878-a54d-4ccd-b254-87b4e63b4cb0",
   "metadata": {},
   "outputs": [],
   "source": [
    "def get_strategy(strategy_name, model, optimizer, criterion):\n",
    "    n_epochs = 3\n",
    "    strategies = {\n",
    "        'EWC': EWC( #Regularization-based method\n",
    "            model=model,\n",
    "            optimizer=optimizer,\n",
    "            criterion=criterion,\n",
    "            train_mb_size=200,\n",
    "            train_epochs=n_epochs,\n",
    "            eval_mb_size=200,\n",
    "            device=device,\n",
    "            evaluator=eval_plugin,\n",
    "            ewc_lambda=0.2,\n",
    "        ),\n",
    "        'Replay': Replay( #Rehearsal-based method\n",
    "            model=model,\n",
    "            optimizer=optimizer,\n",
    "            criterion=criterion,\n",
    "            train_mb_size=200,\n",
    "            train_epochs=n_epochs,\n",
    "            eval_mb_size=200,\n",
    "            device=device,\n",
    "            evaluator=eval_plugin,\n",
    "            mem_size=2000,\n",
    "        ),\n",
    "        'LwF': LwF( #Architecture-based method\n",
    "            model,\n",
    "            optimizer,\n",
    "            criterion,\n",
    "            alpha=0.5,\n",
    "            temperature=0.2,\n",
    "            train_epochs=n_epochs,\n",
    "            device=device,\n",
    "            train_mb_size=200,\n",
    "            eval_mb_size=200,\n",
    "            evaluator=eval_plugin,\n",
    "        ),\n",
    "    }\n",
    "\n",
    "    return strategies[strategy_name]"
   ]
  },
  {
   "cell_type": "markdown",
   "id": "ab6a2931-80da-4ef6-9396-7d7e946a84d6",
   "metadata": {},
   "source": [
    "## Prepare and run the experiments"
   ]
  },
  {
   "cell_type": "code",
   "execution_count": 219,
   "id": "5b2f3998-9d12-46f7-a2e1-5067d21cecc4",
   "metadata": {
    "collapsed": true,
    "jupyter": {
     "outputs_hidden": true
    },
    "tags": []
   },
   "outputs": [
    {
     "data": {
      "text/html": [
       "<pre style=\"white-space:pre;overflow-x:auto;line-height:normal;font-family:Menlo,'DejaVu Sans Mono',consolas,'Courier New',monospace\">Length training: <span style=\"color: #008080; text-decoration-color: #008080; font-weight: bold\">4125</span>\n",
       "</pre>\n"
      ],
      "text/plain": [
       "Length training: \u001b[1;36m4125\u001b[0m\n"
      ]
     },
     "metadata": {},
     "output_type": "display_data"
    },
    {
     "data": {
      "text/html": [
       "<pre style=\"white-space:pre;overflow-x:auto;line-height:normal;font-family:Menlo,'DejaVu Sans Mono',consolas,'Courier New',monospace\">Length testing: <span style=\"color: #008080; text-decoration-color: #008080; font-weight: bold\">1032</span>\n",
       "</pre>\n"
      ],
      "text/plain": [
       "Length testing: \u001b[1;36m1032\u001b[0m\n"
      ]
     },
     "metadata": {},
     "output_type": "display_data"
    },
    {
     "data": {
      "text/html": [
       "<pre style=\"white-space:pre;overflow-x:auto;line-height:normal;font-family:Menlo,'DejaVu Sans Mono',consolas,'Courier New',monospace\">--------------------------------------------------\n",
       "</pre>\n"
      ],
      "text/plain": [
       "--------------------------------------------------\n"
      ]
     },
     "metadata": {},
     "output_type": "display_data"
    },
    {
     "name": "stderr",
     "output_type": "stream",
     "text": [
      "/opt/intel/oneapi/intelpython/latest/envs/pytorch/lib/python3.9/site-packages/torchvision/models/_utils.py:223: UserWarning: Arguments other than a weight enum or `None` for 'weights' are deprecated since 0.13 and will be removed in 0.15. The current behavior is equivalent to passing `weights=ResNet18_Weights.IMAGENET1K_V1`. You can also use `weights=ResNet18_Weights.DEFAULT` to get the most up-to-date weights.\n",
      "  warnings.warn(msg)\n"
     ]
    },
    {
     "data": {
      "text/html": [
       "<pre style=\"white-space:pre;overflow-x:auto;line-height:normal;font-family:Menlo,'DejaVu Sans Mono',consolas,'Courier New',monospace\">Running strategy: <span style=\"font-weight: bold\">&lt;</span><span style=\"color: #ff00ff; text-decoration-color: #ff00ff; font-weight: bold\">avalanche.training.supervised.strategy_wrappers.LwF</span><span style=\"color: #000000; text-decoration-color: #000000\"> object at </span><span style=\"color: #008080; text-decoration-color: #008080; font-weight: bold\">0x7f1c6d04f550</span><span style=\"font-weight: bold\">&gt;</span>, experiment: <span style=\"color: #008080; text-decoration-color: #008080; font-weight: bold\">0</span>\n",
       "</pre>\n"
      ],
      "text/plain": [
       "Running strategy: \u001b[1m<\u001b[0m\u001b[1;95mavalanche.training.supervised.strategy_wrappers.LwF\u001b[0m\u001b[39m object at \u001b[0m\u001b[1;36m0x7f1c6d04f550\u001b[0m\u001b[1m>\u001b[0m, experiment: \u001b[1;36m0\u001b[0m\n"
      ]
     },
     "metadata": {},
     "output_type": "display_data"
    },
    {
     "data": {
      "text/html": [
       "<pre style=\"white-space:pre;overflow-x:auto;line-height:normal;font-family:Menlo,'DejaVu Sans Mono',consolas,'Courier New',monospace\">Sequence: <span style=\"font-weight: bold\">[</span><span style=\"color: #008080; text-decoration-color: #008080; font-weight: bold\">0</span>, <span style=\"color: #008080; text-decoration-color: #008080; font-weight: bold\">1</span>, <span style=\"color: #008080; text-decoration-color: #008080; font-weight: bold\">2</span>, <span style=\"color: #008080; text-decoration-color: #008080; font-weight: bold\">1</span>, <span style=\"color: #008080; text-decoration-color: #008080; font-weight: bold\">3</span>, <span style=\"color: #008080; text-decoration-color: #008080; font-weight: bold\">3</span>, <span style=\"color: #008080; text-decoration-color: #008080; font-weight: bold\">4</span>, <span style=\"color: #008080; text-decoration-color: #008080; font-weight: bold\">5</span><span style=\"font-weight: bold\">]</span>\n",
       "</pre>\n"
      ],
      "text/plain": [
       "Sequence: \u001b[1m[\u001b[0m\u001b[1;36m0\u001b[0m, \u001b[1;36m1\u001b[0m, \u001b[1;36m2\u001b[0m, \u001b[1;36m1\u001b[0m, \u001b[1;36m3\u001b[0m, \u001b[1;36m3\u001b[0m, \u001b[1;36m4\u001b[0m, \u001b[1;36m5\u001b[0m\u001b[1m]\u001b[0m\n"
      ]
     },
     "metadata": {},
     "output_type": "display_data"
    },
    {
     "data": {
      "text/html": [
       "<pre style=\"white-space:pre;overflow-x:auto;line-height:normal;font-family:Menlo,'DejaVu Sans Mono',consolas,'Courier New',monospace\">Current experience:  <span style=\"color: #008080; text-decoration-color: #008080; font-weight: bold\">0</span>\n",
       "</pre>\n"
      ],
      "text/plain": [
       "Current experience:  \u001b[1;36m0\u001b[0m\n"
      ]
     },
     "metadata": {},
     "output_type": "display_data"
    },
    {
     "data": {
      "text/html": [
       "<pre style=\"white-space:pre;overflow-x:auto;line-height:normal;font-family:Menlo,'DejaVu Sans Mono',consolas,'Courier New',monospace\">Experience task ID  <span style=\"color: #008080; text-decoration-color: #008080; font-weight: bold\">0</span>\n",
       "</pre>\n"
      ],
      "text/plain": [
       "Experience task ID  \u001b[1;36m0\u001b[0m\n"
      ]
     },
     "metadata": {},
     "output_type": "display_data"
    },
    {
     "data": {
      "text/html": [
       "<pre style=\"white-space:pre;overflow-x:auto;line-height:normal;font-family:Menlo,'DejaVu Sans Mono',consolas,'Courier New',monospace\">Experience shape: <span style=\"color: #008080; text-decoration-color: #008080; font-weight: bold\">4125</span>\n",
       "</pre>\n"
      ],
      "text/plain": [
       "Experience shape: \u001b[1;36m4125\u001b[0m\n"
      ]
     },
     "metadata": {},
     "output_type": "display_data"
    },
    {
     "data": {
      "text/html": [
       "<pre style=\"white-space:pre;overflow-x:auto;line-height:normal;font-family:Menlo,'DejaVu Sans Mono',consolas,'Courier New',monospace\">Estimated number of clusters: <span style=\"color: #008080; text-decoration-color: #008080; font-weight: bold\">1</span>\n",
       "</pre>\n"
      ],
      "text/plain": [
       "Estimated number of clusters: \u001b[1;36m1\u001b[0m\n"
      ]
     },
     "metadata": {},
     "output_type": "display_data"
    },
    {
     "data": {
      "text/html": [
       "<pre style=\"white-space:pre;overflow-x:auto;line-height:normal;font-family:Menlo,'DejaVu Sans Mono',consolas,'Courier New',monospace\">Estimated number of noise points: <span style=\"color: #008080; text-decoration-color: #008080; font-weight: bold\">0</span>\n",
       "</pre>\n"
      ],
      "text/plain": [
       "Estimated number of noise points: \u001b[1;36m0\u001b[0m\n"
      ]
     },
     "metadata": {},
     "output_type": "display_data"
    },
    {
     "data": {
      "text/html": [
       "<pre style=\"white-space:pre;overflow-x:auto;line-height:normal;font-family:Menlo,'DejaVu Sans Mono',consolas,'Courier New',monospace\"># nearest centroids <span style=\"font-weight: bold\">(</span><span style=\"color: #008080; text-decoration-color: #008080; font-weight: bold\">0.27</span>%<span style=\"font-weight: bold\">)</span>:\n",
       "<span style=\"font-weight: bold\">(</span><span style=\"color: #008080; text-decoration-color: #008080; font-weight: bold\">11</span>, <span style=\"color: #008080; text-decoration-color: #008080; font-weight: bold\">512</span><span style=\"font-weight: bold\">)</span>\n",
       "</pre>\n"
      ],
      "text/plain": [
       "# nearest centroids \u001b[1m(\u001b[0m\u001b[1;36m0.27\u001b[0m%\u001b[1m)\u001b[0m:\n",
       "\u001b[1m(\u001b[0m\u001b[1;36m11\u001b[0m, \u001b[1;36m512\u001b[0m\u001b[1m)\u001b[0m\n"
      ]
     },
     "metadata": {},
     "output_type": "display_data"
    },
    {
     "data": {
      "text/html": [
       "<pre style=\"white-space:pre;overflow-x:auto;line-height:normal;font-family:Menlo,'DejaVu Sans Mono',consolas,'Courier New',monospace\">\n",
       "</pre>\n"
      ],
      "text/plain": [
       "\n"
      ]
     },
     "metadata": {},
     "output_type": "display_data"
    },
    {
     "data": {
      "text/html": [
       "<pre style=\"white-space:pre;overflow-x:auto;line-height:normal;font-family:Menlo,'DejaVu Sans Mono',consolas,'Courier New',monospace\">Saving nearest centroids into Memory\n",
       "</pre>\n"
      ],
      "text/plain": [
       "Saving nearest centroids into Memory\n"
      ]
     },
     "metadata": {},
     "output_type": "display_data"
    },
    {
     "data": {
      "text/html": [
       "<pre style=\"white-space:pre;overflow-x:auto;line-height:normal;font-family:Menlo,'DejaVu Sans Mono',consolas,'Courier New',monospace\">Memory:\n",
       "<span style=\"font-weight: bold\">[</span><span style=\"color: #800080; text-decoration-color: #800080; font-weight: bold\">Memory</span><span style=\"font-weight: bold\">(</span><span style=\"color: #808000; text-decoration-color: #808000\">task</span>=<span style=\"color: #008080; text-decoration-color: #008080; font-weight: bold\">0</span>, <span style=\"color: #808000; text-decoration-color: #808000\">shape</span>=<span style=\"font-weight: bold\">(</span><span style=\"color: #008080; text-decoration-color: #008080; font-weight: bold\">11</span>, <span style=\"color: #008080; text-decoration-color: #008080; font-weight: bold\">512</span><span style=\"font-weight: bold\">))]</span>\n",
       "</pre>\n"
      ],
      "text/plain": [
       "Memory:\n",
       "\u001b[1m[\u001b[0m\u001b[1;35mMemory\u001b[0m\u001b[1m(\u001b[0m\u001b[33mtask\u001b[0m=\u001b[1;36m0\u001b[0m, \u001b[33mshape\u001b[0m=\u001b[1m(\u001b[0m\u001b[1;36m11\u001b[0m, \u001b[1;36m512\u001b[0m\u001b[1m)\u001b[0m\u001b[1m)\u001b[0m\u001b[1m]\u001b[0m\n"
      ]
     },
     "metadata": {},
     "output_type": "display_data"
    },
    {
     "data": {
      "text/html": [
       "<pre style=\"white-space:pre;overflow-x:auto;line-height:normal;font-family:Menlo,'DejaVu Sans Mono',consolas,'Courier New',monospace\">Memory tasks: <span style=\"font-weight: bold\">[</span><span style=\"color: #008080; text-decoration-color: #008080; font-weight: bold\">0</span><span style=\"font-weight: bold\">]</span>\n",
       "</pre>\n"
      ],
      "text/plain": [
       "Memory tasks: \u001b[1m[\u001b[0m\u001b[1;36m0\u001b[0m\u001b[1m]\u001b[0m\n"
      ]
     },
     "metadata": {},
     "output_type": "display_data"
    },
    {
     "data": {
      "text/html": [
       "<pre style=\"white-space:pre;overflow-x:auto;line-height:normal;font-family:Menlo,'DejaVu Sans Mono',consolas,'Courier New',monospace\">Training multi-head model\n",
       "</pre>\n"
      ],
      "text/plain": [
       "Training multi-head model\n"
      ]
     },
     "metadata": {},
     "output_type": "display_data"
    },
    {
     "name": "stdout",
     "output_type": "stream",
     "text": [
      "-- >> Start of training phase << --\n",
      "100%|██████████| 21/21 [00:18<00:00,  1.14it/s]\n",
      "Epoch 0 ended.\n",
      "100%|██████████| 21/21 [00:18<00:00,  1.12it/s]\n",
      "Epoch 1 ended.\n",
      "100%|██████████| 21/21 [00:42<00:00,  2.05s/it]\n",
      "Epoch 2 ended.\n",
      "-- >> End of training phase << --\n"
     ]
    },
    {
     "data": {
      "text/html": [
       "<pre style=\"white-space:pre;overflow-x:auto;line-height:normal;font-family:Menlo,'DejaVu Sans Mono',consolas,'Courier New',monospace\">Training multi-head model completed\n",
       "</pre>\n"
      ],
      "text/plain": [
       "Training multi-head model completed\n"
      ]
     },
     "metadata": {},
     "output_type": "display_data"
    },
    {
     "data": {
      "text/html": [
       "<pre style=\"white-space:pre;overflow-x:auto;line-height:normal;font-family:Menlo,'DejaVu Sans Mono',consolas,'Courier New',monospace\">Getting Task Classifier\n",
       "</pre>\n"
      ],
      "text/plain": [
       "Getting Task Classifier\n"
      ]
     },
     "metadata": {},
     "output_type": "display_data"
    },
    {
     "data": {
      "text/html": [
       "<pre style=\"white-space:pre;overflow-x:auto;line-height:normal;font-family:Menlo,'DejaVu Sans Mono',consolas,'Courier New',monospace\">Fist scenario: Task <span style=\"color: #808000; text-decoration-color: #808000\">ID</span>= <span style=\"color: #008080; text-decoration-color: #008080; font-weight: bold\">0</span>\n",
       "</pre>\n"
      ],
      "text/plain": [
       "Fist scenario: Task \u001b[33mID\u001b[0m= \u001b[1;36m0\u001b[0m\n"
      ]
     },
     "metadata": {},
     "output_type": "display_data"
    },
    {
     "data": {
      "text/html": [
       "<pre style=\"white-space:pre;overflow-x:auto;line-height:normal;font-family:Menlo,'DejaVu Sans Mono',consolas,'Courier New',monospace\">Predictions: <span style=\"font-weight: bold\">[</span><span style=\"color: #008080; text-decoration-color: #008080; font-weight: bold\">0</span> <span style=\"color: #008080; text-decoration-color: #008080; font-weight: bold\">0</span> <span style=\"color: #008080; text-decoration-color: #008080; font-weight: bold\">0</span> <span style=\"color: #008080; text-decoration-color: #008080; font-weight: bold\">0</span> <span style=\"color: #008080; text-decoration-color: #008080; font-weight: bold\">0</span> <span style=\"color: #008080; text-decoration-color: #008080; font-weight: bold\">0</span> <span style=\"color: #008080; text-decoration-color: #008080; font-weight: bold\">0</span> <span style=\"color: #008080; text-decoration-color: #008080; font-weight: bold\">0</span> <span style=\"color: #008080; text-decoration-color: #008080; font-weight: bold\">0</span> <span style=\"color: #008080; text-decoration-color: #008080; font-weight: bold\">0</span><span style=\"font-weight: bold\">]</span>\n",
       "</pre>\n"
      ],
      "text/plain": [
       "Predictions: \u001b[1m[\u001b[0m\u001b[1;36m0\u001b[0m \u001b[1;36m0\u001b[0m \u001b[1;36m0\u001b[0m \u001b[1;36m0\u001b[0m \u001b[1;36m0\u001b[0m \u001b[1;36m0\u001b[0m \u001b[1;36m0\u001b[0m \u001b[1;36m0\u001b[0m \u001b[1;36m0\u001b[0m \u001b[1;36m0\u001b[0m\u001b[1m]\u001b[0m\n"
      ]
     },
     "metadata": {},
     "output_type": "display_data"
    },
    {
     "data": {
      "text/html": [
       "<pre style=\"white-space:pre;overflow-x:auto;line-height:normal;font-family:Menlo,'DejaVu Sans Mono',consolas,'Courier New',monospace\">Predictions shape: <span style=\"font-weight: bold\">(</span><span style=\"color: #008080; text-decoration-color: #008080; font-weight: bold\">1032</span>,<span style=\"font-weight: bold\">)</span>\n",
       "</pre>\n"
      ],
      "text/plain": [
       "Predictions shape: \u001b[1m(\u001b[0m\u001b[1;36m1032\u001b[0m,\u001b[1m)\u001b[0m\n"
      ]
     },
     "metadata": {},
     "output_type": "display_data"
    },
    {
     "data": {
      "text/html": [
       "<pre style=\"white-space:pre;overflow-x:auto;line-height:normal;font-family:Menlo,'DejaVu Sans Mono',consolas,'Courier New',monospace\">Evaluation benchmark: Ground Truth\n",
       "</pre>\n"
      ],
      "text/plain": [
       "Evaluation benchmark: Ground Truth\n"
      ]
     },
     "metadata": {},
     "output_type": "display_data"
    },
    {
     "name": "stdout",
     "output_type": "stream",
     "text": [
      "-- >> Start of eval phase << --\n",
      "-- Starting eval on experience 0 (Task 0) from test stream --\n",
      "100%|██████████| 6/6 [00:06<00:00,  1.07s/it]\n",
      "> Eval on experience 0 (Task 0) from test stream ended.\n",
      "\tTop1_Acc_Exp/eval_phase/test_stream/Task000/Exp000 = 0.5378\n",
      "-- >> End of eval phase << --\n"
     ]
    },
    {
     "data": {
      "text/html": [
       "<pre style=\"white-space:pre;overflow-x:auto;line-height:normal;font-family:Menlo,'DejaVu Sans Mono',consolas,'Courier New',monospace\">Evaluation benchmark: TADIL\n",
       "</pre>\n"
      ],
      "text/plain": [
       "Evaluation benchmark: TADIL\n"
      ]
     },
     "metadata": {},
     "output_type": "display_data"
    },
    {
     "name": "stdout",
     "output_type": "stream",
     "text": [
      "-- >> Start of eval phase << --\n",
      "-- Starting eval on experience 0 (Task 0) from test stream --\n",
      "100%|██████████| 6/6 [00:06<00:00,  1.09s/it]\n",
      "> Eval on experience 0 (Task 0) from test stream ended.\n",
      "\tTop1_Acc_Exp/eval_phase/test_stream/Task000/Exp000 = 0.5378\n",
      "-- >> End of eval phase << --\n"
     ]
    },
    {
     "data": {
      "text/html": [
       "<pre style=\"white-space:pre;overflow-x:auto;line-height:normal;font-family:Menlo,'DejaVu Sans Mono',consolas,'Courier New',monospace\">Evaluation benchmark: Normal\n",
       "</pre>\n"
      ],
      "text/plain": [
       "Evaluation benchmark: Normal\n"
      ]
     },
     "metadata": {},
     "output_type": "display_data"
    },
    {
     "name": "stdout",
     "output_type": "stream",
     "text": [
      "-- >> Start of eval phase << --\n",
      "-- Starting eval on experience 0 (Task 0) from test stream --\n",
      "100%|██████████| 6/6 [00:06<00:00,  1.07s/it]\n",
      "> Eval on experience 0 (Task 0) from test stream ended.\n",
      "\tTop1_Acc_Exp/eval_phase/test_stream/Task000/Exp000 = 0.5378\n",
      "-- >> End of eval phase << --\n"
     ]
    },
    {
     "data": {
      "text/html": [
       "<pre style=\"white-space:pre;overflow-x:auto;line-height:normal;font-family:Menlo,'DejaVu Sans Mono',consolas,'Courier New',monospace\">----------------------------------------\n",
       "</pre>\n"
      ],
      "text/plain": [
       "----------------------------------------\n"
      ]
     },
     "metadata": {},
     "output_type": "display_data"
    },
    {
     "data": {
      "text/html": [
       "<pre style=\"white-space:pre;overflow-x:auto;line-height:normal;font-family:Menlo,'DejaVu Sans Mono',consolas,'Courier New',monospace\">\n",
       "</pre>\n"
      ],
      "text/plain": [
       "\n"
      ]
     },
     "metadata": {},
     "output_type": "display_data"
    },
    {
     "data": {
      "text/html": [
       "<pre style=\"white-space:pre;overflow-x:auto;line-height:normal;font-family:Menlo,'DejaVu Sans Mono',consolas,'Courier New',monospace\">Current experience:  <span style=\"color: #008080; text-decoration-color: #008080; font-weight: bold\">1</span>\n",
       "</pre>\n"
      ],
      "text/plain": [
       "Current experience:  \u001b[1;36m1\u001b[0m\n"
      ]
     },
     "metadata": {},
     "output_type": "display_data"
    },
    {
     "data": {
      "text/html": [
       "<pre style=\"white-space:pre;overflow-x:auto;line-height:normal;font-family:Menlo,'DejaVu Sans Mono',consolas,'Courier New',monospace\">Experience task ID  <span style=\"color: #008080; text-decoration-color: #008080; font-weight: bold\">1</span>\n",
       "</pre>\n"
      ],
      "text/plain": [
       "Experience task ID  \u001b[1;36m1\u001b[0m\n"
      ]
     },
     "metadata": {},
     "output_type": "display_data"
    },
    {
     "data": {
      "text/html": [
       "<pre style=\"white-space:pre;overflow-x:auto;line-height:normal;font-family:Menlo,'DejaVu Sans Mono',consolas,'Courier New',monospace\">Experience shape: <span style=\"color: #008080; text-decoration-color: #008080; font-weight: bold\">923</span>\n",
       "</pre>\n"
      ],
      "text/plain": [
       "Experience shape: \u001b[1;36m923\u001b[0m\n"
      ]
     },
     "metadata": {},
     "output_type": "display_data"
    },
    {
     "data": {
      "text/html": [
       "<pre style=\"white-space:pre;overflow-x:auto;line-height:normal;font-family:Menlo,'DejaVu Sans Mono',consolas,'Courier New',monospace\">Estimated number of clusters: <span style=\"color: #008080; text-decoration-color: #008080; font-weight: bold\">1</span>\n",
       "</pre>\n"
      ],
      "text/plain": [
       "Estimated number of clusters: \u001b[1;36m1\u001b[0m\n"
      ]
     },
     "metadata": {},
     "output_type": "display_data"
    },
    {
     "data": {
      "text/html": [
       "<pre style=\"white-space:pre;overflow-x:auto;line-height:normal;font-family:Menlo,'DejaVu Sans Mono',consolas,'Courier New',monospace\">Estimated number of noise points: <span style=\"color: #008080; text-decoration-color: #008080; font-weight: bold\">0</span>\n",
       "</pre>\n"
      ],
      "text/plain": [
       "Estimated number of noise points: \u001b[1;36m0\u001b[0m\n"
      ]
     },
     "metadata": {},
     "output_type": "display_data"
    },
    {
     "data": {
      "text/html": [
       "<pre style=\"white-space:pre;overflow-x:auto;line-height:normal;font-family:Menlo,'DejaVu Sans Mono',consolas,'Courier New',monospace\"># nearest centroids <span style=\"font-weight: bold\">(</span><span style=\"color: #008080; text-decoration-color: #008080; font-weight: bold\">1.19</span>%<span style=\"font-weight: bold\">)</span>:\n",
       "<span style=\"font-weight: bold\">(</span><span style=\"color: #008080; text-decoration-color: #008080; font-weight: bold\">11</span>, <span style=\"color: #008080; text-decoration-color: #008080; font-weight: bold\">512</span><span style=\"font-weight: bold\">)</span>\n",
       "</pre>\n"
      ],
      "text/plain": [
       "# nearest centroids \u001b[1m(\u001b[0m\u001b[1;36m1.19\u001b[0m%\u001b[1m)\u001b[0m:\n",
       "\u001b[1m(\u001b[0m\u001b[1;36m11\u001b[0m, \u001b[1;36m512\u001b[0m\u001b[1m)\u001b[0m\n"
      ]
     },
     "metadata": {},
     "output_type": "display_data"
    },
    {
     "data": {
      "text/html": [
       "<pre style=\"white-space:pre;overflow-x:auto;line-height:normal;font-family:Menlo,'DejaVu Sans Mono',consolas,'Courier New',monospace\">\n",
       "</pre>\n"
      ],
      "text/plain": [
       "\n"
      ]
     },
     "metadata": {},
     "output_type": "display_data"
    },
    {
     "data": {
      "text/html": [
       "<pre style=\"white-space:pre;overflow-x:auto;line-height:normal;font-family:Menlo,'DejaVu Sans Mono',consolas,'Courier New',monospace\">Calculating drift between <span style=\"color: #800080; text-decoration-color: #800080; font-weight: bold\">Task</span><span style=\"font-weight: bold\">(</span><span style=\"color: #808000; text-decoration-color: #808000\">current</span>=<span style=\"color: #008080; text-decoration-color: #008080; font-weight: bold\">1</span>, <span style=\"color: #808000; text-decoration-color: #808000\">memory</span>=<span style=\"color: #008080; text-decoration-color: #008080; font-weight: bold\">0</span><span style=\"font-weight: bold\">)</span>\n",
       "</pre>\n"
      ],
      "text/plain": [
       "Calculating drift between \u001b[1;35mTask\u001b[0m\u001b[1m(\u001b[0m\u001b[33mcurrent\u001b[0m=\u001b[1;36m1\u001b[0m, \u001b[33mmemory\u001b[0m=\u001b[1;36m0\u001b[0m\u001b[1m)\u001b[0m\n"
      ]
     },
     "metadata": {},
     "output_type": "display_data"
    },
    {
     "data": {
      "text/html": [
       "<pre style=\"white-space:pre;overflow-x:auto;line-height:normal;font-family:Menlo,'DejaVu Sans Mono',consolas,'Courier New',monospace\">Drift = <span style=\"color: #008080; text-decoration-color: #008080; font-weight: bold\">1</span>\n",
       "</pre>\n"
      ],
      "text/plain": [
       "Drift = \u001b[1;36m1\u001b[0m\n"
      ]
     },
     "metadata": {},
     "output_type": "display_data"
    },
    {
     "data": {
      "text/html": [
       "<pre style=\"white-space:pre;overflow-x:auto;line-height:normal;font-family:Menlo,'DejaVu Sans Mono',consolas,'Courier New',monospace\">Saving nearest centroids into Memory\n",
       "</pre>\n"
      ],
      "text/plain": [
       "Saving nearest centroids into Memory\n"
      ]
     },
     "metadata": {},
     "output_type": "display_data"
    },
    {
     "data": {
      "text/html": [
       "<pre style=\"white-space:pre;overflow-x:auto;line-height:normal;font-family:Menlo,'DejaVu Sans Mono',consolas,'Courier New',monospace\">Memory:\n",
       "<span style=\"font-weight: bold\">[</span><span style=\"color: #800080; text-decoration-color: #800080; font-weight: bold\">Memory</span><span style=\"font-weight: bold\">(</span><span style=\"color: #808000; text-decoration-color: #808000\">task</span>=<span style=\"color: #008080; text-decoration-color: #008080; font-weight: bold\">0</span>, <span style=\"color: #808000; text-decoration-color: #808000\">shape</span>=<span style=\"font-weight: bold\">(</span><span style=\"color: #008080; text-decoration-color: #008080; font-weight: bold\">11</span>, <span style=\"color: #008080; text-decoration-color: #008080; font-weight: bold\">512</span><span style=\"font-weight: bold\">))</span>, <span style=\"color: #800080; text-decoration-color: #800080; font-weight: bold\">Memory</span><span style=\"font-weight: bold\">(</span><span style=\"color: #808000; text-decoration-color: #808000\">task</span>=<span style=\"color: #008080; text-decoration-color: #008080; font-weight: bold\">1</span>, <span style=\"color: #808000; text-decoration-color: #808000\">shape</span>=<span style=\"font-weight: bold\">(</span><span style=\"color: #008080; text-decoration-color: #008080; font-weight: bold\">11</span>, <span style=\"color: #008080; text-decoration-color: #008080; font-weight: bold\">512</span><span style=\"font-weight: bold\">))]</span>\n",
       "</pre>\n"
      ],
      "text/plain": [
       "Memory:\n",
       "\u001b[1m[\u001b[0m\u001b[1;35mMemory\u001b[0m\u001b[1m(\u001b[0m\u001b[33mtask\u001b[0m=\u001b[1;36m0\u001b[0m, \u001b[33mshape\u001b[0m=\u001b[1m(\u001b[0m\u001b[1;36m11\u001b[0m, \u001b[1;36m512\u001b[0m\u001b[1m)\u001b[0m\u001b[1m)\u001b[0m, \u001b[1;35mMemory\u001b[0m\u001b[1m(\u001b[0m\u001b[33mtask\u001b[0m=\u001b[1;36m1\u001b[0m, \u001b[33mshape\u001b[0m=\u001b[1m(\u001b[0m\u001b[1;36m11\u001b[0m, \u001b[1;36m512\u001b[0m\u001b[1m)\u001b[0m\u001b[1m)\u001b[0m\u001b[1m]\u001b[0m\n"
      ]
     },
     "metadata": {},
     "output_type": "display_data"
    },
    {
     "data": {
      "text/html": [
       "<pre style=\"white-space:pre;overflow-x:auto;line-height:normal;font-family:Menlo,'DejaVu Sans Mono',consolas,'Courier New',monospace\">Memory tasks: <span style=\"font-weight: bold\">[</span><span style=\"color: #008080; text-decoration-color: #008080; font-weight: bold\">0</span>, <span style=\"color: #008080; text-decoration-color: #008080; font-weight: bold\">1</span><span style=\"font-weight: bold\">]</span>\n",
       "</pre>\n"
      ],
      "text/plain": [
       "Memory tasks: \u001b[1m[\u001b[0m\u001b[1;36m0\u001b[0m, \u001b[1;36m1\u001b[0m\u001b[1m]\u001b[0m\n"
      ]
     },
     "metadata": {},
     "output_type": "display_data"
    },
    {
     "data": {
      "text/html": [
       "<pre style=\"white-space:pre;overflow-x:auto;line-height:normal;font-family:Menlo,'DejaVu Sans Mono',consolas,'Courier New',monospace\">Training multi-head model\n",
       "</pre>\n"
      ],
      "text/plain": [
       "Training multi-head model\n"
      ]
     },
     "metadata": {},
     "output_type": "display_data"
    },
    {
     "name": "stdout",
     "output_type": "stream",
     "text": [
      "-- >> Start of training phase << --\n",
      "100%|██████████| 5/5 [00:37<00:00,  7.53s/it]\n",
      "Epoch 0 ended.\n",
      "100%|██████████| 5/5 [00:26<00:00,  5.26s/it]\n",
      "Epoch 1 ended.\n",
      "100%|██████████| 5/5 [00:10<00:00,  2.03s/it]\n",
      "Epoch 2 ended.\n",
      "-- >> End of training phase << --\n"
     ]
    },
    {
     "data": {
      "text/html": [
       "<pre style=\"white-space:pre;overflow-x:auto;line-height:normal;font-family:Menlo,'DejaVu Sans Mono',consolas,'Courier New',monospace\">Training multi-head model completed\n",
       "</pre>\n"
      ],
      "text/plain": [
       "Training multi-head model completed\n"
      ]
     },
     "metadata": {},
     "output_type": "display_data"
    },
    {
     "data": {
      "text/html": [
       "<pre style=\"white-space:pre;overflow-x:auto;line-height:normal;font-family:Menlo,'DejaVu Sans Mono',consolas,'Courier New',monospace\">Getting Task Classifier\n",
       "</pre>\n"
      ],
      "text/plain": [
       "Getting Task Classifier\n"
      ]
     },
     "metadata": {},
     "output_type": "display_data"
    },
    {
     "data": {
      "text/html": [
       "<pre style=\"white-space:pre;overflow-x:auto;line-height:normal;font-family:Menlo,'DejaVu Sans Mono',consolas,'Courier New',monospace\">x_train_knn_total shape: \n",
       "<span style=\"font-weight: bold\">(</span><span style=\"color: #008080; text-decoration-color: #008080; font-weight: bold\">22</span>, <span style=\"color: #008080; text-decoration-color: #008080; font-weight: bold\">512</span><span style=\"font-weight: bold\">)</span>\n",
       "</pre>\n"
      ],
      "text/plain": [
       "x_train_knn_total shape: \n",
       "\u001b[1m(\u001b[0m\u001b[1;36m22\u001b[0m, \u001b[1;36m512\u001b[0m\u001b[1m)\u001b[0m\n"
      ]
     },
     "metadata": {},
     "output_type": "display_data"
    },
    {
     "data": {
      "text/html": [
       "<pre style=\"white-space:pre;overflow-x:auto;line-height:normal;font-family:Menlo,'DejaVu Sans Mono',consolas,'Courier New',monospace\">y_train_knn_total shape\n",
       "<span style=\"font-weight: bold\">(</span><span style=\"color: #008080; text-decoration-color: #008080; font-weight: bold\">22</span>,<span style=\"font-weight: bold\">)</span>\n",
       "</pre>\n"
      ],
      "text/plain": [
       "y_train_knn_total shape\n",
       "\u001b[1m(\u001b[0m\u001b[1;36m22\u001b[0m,\u001b[1m)\u001b[0m\n"
      ]
     },
     "metadata": {},
     "output_type": "display_data"
    },
    {
     "data": {
      "text/html": [
       "<pre style=\"white-space:pre;overflow-x:auto;line-height:normal;font-family:Menlo,'DejaVu Sans Mono',consolas,'Courier New',monospace\">Using the classifier:\n",
       "</pre>\n"
      ],
      "text/plain": [
       "Using the classifier:\n"
      ]
     },
     "metadata": {},
     "output_type": "display_data"
    },
    {
     "data": {
      "text/html": [
       "<pre style=\"white-space:pre;overflow-x:auto;line-height:normal;font-family:Menlo,'DejaVu Sans Mono',consolas,'Courier New',monospace\">Count predictions: \n",
       "<span style=\"font-weight: bold\">{</span><span style=\"color: #008080; text-decoration-color: #008080; font-weight: bold\">0</span>: <span style=\"color: #008080; text-decoration-color: #008080; font-weight: bold\">13</span>, <span style=\"color: #008080; text-decoration-color: #008080; font-weight: bold\">1</span>: <span style=\"color: #008080; text-decoration-color: #008080; font-weight: bold\">218</span><span style=\"font-weight: bold\">}</span>\n",
       "</pre>\n"
      ],
      "text/plain": [
       "Count predictions: \n",
       "\u001b[1m{\u001b[0m\u001b[1;36m0\u001b[0m: \u001b[1;36m13\u001b[0m, \u001b[1;36m1\u001b[0m: \u001b[1;36m218\u001b[0m\u001b[1m}\u001b[0m\n"
      ]
     },
     "metadata": {},
     "output_type": "display_data"
    },
    {
     "data": {
      "text/html": [
       "<pre style=\"white-space:pre;overflow-x:auto;line-height:normal;font-family:Menlo,'DejaVu Sans Mono',consolas,'Courier New',monospace\">Using the mode to get the most voted prediction:\n",
       "</pre>\n"
      ],
      "text/plain": [
       "Using the mode to get the most voted prediction:\n"
      ]
     },
     "metadata": {},
     "output_type": "display_data"
    },
    {
     "data": {
      "text/html": [
       "<pre style=\"white-space:pre;overflow-x:auto;line-height:normal;font-family:Menlo,'DejaVu Sans Mono',consolas,'Courier New',monospace\">Count predictions after: \n",
       "<span style=\"font-weight: bold\">{</span><span style=\"color: #008080; text-decoration-color: #008080; font-weight: bold\">1</span>: <span style=\"color: #008080; text-decoration-color: #008080; font-weight: bold\">231</span><span style=\"font-weight: bold\">}</span>\n",
       "</pre>\n"
      ],
      "text/plain": [
       "Count predictions after: \n",
       "\u001b[1m{\u001b[0m\u001b[1;36m1\u001b[0m: \u001b[1;36m231\u001b[0m\u001b[1m}\u001b[0m\n"
      ]
     },
     "metadata": {},
     "output_type": "display_data"
    },
    {
     "data": {
      "text/html": [
       "<pre style=\"white-space:pre;overflow-x:auto;line-height:normal;font-family:Menlo,'DejaVu Sans Mono',consolas,'Courier New',monospace\">Predictions: <span style=\"font-weight: bold\">[</span><span style=\"color: #008080; text-decoration-color: #008080; font-weight: bold\">1</span> <span style=\"color: #008080; text-decoration-color: #008080; font-weight: bold\">1</span> <span style=\"color: #008080; text-decoration-color: #008080; font-weight: bold\">1</span> <span style=\"color: #008080; text-decoration-color: #008080; font-weight: bold\">1</span> <span style=\"color: #008080; text-decoration-color: #008080; font-weight: bold\">1</span> <span style=\"color: #008080; text-decoration-color: #008080; font-weight: bold\">1</span> <span style=\"color: #008080; text-decoration-color: #008080; font-weight: bold\">1</span> <span style=\"color: #008080; text-decoration-color: #008080; font-weight: bold\">1</span> <span style=\"color: #008080; text-decoration-color: #008080; font-weight: bold\">1</span> <span style=\"color: #008080; text-decoration-color: #008080; font-weight: bold\">1</span><span style=\"font-weight: bold\">]</span>\n",
       "</pre>\n"
      ],
      "text/plain": [
       "Predictions: \u001b[1m[\u001b[0m\u001b[1;36m1\u001b[0m \u001b[1;36m1\u001b[0m \u001b[1;36m1\u001b[0m \u001b[1;36m1\u001b[0m \u001b[1;36m1\u001b[0m \u001b[1;36m1\u001b[0m \u001b[1;36m1\u001b[0m \u001b[1;36m1\u001b[0m \u001b[1;36m1\u001b[0m \u001b[1;36m1\u001b[0m\u001b[1m]\u001b[0m\n"
      ]
     },
     "metadata": {},
     "output_type": "display_data"
    },
    {
     "data": {
      "text/html": [
       "<pre style=\"white-space:pre;overflow-x:auto;line-height:normal;font-family:Menlo,'DejaVu Sans Mono',consolas,'Courier New',monospace\">Predictions shape: <span style=\"font-weight: bold\">(</span><span style=\"color: #008080; text-decoration-color: #008080; font-weight: bold\">231</span>,<span style=\"font-weight: bold\">)</span>\n",
       "</pre>\n"
      ],
      "text/plain": [
       "Predictions shape: \u001b[1m(\u001b[0m\u001b[1;36m231\u001b[0m,\u001b[1m)\u001b[0m\n"
      ]
     },
     "metadata": {},
     "output_type": "display_data"
    },
    {
     "data": {
      "text/html": [
       "<pre style=\"white-space:pre;overflow-x:auto;line-height:normal;font-family:Menlo,'DejaVu Sans Mono',consolas,'Courier New',monospace\">Evaluation benchmark: Ground Truth\n",
       "</pre>\n"
      ],
      "text/plain": [
       "Evaluation benchmark: Ground Truth\n"
      ]
     },
     "metadata": {},
     "output_type": "display_data"
    },
    {
     "name": "stdout",
     "output_type": "stream",
     "text": [
      "-- >> Start of eval phase << --\n",
      "-- Starting eval on experience 0 (Task 0) from test stream --\n",
      "100%|██████████| 6/6 [00:06<00:00,  1.07s/it]\n",
      "> Eval on experience 0 (Task 0) from test stream ended.\n",
      "\tTop1_Acc_Exp/eval_phase/test_stream/Task000/Exp000 = 0.5048\n",
      "-- Starting eval on experience 1 (Task 1) from test stream --\n",
      "100%|██████████| 2/2 [00:05<00:00,  2.92s/it]\n",
      "> Eval on experience 1 (Task 1) from test stream ended.\n",
      "\tTop1_Acc_Exp/eval_phase/test_stream/Task001/Exp001 = 0.7143\n",
      "-- >> End of eval phase << --\n"
     ]
    },
    {
     "data": {
      "text/html": [
       "<pre style=\"white-space:pre;overflow-x:auto;line-height:normal;font-family:Menlo,'DejaVu Sans Mono',consolas,'Courier New',monospace\">Evaluation benchmark: TADIL\n",
       "</pre>\n"
      ],
      "text/plain": [
       "Evaluation benchmark: TADIL\n"
      ]
     },
     "metadata": {},
     "output_type": "display_data"
    },
    {
     "name": "stdout",
     "output_type": "stream",
     "text": [
      "-- >> Start of eval phase << --\n",
      "-- Starting eval on experience 0 (Task 0) from test stream --\n",
      "100%|██████████| 6/6 [00:06<00:00,  1.07s/it]\n",
      "> Eval on experience 0 (Task 0) from test stream ended.\n",
      "\tTop1_Acc_Exp/eval_phase/test_stream/Task000/Exp000 = 0.5048\n",
      "-- Starting eval on experience 1 (Task 1) from test stream --\n",
      "100%|██████████| 2/2 [00:05<00:00,  2.92s/it]\n",
      "> Eval on experience 1 (Task 1) from test stream ended.\n",
      "\tTop1_Acc_Exp/eval_phase/test_stream/Task001/Exp001 = 0.7143\n",
      "-- >> End of eval phase << --\n"
     ]
    },
    {
     "data": {
      "text/html": [
       "<pre style=\"white-space:pre;overflow-x:auto;line-height:normal;font-family:Menlo,'DejaVu Sans Mono',consolas,'Courier New',monospace\">Evaluation benchmark: Normal\n",
       "</pre>\n"
      ],
      "text/plain": [
       "Evaluation benchmark: Normal\n"
      ]
     },
     "metadata": {},
     "output_type": "display_data"
    },
    {
     "name": "stdout",
     "output_type": "stream",
     "text": [
      "-- >> Start of eval phase << --\n",
      "-- Starting eval on experience 0 (Task 0) from test stream --\n",
      "100%|██████████| 6/6 [00:06<00:00,  1.07s/it]\n",
      "> Eval on experience 0 (Task 0) from test stream ended.\n",
      "\tTop1_Acc_Exp/eval_phase/test_stream/Task000/Exp000 = 0.5048\n",
      "-- Starting eval on experience 1 (Task 0) from test stream --\n",
      "100%|██████████| 2/2 [00:05<00:00,  2.91s/it]\n",
      "> Eval on experience 1 (Task 0) from test stream ended.\n",
      "\tTop1_Acc_Exp/eval_phase/test_stream/Task000/Exp001 = 0.6017\n",
      "-- >> End of eval phase << --\n"
     ]
    },
    {
     "data": {
      "text/html": [
       "<pre style=\"white-space:pre;overflow-x:auto;line-height:normal;font-family:Menlo,'DejaVu Sans Mono',consolas,'Courier New',monospace\">----------------------------------------\n",
       "</pre>\n"
      ],
      "text/plain": [
       "----------------------------------------\n"
      ]
     },
     "metadata": {},
     "output_type": "display_data"
    },
    {
     "data": {
      "text/html": [
       "<pre style=\"white-space:pre;overflow-x:auto;line-height:normal;font-family:Menlo,'DejaVu Sans Mono',consolas,'Courier New',monospace\">\n",
       "</pre>\n"
      ],
      "text/plain": [
       "\n"
      ]
     },
     "metadata": {},
     "output_type": "display_data"
    },
    {
     "data": {
      "text/html": [
       "<pre style=\"white-space:pre;overflow-x:auto;line-height:normal;font-family:Menlo,'DejaVu Sans Mono',consolas,'Courier New',monospace\">Current experience:  <span style=\"color: #008080; text-decoration-color: #008080; font-weight: bold\">2</span>\n",
       "</pre>\n"
      ],
      "text/plain": [
       "Current experience:  \u001b[1;36m2\u001b[0m\n"
      ]
     },
     "metadata": {},
     "output_type": "display_data"
    },
    {
     "data": {
      "text/html": [
       "<pre style=\"white-space:pre;overflow-x:auto;line-height:normal;font-family:Menlo,'DejaVu Sans Mono',consolas,'Courier New',monospace\">Experience task ID  <span style=\"color: #008080; text-decoration-color: #008080; font-weight: bold\">2</span>\n",
       "</pre>\n"
      ],
      "text/plain": [
       "Experience task ID  \u001b[1;36m2\u001b[0m\n"
      ]
     },
     "metadata": {},
     "output_type": "display_data"
    },
    {
     "data": {
      "text/html": [
       "<pre style=\"white-space:pre;overflow-x:auto;line-height:normal;font-family:Menlo,'DejaVu Sans Mono',consolas,'Courier New',monospace\">Experience shape: <span style=\"color: #008080; text-decoration-color: #008080; font-weight: bold\">5393</span>\n",
       "</pre>\n"
      ],
      "text/plain": [
       "Experience shape: \u001b[1;36m5393\u001b[0m\n"
      ]
     },
     "metadata": {},
     "output_type": "display_data"
    },
    {
     "data": {
      "text/html": [
       "<pre style=\"white-space:pre;overflow-x:auto;line-height:normal;font-family:Menlo,'DejaVu Sans Mono',consolas,'Courier New',monospace\">Estimated number of clusters: <span style=\"color: #008080; text-decoration-color: #008080; font-weight: bold\">1</span>\n",
       "</pre>\n"
      ],
      "text/plain": [
       "Estimated number of clusters: \u001b[1;36m1\u001b[0m\n"
      ]
     },
     "metadata": {},
     "output_type": "display_data"
    },
    {
     "data": {
      "text/html": [
       "<pre style=\"white-space:pre;overflow-x:auto;line-height:normal;font-family:Menlo,'DejaVu Sans Mono',consolas,'Courier New',monospace\">Estimated number of noise points: <span style=\"color: #008080; text-decoration-color: #008080; font-weight: bold\">0</span>\n",
       "</pre>\n"
      ],
      "text/plain": [
       "Estimated number of noise points: \u001b[1;36m0\u001b[0m\n"
      ]
     },
     "metadata": {},
     "output_type": "display_data"
    },
    {
     "data": {
      "text/html": [
       "<pre style=\"white-space:pre;overflow-x:auto;line-height:normal;font-family:Menlo,'DejaVu Sans Mono',consolas,'Courier New',monospace\"># nearest centroids <span style=\"font-weight: bold\">(</span><span style=\"color: #008080; text-decoration-color: #008080; font-weight: bold\">0.2</span>%<span style=\"font-weight: bold\">)</span>:\n",
       "<span style=\"font-weight: bold\">(</span><span style=\"color: #008080; text-decoration-color: #008080; font-weight: bold\">11</span>, <span style=\"color: #008080; text-decoration-color: #008080; font-weight: bold\">512</span><span style=\"font-weight: bold\">)</span>\n",
       "</pre>\n"
      ],
      "text/plain": [
       "# nearest centroids \u001b[1m(\u001b[0m\u001b[1;36m0.2\u001b[0m%\u001b[1m)\u001b[0m:\n",
       "\u001b[1m(\u001b[0m\u001b[1;36m11\u001b[0m, \u001b[1;36m512\u001b[0m\u001b[1m)\u001b[0m\n"
      ]
     },
     "metadata": {},
     "output_type": "display_data"
    },
    {
     "data": {
      "text/html": [
       "<pre style=\"white-space:pre;overflow-x:auto;line-height:normal;font-family:Menlo,'DejaVu Sans Mono',consolas,'Courier New',monospace\">\n",
       "</pre>\n"
      ],
      "text/plain": [
       "\n"
      ]
     },
     "metadata": {},
     "output_type": "display_data"
    },
    {
     "data": {
      "text/html": [
       "<pre style=\"white-space:pre;overflow-x:auto;line-height:normal;font-family:Menlo,'DejaVu Sans Mono',consolas,'Courier New',monospace\">Calculating drift between <span style=\"color: #800080; text-decoration-color: #800080; font-weight: bold\">Task</span><span style=\"font-weight: bold\">(</span><span style=\"color: #808000; text-decoration-color: #808000\">current</span>=<span style=\"color: #008080; text-decoration-color: #008080; font-weight: bold\">2</span>, <span style=\"color: #808000; text-decoration-color: #808000\">memory</span>=<span style=\"color: #008080; text-decoration-color: #008080; font-weight: bold\">1</span><span style=\"font-weight: bold\">)</span>\n",
       "</pre>\n"
      ],
      "text/plain": [
       "Calculating drift between \u001b[1;35mTask\u001b[0m\u001b[1m(\u001b[0m\u001b[33mcurrent\u001b[0m=\u001b[1;36m2\u001b[0m, \u001b[33mmemory\u001b[0m=\u001b[1;36m1\u001b[0m\u001b[1m)\u001b[0m\n"
      ]
     },
     "metadata": {},
     "output_type": "display_data"
    },
    {
     "data": {
      "text/html": [
       "<pre style=\"white-space:pre;overflow-x:auto;line-height:normal;font-family:Menlo,'DejaVu Sans Mono',consolas,'Courier New',monospace\">Drift = <span style=\"color: #008080; text-decoration-color: #008080; font-weight: bold\">1</span>\n",
       "</pre>\n"
      ],
      "text/plain": [
       "Drift = \u001b[1;36m1\u001b[0m\n"
      ]
     },
     "metadata": {},
     "output_type": "display_data"
    },
    {
     "data": {
      "text/html": [
       "<pre style=\"white-space:pre;overflow-x:auto;line-height:normal;font-family:Menlo,'DejaVu Sans Mono',consolas,'Courier New',monospace\">Calculating drift between <span style=\"color: #800080; text-decoration-color: #800080; font-weight: bold\">Task</span><span style=\"font-weight: bold\">(</span><span style=\"color: #808000; text-decoration-color: #808000\">current</span>=<span style=\"color: #008080; text-decoration-color: #008080; font-weight: bold\">2</span>, <span style=\"color: #808000; text-decoration-color: #808000\">memory</span>=<span style=\"color: #008080; text-decoration-color: #008080; font-weight: bold\">0</span><span style=\"font-weight: bold\">)</span>\n",
       "</pre>\n"
      ],
      "text/plain": [
       "Calculating drift between \u001b[1;35mTask\u001b[0m\u001b[1m(\u001b[0m\u001b[33mcurrent\u001b[0m=\u001b[1;36m2\u001b[0m, \u001b[33mmemory\u001b[0m=\u001b[1;36m0\u001b[0m\u001b[1m)\u001b[0m\n"
      ]
     },
     "metadata": {},
     "output_type": "display_data"
    },
    {
     "data": {
      "text/html": [
       "<pre style=\"white-space:pre;overflow-x:auto;line-height:normal;font-family:Menlo,'DejaVu Sans Mono',consolas,'Courier New',monospace\">Drift = <span style=\"color: #008080; text-decoration-color: #008080; font-weight: bold\">1</span>\n",
       "</pre>\n"
      ],
      "text/plain": [
       "Drift = \u001b[1;36m1\u001b[0m\n"
      ]
     },
     "metadata": {},
     "output_type": "display_data"
    },
    {
     "data": {
      "text/html": [
       "<pre style=\"white-space:pre;overflow-x:auto;line-height:normal;font-family:Menlo,'DejaVu Sans Mono',consolas,'Courier New',monospace\">Saving nearest centroids into Memory\n",
       "</pre>\n"
      ],
      "text/plain": [
       "Saving nearest centroids into Memory\n"
      ]
     },
     "metadata": {},
     "output_type": "display_data"
    },
    {
     "data": {
      "text/html": [
       "<pre style=\"white-space:pre;overflow-x:auto;line-height:normal;font-family:Menlo,'DejaVu Sans Mono',consolas,'Courier New',monospace\">Memory:\n",
       "<span style=\"font-weight: bold\">[</span><span style=\"color: #800080; text-decoration-color: #800080; font-weight: bold\">Memory</span><span style=\"font-weight: bold\">(</span><span style=\"color: #808000; text-decoration-color: #808000\">task</span>=<span style=\"color: #008080; text-decoration-color: #008080; font-weight: bold\">0</span>, <span style=\"color: #808000; text-decoration-color: #808000\">shape</span>=<span style=\"font-weight: bold\">(</span><span style=\"color: #008080; text-decoration-color: #008080; font-weight: bold\">11</span>, <span style=\"color: #008080; text-decoration-color: #008080; font-weight: bold\">512</span><span style=\"font-weight: bold\">))</span>, <span style=\"color: #800080; text-decoration-color: #800080; font-weight: bold\">Memory</span><span style=\"font-weight: bold\">(</span><span style=\"color: #808000; text-decoration-color: #808000\">task</span>=<span style=\"color: #008080; text-decoration-color: #008080; font-weight: bold\">1</span>, <span style=\"color: #808000; text-decoration-color: #808000\">shape</span>=<span style=\"font-weight: bold\">(</span><span style=\"color: #008080; text-decoration-color: #008080; font-weight: bold\">11</span>, <span style=\"color: #008080; text-decoration-color: #008080; font-weight: bold\">512</span><span style=\"font-weight: bold\">))</span>, <span style=\"color: #800080; text-decoration-color: #800080; font-weight: bold\">Memory</span><span style=\"font-weight: bold\">(</span><span style=\"color: #808000; text-decoration-color: #808000\">task</span>=<span style=\"color: #008080; text-decoration-color: #008080; font-weight: bold\">2</span>, <span style=\"color: #808000; text-decoration-color: #808000\">shape</span>=<span style=\"font-weight: bold\">(</span><span style=\"color: #008080; text-decoration-color: #008080; font-weight: bold\">11</span>, <span style=\"color: #008080; text-decoration-color: #008080; font-weight: bold\">512</span><span style=\"font-weight: bold\">))]</span>\n",
       "</pre>\n"
      ],
      "text/plain": [
       "Memory:\n",
       "\u001b[1m[\u001b[0m\u001b[1;35mMemory\u001b[0m\u001b[1m(\u001b[0m\u001b[33mtask\u001b[0m=\u001b[1;36m0\u001b[0m, \u001b[33mshape\u001b[0m=\u001b[1m(\u001b[0m\u001b[1;36m11\u001b[0m, \u001b[1;36m512\u001b[0m\u001b[1m)\u001b[0m\u001b[1m)\u001b[0m, \u001b[1;35mMemory\u001b[0m\u001b[1m(\u001b[0m\u001b[33mtask\u001b[0m=\u001b[1;36m1\u001b[0m, \u001b[33mshape\u001b[0m=\u001b[1m(\u001b[0m\u001b[1;36m11\u001b[0m, \u001b[1;36m512\u001b[0m\u001b[1m)\u001b[0m\u001b[1m)\u001b[0m, \u001b[1;35mMemory\u001b[0m\u001b[1m(\u001b[0m\u001b[33mtask\u001b[0m=\u001b[1;36m2\u001b[0m, \u001b[33mshape\u001b[0m=\u001b[1m(\u001b[0m\u001b[1;36m11\u001b[0m, \u001b[1;36m512\u001b[0m\u001b[1m)\u001b[0m\u001b[1m)\u001b[0m\u001b[1m]\u001b[0m\n"
      ]
     },
     "metadata": {},
     "output_type": "display_data"
    },
    {
     "data": {
      "text/html": [
       "<pre style=\"white-space:pre;overflow-x:auto;line-height:normal;font-family:Menlo,'DejaVu Sans Mono',consolas,'Courier New',monospace\">Memory tasks: <span style=\"font-weight: bold\">[</span><span style=\"color: #008080; text-decoration-color: #008080; font-weight: bold\">0</span>, <span style=\"color: #008080; text-decoration-color: #008080; font-weight: bold\">1</span>, <span style=\"color: #008080; text-decoration-color: #008080; font-weight: bold\">2</span><span style=\"font-weight: bold\">]</span>\n",
       "</pre>\n"
      ],
      "text/plain": [
       "Memory tasks: \u001b[1m[\u001b[0m\u001b[1;36m0\u001b[0m, \u001b[1;36m1\u001b[0m, \u001b[1;36m2\u001b[0m\u001b[1m]\u001b[0m\n"
      ]
     },
     "metadata": {},
     "output_type": "display_data"
    },
    {
     "data": {
      "text/html": [
       "<pre style=\"white-space:pre;overflow-x:auto;line-height:normal;font-family:Menlo,'DejaVu Sans Mono',consolas,'Courier New',monospace\">Training multi-head model\n",
       "</pre>\n"
      ],
      "text/plain": [
       "Training multi-head model\n"
      ]
     },
     "metadata": {},
     "output_type": "display_data"
    },
    {
     "name": "stdout",
     "output_type": "stream",
     "text": [
      "-- >> Start of training phase << --\n",
      "100%|██████████| 27/27 [00:27<00:00,  1.02s/it]\n",
      "Epoch 0 ended.\n",
      "100%|██████████| 27/27 [00:28<00:00,  1.05s/it]\n",
      "Epoch 1 ended.\n",
      "100%|██████████| 27/27 [00:27<00:00,  1.01s/it]\n",
      "Epoch 2 ended.\n",
      "-- >> End of training phase << --\n"
     ]
    },
    {
     "data": {
      "text/html": [
       "<pre style=\"white-space:pre;overflow-x:auto;line-height:normal;font-family:Menlo,'DejaVu Sans Mono',consolas,'Courier New',monospace\">Training multi-head model completed\n",
       "</pre>\n"
      ],
      "text/plain": [
       "Training multi-head model completed\n"
      ]
     },
     "metadata": {},
     "output_type": "display_data"
    },
    {
     "data": {
      "text/html": [
       "<pre style=\"white-space:pre;overflow-x:auto;line-height:normal;font-family:Menlo,'DejaVu Sans Mono',consolas,'Courier New',monospace\">Getting Task Classifier\n",
       "</pre>\n"
      ],
      "text/plain": [
       "Getting Task Classifier\n"
      ]
     },
     "metadata": {},
     "output_type": "display_data"
    },
    {
     "data": {
      "text/html": [
       "<pre style=\"white-space:pre;overflow-x:auto;line-height:normal;font-family:Menlo,'DejaVu Sans Mono',consolas,'Courier New',monospace\">x_train_knn_total shape: \n",
       "<span style=\"font-weight: bold\">(</span><span style=\"color: #008080; text-decoration-color: #008080; font-weight: bold\">33</span>, <span style=\"color: #008080; text-decoration-color: #008080; font-weight: bold\">512</span><span style=\"font-weight: bold\">)</span>\n",
       "</pre>\n"
      ],
      "text/plain": [
       "x_train_knn_total shape: \n",
       "\u001b[1m(\u001b[0m\u001b[1;36m33\u001b[0m, \u001b[1;36m512\u001b[0m\u001b[1m)\u001b[0m\n"
      ]
     },
     "metadata": {},
     "output_type": "display_data"
    },
    {
     "data": {
      "text/html": [
       "<pre style=\"white-space:pre;overflow-x:auto;line-height:normal;font-family:Menlo,'DejaVu Sans Mono',consolas,'Courier New',monospace\">y_train_knn_total shape\n",
       "<span style=\"font-weight: bold\">(</span><span style=\"color: #008080; text-decoration-color: #008080; font-weight: bold\">33</span>,<span style=\"font-weight: bold\">)</span>\n",
       "</pre>\n"
      ],
      "text/plain": [
       "y_train_knn_total shape\n",
       "\u001b[1m(\u001b[0m\u001b[1;36m33\u001b[0m,\u001b[1m)\u001b[0m\n"
      ]
     },
     "metadata": {},
     "output_type": "display_data"
    },
    {
     "data": {
      "text/html": [
       "<pre style=\"white-space:pre;overflow-x:auto;line-height:normal;font-family:Menlo,'DejaVu Sans Mono',consolas,'Courier New',monospace\">Using the classifier:\n",
       "</pre>\n"
      ],
      "text/plain": [
       "Using the classifier:\n"
      ]
     },
     "metadata": {},
     "output_type": "display_data"
    },
    {
     "data": {
      "text/html": [
       "<pre style=\"white-space:pre;overflow-x:auto;line-height:normal;font-family:Menlo,'DejaVu Sans Mono',consolas,'Courier New',monospace\">Count predictions: \n",
       "<span style=\"font-weight: bold\">{</span><span style=\"color: #008080; text-decoration-color: #008080; font-weight: bold\">0</span>: <span style=\"color: #008080; text-decoration-color: #008080; font-weight: bold\">269</span>, <span style=\"color: #008080; text-decoration-color: #008080; font-weight: bold\">1</span>: <span style=\"color: #008080; text-decoration-color: #008080; font-weight: bold\">7</span>, <span style=\"color: #008080; text-decoration-color: #008080; font-weight: bold\">2</span>: <span style=\"color: #008080; text-decoration-color: #008080; font-weight: bold\">1073</span><span style=\"font-weight: bold\">}</span>\n",
       "</pre>\n"
      ],
      "text/plain": [
       "Count predictions: \n",
       "\u001b[1m{\u001b[0m\u001b[1;36m0\u001b[0m: \u001b[1;36m269\u001b[0m, \u001b[1;36m1\u001b[0m: \u001b[1;36m7\u001b[0m, \u001b[1;36m2\u001b[0m: \u001b[1;36m1073\u001b[0m\u001b[1m}\u001b[0m\n"
      ]
     },
     "metadata": {},
     "output_type": "display_data"
    },
    {
     "data": {
      "text/html": [
       "<pre style=\"white-space:pre;overflow-x:auto;line-height:normal;font-family:Menlo,'DejaVu Sans Mono',consolas,'Courier New',monospace\">Using the mode to get the most voted prediction:\n",
       "</pre>\n"
      ],
      "text/plain": [
       "Using the mode to get the most voted prediction:\n"
      ]
     },
     "metadata": {},
     "output_type": "display_data"
    },
    {
     "data": {
      "text/html": [
       "<pre style=\"white-space:pre;overflow-x:auto;line-height:normal;font-family:Menlo,'DejaVu Sans Mono',consolas,'Courier New',monospace\">Count predictions after: \n",
       "<span style=\"font-weight: bold\">{</span><span style=\"color: #008080; text-decoration-color: #008080; font-weight: bold\">2</span>: <span style=\"color: #008080; text-decoration-color: #008080; font-weight: bold\">1349</span><span style=\"font-weight: bold\">}</span>\n",
       "</pre>\n"
      ],
      "text/plain": [
       "Count predictions after: \n",
       "\u001b[1m{\u001b[0m\u001b[1;36m2\u001b[0m: \u001b[1;36m1349\u001b[0m\u001b[1m}\u001b[0m\n"
      ]
     },
     "metadata": {},
     "output_type": "display_data"
    },
    {
     "data": {
      "text/html": [
       "<pre style=\"white-space:pre;overflow-x:auto;line-height:normal;font-family:Menlo,'DejaVu Sans Mono',consolas,'Courier New',monospace\">Predictions: <span style=\"font-weight: bold\">[</span><span style=\"color: #008080; text-decoration-color: #008080; font-weight: bold\">2</span> <span style=\"color: #008080; text-decoration-color: #008080; font-weight: bold\">2</span> <span style=\"color: #008080; text-decoration-color: #008080; font-weight: bold\">2</span> <span style=\"color: #008080; text-decoration-color: #008080; font-weight: bold\">2</span> <span style=\"color: #008080; text-decoration-color: #008080; font-weight: bold\">2</span> <span style=\"color: #008080; text-decoration-color: #008080; font-weight: bold\">2</span> <span style=\"color: #008080; text-decoration-color: #008080; font-weight: bold\">2</span> <span style=\"color: #008080; text-decoration-color: #008080; font-weight: bold\">2</span> <span style=\"color: #008080; text-decoration-color: #008080; font-weight: bold\">2</span> <span style=\"color: #008080; text-decoration-color: #008080; font-weight: bold\">2</span><span style=\"font-weight: bold\">]</span>\n",
       "</pre>\n"
      ],
      "text/plain": [
       "Predictions: \u001b[1m[\u001b[0m\u001b[1;36m2\u001b[0m \u001b[1;36m2\u001b[0m \u001b[1;36m2\u001b[0m \u001b[1;36m2\u001b[0m \u001b[1;36m2\u001b[0m \u001b[1;36m2\u001b[0m \u001b[1;36m2\u001b[0m \u001b[1;36m2\u001b[0m \u001b[1;36m2\u001b[0m \u001b[1;36m2\u001b[0m\u001b[1m]\u001b[0m\n"
      ]
     },
     "metadata": {},
     "output_type": "display_data"
    },
    {
     "data": {
      "text/html": [
       "<pre style=\"white-space:pre;overflow-x:auto;line-height:normal;font-family:Menlo,'DejaVu Sans Mono',consolas,'Courier New',monospace\">Predictions shape: <span style=\"font-weight: bold\">(</span><span style=\"color: #008080; text-decoration-color: #008080; font-weight: bold\">1349</span>,<span style=\"font-weight: bold\">)</span>\n",
       "</pre>\n"
      ],
      "text/plain": [
       "Predictions shape: \u001b[1m(\u001b[0m\u001b[1;36m1349\u001b[0m,\u001b[1m)\u001b[0m\n"
      ]
     },
     "metadata": {},
     "output_type": "display_data"
    },
    {
     "data": {
      "text/html": [
       "<pre style=\"white-space:pre;overflow-x:auto;line-height:normal;font-family:Menlo,'DejaVu Sans Mono',consolas,'Courier New',monospace\">Evaluation benchmark: Ground Truth\n",
       "</pre>\n"
      ],
      "text/plain": [
       "Evaluation benchmark: Ground Truth\n"
      ]
     },
     "metadata": {},
     "output_type": "display_data"
    },
    {
     "name": "stdout",
     "output_type": "stream",
     "text": [
      "-- >> Start of eval phase << --\n",
      "-- Starting eval on experience 0 (Task 0) from test stream --\n",
      "100%|██████████| 6/6 [00:06<00:00,  1.08s/it]\n",
      "> Eval on experience 0 (Task 0) from test stream ended.\n",
      "\tTop1_Acc_Exp/eval_phase/test_stream/Task000/Exp000 = 0.4835\n",
      "-- Starting eval on experience 1 (Task 1) from test stream --\n",
      "100%|██████████| 2/2 [00:05<00:00,  2.92s/it]\n",
      "> Eval on experience 1 (Task 1) from test stream ended.\n",
      "\tTop1_Acc_Exp/eval_phase/test_stream/Task001/Exp001 = 0.7965\n",
      "-- Starting eval on experience 2 (Task 2) from test stream --\n",
      "100%|██████████| 7/7 [00:06<00:00,  1.01it/s]\n",
      "> Eval on experience 2 (Task 2) from test stream ended.\n",
      "\tTop1_Acc_Exp/eval_phase/test_stream/Task002/Exp002 = 0.5708\n",
      "-- >> End of eval phase << --\n"
     ]
    },
    {
     "data": {
      "text/html": [
       "<pre style=\"white-space:pre;overflow-x:auto;line-height:normal;font-family:Menlo,'DejaVu Sans Mono',consolas,'Courier New',monospace\">Evaluation benchmark: TADIL\n",
       "</pre>\n"
      ],
      "text/plain": [
       "Evaluation benchmark: TADIL\n"
      ]
     },
     "metadata": {},
     "output_type": "display_data"
    },
    {
     "name": "stdout",
     "output_type": "stream",
     "text": [
      "-- >> Start of eval phase << --\n",
      "-- Starting eval on experience 0 (Task 0) from test stream --\n",
      "100%|██████████| 6/6 [00:06<00:00,  1.08s/it]\n",
      "> Eval on experience 0 (Task 0) from test stream ended.\n",
      "\tTop1_Acc_Exp/eval_phase/test_stream/Task000/Exp000 = 0.4835\n",
      "-- Starting eval on experience 1 (Task 1) from test stream --\n",
      "100%|██████████| 2/2 [00:05<00:00,  2.98s/it]\n",
      "> Eval on experience 1 (Task 1) from test stream ended.\n",
      "\tTop1_Acc_Exp/eval_phase/test_stream/Task001/Exp001 = 0.7965\n",
      "-- Starting eval on experience 2 (Task 2) from test stream --\n",
      "100%|██████████| 7/7 [00:06<00:00,  1.02it/s]\n",
      "> Eval on experience 2 (Task 2) from test stream ended.\n",
      "\tTop1_Acc_Exp/eval_phase/test_stream/Task002/Exp002 = 0.5708\n",
      "-- >> End of eval phase << --\n"
     ]
    },
    {
     "data": {
      "text/html": [
       "<pre style=\"white-space:pre;overflow-x:auto;line-height:normal;font-family:Menlo,'DejaVu Sans Mono',consolas,'Courier New',monospace\">Evaluation benchmark: Normal\n",
       "</pre>\n"
      ],
      "text/plain": [
       "Evaluation benchmark: Normal\n"
      ]
     },
     "metadata": {},
     "output_type": "display_data"
    },
    {
     "name": "stdout",
     "output_type": "stream",
     "text": [
      "-- >> Start of eval phase << --\n",
      "-- Starting eval on experience 0 (Task 0) from test stream --\n",
      "100%|██████████| 6/6 [00:06<00:00,  1.08s/it]\n",
      "> Eval on experience 0 (Task 0) from test stream ended.\n",
      "\tTop1_Acc_Exp/eval_phase/test_stream/Task000/Exp000 = 0.4835\n",
      "-- Starting eval on experience 1 (Task 0) from test stream --\n",
      "100%|██████████| 2/2 [00:05<00:00,  2.91s/it]\n",
      "> Eval on experience 1 (Task 0) from test stream ended.\n",
      "\tTop1_Acc_Exp/eval_phase/test_stream/Task000/Exp001 = 0.5671\n",
      "-- Starting eval on experience 2 (Task 0) from test stream --\n",
      "100%|██████████| 7/7 [00:06<00:00,  1.01it/s]\n",
      "> Eval on experience 2 (Task 0) from test stream ended.\n",
      "\tTop1_Acc_Exp/eval_phase/test_stream/Task000/Exp002 = 0.4329\n",
      "-- >> End of eval phase << --\n"
     ]
    },
    {
     "data": {
      "text/html": [
       "<pre style=\"white-space:pre;overflow-x:auto;line-height:normal;font-family:Menlo,'DejaVu Sans Mono',consolas,'Courier New',monospace\">----------------------------------------\n",
       "</pre>\n"
      ],
      "text/plain": [
       "----------------------------------------\n"
      ]
     },
     "metadata": {},
     "output_type": "display_data"
    },
    {
     "data": {
      "text/html": [
       "<pre style=\"white-space:pre;overflow-x:auto;line-height:normal;font-family:Menlo,'DejaVu Sans Mono',consolas,'Courier New',monospace\">\n",
       "</pre>\n"
      ],
      "text/plain": [
       "\n"
      ]
     },
     "metadata": {},
     "output_type": "display_data"
    },
    {
     "data": {
      "text/html": [
       "<pre style=\"white-space:pre;overflow-x:auto;line-height:normal;font-family:Menlo,'DejaVu Sans Mono',consolas,'Courier New',monospace\">Current experience:  <span style=\"color: #008080; text-decoration-color: #008080; font-weight: bold\">1</span>\n",
       "</pre>\n"
      ],
      "text/plain": [
       "Current experience:  \u001b[1;36m1\u001b[0m\n"
      ]
     },
     "metadata": {},
     "output_type": "display_data"
    },
    {
     "data": {
      "text/html": [
       "<pre style=\"white-space:pre;overflow-x:auto;line-height:normal;font-family:Menlo,'DejaVu Sans Mono',consolas,'Courier New',monospace\">Experience task ID  <span style=\"color: #008080; text-decoration-color: #008080; font-weight: bold\">1</span>\n",
       "</pre>\n"
      ],
      "text/plain": [
       "Experience task ID  \u001b[1;36m1\u001b[0m\n"
      ]
     },
     "metadata": {},
     "output_type": "display_data"
    },
    {
     "data": {
      "text/html": [
       "<pre style=\"white-space:pre;overflow-x:auto;line-height:normal;font-family:Menlo,'DejaVu Sans Mono',consolas,'Courier New',monospace\">Experience shape: <span style=\"color: #008080; text-decoration-color: #008080; font-weight: bold\">923</span>\n",
       "</pre>\n"
      ],
      "text/plain": [
       "Experience shape: \u001b[1;36m923\u001b[0m\n"
      ]
     },
     "metadata": {},
     "output_type": "display_data"
    },
    {
     "data": {
      "text/html": [
       "<pre style=\"white-space:pre;overflow-x:auto;line-height:normal;font-family:Menlo,'DejaVu Sans Mono',consolas,'Courier New',monospace\">Estimated number of clusters: <span style=\"color: #008080; text-decoration-color: #008080; font-weight: bold\">1</span>\n",
       "</pre>\n"
      ],
      "text/plain": [
       "Estimated number of clusters: \u001b[1;36m1\u001b[0m\n"
      ]
     },
     "metadata": {},
     "output_type": "display_data"
    },
    {
     "data": {
      "text/html": [
       "<pre style=\"white-space:pre;overflow-x:auto;line-height:normal;font-family:Menlo,'DejaVu Sans Mono',consolas,'Courier New',monospace\">Estimated number of noise points: <span style=\"color: #008080; text-decoration-color: #008080; font-weight: bold\">0</span>\n",
       "</pre>\n"
      ],
      "text/plain": [
       "Estimated number of noise points: \u001b[1;36m0\u001b[0m\n"
      ]
     },
     "metadata": {},
     "output_type": "display_data"
    },
    {
     "data": {
      "text/html": [
       "<pre style=\"white-space:pre;overflow-x:auto;line-height:normal;font-family:Menlo,'DejaVu Sans Mono',consolas,'Courier New',monospace\"># nearest centroids <span style=\"font-weight: bold\">(</span><span style=\"color: #008080; text-decoration-color: #008080; font-weight: bold\">1.19</span>%<span style=\"font-weight: bold\">)</span>:\n",
       "<span style=\"font-weight: bold\">(</span><span style=\"color: #008080; text-decoration-color: #008080; font-weight: bold\">11</span>, <span style=\"color: #008080; text-decoration-color: #008080; font-weight: bold\">512</span><span style=\"font-weight: bold\">)</span>\n",
       "</pre>\n"
      ],
      "text/plain": [
       "# nearest centroids \u001b[1m(\u001b[0m\u001b[1;36m1.19\u001b[0m%\u001b[1m)\u001b[0m:\n",
       "\u001b[1m(\u001b[0m\u001b[1;36m11\u001b[0m, \u001b[1;36m512\u001b[0m\u001b[1m)\u001b[0m\n"
      ]
     },
     "metadata": {},
     "output_type": "display_data"
    },
    {
     "data": {
      "text/html": [
       "<pre style=\"white-space:pre;overflow-x:auto;line-height:normal;font-family:Menlo,'DejaVu Sans Mono',consolas,'Courier New',monospace\">\n",
       "</pre>\n"
      ],
      "text/plain": [
       "\n"
      ]
     },
     "metadata": {},
     "output_type": "display_data"
    },
    {
     "data": {
      "text/html": [
       "<pre style=\"white-space:pre;overflow-x:auto;line-height:normal;font-family:Menlo,'DejaVu Sans Mono',consolas,'Courier New',monospace\">Calculating drift between <span style=\"color: #800080; text-decoration-color: #800080; font-weight: bold\">Task</span><span style=\"font-weight: bold\">(</span><span style=\"color: #808000; text-decoration-color: #808000\">current</span>=<span style=\"color: #008080; text-decoration-color: #008080; font-weight: bold\">1</span>, <span style=\"color: #808000; text-decoration-color: #808000\">memory</span>=<span style=\"color: #008080; text-decoration-color: #008080; font-weight: bold\">2</span><span style=\"font-weight: bold\">)</span>\n",
       "</pre>\n"
      ],
      "text/plain": [
       "Calculating drift between \u001b[1;35mTask\u001b[0m\u001b[1m(\u001b[0m\u001b[33mcurrent\u001b[0m=\u001b[1;36m1\u001b[0m, \u001b[33mmemory\u001b[0m=\u001b[1;36m2\u001b[0m\u001b[1m)\u001b[0m\n"
      ]
     },
     "metadata": {},
     "output_type": "display_data"
    },
    {
     "data": {
      "text/html": [
       "<pre style=\"white-space:pre;overflow-x:auto;line-height:normal;font-family:Menlo,'DejaVu Sans Mono',consolas,'Courier New',monospace\">Drift = <span style=\"color: #008080; text-decoration-color: #008080; font-weight: bold\">1</span>\n",
       "</pre>\n"
      ],
      "text/plain": [
       "Drift = \u001b[1;36m1\u001b[0m\n"
      ]
     },
     "metadata": {},
     "output_type": "display_data"
    },
    {
     "data": {
      "text/html": [
       "<pre style=\"white-space:pre;overflow-x:auto;line-height:normal;font-family:Menlo,'DejaVu Sans Mono',consolas,'Courier New',monospace\">Calculating drift between <span style=\"color: #800080; text-decoration-color: #800080; font-weight: bold\">Task</span><span style=\"font-weight: bold\">(</span><span style=\"color: #808000; text-decoration-color: #808000\">current</span>=<span style=\"color: #008080; text-decoration-color: #008080; font-weight: bold\">1</span>, <span style=\"color: #808000; text-decoration-color: #808000\">memory</span>=<span style=\"color: #008080; text-decoration-color: #008080; font-weight: bold\">1</span><span style=\"font-weight: bold\">)</span>\n",
       "</pre>\n"
      ],
      "text/plain": [
       "Calculating drift between \u001b[1;35mTask\u001b[0m\u001b[1m(\u001b[0m\u001b[33mcurrent\u001b[0m=\u001b[1;36m1\u001b[0m, \u001b[33mmemory\u001b[0m=\u001b[1;36m1\u001b[0m\u001b[1m)\u001b[0m\n"
      ]
     },
     "metadata": {},
     "output_type": "display_data"
    },
    {
     "data": {
      "text/html": [
       "<pre style=\"white-space:pre;overflow-x:auto;line-height:normal;font-family:Menlo,'DejaVu Sans Mono',consolas,'Courier New',monospace\">Drift = <span style=\"color: #008080; text-decoration-color: #008080; font-weight: bold\">0</span>\n",
       "</pre>\n"
      ],
      "text/plain": [
       "Drift = \u001b[1;36m0\u001b[0m\n"
      ]
     },
     "metadata": {},
     "output_type": "display_data"
    },
    {
     "data": {
      "text/html": [
       "<pre style=\"white-space:pre;overflow-x:auto;line-height:normal;font-family:Menlo,'DejaVu Sans Mono',consolas,'Courier New',monospace\">Using the task classifier to predict Task ID\n",
       "</pre>\n"
      ],
      "text/plain": [
       "Using the task classifier to predict Task ID\n"
      ]
     },
     "metadata": {},
     "output_type": "display_data"
    },
    {
     "data": {
      "text/html": [
       "<pre style=\"white-space:pre;overflow-x:auto;line-height:normal;font-family:Menlo,'DejaVu Sans Mono',consolas,'Courier New',monospace\">Expected task <span style=\"color: #008080; text-decoration-color: #008080; font-weight: bold\">1</span> == predicted task <span style=\"color: #008080; text-decoration-color: #008080; font-weight: bold\">1</span>\n",
       "</pre>\n"
      ],
      "text/plain": [
       "Expected task \u001b[1;36m1\u001b[0m == predicted task \u001b[1;36m1\u001b[0m\n"
      ]
     },
     "metadata": {},
     "output_type": "display_data"
    },
    {
     "data": {
      "text/html": [
       "<pre style=\"white-space:pre;overflow-x:auto;line-height:normal;font-family:Menlo,'DejaVu Sans Mono',consolas,'Courier New',monospace\">Using the classifier:\n",
       "</pre>\n"
      ],
      "text/plain": [
       "Using the classifier:\n"
      ]
     },
     "metadata": {},
     "output_type": "display_data"
    },
    {
     "data": {
      "text/html": [
       "<pre style=\"white-space:pre;overflow-x:auto;line-height:normal;font-family:Menlo,'DejaVu Sans Mono',consolas,'Courier New',monospace\">Count predictions: \n",
       "<span style=\"font-weight: bold\">{</span><span style=\"color: #008080; text-decoration-color: #008080; font-weight: bold\">0</span>: <span style=\"color: #008080; text-decoration-color: #008080; font-weight: bold\">13</span>, <span style=\"color: #008080; text-decoration-color: #008080; font-weight: bold\">1</span>: <span style=\"color: #008080; text-decoration-color: #008080; font-weight: bold\">211</span>, <span style=\"color: #008080; text-decoration-color: #008080; font-weight: bold\">2</span>: <span style=\"color: #008080; text-decoration-color: #008080; font-weight: bold\">7</span><span style=\"font-weight: bold\">}</span>\n",
       "</pre>\n"
      ],
      "text/plain": [
       "Count predictions: \n",
       "\u001b[1m{\u001b[0m\u001b[1;36m0\u001b[0m: \u001b[1;36m13\u001b[0m, \u001b[1;36m1\u001b[0m: \u001b[1;36m211\u001b[0m, \u001b[1;36m2\u001b[0m: \u001b[1;36m7\u001b[0m\u001b[1m}\u001b[0m\n"
      ]
     },
     "metadata": {},
     "output_type": "display_data"
    },
    {
     "data": {
      "text/html": [
       "<pre style=\"white-space:pre;overflow-x:auto;line-height:normal;font-family:Menlo,'DejaVu Sans Mono',consolas,'Courier New',monospace\">Using the mode to get the most voted prediction:\n",
       "</pre>\n"
      ],
      "text/plain": [
       "Using the mode to get the most voted prediction:\n"
      ]
     },
     "metadata": {},
     "output_type": "display_data"
    },
    {
     "data": {
      "text/html": [
       "<pre style=\"white-space:pre;overflow-x:auto;line-height:normal;font-family:Menlo,'DejaVu Sans Mono',consolas,'Courier New',monospace\">Count predictions after: \n",
       "<span style=\"font-weight: bold\">{</span><span style=\"color: #008080; text-decoration-color: #008080; font-weight: bold\">1</span>: <span style=\"color: #008080; text-decoration-color: #008080; font-weight: bold\">231</span><span style=\"font-weight: bold\">}</span>\n",
       "</pre>\n"
      ],
      "text/plain": [
       "Count predictions after: \n",
       "\u001b[1m{\u001b[0m\u001b[1;36m1\u001b[0m: \u001b[1;36m231\u001b[0m\u001b[1m}\u001b[0m\n"
      ]
     },
     "metadata": {},
     "output_type": "display_data"
    },
    {
     "data": {
      "text/html": [
       "<pre style=\"white-space:pre;overflow-x:auto;line-height:normal;font-family:Menlo,'DejaVu Sans Mono',consolas,'Courier New',monospace\">Predictions: <span style=\"font-weight: bold\">[</span><span style=\"color: #008080; text-decoration-color: #008080; font-weight: bold\">1</span> <span style=\"color: #008080; text-decoration-color: #008080; font-weight: bold\">1</span> <span style=\"color: #008080; text-decoration-color: #008080; font-weight: bold\">1</span> <span style=\"color: #008080; text-decoration-color: #008080; font-weight: bold\">1</span> <span style=\"color: #008080; text-decoration-color: #008080; font-weight: bold\">1</span> <span style=\"color: #008080; text-decoration-color: #008080; font-weight: bold\">1</span> <span style=\"color: #008080; text-decoration-color: #008080; font-weight: bold\">1</span> <span style=\"color: #008080; text-decoration-color: #008080; font-weight: bold\">1</span> <span style=\"color: #008080; text-decoration-color: #008080; font-weight: bold\">1</span> <span style=\"color: #008080; text-decoration-color: #008080; font-weight: bold\">1</span><span style=\"font-weight: bold\">]</span>\n",
       "</pre>\n"
      ],
      "text/plain": [
       "Predictions: \u001b[1m[\u001b[0m\u001b[1;36m1\u001b[0m \u001b[1;36m1\u001b[0m \u001b[1;36m1\u001b[0m \u001b[1;36m1\u001b[0m \u001b[1;36m1\u001b[0m \u001b[1;36m1\u001b[0m \u001b[1;36m1\u001b[0m \u001b[1;36m1\u001b[0m \u001b[1;36m1\u001b[0m \u001b[1;36m1\u001b[0m\u001b[1m]\u001b[0m\n"
      ]
     },
     "metadata": {},
     "output_type": "display_data"
    },
    {
     "data": {
      "text/html": [
       "<pre style=\"white-space:pre;overflow-x:auto;line-height:normal;font-family:Menlo,'DejaVu Sans Mono',consolas,'Courier New',monospace\">Predictions shape: <span style=\"font-weight: bold\">(</span><span style=\"color: #008080; text-decoration-color: #008080; font-weight: bold\">231</span>,<span style=\"font-weight: bold\">)</span>\n",
       "</pre>\n"
      ],
      "text/plain": [
       "Predictions shape: \u001b[1m(\u001b[0m\u001b[1;36m231\u001b[0m,\u001b[1m)\u001b[0m\n"
      ]
     },
     "metadata": {},
     "output_type": "display_data"
    },
    {
     "data": {
      "text/html": [
       "<pre style=\"white-space:pre;overflow-x:auto;line-height:normal;font-family:Menlo,'DejaVu Sans Mono',consolas,'Courier New',monospace\">Evaluation benchmark: Ground Truth\n",
       "</pre>\n"
      ],
      "text/plain": [
       "Evaluation benchmark: Ground Truth\n"
      ]
     },
     "metadata": {},
     "output_type": "display_data"
    },
    {
     "name": "stdout",
     "output_type": "stream",
     "text": [
      "-- >> Start of eval phase << --\n",
      "-- Starting eval on experience 0 (Task 0) from test stream --\n",
      "100%|██████████| 6/6 [00:06<00:00,  1.09s/it]\n",
      "> Eval on experience 0 (Task 0) from test stream ended.\n",
      "\tTop1_Acc_Exp/eval_phase/test_stream/Task000/Exp000 = 0.4835\n",
      "-- Starting eval on experience 1 (Task 1) from test stream --\n",
      "100%|██████████| 2/2 [00:06<00:00,  3.02s/it]\n",
      "> Eval on experience 1 (Task 1) from test stream ended.\n",
      "\tTop1_Acc_Exp/eval_phase/test_stream/Task001/Exp001 = 0.7965\n",
      "-- Starting eval on experience 2 (Task 2) from test stream --\n",
      "100%|██████████| 7/7 [00:07<00:00,  1.01s/it]\n",
      "> Eval on experience 2 (Task 2) from test stream ended.\n",
      "\tTop1_Acc_Exp/eval_phase/test_stream/Task002/Exp002 = 0.5708\n",
      "-- Starting eval on experience 1 (Task 1) from test stream --\n",
      "100%|██████████| 2/2 [00:06<00:00,  3.02s/it]\n",
      "> Eval on experience 1 (Task 1) from test stream ended.\n",
      "\tTop1_Acc_Exp/eval_phase/test_stream/Task001/Exp001 = 0.7965\n",
      "-- >> End of eval phase << --\n"
     ]
    },
    {
     "data": {
      "text/html": [
       "<pre style=\"white-space:pre;overflow-x:auto;line-height:normal;font-family:Menlo,'DejaVu Sans Mono',consolas,'Courier New',monospace\">Evaluation benchmark: TADIL\n",
       "</pre>\n"
      ],
      "text/plain": [
       "Evaluation benchmark: TADIL\n"
      ]
     },
     "metadata": {},
     "output_type": "display_data"
    },
    {
     "name": "stdout",
     "output_type": "stream",
     "text": [
      "-- >> Start of eval phase << --\n",
      "-- Starting eval on experience 0 (Task 0) from test stream --\n",
      "100%|██████████| 6/6 [00:06<00:00,  1.10s/it]\n",
      "> Eval on experience 0 (Task 0) from test stream ended.\n",
      "\tTop1_Acc_Exp/eval_phase/test_stream/Task000/Exp000 = 0.4835\n",
      "-- Starting eval on experience 1 (Task 1) from test stream --\n",
      "100%|██████████| 2/2 [00:06<00:00,  3.00s/it]\n",
      "> Eval on experience 1 (Task 1) from test stream ended.\n",
      "\tTop1_Acc_Exp/eval_phase/test_stream/Task001/Exp001 = 0.7965\n",
      "-- Starting eval on experience 2 (Task 2) from test stream --\n",
      "100%|██████████| 7/7 [00:06<00:00,  1.03it/s]\n",
      "> Eval on experience 2 (Task 2) from test stream ended.\n",
      "\tTop1_Acc_Exp/eval_phase/test_stream/Task002/Exp002 = 0.5708\n",
      "-- Starting eval on experience 3 (Task 1) from test stream --\n",
      "100%|██████████| 2/2 [00:05<00:00,  2.97s/it]\n",
      "> Eval on experience 3 (Task 1) from test stream ended.\n",
      "\tTop1_Acc_Exp/eval_phase/test_stream/Task001/Exp003 = 0.7965\n",
      "-- >> End of eval phase << --\n"
     ]
    },
    {
     "data": {
      "text/html": [
       "<pre style=\"white-space:pre;overflow-x:auto;line-height:normal;font-family:Menlo,'DejaVu Sans Mono',consolas,'Courier New',monospace\">Evaluation benchmark: Normal\n",
       "</pre>\n"
      ],
      "text/plain": [
       "Evaluation benchmark: Normal\n"
      ]
     },
     "metadata": {},
     "output_type": "display_data"
    },
    {
     "name": "stdout",
     "output_type": "stream",
     "text": [
      "-- >> Start of eval phase << --\n",
      "-- Starting eval on experience 0 (Task 0) from test stream --\n",
      "100%|██████████| 6/6 [00:06<00:00,  1.07s/it]\n",
      "> Eval on experience 0 (Task 0) from test stream ended.\n",
      "\tTop1_Acc_Exp/eval_phase/test_stream/Task000/Exp000 = 0.4835\n",
      "-- Starting eval on experience 1 (Task 0) from test stream --\n",
      "100%|██████████| 2/2 [00:05<00:00,  2.97s/it]\n",
      "> Eval on experience 1 (Task 0) from test stream ended.\n",
      "\tTop1_Acc_Exp/eval_phase/test_stream/Task000/Exp001 = 0.5671\n",
      "-- Starting eval on experience 2 (Task 0) from test stream --\n",
      "100%|██████████| 7/7 [00:07<00:00,  1.01s/it]\n",
      "> Eval on experience 2 (Task 0) from test stream ended.\n",
      "\tTop1_Acc_Exp/eval_phase/test_stream/Task000/Exp002 = 0.4329\n",
      "-- Starting eval on experience 1 (Task 0) from test stream --\n",
      "100%|██████████| 2/2 [00:05<00:00,  2.97s/it]\n",
      "> Eval on experience 1 (Task 0) from test stream ended.\n",
      "\tTop1_Acc_Exp/eval_phase/test_stream/Task000/Exp001 = 0.5671\n",
      "-- >> End of eval phase << --\n"
     ]
    },
    {
     "data": {
      "text/html": [
       "<pre style=\"white-space:pre;overflow-x:auto;line-height:normal;font-family:Menlo,'DejaVu Sans Mono',consolas,'Courier New',monospace\">----------------------------------------\n",
       "</pre>\n"
      ],
      "text/plain": [
       "----------------------------------------\n"
      ]
     },
     "metadata": {},
     "output_type": "display_data"
    },
    {
     "data": {
      "text/html": [
       "<pre style=\"white-space:pre;overflow-x:auto;line-height:normal;font-family:Menlo,'DejaVu Sans Mono',consolas,'Courier New',monospace\">\n",
       "</pre>\n"
      ],
      "text/plain": [
       "\n"
      ]
     },
     "metadata": {},
     "output_type": "display_data"
    },
    {
     "data": {
      "text/html": [
       "<pre style=\"white-space:pre;overflow-x:auto;line-height:normal;font-family:Menlo,'DejaVu Sans Mono',consolas,'Courier New',monospace\">Current experience:  <span style=\"color: #008080; text-decoration-color: #008080; font-weight: bold\">3</span>\n",
       "</pre>\n"
      ],
      "text/plain": [
       "Current experience:  \u001b[1;36m3\u001b[0m\n"
      ]
     },
     "metadata": {},
     "output_type": "display_data"
    },
    {
     "data": {
      "text/html": [
       "<pre style=\"white-space:pre;overflow-x:auto;line-height:normal;font-family:Menlo,'DejaVu Sans Mono',consolas,'Courier New',monospace\">Experience task ID  <span style=\"color: #008080; text-decoration-color: #008080; font-weight: bold\">3</span>\n",
       "</pre>\n"
      ],
      "text/plain": [
       "Experience task ID  \u001b[1;36m3\u001b[0m\n"
      ]
     },
     "metadata": {},
     "output_type": "display_data"
    },
    {
     "data": {
      "text/html": [
       "<pre style=\"white-space:pre;overflow-x:auto;line-height:normal;font-family:Menlo,'DejaVu Sans Mono',consolas,'Courier New',monospace\">Experience shape: <span style=\"color: #008080; text-decoration-color: #008080; font-weight: bold\">2048</span>\n",
       "</pre>\n"
      ],
      "text/plain": [
       "Experience shape: \u001b[1;36m2048\u001b[0m\n"
      ]
     },
     "metadata": {},
     "output_type": "display_data"
    },
    {
     "data": {
      "text/html": [
       "<pre style=\"white-space:pre;overflow-x:auto;line-height:normal;font-family:Menlo,'DejaVu Sans Mono',consolas,'Courier New',monospace\">Estimated number of clusters: <span style=\"color: #008080; text-decoration-color: #008080; font-weight: bold\">1</span>\n",
       "</pre>\n"
      ],
      "text/plain": [
       "Estimated number of clusters: \u001b[1;36m1\u001b[0m\n"
      ]
     },
     "metadata": {},
     "output_type": "display_data"
    },
    {
     "data": {
      "text/html": [
       "<pre style=\"white-space:pre;overflow-x:auto;line-height:normal;font-family:Menlo,'DejaVu Sans Mono',consolas,'Courier New',monospace\">Estimated number of noise points: <span style=\"color: #008080; text-decoration-color: #008080; font-weight: bold\">0</span>\n",
       "</pre>\n"
      ],
      "text/plain": [
       "Estimated number of noise points: \u001b[1;36m0\u001b[0m\n"
      ]
     },
     "metadata": {},
     "output_type": "display_data"
    },
    {
     "data": {
      "text/html": [
       "<pre style=\"white-space:pre;overflow-x:auto;line-height:normal;font-family:Menlo,'DejaVu Sans Mono',consolas,'Courier New',monospace\"># nearest centroids <span style=\"font-weight: bold\">(</span><span style=\"color: #008080; text-decoration-color: #008080; font-weight: bold\">0.54</span>%<span style=\"font-weight: bold\">)</span>:\n",
       "<span style=\"font-weight: bold\">(</span><span style=\"color: #008080; text-decoration-color: #008080; font-weight: bold\">11</span>, <span style=\"color: #008080; text-decoration-color: #008080; font-weight: bold\">512</span><span style=\"font-weight: bold\">)</span>\n",
       "</pre>\n"
      ],
      "text/plain": [
       "# nearest centroids \u001b[1m(\u001b[0m\u001b[1;36m0.54\u001b[0m%\u001b[1m)\u001b[0m:\n",
       "\u001b[1m(\u001b[0m\u001b[1;36m11\u001b[0m, \u001b[1;36m512\u001b[0m\u001b[1m)\u001b[0m\n"
      ]
     },
     "metadata": {},
     "output_type": "display_data"
    },
    {
     "data": {
      "text/html": [
       "<pre style=\"white-space:pre;overflow-x:auto;line-height:normal;font-family:Menlo,'DejaVu Sans Mono',consolas,'Courier New',monospace\">\n",
       "</pre>\n"
      ],
      "text/plain": [
       "\n"
      ]
     },
     "metadata": {},
     "output_type": "display_data"
    },
    {
     "data": {
      "text/html": [
       "<pre style=\"white-space:pre;overflow-x:auto;line-height:normal;font-family:Menlo,'DejaVu Sans Mono',consolas,'Courier New',monospace\">Calculating drift between <span style=\"color: #800080; text-decoration-color: #800080; font-weight: bold\">Task</span><span style=\"font-weight: bold\">(</span><span style=\"color: #808000; text-decoration-color: #808000\">current</span>=<span style=\"color: #008080; text-decoration-color: #008080; font-weight: bold\">3</span>, <span style=\"color: #808000; text-decoration-color: #808000\">memory</span>=<span style=\"color: #008080; text-decoration-color: #008080; font-weight: bold\">2</span><span style=\"font-weight: bold\">)</span>\n",
       "</pre>\n"
      ],
      "text/plain": [
       "Calculating drift between \u001b[1;35mTask\u001b[0m\u001b[1m(\u001b[0m\u001b[33mcurrent\u001b[0m=\u001b[1;36m3\u001b[0m, \u001b[33mmemory\u001b[0m=\u001b[1;36m2\u001b[0m\u001b[1m)\u001b[0m\n"
      ]
     },
     "metadata": {},
     "output_type": "display_data"
    },
    {
     "data": {
      "text/html": [
       "<pre style=\"white-space:pre;overflow-x:auto;line-height:normal;font-family:Menlo,'DejaVu Sans Mono',consolas,'Courier New',monospace\">Drift = <span style=\"color: #008080; text-decoration-color: #008080; font-weight: bold\">1</span>\n",
       "</pre>\n"
      ],
      "text/plain": [
       "Drift = \u001b[1;36m1\u001b[0m\n"
      ]
     },
     "metadata": {},
     "output_type": "display_data"
    },
    {
     "data": {
      "text/html": [
       "<pre style=\"white-space:pre;overflow-x:auto;line-height:normal;font-family:Menlo,'DejaVu Sans Mono',consolas,'Courier New',monospace\">Calculating drift between <span style=\"color: #800080; text-decoration-color: #800080; font-weight: bold\">Task</span><span style=\"font-weight: bold\">(</span><span style=\"color: #808000; text-decoration-color: #808000\">current</span>=<span style=\"color: #008080; text-decoration-color: #008080; font-weight: bold\">3</span>, <span style=\"color: #808000; text-decoration-color: #808000\">memory</span>=<span style=\"color: #008080; text-decoration-color: #008080; font-weight: bold\">1</span><span style=\"font-weight: bold\">)</span>\n",
       "</pre>\n"
      ],
      "text/plain": [
       "Calculating drift between \u001b[1;35mTask\u001b[0m\u001b[1m(\u001b[0m\u001b[33mcurrent\u001b[0m=\u001b[1;36m3\u001b[0m, \u001b[33mmemory\u001b[0m=\u001b[1;36m1\u001b[0m\u001b[1m)\u001b[0m\n"
      ]
     },
     "metadata": {},
     "output_type": "display_data"
    },
    {
     "data": {
      "text/html": [
       "<pre style=\"white-space:pre;overflow-x:auto;line-height:normal;font-family:Menlo,'DejaVu Sans Mono',consolas,'Courier New',monospace\">Drift = <span style=\"color: #008080; text-decoration-color: #008080; font-weight: bold\">1</span>\n",
       "</pre>\n"
      ],
      "text/plain": [
       "Drift = \u001b[1;36m1\u001b[0m\n"
      ]
     },
     "metadata": {},
     "output_type": "display_data"
    },
    {
     "data": {
      "text/html": [
       "<pre style=\"white-space:pre;overflow-x:auto;line-height:normal;font-family:Menlo,'DejaVu Sans Mono',consolas,'Courier New',monospace\">Calculating drift between <span style=\"color: #800080; text-decoration-color: #800080; font-weight: bold\">Task</span><span style=\"font-weight: bold\">(</span><span style=\"color: #808000; text-decoration-color: #808000\">current</span>=<span style=\"color: #008080; text-decoration-color: #008080; font-weight: bold\">3</span>, <span style=\"color: #808000; text-decoration-color: #808000\">memory</span>=<span style=\"color: #008080; text-decoration-color: #008080; font-weight: bold\">0</span><span style=\"font-weight: bold\">)</span>\n",
       "</pre>\n"
      ],
      "text/plain": [
       "Calculating drift between \u001b[1;35mTask\u001b[0m\u001b[1m(\u001b[0m\u001b[33mcurrent\u001b[0m=\u001b[1;36m3\u001b[0m, \u001b[33mmemory\u001b[0m=\u001b[1;36m0\u001b[0m\u001b[1m)\u001b[0m\n"
      ]
     },
     "metadata": {},
     "output_type": "display_data"
    },
    {
     "data": {
      "text/html": [
       "<pre style=\"white-space:pre;overflow-x:auto;line-height:normal;font-family:Menlo,'DejaVu Sans Mono',consolas,'Courier New',monospace\">Drift = <span style=\"color: #008080; text-decoration-color: #008080; font-weight: bold\">1</span>\n",
       "</pre>\n"
      ],
      "text/plain": [
       "Drift = \u001b[1;36m1\u001b[0m\n"
      ]
     },
     "metadata": {},
     "output_type": "display_data"
    },
    {
     "data": {
      "text/html": [
       "<pre style=\"white-space:pre;overflow-x:auto;line-height:normal;font-family:Menlo,'DejaVu Sans Mono',consolas,'Courier New',monospace\">Saving nearest centroids into Memory\n",
       "</pre>\n"
      ],
      "text/plain": [
       "Saving nearest centroids into Memory\n"
      ]
     },
     "metadata": {},
     "output_type": "display_data"
    },
    {
     "data": {
      "text/html": [
       "<pre style=\"white-space:pre;overflow-x:auto;line-height:normal;font-family:Menlo,'DejaVu Sans Mono',consolas,'Courier New',monospace\">Memory:\n",
       "<span style=\"font-weight: bold\">[</span>\n",
       "    <span style=\"color: #800080; text-decoration-color: #800080; font-weight: bold\">Memory</span><span style=\"font-weight: bold\">(</span><span style=\"color: #808000; text-decoration-color: #808000\">task</span>=<span style=\"color: #008080; text-decoration-color: #008080; font-weight: bold\">0</span>, <span style=\"color: #808000; text-decoration-color: #808000\">shape</span>=<span style=\"font-weight: bold\">(</span><span style=\"color: #008080; text-decoration-color: #008080; font-weight: bold\">11</span>, <span style=\"color: #008080; text-decoration-color: #008080; font-weight: bold\">512</span><span style=\"font-weight: bold\">))</span>,\n",
       "    <span style=\"color: #800080; text-decoration-color: #800080; font-weight: bold\">Memory</span><span style=\"font-weight: bold\">(</span><span style=\"color: #808000; text-decoration-color: #808000\">task</span>=<span style=\"color: #008080; text-decoration-color: #008080; font-weight: bold\">1</span>, <span style=\"color: #808000; text-decoration-color: #808000\">shape</span>=<span style=\"font-weight: bold\">(</span><span style=\"color: #008080; text-decoration-color: #008080; font-weight: bold\">11</span>, <span style=\"color: #008080; text-decoration-color: #008080; font-weight: bold\">512</span><span style=\"font-weight: bold\">))</span>,\n",
       "    <span style=\"color: #800080; text-decoration-color: #800080; font-weight: bold\">Memory</span><span style=\"font-weight: bold\">(</span><span style=\"color: #808000; text-decoration-color: #808000\">task</span>=<span style=\"color: #008080; text-decoration-color: #008080; font-weight: bold\">2</span>, <span style=\"color: #808000; text-decoration-color: #808000\">shape</span>=<span style=\"font-weight: bold\">(</span><span style=\"color: #008080; text-decoration-color: #008080; font-weight: bold\">11</span>, <span style=\"color: #008080; text-decoration-color: #008080; font-weight: bold\">512</span><span style=\"font-weight: bold\">))</span>,\n",
       "    <span style=\"color: #800080; text-decoration-color: #800080; font-weight: bold\">Memory</span><span style=\"font-weight: bold\">(</span><span style=\"color: #808000; text-decoration-color: #808000\">task</span>=<span style=\"color: #008080; text-decoration-color: #008080; font-weight: bold\">3</span>, <span style=\"color: #808000; text-decoration-color: #808000\">shape</span>=<span style=\"font-weight: bold\">(</span><span style=\"color: #008080; text-decoration-color: #008080; font-weight: bold\">11</span>, <span style=\"color: #008080; text-decoration-color: #008080; font-weight: bold\">512</span><span style=\"font-weight: bold\">))</span>\n",
       "<span style=\"font-weight: bold\">]</span>\n",
       "</pre>\n"
      ],
      "text/plain": [
       "Memory:\n",
       "\u001b[1m[\u001b[0m\n",
       "    \u001b[1;35mMemory\u001b[0m\u001b[1m(\u001b[0m\u001b[33mtask\u001b[0m=\u001b[1;36m0\u001b[0m, \u001b[33mshape\u001b[0m=\u001b[1m(\u001b[0m\u001b[1;36m11\u001b[0m, \u001b[1;36m512\u001b[0m\u001b[1m)\u001b[0m\u001b[1m)\u001b[0m,\n",
       "    \u001b[1;35mMemory\u001b[0m\u001b[1m(\u001b[0m\u001b[33mtask\u001b[0m=\u001b[1;36m1\u001b[0m, \u001b[33mshape\u001b[0m=\u001b[1m(\u001b[0m\u001b[1;36m11\u001b[0m, \u001b[1;36m512\u001b[0m\u001b[1m)\u001b[0m\u001b[1m)\u001b[0m,\n",
       "    \u001b[1;35mMemory\u001b[0m\u001b[1m(\u001b[0m\u001b[33mtask\u001b[0m=\u001b[1;36m2\u001b[0m, \u001b[33mshape\u001b[0m=\u001b[1m(\u001b[0m\u001b[1;36m11\u001b[0m, \u001b[1;36m512\u001b[0m\u001b[1m)\u001b[0m\u001b[1m)\u001b[0m,\n",
       "    \u001b[1;35mMemory\u001b[0m\u001b[1m(\u001b[0m\u001b[33mtask\u001b[0m=\u001b[1;36m3\u001b[0m, \u001b[33mshape\u001b[0m=\u001b[1m(\u001b[0m\u001b[1;36m11\u001b[0m, \u001b[1;36m512\u001b[0m\u001b[1m)\u001b[0m\u001b[1m)\u001b[0m\n",
       "\u001b[1m]\u001b[0m\n"
      ]
     },
     "metadata": {},
     "output_type": "display_data"
    },
    {
     "data": {
      "text/html": [
       "<pre style=\"white-space:pre;overflow-x:auto;line-height:normal;font-family:Menlo,'DejaVu Sans Mono',consolas,'Courier New',monospace\">Memory tasks: <span style=\"font-weight: bold\">[</span><span style=\"color: #008080; text-decoration-color: #008080; font-weight: bold\">0</span>, <span style=\"color: #008080; text-decoration-color: #008080; font-weight: bold\">1</span>, <span style=\"color: #008080; text-decoration-color: #008080; font-weight: bold\">2</span>, <span style=\"color: #008080; text-decoration-color: #008080; font-weight: bold\">3</span><span style=\"font-weight: bold\">]</span>\n",
       "</pre>\n"
      ],
      "text/plain": [
       "Memory tasks: \u001b[1m[\u001b[0m\u001b[1;36m0\u001b[0m, \u001b[1;36m1\u001b[0m, \u001b[1;36m2\u001b[0m, \u001b[1;36m3\u001b[0m\u001b[1m]\u001b[0m\n"
      ]
     },
     "metadata": {},
     "output_type": "display_data"
    },
    {
     "data": {
      "text/html": [
       "<pre style=\"white-space:pre;overflow-x:auto;line-height:normal;font-family:Menlo,'DejaVu Sans Mono',consolas,'Courier New',monospace\">Training multi-head model\n",
       "</pre>\n"
      ],
      "text/plain": [
       "Training multi-head model\n"
      ]
     },
     "metadata": {},
     "output_type": "display_data"
    },
    {
     "name": "stdout",
     "output_type": "stream",
     "text": [
      "-- >> Start of training phase << --\n",
      "100%|██████████| 11/11 [00:13<00:00,  1.22s/it]\n",
      "Epoch 0 ended.\n",
      "100%|██████████| 11/11 [00:13<00:00,  1.20s/it]\n",
      "Epoch 1 ended.\n",
      "100%|██████████| 11/11 [00:13<00:00,  1.26s/it]\n",
      "Epoch 2 ended.\n",
      "-- >> End of training phase << --\n"
     ]
    },
    {
     "data": {
      "text/html": [
       "<pre style=\"white-space:pre;overflow-x:auto;line-height:normal;font-family:Menlo,'DejaVu Sans Mono',consolas,'Courier New',monospace\">Training multi-head model completed\n",
       "</pre>\n"
      ],
      "text/plain": [
       "Training multi-head model completed\n"
      ]
     },
     "metadata": {},
     "output_type": "display_data"
    },
    {
     "data": {
      "text/html": [
       "<pre style=\"white-space:pre;overflow-x:auto;line-height:normal;font-family:Menlo,'DejaVu Sans Mono',consolas,'Courier New',monospace\">Getting Task Classifier\n",
       "</pre>\n"
      ],
      "text/plain": [
       "Getting Task Classifier\n"
      ]
     },
     "metadata": {},
     "output_type": "display_data"
    },
    {
     "data": {
      "text/html": [
       "<pre style=\"white-space:pre;overflow-x:auto;line-height:normal;font-family:Menlo,'DejaVu Sans Mono',consolas,'Courier New',monospace\">x_train_knn_total shape: \n",
       "<span style=\"font-weight: bold\">(</span><span style=\"color: #008080; text-decoration-color: #008080; font-weight: bold\">44</span>, <span style=\"color: #008080; text-decoration-color: #008080; font-weight: bold\">512</span><span style=\"font-weight: bold\">)</span>\n",
       "</pre>\n"
      ],
      "text/plain": [
       "x_train_knn_total shape: \n",
       "\u001b[1m(\u001b[0m\u001b[1;36m44\u001b[0m, \u001b[1;36m512\u001b[0m\u001b[1m)\u001b[0m\n"
      ]
     },
     "metadata": {},
     "output_type": "display_data"
    },
    {
     "data": {
      "text/html": [
       "<pre style=\"white-space:pre;overflow-x:auto;line-height:normal;font-family:Menlo,'DejaVu Sans Mono',consolas,'Courier New',monospace\">y_train_knn_total shape\n",
       "<span style=\"font-weight: bold\">(</span><span style=\"color: #008080; text-decoration-color: #008080; font-weight: bold\">44</span>,<span style=\"font-weight: bold\">)</span>\n",
       "</pre>\n"
      ],
      "text/plain": [
       "y_train_knn_total shape\n",
       "\u001b[1m(\u001b[0m\u001b[1;36m44\u001b[0m,\u001b[1m)\u001b[0m\n"
      ]
     },
     "metadata": {},
     "output_type": "display_data"
    },
    {
     "data": {
      "text/html": [
       "<pre style=\"white-space:pre;overflow-x:auto;line-height:normal;font-family:Menlo,'DejaVu Sans Mono',consolas,'Courier New',monospace\">Using the classifier:\n",
       "</pre>\n"
      ],
      "text/plain": [
       "Using the classifier:\n"
      ]
     },
     "metadata": {},
     "output_type": "display_data"
    },
    {
     "data": {
      "text/html": [
       "<pre style=\"white-space:pre;overflow-x:auto;line-height:normal;font-family:Menlo,'DejaVu Sans Mono',consolas,'Courier New',monospace\">Count predictions: \n",
       "<span style=\"font-weight: bold\">{</span><span style=\"color: #008080; text-decoration-color: #008080; font-weight: bold\">0</span>: <span style=\"color: #008080; text-decoration-color: #008080; font-weight: bold\">36</span>, <span style=\"color: #008080; text-decoration-color: #008080; font-weight: bold\">1</span>: <span style=\"color: #008080; text-decoration-color: #008080; font-weight: bold\">202</span>, <span style=\"color: #008080; text-decoration-color: #008080; font-weight: bold\">2</span>: <span style=\"color: #008080; text-decoration-color: #008080; font-weight: bold\">27</span>, <span style=\"color: #008080; text-decoration-color: #008080; font-weight: bold\">3</span>: <span style=\"color: #008080; text-decoration-color: #008080; font-weight: bold\">247</span><span style=\"font-weight: bold\">}</span>\n",
       "</pre>\n"
      ],
      "text/plain": [
       "Count predictions: \n",
       "\u001b[1m{\u001b[0m\u001b[1;36m0\u001b[0m: \u001b[1;36m36\u001b[0m, \u001b[1;36m1\u001b[0m: \u001b[1;36m202\u001b[0m, \u001b[1;36m2\u001b[0m: \u001b[1;36m27\u001b[0m, \u001b[1;36m3\u001b[0m: \u001b[1;36m247\u001b[0m\u001b[1m}\u001b[0m\n"
      ]
     },
     "metadata": {},
     "output_type": "display_data"
    },
    {
     "data": {
      "text/html": [
       "<pre style=\"white-space:pre;overflow-x:auto;line-height:normal;font-family:Menlo,'DejaVu Sans Mono',consolas,'Courier New',monospace\">Using the mode to get the most voted prediction:\n",
       "</pre>\n"
      ],
      "text/plain": [
       "Using the mode to get the most voted prediction:\n"
      ]
     },
     "metadata": {},
     "output_type": "display_data"
    },
    {
     "data": {
      "text/html": [
       "<pre style=\"white-space:pre;overflow-x:auto;line-height:normal;font-family:Menlo,'DejaVu Sans Mono',consolas,'Courier New',monospace\">Count predictions after: \n",
       "<span style=\"font-weight: bold\">{</span><span style=\"color: #008080; text-decoration-color: #008080; font-weight: bold\">3</span>: <span style=\"color: #008080; text-decoration-color: #008080; font-weight: bold\">512</span><span style=\"font-weight: bold\">}</span>\n",
       "</pre>\n"
      ],
      "text/plain": [
       "Count predictions after: \n",
       "\u001b[1m{\u001b[0m\u001b[1;36m3\u001b[0m: \u001b[1;36m512\u001b[0m\u001b[1m}\u001b[0m\n"
      ]
     },
     "metadata": {},
     "output_type": "display_data"
    },
    {
     "data": {
      "text/html": [
       "<pre style=\"white-space:pre;overflow-x:auto;line-height:normal;font-family:Menlo,'DejaVu Sans Mono',consolas,'Courier New',monospace\">Predictions: <span style=\"font-weight: bold\">[</span><span style=\"color: #008080; text-decoration-color: #008080; font-weight: bold\">3</span> <span style=\"color: #008080; text-decoration-color: #008080; font-weight: bold\">3</span> <span style=\"color: #008080; text-decoration-color: #008080; font-weight: bold\">3</span> <span style=\"color: #008080; text-decoration-color: #008080; font-weight: bold\">3</span> <span style=\"color: #008080; text-decoration-color: #008080; font-weight: bold\">3</span> <span style=\"color: #008080; text-decoration-color: #008080; font-weight: bold\">3</span> <span style=\"color: #008080; text-decoration-color: #008080; font-weight: bold\">3</span> <span style=\"color: #008080; text-decoration-color: #008080; font-weight: bold\">3</span> <span style=\"color: #008080; text-decoration-color: #008080; font-weight: bold\">3</span> <span style=\"color: #008080; text-decoration-color: #008080; font-weight: bold\">3</span><span style=\"font-weight: bold\">]</span>\n",
       "</pre>\n"
      ],
      "text/plain": [
       "Predictions: \u001b[1m[\u001b[0m\u001b[1;36m3\u001b[0m \u001b[1;36m3\u001b[0m \u001b[1;36m3\u001b[0m \u001b[1;36m3\u001b[0m \u001b[1;36m3\u001b[0m \u001b[1;36m3\u001b[0m \u001b[1;36m3\u001b[0m \u001b[1;36m3\u001b[0m \u001b[1;36m3\u001b[0m \u001b[1;36m3\u001b[0m\u001b[1m]\u001b[0m\n"
      ]
     },
     "metadata": {},
     "output_type": "display_data"
    },
    {
     "data": {
      "text/html": [
       "<pre style=\"white-space:pre;overflow-x:auto;line-height:normal;font-family:Menlo,'DejaVu Sans Mono',consolas,'Courier New',monospace\">Predictions shape: <span style=\"font-weight: bold\">(</span><span style=\"color: #008080; text-decoration-color: #008080; font-weight: bold\">512</span>,<span style=\"font-weight: bold\">)</span>\n",
       "</pre>\n"
      ],
      "text/plain": [
       "Predictions shape: \u001b[1m(\u001b[0m\u001b[1;36m512\u001b[0m,\u001b[1m)\u001b[0m\n"
      ]
     },
     "metadata": {},
     "output_type": "display_data"
    },
    {
     "data": {
      "text/html": [
       "<pre style=\"white-space:pre;overflow-x:auto;line-height:normal;font-family:Menlo,'DejaVu Sans Mono',consolas,'Courier New',monospace\">Evaluation benchmark: Ground Truth\n",
       "</pre>\n"
      ],
      "text/plain": [
       "Evaluation benchmark: Ground Truth\n"
      ]
     },
     "metadata": {},
     "output_type": "display_data"
    },
    {
     "name": "stdout",
     "output_type": "stream",
     "text": [
      "-- >> Start of eval phase << --\n",
      "-- Starting eval on experience 0 (Task 0) from test stream --\n",
      "100%|██████████| 6/6 [00:06<00:00,  1.07s/it]\n",
      "> Eval on experience 0 (Task 0) from test stream ended.\n",
      "\tTop1_Acc_Exp/eval_phase/test_stream/Task000/Exp000 = 0.5320\n",
      "-- Starting eval on experience 1 (Task 1) from test stream --\n",
      "100%|██████████| 2/2 [00:05<00:00,  2.91s/it]\n",
      "> Eval on experience 1 (Task 1) from test stream ended.\n",
      "\tTop1_Acc_Exp/eval_phase/test_stream/Task001/Exp001 = 0.8312\n",
      "-- Starting eval on experience 2 (Task 2) from test stream --\n",
      "100%|██████████| 7/7 [00:07<00:00,  1.00s/it]\n",
      "> Eval on experience 2 (Task 2) from test stream ended.\n",
      "\tTop1_Acc_Exp/eval_phase/test_stream/Task002/Exp002 = 0.5182\n",
      "-- Starting eval on experience 1 (Task 1) from test stream --\n",
      "100%|██████████| 2/2 [00:06<00:00,  3.01s/it]\n",
      "> Eval on experience 1 (Task 1) from test stream ended.\n",
      "\tTop1_Acc_Exp/eval_phase/test_stream/Task001/Exp001 = 0.8312\n",
      "-- Starting eval on experience 3 (Task 3) from test stream --\n",
      "100%|██████████| 3/3 [00:06<00:00,  2.13s/it]\n",
      "> Eval on experience 3 (Task 3) from test stream ended.\n",
      "\tTop1_Acc_Exp/eval_phase/test_stream/Task003/Exp003 = 0.8457\n",
      "-- >> End of eval phase << --\n"
     ]
    },
    {
     "data": {
      "text/html": [
       "<pre style=\"white-space:pre;overflow-x:auto;line-height:normal;font-family:Menlo,'DejaVu Sans Mono',consolas,'Courier New',monospace\">Evaluation benchmark: TADIL\n",
       "</pre>\n"
      ],
      "text/plain": [
       "Evaluation benchmark: TADIL\n"
      ]
     },
     "metadata": {},
     "output_type": "display_data"
    },
    {
     "name": "stdout",
     "output_type": "stream",
     "text": [
      "-- >> Start of eval phase << --\n",
      "-- Starting eval on experience 0 (Task 0) from test stream --\n",
      "100%|██████████| 6/6 [00:06<00:00,  1.09s/it]\n",
      "> Eval on experience 0 (Task 0) from test stream ended.\n",
      "\tTop1_Acc_Exp/eval_phase/test_stream/Task000/Exp000 = 0.5320\n",
      "-- Starting eval on experience 1 (Task 1) from test stream --\n",
      "100%|██████████| 2/2 [00:06<00:00,  3.02s/it]\n",
      "> Eval on experience 1 (Task 1) from test stream ended.\n",
      "\tTop1_Acc_Exp/eval_phase/test_stream/Task001/Exp001 = 0.8312\n",
      "-- Starting eval on experience 2 (Task 2) from test stream --\n",
      "100%|██████████| 7/7 [00:07<00:00,  1.00s/it]\n",
      "> Eval on experience 2 (Task 2) from test stream ended.\n",
      "\tTop1_Acc_Exp/eval_phase/test_stream/Task002/Exp002 = 0.5182\n",
      "-- Starting eval on experience 3 (Task 1) from test stream --\n",
      "100%|██████████| 2/2 [00:05<00:00,  2.98s/it]\n",
      "> Eval on experience 3 (Task 1) from test stream ended.\n",
      "\tTop1_Acc_Exp/eval_phase/test_stream/Task001/Exp003 = 0.8312\n",
      "-- Starting eval on experience 4 (Task 3) from test stream --\n",
      "100%|██████████| 3/3 [00:06<00:00,  2.12s/it]\n",
      "> Eval on experience 4 (Task 3) from test stream ended.\n",
      "\tTop1_Acc_Exp/eval_phase/test_stream/Task003/Exp004 = 0.8457\n",
      "-- >> End of eval phase << --\n"
     ]
    },
    {
     "data": {
      "text/html": [
       "<pre style=\"white-space:pre;overflow-x:auto;line-height:normal;font-family:Menlo,'DejaVu Sans Mono',consolas,'Courier New',monospace\">Evaluation benchmark: Normal\n",
       "</pre>\n"
      ],
      "text/plain": [
       "Evaluation benchmark: Normal\n"
      ]
     },
     "metadata": {},
     "output_type": "display_data"
    },
    {
     "name": "stdout",
     "output_type": "stream",
     "text": [
      "-- >> Start of eval phase << --\n",
      "-- Starting eval on experience 0 (Task 0) from test stream --\n",
      "100%|██████████| 6/6 [00:06<00:00,  1.08s/it]\n",
      "> Eval on experience 0 (Task 0) from test stream ended.\n",
      "\tTop1_Acc_Exp/eval_phase/test_stream/Task000/Exp000 = 0.5320\n",
      "-- Starting eval on experience 1 (Task 0) from test stream --\n",
      "100%|██████████| 2/2 [00:05<00:00,  3.00s/it]\n",
      "> Eval on experience 1 (Task 0) from test stream ended.\n",
      "\tTop1_Acc_Exp/eval_phase/test_stream/Task000/Exp001 = 0.7965\n",
      "-- Starting eval on experience 2 (Task 0) from test stream --\n",
      "100%|██████████| 7/7 [00:06<00:00,  1.01it/s]\n",
      "> Eval on experience 2 (Task 0) from test stream ended.\n",
      "\tTop1_Acc_Exp/eval_phase/test_stream/Task000/Exp002 = 0.5204\n",
      "-- Starting eval on experience 1 (Task 0) from test stream --\n",
      "100%|██████████| 2/2 [00:06<00:00,  3.01s/it]\n",
      "> Eval on experience 1 (Task 0) from test stream ended.\n",
      "\tTop1_Acc_Exp/eval_phase/test_stream/Task000/Exp001 = 0.7965\n",
      "-- Starting eval on experience 3 (Task 0) from test stream --\n",
      "100%|██████████| 3/3 [00:06<00:00,  2.13s/it]\n",
      "> Eval on experience 3 (Task 0) from test stream ended.\n",
      "\tTop1_Acc_Exp/eval_phase/test_stream/Task000/Exp003 = 0.8164\n",
      "-- >> End of eval phase << --\n"
     ]
    },
    {
     "data": {
      "text/html": [
       "<pre style=\"white-space:pre;overflow-x:auto;line-height:normal;font-family:Menlo,'DejaVu Sans Mono',consolas,'Courier New',monospace\">----------------------------------------\n",
       "</pre>\n"
      ],
      "text/plain": [
       "----------------------------------------\n"
      ]
     },
     "metadata": {},
     "output_type": "display_data"
    },
    {
     "data": {
      "text/html": [
       "<pre style=\"white-space:pre;overflow-x:auto;line-height:normal;font-family:Menlo,'DejaVu Sans Mono',consolas,'Courier New',monospace\">\n",
       "</pre>\n"
      ],
      "text/plain": [
       "\n"
      ]
     },
     "metadata": {},
     "output_type": "display_data"
    },
    {
     "data": {
      "text/html": [
       "<pre style=\"white-space:pre;overflow-x:auto;line-height:normal;font-family:Menlo,'DejaVu Sans Mono',consolas,'Courier New',monospace\">Current experience:  <span style=\"color: #008080; text-decoration-color: #008080; font-weight: bold\">3</span>\n",
       "</pre>\n"
      ],
      "text/plain": [
       "Current experience:  \u001b[1;36m3\u001b[0m\n"
      ]
     },
     "metadata": {},
     "output_type": "display_data"
    },
    {
     "data": {
      "text/html": [
       "<pre style=\"white-space:pre;overflow-x:auto;line-height:normal;font-family:Menlo,'DejaVu Sans Mono',consolas,'Courier New',monospace\">Experience task ID  <span style=\"color: #008080; text-decoration-color: #008080; font-weight: bold\">3</span>\n",
       "</pre>\n"
      ],
      "text/plain": [
       "Experience task ID  \u001b[1;36m3\u001b[0m\n"
      ]
     },
     "metadata": {},
     "output_type": "display_data"
    },
    {
     "data": {
      "text/html": [
       "<pre style=\"white-space:pre;overflow-x:auto;line-height:normal;font-family:Menlo,'DejaVu Sans Mono',consolas,'Courier New',monospace\">Experience shape: <span style=\"color: #008080; text-decoration-color: #008080; font-weight: bold\">2048</span>\n",
       "</pre>\n"
      ],
      "text/plain": [
       "Experience shape: \u001b[1;36m2048\u001b[0m\n"
      ]
     },
     "metadata": {},
     "output_type": "display_data"
    },
    {
     "data": {
      "text/html": [
       "<pre style=\"white-space:pre;overflow-x:auto;line-height:normal;font-family:Menlo,'DejaVu Sans Mono',consolas,'Courier New',monospace\">Estimated number of clusters: <span style=\"color: #008080; text-decoration-color: #008080; font-weight: bold\">1</span>\n",
       "</pre>\n"
      ],
      "text/plain": [
       "Estimated number of clusters: \u001b[1;36m1\u001b[0m\n"
      ]
     },
     "metadata": {},
     "output_type": "display_data"
    },
    {
     "data": {
      "text/html": [
       "<pre style=\"white-space:pre;overflow-x:auto;line-height:normal;font-family:Menlo,'DejaVu Sans Mono',consolas,'Courier New',monospace\">Estimated number of noise points: <span style=\"color: #008080; text-decoration-color: #008080; font-weight: bold\">0</span>\n",
       "</pre>\n"
      ],
      "text/plain": [
       "Estimated number of noise points: \u001b[1;36m0\u001b[0m\n"
      ]
     },
     "metadata": {},
     "output_type": "display_data"
    },
    {
     "data": {
      "text/html": [
       "<pre style=\"white-space:pre;overflow-x:auto;line-height:normal;font-family:Menlo,'DejaVu Sans Mono',consolas,'Courier New',monospace\"># nearest centroids <span style=\"font-weight: bold\">(</span><span style=\"color: #008080; text-decoration-color: #008080; font-weight: bold\">0.54</span>%<span style=\"font-weight: bold\">)</span>:\n",
       "<span style=\"font-weight: bold\">(</span><span style=\"color: #008080; text-decoration-color: #008080; font-weight: bold\">11</span>, <span style=\"color: #008080; text-decoration-color: #008080; font-weight: bold\">512</span><span style=\"font-weight: bold\">)</span>\n",
       "</pre>\n"
      ],
      "text/plain": [
       "# nearest centroids \u001b[1m(\u001b[0m\u001b[1;36m0.54\u001b[0m%\u001b[1m)\u001b[0m:\n",
       "\u001b[1m(\u001b[0m\u001b[1;36m11\u001b[0m, \u001b[1;36m512\u001b[0m\u001b[1m)\u001b[0m\n"
      ]
     },
     "metadata": {},
     "output_type": "display_data"
    },
    {
     "data": {
      "text/html": [
       "<pre style=\"white-space:pre;overflow-x:auto;line-height:normal;font-family:Menlo,'DejaVu Sans Mono',consolas,'Courier New',monospace\">\n",
       "</pre>\n"
      ],
      "text/plain": [
       "\n"
      ]
     },
     "metadata": {},
     "output_type": "display_data"
    },
    {
     "data": {
      "text/html": [
       "<pre style=\"white-space:pre;overflow-x:auto;line-height:normal;font-family:Menlo,'DejaVu Sans Mono',consolas,'Courier New',monospace\">Calculating drift between <span style=\"color: #800080; text-decoration-color: #800080; font-weight: bold\">Task</span><span style=\"font-weight: bold\">(</span><span style=\"color: #808000; text-decoration-color: #808000\">current</span>=<span style=\"color: #008080; text-decoration-color: #008080; font-weight: bold\">3</span>, <span style=\"color: #808000; text-decoration-color: #808000\">memory</span>=<span style=\"color: #008080; text-decoration-color: #008080; font-weight: bold\">3</span><span style=\"font-weight: bold\">)</span>\n",
       "</pre>\n"
      ],
      "text/plain": [
       "Calculating drift between \u001b[1;35mTask\u001b[0m\u001b[1m(\u001b[0m\u001b[33mcurrent\u001b[0m=\u001b[1;36m3\u001b[0m, \u001b[33mmemory\u001b[0m=\u001b[1;36m3\u001b[0m\u001b[1m)\u001b[0m\n"
      ]
     },
     "metadata": {},
     "output_type": "display_data"
    },
    {
     "data": {
      "text/html": [
       "<pre style=\"white-space:pre;overflow-x:auto;line-height:normal;font-family:Menlo,'DejaVu Sans Mono',consolas,'Courier New',monospace\">Drift = <span style=\"color: #008080; text-decoration-color: #008080; font-weight: bold\">0</span>\n",
       "</pre>\n"
      ],
      "text/plain": [
       "Drift = \u001b[1;36m0\u001b[0m\n"
      ]
     },
     "metadata": {},
     "output_type": "display_data"
    },
    {
     "data": {
      "text/html": [
       "<pre style=\"white-space:pre;overflow-x:auto;line-height:normal;font-family:Menlo,'DejaVu Sans Mono',consolas,'Courier New',monospace\">Using the task classifier to predict Task ID\n",
       "</pre>\n"
      ],
      "text/plain": [
       "Using the task classifier to predict Task ID\n"
      ]
     },
     "metadata": {},
     "output_type": "display_data"
    },
    {
     "data": {
      "text/html": [
       "<pre style=\"white-space:pre;overflow-x:auto;line-height:normal;font-family:Menlo,'DejaVu Sans Mono',consolas,'Courier New',monospace\">Expected task is <span style=\"color: #008080; text-decoration-color: #008080; font-weight: bold\">3</span>, but predicted <span style=\"color: #008080; text-decoration-color: #008080; font-weight: bold\">1</span>\n",
       "</pre>\n"
      ],
      "text/plain": [
       "Expected task is \u001b[1;36m3\u001b[0m, but predicted \u001b[1;36m1\u001b[0m\n"
      ]
     },
     "metadata": {},
     "output_type": "display_data"
    },
    {
     "data": {
      "text/html": [
       "<pre style=\"white-space:pre;overflow-x:auto;line-height:normal;font-family:Menlo,'DejaVu Sans Mono',consolas,'Courier New',monospace\">Expected task <span style=\"color: #008080; text-decoration-color: #008080; font-weight: bold\">3</span> == predicted task <span style=\"color: #008080; text-decoration-color: #008080; font-weight: bold\">1</span>\n",
       "</pre>\n"
      ],
      "text/plain": [
       "Expected task \u001b[1;36m3\u001b[0m == predicted task \u001b[1;36m1\u001b[0m\n"
      ]
     },
     "metadata": {},
     "output_type": "display_data"
    },
    {
     "data": {
      "text/html": [
       "<pre style=\"white-space:pre;overflow-x:auto;line-height:normal;font-family:Menlo,'DejaVu Sans Mono',consolas,'Courier New',monospace\">Using the classifier:\n",
       "</pre>\n"
      ],
      "text/plain": [
       "Using the classifier:\n"
      ]
     },
     "metadata": {},
     "output_type": "display_data"
    },
    {
     "data": {
      "text/html": [
       "<pre style=\"white-space:pre;overflow-x:auto;line-height:normal;font-family:Menlo,'DejaVu Sans Mono',consolas,'Courier New',monospace\">Count predictions: \n",
       "<span style=\"font-weight: bold\">{</span><span style=\"color: #008080; text-decoration-color: #008080; font-weight: bold\">0</span>: <span style=\"color: #008080; text-decoration-color: #008080; font-weight: bold\">36</span>, <span style=\"color: #008080; text-decoration-color: #008080; font-weight: bold\">1</span>: <span style=\"color: #008080; text-decoration-color: #008080; font-weight: bold\">202</span>, <span style=\"color: #008080; text-decoration-color: #008080; font-weight: bold\">2</span>: <span style=\"color: #008080; text-decoration-color: #008080; font-weight: bold\">27</span>, <span style=\"color: #008080; text-decoration-color: #008080; font-weight: bold\">3</span>: <span style=\"color: #008080; text-decoration-color: #008080; font-weight: bold\">247</span><span style=\"font-weight: bold\">}</span>\n",
       "</pre>\n"
      ],
      "text/plain": [
       "Count predictions: \n",
       "\u001b[1m{\u001b[0m\u001b[1;36m0\u001b[0m: \u001b[1;36m36\u001b[0m, \u001b[1;36m1\u001b[0m: \u001b[1;36m202\u001b[0m, \u001b[1;36m2\u001b[0m: \u001b[1;36m27\u001b[0m, \u001b[1;36m3\u001b[0m: \u001b[1;36m247\u001b[0m\u001b[1m}\u001b[0m\n"
      ]
     },
     "metadata": {},
     "output_type": "display_data"
    },
    {
     "data": {
      "text/html": [
       "<pre style=\"white-space:pre;overflow-x:auto;line-height:normal;font-family:Menlo,'DejaVu Sans Mono',consolas,'Courier New',monospace\">Using the mode to get the most voted prediction:\n",
       "</pre>\n"
      ],
      "text/plain": [
       "Using the mode to get the most voted prediction:\n"
      ]
     },
     "metadata": {},
     "output_type": "display_data"
    },
    {
     "data": {
      "text/html": [
       "<pre style=\"white-space:pre;overflow-x:auto;line-height:normal;font-family:Menlo,'DejaVu Sans Mono',consolas,'Courier New',monospace\">Count predictions after: \n",
       "<span style=\"font-weight: bold\">{</span><span style=\"color: #008080; text-decoration-color: #008080; font-weight: bold\">3</span>: <span style=\"color: #008080; text-decoration-color: #008080; font-weight: bold\">512</span><span style=\"font-weight: bold\">}</span>\n",
       "</pre>\n"
      ],
      "text/plain": [
       "Count predictions after: \n",
       "\u001b[1m{\u001b[0m\u001b[1;36m3\u001b[0m: \u001b[1;36m512\u001b[0m\u001b[1m}\u001b[0m\n"
      ]
     },
     "metadata": {},
     "output_type": "display_data"
    },
    {
     "data": {
      "text/html": [
       "<pre style=\"white-space:pre;overflow-x:auto;line-height:normal;font-family:Menlo,'DejaVu Sans Mono',consolas,'Courier New',monospace\">Predictions: <span style=\"font-weight: bold\">[</span><span style=\"color: #008080; text-decoration-color: #008080; font-weight: bold\">3</span> <span style=\"color: #008080; text-decoration-color: #008080; font-weight: bold\">3</span> <span style=\"color: #008080; text-decoration-color: #008080; font-weight: bold\">3</span> <span style=\"color: #008080; text-decoration-color: #008080; font-weight: bold\">3</span> <span style=\"color: #008080; text-decoration-color: #008080; font-weight: bold\">3</span> <span style=\"color: #008080; text-decoration-color: #008080; font-weight: bold\">3</span> <span style=\"color: #008080; text-decoration-color: #008080; font-weight: bold\">3</span> <span style=\"color: #008080; text-decoration-color: #008080; font-weight: bold\">3</span> <span style=\"color: #008080; text-decoration-color: #008080; font-weight: bold\">3</span> <span style=\"color: #008080; text-decoration-color: #008080; font-weight: bold\">3</span><span style=\"font-weight: bold\">]</span>\n",
       "</pre>\n"
      ],
      "text/plain": [
       "Predictions: \u001b[1m[\u001b[0m\u001b[1;36m3\u001b[0m \u001b[1;36m3\u001b[0m \u001b[1;36m3\u001b[0m \u001b[1;36m3\u001b[0m \u001b[1;36m3\u001b[0m \u001b[1;36m3\u001b[0m \u001b[1;36m3\u001b[0m \u001b[1;36m3\u001b[0m \u001b[1;36m3\u001b[0m \u001b[1;36m3\u001b[0m\u001b[1m]\u001b[0m\n"
      ]
     },
     "metadata": {},
     "output_type": "display_data"
    },
    {
     "data": {
      "text/html": [
       "<pre style=\"white-space:pre;overflow-x:auto;line-height:normal;font-family:Menlo,'DejaVu Sans Mono',consolas,'Courier New',monospace\">Predictions shape: <span style=\"font-weight: bold\">(</span><span style=\"color: #008080; text-decoration-color: #008080; font-weight: bold\">512</span>,<span style=\"font-weight: bold\">)</span>\n",
       "</pre>\n"
      ],
      "text/plain": [
       "Predictions shape: \u001b[1m(\u001b[0m\u001b[1;36m512\u001b[0m,\u001b[1m)\u001b[0m\n"
      ]
     },
     "metadata": {},
     "output_type": "display_data"
    },
    {
     "data": {
      "text/html": [
       "<pre style=\"white-space:pre;overflow-x:auto;line-height:normal;font-family:Menlo,'DejaVu Sans Mono',consolas,'Courier New',monospace\">Evaluation benchmark: Ground Truth\n",
       "</pre>\n"
      ],
      "text/plain": [
       "Evaluation benchmark: Ground Truth\n"
      ]
     },
     "metadata": {},
     "output_type": "display_data"
    },
    {
     "name": "stdout",
     "output_type": "stream",
     "text": [
      "-- >> Start of eval phase << --\n",
      "-- Starting eval on experience 0 (Task 0) from test stream --\n",
      "100%|██████████| 6/6 [00:06<00:00,  1.09s/it]\n",
      "> Eval on experience 0 (Task 0) from test stream ended.\n",
      "\tTop1_Acc_Exp/eval_phase/test_stream/Task000/Exp000 = 0.5320\n",
      "-- Starting eval on experience 1 (Task 1) from test stream --\n",
      "100%|██████████| 2/2 [00:05<00:00,  2.99s/it]\n",
      "> Eval on experience 1 (Task 1) from test stream ended.\n",
      "\tTop1_Acc_Exp/eval_phase/test_stream/Task001/Exp001 = 0.8312\n",
      "-- Starting eval on experience 2 (Task 2) from test stream --\n",
      "100%|██████████| 7/7 [00:06<00:00,  1.01it/s]\n",
      "> Eval on experience 2 (Task 2) from test stream ended.\n",
      "\tTop1_Acc_Exp/eval_phase/test_stream/Task002/Exp002 = 0.5182\n",
      "-- Starting eval on experience 1 (Task 1) from test stream --\n",
      "100%|██████████| 2/2 [00:06<00:00,  3.02s/it]\n",
      "> Eval on experience 1 (Task 1) from test stream ended.\n",
      "\tTop1_Acc_Exp/eval_phase/test_stream/Task001/Exp001 = 0.8312\n",
      "-- Starting eval on experience 3 (Task 3) from test stream --\n",
      "100%|██████████| 3/3 [00:06<00:00,  2.06s/it]\n",
      "> Eval on experience 3 (Task 3) from test stream ended.\n",
      "\tTop1_Acc_Exp/eval_phase/test_stream/Task003/Exp003 = 0.8457\n",
      "-- Starting eval on experience 3 (Task 3) from test stream --\n",
      "100%|██████████| 3/3 [00:06<00:00,  2.06s/it]\n",
      "> Eval on experience 3 (Task 3) from test stream ended.\n",
      "\tTop1_Acc_Exp/eval_phase/test_stream/Task003/Exp003 = 0.8457\n",
      "-- >> End of eval phase << --\n"
     ]
    },
    {
     "data": {
      "text/html": [
       "<pre style=\"white-space:pre;overflow-x:auto;line-height:normal;font-family:Menlo,'DejaVu Sans Mono',consolas,'Courier New',monospace\">Evaluation benchmark: TADIL\n",
       "</pre>\n"
      ],
      "text/plain": [
       "Evaluation benchmark: TADIL\n"
      ]
     },
     "metadata": {},
     "output_type": "display_data"
    },
    {
     "name": "stdout",
     "output_type": "stream",
     "text": [
      "-- >> Start of eval phase << --\n",
      "-- Starting eval on experience 0 (Task 0) from test stream --\n",
      "100%|██████████| 6/6 [00:06<00:00,  1.10s/it]\n",
      "> Eval on experience 0 (Task 0) from test stream ended.\n",
      "\tTop1_Acc_Exp/eval_phase/test_stream/Task000/Exp000 = 0.5320\n",
      "-- Starting eval on experience 1 (Task 1) from test stream --\n",
      "100%|██████████| 2/2 [00:05<00:00,  2.99s/it]\n",
      "> Eval on experience 1 (Task 1) from test stream ended.\n",
      "\tTop1_Acc_Exp/eval_phase/test_stream/Task001/Exp001 = 0.8312\n",
      "-- Starting eval on experience 2 (Task 2) from test stream --\n",
      "100%|██████████| 7/7 [00:06<00:00,  1.02it/s]\n",
      "> Eval on experience 2 (Task 2) from test stream ended.\n",
      "\tTop1_Acc_Exp/eval_phase/test_stream/Task002/Exp002 = 0.5182\n",
      "-- Starting eval on experience 3 (Task 1) from test stream --\n",
      "100%|██████████| 2/2 [00:05<00:00,  2.99s/it]\n",
      "> Eval on experience 3 (Task 1) from test stream ended.\n",
      "\tTop1_Acc_Exp/eval_phase/test_stream/Task001/Exp003 = 0.8312\n",
      "-- Starting eval on experience 4 (Task 3) from test stream --\n",
      "100%|██████████| 3/3 [00:06<00:00,  2.10s/it]\n",
      "> Eval on experience 4 (Task 3) from test stream ended.\n",
      "\tTop1_Acc_Exp/eval_phase/test_stream/Task003/Exp004 = 0.8457\n",
      "-- Starting eval on experience 5 (Task 3) from test stream --\n",
      "100%|██████████| 3/3 [00:06<00:00,  2.05s/it]\n",
      "> Eval on experience 5 (Task 3) from test stream ended.\n",
      "\tTop1_Acc_Exp/eval_phase/test_stream/Task003/Exp005 = 0.8457\n",
      "-- >> End of eval phase << --\n"
     ]
    },
    {
     "data": {
      "text/html": [
       "<pre style=\"white-space:pre;overflow-x:auto;line-height:normal;font-family:Menlo,'DejaVu Sans Mono',consolas,'Courier New',monospace\">Evaluation benchmark: Normal\n",
       "</pre>\n"
      ],
      "text/plain": [
       "Evaluation benchmark: Normal\n"
      ]
     },
     "metadata": {},
     "output_type": "display_data"
    },
    {
     "name": "stdout",
     "output_type": "stream",
     "text": [
      "-- >> Start of eval phase << --\n",
      "-- Starting eval on experience 0 (Task 0) from test stream --\n",
      "100%|██████████| 6/6 [00:06<00:00,  1.08s/it]\n",
      "> Eval on experience 0 (Task 0) from test stream ended.\n",
      "\tTop1_Acc_Exp/eval_phase/test_stream/Task000/Exp000 = 0.5320\n",
      "-- Starting eval on experience 1 (Task 0) from test stream --\n",
      "100%|██████████| 2/2 [00:06<00:00,  3.04s/it]\n",
      "> Eval on experience 1 (Task 0) from test stream ended.\n",
      "\tTop1_Acc_Exp/eval_phase/test_stream/Task000/Exp001 = 0.7965\n",
      "-- Starting eval on experience 2 (Task 0) from test stream --\n",
      "100%|██████████| 7/7 [00:06<00:00,  1.02it/s]\n",
      "> Eval on experience 2 (Task 0) from test stream ended.\n",
      "\tTop1_Acc_Exp/eval_phase/test_stream/Task000/Exp002 = 0.5204\n",
      "-- Starting eval on experience 1 (Task 0) from test stream --\n",
      "100%|██████████| 2/2 [00:05<00:00,  2.99s/it]\n",
      "> Eval on experience 1 (Task 0) from test stream ended.\n",
      "\tTop1_Acc_Exp/eval_phase/test_stream/Task000/Exp001 = 0.7965\n",
      "-- Starting eval on experience 3 (Task 0) from test stream --\n",
      "100%|██████████| 3/3 [00:06<00:00,  2.13s/it]\n",
      "> Eval on experience 3 (Task 0) from test stream ended.\n",
      "\tTop1_Acc_Exp/eval_phase/test_stream/Task000/Exp003 = 0.8164\n",
      "-- Starting eval on experience 3 (Task 0) from test stream --\n",
      "100%|██████████| 3/3 [00:06<00:00,  2.10s/it]\n",
      "> Eval on experience 3 (Task 0) from test stream ended.\n",
      "\tTop1_Acc_Exp/eval_phase/test_stream/Task000/Exp003 = 0.8164\n",
      "-- >> End of eval phase << --\n"
     ]
    },
    {
     "data": {
      "text/html": [
       "<pre style=\"white-space:pre;overflow-x:auto;line-height:normal;font-family:Menlo,'DejaVu Sans Mono',consolas,'Courier New',monospace\">----------------------------------------\n",
       "</pre>\n"
      ],
      "text/plain": [
       "----------------------------------------\n"
      ]
     },
     "metadata": {},
     "output_type": "display_data"
    },
    {
     "data": {
      "text/html": [
       "<pre style=\"white-space:pre;overflow-x:auto;line-height:normal;font-family:Menlo,'DejaVu Sans Mono',consolas,'Courier New',monospace\">\n",
       "</pre>\n"
      ],
      "text/plain": [
       "\n"
      ]
     },
     "metadata": {},
     "output_type": "display_data"
    },
    {
     "data": {
      "text/html": [
       "<pre style=\"white-space:pre;overflow-x:auto;line-height:normal;font-family:Menlo,'DejaVu Sans Mono',consolas,'Courier New',monospace\">Current experience:  <span style=\"color: #008080; text-decoration-color: #008080; font-weight: bold\">4</span>\n",
       "</pre>\n"
      ],
      "text/plain": [
       "Current experience:  \u001b[1;36m4\u001b[0m\n"
      ]
     },
     "metadata": {},
     "output_type": "display_data"
    },
    {
     "data": {
      "text/html": [
       "<pre style=\"white-space:pre;overflow-x:auto;line-height:normal;font-family:Menlo,'DejaVu Sans Mono',consolas,'Courier New',monospace\">Experience task ID  <span style=\"color: #008080; text-decoration-color: #008080; font-weight: bold\">4</span>\n",
       "</pre>\n"
      ],
      "text/plain": [
       "Experience task ID  \u001b[1;36m4\u001b[0m\n"
      ]
     },
     "metadata": {},
     "output_type": "display_data"
    },
    {
     "data": {
      "text/html": [
       "<pre style=\"white-space:pre;overflow-x:auto;line-height:normal;font-family:Menlo,'DejaVu Sans Mono',consolas,'Courier New',monospace\">Experience shape: <span style=\"color: #008080; text-decoration-color: #008080; font-weight: bold\">3613</span>\n",
       "</pre>\n"
      ],
      "text/plain": [
       "Experience shape: \u001b[1;36m3613\u001b[0m\n"
      ]
     },
     "metadata": {},
     "output_type": "display_data"
    },
    {
     "data": {
      "text/html": [
       "<pre style=\"white-space:pre;overflow-x:auto;line-height:normal;font-family:Menlo,'DejaVu Sans Mono',consolas,'Courier New',monospace\">Estimated number of clusters: <span style=\"color: #008080; text-decoration-color: #008080; font-weight: bold\">1</span>\n",
       "</pre>\n"
      ],
      "text/plain": [
       "Estimated number of clusters: \u001b[1;36m1\u001b[0m\n"
      ]
     },
     "metadata": {},
     "output_type": "display_data"
    },
    {
     "data": {
      "text/html": [
       "<pre style=\"white-space:pre;overflow-x:auto;line-height:normal;font-family:Menlo,'DejaVu Sans Mono',consolas,'Courier New',monospace\">Estimated number of noise points: <span style=\"color: #008080; text-decoration-color: #008080; font-weight: bold\">0</span>\n",
       "</pre>\n"
      ],
      "text/plain": [
       "Estimated number of noise points: \u001b[1;36m0\u001b[0m\n"
      ]
     },
     "metadata": {},
     "output_type": "display_data"
    },
    {
     "data": {
      "text/html": [
       "<pre style=\"white-space:pre;overflow-x:auto;line-height:normal;font-family:Menlo,'DejaVu Sans Mono',consolas,'Courier New',monospace\"># nearest centroids <span style=\"font-weight: bold\">(</span><span style=\"color: #008080; text-decoration-color: #008080; font-weight: bold\">0.3</span>%<span style=\"font-weight: bold\">)</span>:\n",
       "<span style=\"font-weight: bold\">(</span><span style=\"color: #008080; text-decoration-color: #008080; font-weight: bold\">11</span>, <span style=\"color: #008080; text-decoration-color: #008080; font-weight: bold\">512</span><span style=\"font-weight: bold\">)</span>\n",
       "</pre>\n"
      ],
      "text/plain": [
       "# nearest centroids \u001b[1m(\u001b[0m\u001b[1;36m0.3\u001b[0m%\u001b[1m)\u001b[0m:\n",
       "\u001b[1m(\u001b[0m\u001b[1;36m11\u001b[0m, \u001b[1;36m512\u001b[0m\u001b[1m)\u001b[0m\n"
      ]
     },
     "metadata": {},
     "output_type": "display_data"
    },
    {
     "data": {
      "text/html": [
       "<pre style=\"white-space:pre;overflow-x:auto;line-height:normal;font-family:Menlo,'DejaVu Sans Mono',consolas,'Courier New',monospace\">\n",
       "</pre>\n"
      ],
      "text/plain": [
       "\n"
      ]
     },
     "metadata": {},
     "output_type": "display_data"
    },
    {
     "data": {
      "text/html": [
       "<pre style=\"white-space:pre;overflow-x:auto;line-height:normal;font-family:Menlo,'DejaVu Sans Mono',consolas,'Courier New',monospace\">Calculating drift between <span style=\"color: #800080; text-decoration-color: #800080; font-weight: bold\">Task</span><span style=\"font-weight: bold\">(</span><span style=\"color: #808000; text-decoration-color: #808000\">current</span>=<span style=\"color: #008080; text-decoration-color: #008080; font-weight: bold\">4</span>, <span style=\"color: #808000; text-decoration-color: #808000\">memory</span>=<span style=\"color: #008080; text-decoration-color: #008080; font-weight: bold\">3</span><span style=\"font-weight: bold\">)</span>\n",
       "</pre>\n"
      ],
      "text/plain": [
       "Calculating drift between \u001b[1;35mTask\u001b[0m\u001b[1m(\u001b[0m\u001b[33mcurrent\u001b[0m=\u001b[1;36m4\u001b[0m, \u001b[33mmemory\u001b[0m=\u001b[1;36m3\u001b[0m\u001b[1m)\u001b[0m\n"
      ]
     },
     "metadata": {},
     "output_type": "display_data"
    },
    {
     "data": {
      "text/html": [
       "<pre style=\"white-space:pre;overflow-x:auto;line-height:normal;font-family:Menlo,'DejaVu Sans Mono',consolas,'Courier New',monospace\">Drift = <span style=\"color: #008080; text-decoration-color: #008080; font-weight: bold\">1</span>\n",
       "</pre>\n"
      ],
      "text/plain": [
       "Drift = \u001b[1;36m1\u001b[0m\n"
      ]
     },
     "metadata": {},
     "output_type": "display_data"
    },
    {
     "data": {
      "text/html": [
       "<pre style=\"white-space:pre;overflow-x:auto;line-height:normal;font-family:Menlo,'DejaVu Sans Mono',consolas,'Courier New',monospace\">Calculating drift between <span style=\"color: #800080; text-decoration-color: #800080; font-weight: bold\">Task</span><span style=\"font-weight: bold\">(</span><span style=\"color: #808000; text-decoration-color: #808000\">current</span>=<span style=\"color: #008080; text-decoration-color: #008080; font-weight: bold\">4</span>, <span style=\"color: #808000; text-decoration-color: #808000\">memory</span>=<span style=\"color: #008080; text-decoration-color: #008080; font-weight: bold\">2</span><span style=\"font-weight: bold\">)</span>\n",
       "</pre>\n"
      ],
      "text/plain": [
       "Calculating drift between \u001b[1;35mTask\u001b[0m\u001b[1m(\u001b[0m\u001b[33mcurrent\u001b[0m=\u001b[1;36m4\u001b[0m, \u001b[33mmemory\u001b[0m=\u001b[1;36m2\u001b[0m\u001b[1m)\u001b[0m\n"
      ]
     },
     "metadata": {},
     "output_type": "display_data"
    },
    {
     "data": {
      "text/html": [
       "<pre style=\"white-space:pre;overflow-x:auto;line-height:normal;font-family:Menlo,'DejaVu Sans Mono',consolas,'Courier New',monospace\">Drift = <span style=\"color: #008080; text-decoration-color: #008080; font-weight: bold\">1</span>\n",
       "</pre>\n"
      ],
      "text/plain": [
       "Drift = \u001b[1;36m1\u001b[0m\n"
      ]
     },
     "metadata": {},
     "output_type": "display_data"
    },
    {
     "data": {
      "text/html": [
       "<pre style=\"white-space:pre;overflow-x:auto;line-height:normal;font-family:Menlo,'DejaVu Sans Mono',consolas,'Courier New',monospace\">Calculating drift between <span style=\"color: #800080; text-decoration-color: #800080; font-weight: bold\">Task</span><span style=\"font-weight: bold\">(</span><span style=\"color: #808000; text-decoration-color: #808000\">current</span>=<span style=\"color: #008080; text-decoration-color: #008080; font-weight: bold\">4</span>, <span style=\"color: #808000; text-decoration-color: #808000\">memory</span>=<span style=\"color: #008080; text-decoration-color: #008080; font-weight: bold\">1</span><span style=\"font-weight: bold\">)</span>\n",
       "</pre>\n"
      ],
      "text/plain": [
       "Calculating drift between \u001b[1;35mTask\u001b[0m\u001b[1m(\u001b[0m\u001b[33mcurrent\u001b[0m=\u001b[1;36m4\u001b[0m, \u001b[33mmemory\u001b[0m=\u001b[1;36m1\u001b[0m\u001b[1m)\u001b[0m\n"
      ]
     },
     "metadata": {},
     "output_type": "display_data"
    },
    {
     "data": {
      "text/html": [
       "<pre style=\"white-space:pre;overflow-x:auto;line-height:normal;font-family:Menlo,'DejaVu Sans Mono',consolas,'Courier New',monospace\">Drift = <span style=\"color: #008080; text-decoration-color: #008080; font-weight: bold\">1</span>\n",
       "</pre>\n"
      ],
      "text/plain": [
       "Drift = \u001b[1;36m1\u001b[0m\n"
      ]
     },
     "metadata": {},
     "output_type": "display_data"
    },
    {
     "data": {
      "text/html": [
       "<pre style=\"white-space:pre;overflow-x:auto;line-height:normal;font-family:Menlo,'DejaVu Sans Mono',consolas,'Courier New',monospace\">Calculating drift between <span style=\"color: #800080; text-decoration-color: #800080; font-weight: bold\">Task</span><span style=\"font-weight: bold\">(</span><span style=\"color: #808000; text-decoration-color: #808000\">current</span>=<span style=\"color: #008080; text-decoration-color: #008080; font-weight: bold\">4</span>, <span style=\"color: #808000; text-decoration-color: #808000\">memory</span>=<span style=\"color: #008080; text-decoration-color: #008080; font-weight: bold\">0</span><span style=\"font-weight: bold\">)</span>\n",
       "</pre>\n"
      ],
      "text/plain": [
       "Calculating drift between \u001b[1;35mTask\u001b[0m\u001b[1m(\u001b[0m\u001b[33mcurrent\u001b[0m=\u001b[1;36m4\u001b[0m, \u001b[33mmemory\u001b[0m=\u001b[1;36m0\u001b[0m\u001b[1m)\u001b[0m\n"
      ]
     },
     "metadata": {},
     "output_type": "display_data"
    },
    {
     "data": {
      "text/html": [
       "<pre style=\"white-space:pre;overflow-x:auto;line-height:normal;font-family:Menlo,'DejaVu Sans Mono',consolas,'Courier New',monospace\">Drift = <span style=\"color: #008080; text-decoration-color: #008080; font-weight: bold\">1</span>\n",
       "</pre>\n"
      ],
      "text/plain": [
       "Drift = \u001b[1;36m1\u001b[0m\n"
      ]
     },
     "metadata": {},
     "output_type": "display_data"
    },
    {
     "data": {
      "text/html": [
       "<pre style=\"white-space:pre;overflow-x:auto;line-height:normal;font-family:Menlo,'DejaVu Sans Mono',consolas,'Courier New',monospace\">Saving nearest centroids into Memory\n",
       "</pre>\n"
      ],
      "text/plain": [
       "Saving nearest centroids into Memory\n"
      ]
     },
     "metadata": {},
     "output_type": "display_data"
    },
    {
     "data": {
      "text/html": [
       "<pre style=\"white-space:pre;overflow-x:auto;line-height:normal;font-family:Menlo,'DejaVu Sans Mono',consolas,'Courier New',monospace\">Memory:\n",
       "<span style=\"font-weight: bold\">[</span>\n",
       "    <span style=\"color: #800080; text-decoration-color: #800080; font-weight: bold\">Memory</span><span style=\"font-weight: bold\">(</span><span style=\"color: #808000; text-decoration-color: #808000\">task</span>=<span style=\"color: #008080; text-decoration-color: #008080; font-weight: bold\">0</span>, <span style=\"color: #808000; text-decoration-color: #808000\">shape</span>=<span style=\"font-weight: bold\">(</span><span style=\"color: #008080; text-decoration-color: #008080; font-weight: bold\">11</span>, <span style=\"color: #008080; text-decoration-color: #008080; font-weight: bold\">512</span><span style=\"font-weight: bold\">))</span>,\n",
       "    <span style=\"color: #800080; text-decoration-color: #800080; font-weight: bold\">Memory</span><span style=\"font-weight: bold\">(</span><span style=\"color: #808000; text-decoration-color: #808000\">task</span>=<span style=\"color: #008080; text-decoration-color: #008080; font-weight: bold\">1</span>, <span style=\"color: #808000; text-decoration-color: #808000\">shape</span>=<span style=\"font-weight: bold\">(</span><span style=\"color: #008080; text-decoration-color: #008080; font-weight: bold\">11</span>, <span style=\"color: #008080; text-decoration-color: #008080; font-weight: bold\">512</span><span style=\"font-weight: bold\">))</span>,\n",
       "    <span style=\"color: #800080; text-decoration-color: #800080; font-weight: bold\">Memory</span><span style=\"font-weight: bold\">(</span><span style=\"color: #808000; text-decoration-color: #808000\">task</span>=<span style=\"color: #008080; text-decoration-color: #008080; font-weight: bold\">2</span>, <span style=\"color: #808000; text-decoration-color: #808000\">shape</span>=<span style=\"font-weight: bold\">(</span><span style=\"color: #008080; text-decoration-color: #008080; font-weight: bold\">11</span>, <span style=\"color: #008080; text-decoration-color: #008080; font-weight: bold\">512</span><span style=\"font-weight: bold\">))</span>,\n",
       "    <span style=\"color: #800080; text-decoration-color: #800080; font-weight: bold\">Memory</span><span style=\"font-weight: bold\">(</span><span style=\"color: #808000; text-decoration-color: #808000\">task</span>=<span style=\"color: #008080; text-decoration-color: #008080; font-weight: bold\">3</span>, <span style=\"color: #808000; text-decoration-color: #808000\">shape</span>=<span style=\"font-weight: bold\">(</span><span style=\"color: #008080; text-decoration-color: #008080; font-weight: bold\">11</span>, <span style=\"color: #008080; text-decoration-color: #008080; font-weight: bold\">512</span><span style=\"font-weight: bold\">))</span>,\n",
       "    <span style=\"color: #800080; text-decoration-color: #800080; font-weight: bold\">Memory</span><span style=\"font-weight: bold\">(</span><span style=\"color: #808000; text-decoration-color: #808000\">task</span>=<span style=\"color: #008080; text-decoration-color: #008080; font-weight: bold\">4</span>, <span style=\"color: #808000; text-decoration-color: #808000\">shape</span>=<span style=\"font-weight: bold\">(</span><span style=\"color: #008080; text-decoration-color: #008080; font-weight: bold\">11</span>, <span style=\"color: #008080; text-decoration-color: #008080; font-weight: bold\">512</span><span style=\"font-weight: bold\">))</span>\n",
       "<span style=\"font-weight: bold\">]</span>\n",
       "</pre>\n"
      ],
      "text/plain": [
       "Memory:\n",
       "\u001b[1m[\u001b[0m\n",
       "    \u001b[1;35mMemory\u001b[0m\u001b[1m(\u001b[0m\u001b[33mtask\u001b[0m=\u001b[1;36m0\u001b[0m, \u001b[33mshape\u001b[0m=\u001b[1m(\u001b[0m\u001b[1;36m11\u001b[0m, \u001b[1;36m512\u001b[0m\u001b[1m)\u001b[0m\u001b[1m)\u001b[0m,\n",
       "    \u001b[1;35mMemory\u001b[0m\u001b[1m(\u001b[0m\u001b[33mtask\u001b[0m=\u001b[1;36m1\u001b[0m, \u001b[33mshape\u001b[0m=\u001b[1m(\u001b[0m\u001b[1;36m11\u001b[0m, \u001b[1;36m512\u001b[0m\u001b[1m)\u001b[0m\u001b[1m)\u001b[0m,\n",
       "    \u001b[1;35mMemory\u001b[0m\u001b[1m(\u001b[0m\u001b[33mtask\u001b[0m=\u001b[1;36m2\u001b[0m, \u001b[33mshape\u001b[0m=\u001b[1m(\u001b[0m\u001b[1;36m11\u001b[0m, \u001b[1;36m512\u001b[0m\u001b[1m)\u001b[0m\u001b[1m)\u001b[0m,\n",
       "    \u001b[1;35mMemory\u001b[0m\u001b[1m(\u001b[0m\u001b[33mtask\u001b[0m=\u001b[1;36m3\u001b[0m, \u001b[33mshape\u001b[0m=\u001b[1m(\u001b[0m\u001b[1;36m11\u001b[0m, \u001b[1;36m512\u001b[0m\u001b[1m)\u001b[0m\u001b[1m)\u001b[0m,\n",
       "    \u001b[1;35mMemory\u001b[0m\u001b[1m(\u001b[0m\u001b[33mtask\u001b[0m=\u001b[1;36m4\u001b[0m, \u001b[33mshape\u001b[0m=\u001b[1m(\u001b[0m\u001b[1;36m11\u001b[0m, \u001b[1;36m512\u001b[0m\u001b[1m)\u001b[0m\u001b[1m)\u001b[0m\n",
       "\u001b[1m]\u001b[0m\n"
      ]
     },
     "metadata": {},
     "output_type": "display_data"
    },
    {
     "data": {
      "text/html": [
       "<pre style=\"white-space:pre;overflow-x:auto;line-height:normal;font-family:Menlo,'DejaVu Sans Mono',consolas,'Courier New',monospace\">Memory tasks: <span style=\"font-weight: bold\">[</span><span style=\"color: #008080; text-decoration-color: #008080; font-weight: bold\">0</span>, <span style=\"color: #008080; text-decoration-color: #008080; font-weight: bold\">1</span>, <span style=\"color: #008080; text-decoration-color: #008080; font-weight: bold\">2</span>, <span style=\"color: #008080; text-decoration-color: #008080; font-weight: bold\">3</span>, <span style=\"color: #008080; text-decoration-color: #008080; font-weight: bold\">4</span><span style=\"font-weight: bold\">]</span>\n",
       "</pre>\n"
      ],
      "text/plain": [
       "Memory tasks: \u001b[1m[\u001b[0m\u001b[1;36m0\u001b[0m, \u001b[1;36m1\u001b[0m, \u001b[1;36m2\u001b[0m, \u001b[1;36m3\u001b[0m, \u001b[1;36m4\u001b[0m\u001b[1m]\u001b[0m\n"
      ]
     },
     "metadata": {},
     "output_type": "display_data"
    },
    {
     "data": {
      "text/html": [
       "<pre style=\"white-space:pre;overflow-x:auto;line-height:normal;font-family:Menlo,'DejaVu Sans Mono',consolas,'Courier New',monospace\">Training multi-head model\n",
       "</pre>\n"
      ],
      "text/plain": [
       "Training multi-head model\n"
      ]
     },
     "metadata": {},
     "output_type": "display_data"
    },
    {
     "name": "stdout",
     "output_type": "stream",
     "text": [
      "-- >> Start of training phase << --\n",
      "100%|██████████| 19/19 [00:18<00:00,  1.04it/s]\n",
      "Epoch 0 ended.\n",
      "100%|██████████| 19/19 [00:20<00:00,  1.09s/it]\n",
      "Epoch 1 ended.\n",
      "100%|██████████| 19/19 [00:21<00:00,  1.11s/it]\n",
      "Epoch 2 ended.\n",
      "-- >> End of training phase << --\n"
     ]
    },
    {
     "data": {
      "text/html": [
       "<pre style=\"white-space:pre;overflow-x:auto;line-height:normal;font-family:Menlo,'DejaVu Sans Mono',consolas,'Courier New',monospace\">Training multi-head model completed\n",
       "</pre>\n"
      ],
      "text/plain": [
       "Training multi-head model completed\n"
      ]
     },
     "metadata": {},
     "output_type": "display_data"
    },
    {
     "data": {
      "text/html": [
       "<pre style=\"white-space:pre;overflow-x:auto;line-height:normal;font-family:Menlo,'DejaVu Sans Mono',consolas,'Courier New',monospace\">Getting Task Classifier\n",
       "</pre>\n"
      ],
      "text/plain": [
       "Getting Task Classifier\n"
      ]
     },
     "metadata": {},
     "output_type": "display_data"
    },
    {
     "data": {
      "text/html": [
       "<pre style=\"white-space:pre;overflow-x:auto;line-height:normal;font-family:Menlo,'DejaVu Sans Mono',consolas,'Courier New',monospace\">x_train_knn_total shape: \n",
       "<span style=\"font-weight: bold\">(</span><span style=\"color: #008080; text-decoration-color: #008080; font-weight: bold\">55</span>, <span style=\"color: #008080; text-decoration-color: #008080; font-weight: bold\">512</span><span style=\"font-weight: bold\">)</span>\n",
       "</pre>\n"
      ],
      "text/plain": [
       "x_train_knn_total shape: \n",
       "\u001b[1m(\u001b[0m\u001b[1;36m55\u001b[0m, \u001b[1;36m512\u001b[0m\u001b[1m)\u001b[0m\n"
      ]
     },
     "metadata": {},
     "output_type": "display_data"
    },
    {
     "data": {
      "text/html": [
       "<pre style=\"white-space:pre;overflow-x:auto;line-height:normal;font-family:Menlo,'DejaVu Sans Mono',consolas,'Courier New',monospace\">y_train_knn_total shape\n",
       "<span style=\"font-weight: bold\">(</span><span style=\"color: #008080; text-decoration-color: #008080; font-weight: bold\">55</span>,<span style=\"font-weight: bold\">)</span>\n",
       "</pre>\n"
      ],
      "text/plain": [
       "y_train_knn_total shape\n",
       "\u001b[1m(\u001b[0m\u001b[1;36m55\u001b[0m,\u001b[1m)\u001b[0m\n"
      ]
     },
     "metadata": {},
     "output_type": "display_data"
    },
    {
     "data": {
      "text/html": [
       "<pre style=\"white-space:pre;overflow-x:auto;line-height:normal;font-family:Menlo,'DejaVu Sans Mono',consolas,'Courier New',monospace\">Using the classifier:\n",
       "</pre>\n"
      ],
      "text/plain": [
       "Using the classifier:\n"
      ]
     },
     "metadata": {},
     "output_type": "display_data"
    },
    {
     "data": {
      "text/html": [
       "<pre style=\"white-space:pre;overflow-x:auto;line-height:normal;font-family:Menlo,'DejaVu Sans Mono',consolas,'Courier New',monospace\">Count predictions: \n",
       "<span style=\"font-weight: bold\">{</span><span style=\"color: #008080; text-decoration-color: #008080; font-weight: bold\">0</span>: <span style=\"color: #008080; text-decoration-color: #008080; font-weight: bold\">127</span>, <span style=\"color: #008080; text-decoration-color: #008080; font-weight: bold\">1</span>: <span style=\"color: #008080; text-decoration-color: #008080; font-weight: bold\">5</span>, <span style=\"color: #008080; text-decoration-color: #008080; font-weight: bold\">2</span>: <span style=\"color: #008080; text-decoration-color: #008080; font-weight: bold\">305</span>, <span style=\"color: #008080; text-decoration-color: #008080; font-weight: bold\">3</span>: <span style=\"color: #008080; text-decoration-color: #008080; font-weight: bold\">6</span>, <span style=\"color: #008080; text-decoration-color: #008080; font-weight: bold\">4</span>: <span style=\"color: #008080; text-decoration-color: #008080; font-weight: bold\">461</span><span style=\"font-weight: bold\">}</span>\n",
       "</pre>\n"
      ],
      "text/plain": [
       "Count predictions: \n",
       "\u001b[1m{\u001b[0m\u001b[1;36m0\u001b[0m: \u001b[1;36m127\u001b[0m, \u001b[1;36m1\u001b[0m: \u001b[1;36m5\u001b[0m, \u001b[1;36m2\u001b[0m: \u001b[1;36m305\u001b[0m, \u001b[1;36m3\u001b[0m: \u001b[1;36m6\u001b[0m, \u001b[1;36m4\u001b[0m: \u001b[1;36m461\u001b[0m\u001b[1m}\u001b[0m\n"
      ]
     },
     "metadata": {},
     "output_type": "display_data"
    },
    {
     "data": {
      "text/html": [
       "<pre style=\"white-space:pre;overflow-x:auto;line-height:normal;font-family:Menlo,'DejaVu Sans Mono',consolas,'Courier New',monospace\">Using the mode to get the most voted prediction:\n",
       "</pre>\n"
      ],
      "text/plain": [
       "Using the mode to get the most voted prediction:\n"
      ]
     },
     "metadata": {},
     "output_type": "display_data"
    },
    {
     "data": {
      "text/html": [
       "<pre style=\"white-space:pre;overflow-x:auto;line-height:normal;font-family:Menlo,'DejaVu Sans Mono',consolas,'Courier New',monospace\">Count predictions after: \n",
       "<span style=\"font-weight: bold\">{</span><span style=\"color: #008080; text-decoration-color: #008080; font-weight: bold\">4</span>: <span style=\"color: #008080; text-decoration-color: #008080; font-weight: bold\">904</span><span style=\"font-weight: bold\">}</span>\n",
       "</pre>\n"
      ],
      "text/plain": [
       "Count predictions after: \n",
       "\u001b[1m{\u001b[0m\u001b[1;36m4\u001b[0m: \u001b[1;36m904\u001b[0m\u001b[1m}\u001b[0m\n"
      ]
     },
     "metadata": {},
     "output_type": "display_data"
    },
    {
     "data": {
      "text/html": [
       "<pre style=\"white-space:pre;overflow-x:auto;line-height:normal;font-family:Menlo,'DejaVu Sans Mono',consolas,'Courier New',monospace\">Predictions: <span style=\"font-weight: bold\">[</span><span style=\"color: #008080; text-decoration-color: #008080; font-weight: bold\">4</span> <span style=\"color: #008080; text-decoration-color: #008080; font-weight: bold\">4</span> <span style=\"color: #008080; text-decoration-color: #008080; font-weight: bold\">4</span> <span style=\"color: #008080; text-decoration-color: #008080; font-weight: bold\">4</span> <span style=\"color: #008080; text-decoration-color: #008080; font-weight: bold\">4</span> <span style=\"color: #008080; text-decoration-color: #008080; font-weight: bold\">4</span> <span style=\"color: #008080; text-decoration-color: #008080; font-weight: bold\">4</span> <span style=\"color: #008080; text-decoration-color: #008080; font-weight: bold\">4</span> <span style=\"color: #008080; text-decoration-color: #008080; font-weight: bold\">4</span> <span style=\"color: #008080; text-decoration-color: #008080; font-weight: bold\">4</span><span style=\"font-weight: bold\">]</span>\n",
       "</pre>\n"
      ],
      "text/plain": [
       "Predictions: \u001b[1m[\u001b[0m\u001b[1;36m4\u001b[0m \u001b[1;36m4\u001b[0m \u001b[1;36m4\u001b[0m \u001b[1;36m4\u001b[0m \u001b[1;36m4\u001b[0m \u001b[1;36m4\u001b[0m \u001b[1;36m4\u001b[0m \u001b[1;36m4\u001b[0m \u001b[1;36m4\u001b[0m \u001b[1;36m4\u001b[0m\u001b[1m]\u001b[0m\n"
      ]
     },
     "metadata": {},
     "output_type": "display_data"
    },
    {
     "data": {
      "text/html": [
       "<pre style=\"white-space:pre;overflow-x:auto;line-height:normal;font-family:Menlo,'DejaVu Sans Mono',consolas,'Courier New',monospace\">Predictions shape: <span style=\"font-weight: bold\">(</span><span style=\"color: #008080; text-decoration-color: #008080; font-weight: bold\">904</span>,<span style=\"font-weight: bold\">)</span>\n",
       "</pre>\n"
      ],
      "text/plain": [
       "Predictions shape: \u001b[1m(\u001b[0m\u001b[1;36m904\u001b[0m,\u001b[1m)\u001b[0m\n"
      ]
     },
     "metadata": {},
     "output_type": "display_data"
    },
    {
     "data": {
      "text/html": [
       "<pre style=\"white-space:pre;overflow-x:auto;line-height:normal;font-family:Menlo,'DejaVu Sans Mono',consolas,'Courier New',monospace\">Evaluation benchmark: Ground Truth\n",
       "</pre>\n"
      ],
      "text/plain": [
       "Evaluation benchmark: Ground Truth\n"
      ]
     },
     "metadata": {},
     "output_type": "display_data"
    },
    {
     "name": "stdout",
     "output_type": "stream",
     "text": [
      "-- >> Start of eval phase << --\n",
      "-- Starting eval on experience 0 (Task 0) from test stream --\n",
      "100%|██████████| 6/6 [00:06<00:00,  1.09s/it]\n",
      "> Eval on experience 0 (Task 0) from test stream ended.\n",
      "\tTop1_Acc_Exp/eval_phase/test_stream/Task000/Exp000 = 0.5717\n",
      "-- Starting eval on experience 1 (Task 1) from test stream --\n",
      "100%|██████████| 2/2 [00:05<00:00,  2.94s/it]\n",
      "> Eval on experience 1 (Task 1) from test stream ended.\n",
      "\tTop1_Acc_Exp/eval_phase/test_stream/Task001/Exp001 = 0.8095\n",
      "-- Starting eval on experience 2 (Task 2) from test stream --\n",
      "100%|██████████| 7/7 [00:06<00:00,  1.01it/s]\n",
      "> Eval on experience 2 (Task 2) from test stream ended.\n",
      "\tTop1_Acc_Exp/eval_phase/test_stream/Task002/Exp002 = 0.5322\n",
      "-- Starting eval on experience 1 (Task 1) from test stream --\n",
      "100%|██████████| 2/2 [00:05<00:00,  2.92s/it]\n",
      "> Eval on experience 1 (Task 1) from test stream ended.\n",
      "\tTop1_Acc_Exp/eval_phase/test_stream/Task001/Exp001 = 0.8095\n",
      "-- Starting eval on experience 3 (Task 3) from test stream --\n",
      "100%|██████████| 3/3 [00:06<00:00,  2.07s/it]\n",
      "> Eval on experience 3 (Task 3) from test stream ended.\n",
      "\tTop1_Acc_Exp/eval_phase/test_stream/Task003/Exp003 = 0.8184\n",
      "-- Starting eval on experience 3 (Task 3) from test stream --\n",
      "100%|██████████| 3/3 [00:06<00:00,  2.13s/it]\n",
      "> Eval on experience 3 (Task 3) from test stream ended.\n",
      "\tTop1_Acc_Exp/eval_phase/test_stream/Task003/Exp003 = 0.8184\n",
      "-- Starting eval on experience 4 (Task 4) from test stream --\n",
      "100%|██████████| 5/5 [00:07<00:00,  1.41s/it]\n",
      "> Eval on experience 4 (Task 4) from test stream ended.\n",
      "\tTop1_Acc_Exp/eval_phase/test_stream/Task004/Exp004 = 0.6615\n",
      "-- >> End of eval phase << --\n"
     ]
    },
    {
     "data": {
      "text/html": [
       "<pre style=\"white-space:pre;overflow-x:auto;line-height:normal;font-family:Menlo,'DejaVu Sans Mono',consolas,'Courier New',monospace\">Evaluation benchmark: TADIL\n",
       "</pre>\n"
      ],
      "text/plain": [
       "Evaluation benchmark: TADIL\n"
      ]
     },
     "metadata": {},
     "output_type": "display_data"
    },
    {
     "name": "stdout",
     "output_type": "stream",
     "text": [
      "-- >> Start of eval phase << --\n",
      "-- Starting eval on experience 0 (Task 0) from test stream --\n",
      "100%|██████████| 6/6 [00:06<00:00,  1.11s/it]\n",
      "> Eval on experience 0 (Task 0) from test stream ended.\n",
      "\tTop1_Acc_Exp/eval_phase/test_stream/Task000/Exp000 = 0.5717\n",
      "-- Starting eval on experience 1 (Task 1) from test stream --\n",
      "100%|██████████| 2/2 [00:05<00:00,  2.97s/it]\n",
      "> Eval on experience 1 (Task 1) from test stream ended.\n",
      "\tTop1_Acc_Exp/eval_phase/test_stream/Task001/Exp001 = 0.8095\n",
      "-- Starting eval on experience 2 (Task 2) from test stream --\n",
      "100%|██████████| 7/7 [00:06<00:00,  1.01it/s]\n",
      "> Eval on experience 2 (Task 2) from test stream ended.\n",
      "\tTop1_Acc_Exp/eval_phase/test_stream/Task002/Exp002 = 0.5322\n",
      "-- Starting eval on experience 3 (Task 1) from test stream --\n",
      "100%|██████████| 2/2 [00:05<00:00,  2.97s/it]\n",
      "> Eval on experience 3 (Task 1) from test stream ended.\n",
      "\tTop1_Acc_Exp/eval_phase/test_stream/Task001/Exp003 = 0.8095\n",
      "-- Starting eval on experience 4 (Task 3) from test stream --\n",
      "100%|██████████| 3/3 [00:06<00:00,  2.13s/it]\n",
      "> Eval on experience 4 (Task 3) from test stream ended.\n",
      "\tTop1_Acc_Exp/eval_phase/test_stream/Task003/Exp004 = 0.8184\n",
      "-- Starting eval on experience 5 (Task 3) from test stream --\n",
      "100%|██████████| 3/3 [00:06<00:00,  2.08s/it]\n",
      "> Eval on experience 5 (Task 3) from test stream ended.\n",
      "\tTop1_Acc_Exp/eval_phase/test_stream/Task003/Exp005 = 0.8184\n",
      "-- Starting eval on experience 6 (Task 4) from test stream --\n",
      "100%|██████████| 5/5 [00:07<00:00,  1.41s/it]\n",
      "> Eval on experience 6 (Task 4) from test stream ended.\n",
      "\tTop1_Acc_Exp/eval_phase/test_stream/Task004/Exp006 = 0.6615\n",
      "-- >> End of eval phase << --\n"
     ]
    },
    {
     "data": {
      "text/html": [
       "<pre style=\"white-space:pre;overflow-x:auto;line-height:normal;font-family:Menlo,'DejaVu Sans Mono',consolas,'Courier New',monospace\">Evaluation benchmark: Normal\n",
       "</pre>\n"
      ],
      "text/plain": [
       "Evaluation benchmark: Normal\n"
      ]
     },
     "metadata": {},
     "output_type": "display_data"
    },
    {
     "name": "stdout",
     "output_type": "stream",
     "text": [
      "-- >> Start of eval phase << --\n",
      "-- Starting eval on experience 0 (Task 0) from test stream --\n",
      "100%|██████████| 6/6 [00:06<00:00,  1.09s/it]\n",
      "> Eval on experience 0 (Task 0) from test stream ended.\n",
      "\tTop1_Acc_Exp/eval_phase/test_stream/Task000/Exp000 = 0.5717\n",
      "-- Starting eval on experience 1 (Task 0) from test stream --\n",
      "100%|██████████| 2/2 [00:06<00:00,  3.01s/it]\n",
      "> Eval on experience 1 (Task 0) from test stream ended.\n",
      "\tTop1_Acc_Exp/eval_phase/test_stream/Task000/Exp001 = 0.8095\n",
      "-- Starting eval on experience 2 (Task 0) from test stream --\n",
      "100%|██████████| 7/7 [00:07<00:00,  1.01s/it]\n",
      "> Eval on experience 2 (Task 0) from test stream ended.\n",
      "\tTop1_Acc_Exp/eval_phase/test_stream/Task000/Exp002 = 0.5167\n",
      "-- Starting eval on experience 1 (Task 0) from test stream --\n",
      "100%|██████████| 2/2 [00:05<00:00,  3.00s/it]\n",
      "> Eval on experience 1 (Task 0) from test stream ended.\n",
      "\tTop1_Acc_Exp/eval_phase/test_stream/Task000/Exp001 = 0.8095\n",
      "-- Starting eval on experience 3 (Task 0) from test stream --\n",
      "100%|██████████| 3/3 [00:06<00:00,  2.08s/it]\n",
      "> Eval on experience 3 (Task 0) from test stream ended.\n",
      "\tTop1_Acc_Exp/eval_phase/test_stream/Task000/Exp003 = 0.7949\n",
      "-- Starting eval on experience 3 (Task 0) from test stream --\n",
      "100%|██████████| 3/3 [00:06<00:00,  2.11s/it]\n",
      "> Eval on experience 3 (Task 0) from test stream ended.\n",
      "\tTop1_Acc_Exp/eval_phase/test_stream/Task000/Exp003 = 0.7949\n",
      "-- Starting eval on experience 4 (Task 0) from test stream --\n",
      "100%|██████████| 5/5 [00:07<00:00,  1.41s/it]\n",
      "> Eval on experience 4 (Task 0) from test stream ended.\n",
      "\tTop1_Acc_Exp/eval_phase/test_stream/Task000/Exp004 = 0.5841\n",
      "-- >> End of eval phase << --\n"
     ]
    },
    {
     "data": {
      "text/html": [
       "<pre style=\"white-space:pre;overflow-x:auto;line-height:normal;font-family:Menlo,'DejaVu Sans Mono',consolas,'Courier New',monospace\">----------------------------------------\n",
       "</pre>\n"
      ],
      "text/plain": [
       "----------------------------------------\n"
      ]
     },
     "metadata": {},
     "output_type": "display_data"
    },
    {
     "data": {
      "text/html": [
       "<pre style=\"white-space:pre;overflow-x:auto;line-height:normal;font-family:Menlo,'DejaVu Sans Mono',consolas,'Courier New',monospace\">\n",
       "</pre>\n"
      ],
      "text/plain": [
       "\n"
      ]
     },
     "metadata": {},
     "output_type": "display_data"
    },
    {
     "data": {
      "text/html": [
       "<pre style=\"white-space:pre;overflow-x:auto;line-height:normal;font-family:Menlo,'DejaVu Sans Mono',consolas,'Courier New',monospace\">Current experience:  <span style=\"color: #008080; text-decoration-color: #008080; font-weight: bold\">5</span>\n",
       "</pre>\n"
      ],
      "text/plain": [
       "Current experience:  \u001b[1;36m5\u001b[0m\n"
      ]
     },
     "metadata": {},
     "output_type": "display_data"
    },
    {
     "data": {
      "text/html": [
       "<pre style=\"white-space:pre;overflow-x:auto;line-height:normal;font-family:Menlo,'DejaVu Sans Mono',consolas,'Courier New',monospace\">Experience task ID  <span style=\"color: #008080; text-decoration-color: #008080; font-weight: bold\">5</span>\n",
       "</pre>\n"
      ],
      "text/plain": [
       "Experience task ID  \u001b[1;36m5\u001b[0m\n"
      ]
     },
     "metadata": {},
     "output_type": "display_data"
    },
    {
     "data": {
      "text/html": [
       "<pre style=\"white-space:pre;overflow-x:auto;line-height:normal;font-family:Menlo,'DejaVu Sans Mono',consolas,'Courier New',monospace\">Experience shape: <span style=\"color: #008080; text-decoration-color: #008080; font-weight: bold\">1695</span>\n",
       "</pre>\n"
      ],
      "text/plain": [
       "Experience shape: \u001b[1;36m1695\u001b[0m\n"
      ]
     },
     "metadata": {},
     "output_type": "display_data"
    },
    {
     "data": {
      "text/html": [
       "<pre style=\"white-space:pre;overflow-x:auto;line-height:normal;font-family:Menlo,'DejaVu Sans Mono',consolas,'Courier New',monospace\">Estimated number of clusters: <span style=\"color: #008080; text-decoration-color: #008080; font-weight: bold\">1</span>\n",
       "</pre>\n"
      ],
      "text/plain": [
       "Estimated number of clusters: \u001b[1;36m1\u001b[0m\n"
      ]
     },
     "metadata": {},
     "output_type": "display_data"
    },
    {
     "data": {
      "text/html": [
       "<pre style=\"white-space:pre;overflow-x:auto;line-height:normal;font-family:Menlo,'DejaVu Sans Mono',consolas,'Courier New',monospace\">Estimated number of noise points: <span style=\"color: #008080; text-decoration-color: #008080; font-weight: bold\">0</span>\n",
       "</pre>\n"
      ],
      "text/plain": [
       "Estimated number of noise points: \u001b[1;36m0\u001b[0m\n"
      ]
     },
     "metadata": {},
     "output_type": "display_data"
    },
    {
     "data": {
      "text/html": [
       "<pre style=\"white-space:pre;overflow-x:auto;line-height:normal;font-family:Menlo,'DejaVu Sans Mono',consolas,'Courier New',monospace\"># nearest centroids <span style=\"font-weight: bold\">(</span><span style=\"color: #008080; text-decoration-color: #008080; font-weight: bold\">0.65</span>%<span style=\"font-weight: bold\">)</span>:\n",
       "<span style=\"font-weight: bold\">(</span><span style=\"color: #008080; text-decoration-color: #008080; font-weight: bold\">11</span>, <span style=\"color: #008080; text-decoration-color: #008080; font-weight: bold\">512</span><span style=\"font-weight: bold\">)</span>\n",
       "</pre>\n"
      ],
      "text/plain": [
       "# nearest centroids \u001b[1m(\u001b[0m\u001b[1;36m0.65\u001b[0m%\u001b[1m)\u001b[0m:\n",
       "\u001b[1m(\u001b[0m\u001b[1;36m11\u001b[0m, \u001b[1;36m512\u001b[0m\u001b[1m)\u001b[0m\n"
      ]
     },
     "metadata": {},
     "output_type": "display_data"
    },
    {
     "data": {
      "text/html": [
       "<pre style=\"white-space:pre;overflow-x:auto;line-height:normal;font-family:Menlo,'DejaVu Sans Mono',consolas,'Courier New',monospace\">\n",
       "</pre>\n"
      ],
      "text/plain": [
       "\n"
      ]
     },
     "metadata": {},
     "output_type": "display_data"
    },
    {
     "data": {
      "text/html": [
       "<pre style=\"white-space:pre;overflow-x:auto;line-height:normal;font-family:Menlo,'DejaVu Sans Mono',consolas,'Courier New',monospace\">Calculating drift between <span style=\"color: #800080; text-decoration-color: #800080; font-weight: bold\">Task</span><span style=\"font-weight: bold\">(</span><span style=\"color: #808000; text-decoration-color: #808000\">current</span>=<span style=\"color: #008080; text-decoration-color: #008080; font-weight: bold\">5</span>, <span style=\"color: #808000; text-decoration-color: #808000\">memory</span>=<span style=\"color: #008080; text-decoration-color: #008080; font-weight: bold\">4</span><span style=\"font-weight: bold\">)</span>\n",
       "</pre>\n"
      ],
      "text/plain": [
       "Calculating drift between \u001b[1;35mTask\u001b[0m\u001b[1m(\u001b[0m\u001b[33mcurrent\u001b[0m=\u001b[1;36m5\u001b[0m, \u001b[33mmemory\u001b[0m=\u001b[1;36m4\u001b[0m\u001b[1m)\u001b[0m\n"
      ]
     },
     "metadata": {},
     "output_type": "display_data"
    },
    {
     "data": {
      "text/html": [
       "<pre style=\"white-space:pre;overflow-x:auto;line-height:normal;font-family:Menlo,'DejaVu Sans Mono',consolas,'Courier New',monospace\">Drift = <span style=\"color: #008080; text-decoration-color: #008080; font-weight: bold\">1</span>\n",
       "</pre>\n"
      ],
      "text/plain": [
       "Drift = \u001b[1;36m1\u001b[0m\n"
      ]
     },
     "metadata": {},
     "output_type": "display_data"
    },
    {
     "data": {
      "text/html": [
       "<pre style=\"white-space:pre;overflow-x:auto;line-height:normal;font-family:Menlo,'DejaVu Sans Mono',consolas,'Courier New',monospace\">Calculating drift between <span style=\"color: #800080; text-decoration-color: #800080; font-weight: bold\">Task</span><span style=\"font-weight: bold\">(</span><span style=\"color: #808000; text-decoration-color: #808000\">current</span>=<span style=\"color: #008080; text-decoration-color: #008080; font-weight: bold\">5</span>, <span style=\"color: #808000; text-decoration-color: #808000\">memory</span>=<span style=\"color: #008080; text-decoration-color: #008080; font-weight: bold\">3</span><span style=\"font-weight: bold\">)</span>\n",
       "</pre>\n"
      ],
      "text/plain": [
       "Calculating drift between \u001b[1;35mTask\u001b[0m\u001b[1m(\u001b[0m\u001b[33mcurrent\u001b[0m=\u001b[1;36m5\u001b[0m, \u001b[33mmemory\u001b[0m=\u001b[1;36m3\u001b[0m\u001b[1m)\u001b[0m\n"
      ]
     },
     "metadata": {},
     "output_type": "display_data"
    },
    {
     "data": {
      "text/html": [
       "<pre style=\"white-space:pre;overflow-x:auto;line-height:normal;font-family:Menlo,'DejaVu Sans Mono',consolas,'Courier New',monospace\">Drift = <span style=\"color: #008080; text-decoration-color: #008080; font-weight: bold\">1</span>\n",
       "</pre>\n"
      ],
      "text/plain": [
       "Drift = \u001b[1;36m1\u001b[0m\n"
      ]
     },
     "metadata": {},
     "output_type": "display_data"
    },
    {
     "data": {
      "text/html": [
       "<pre style=\"white-space:pre;overflow-x:auto;line-height:normal;font-family:Menlo,'DejaVu Sans Mono',consolas,'Courier New',monospace\">Calculating drift between <span style=\"color: #800080; text-decoration-color: #800080; font-weight: bold\">Task</span><span style=\"font-weight: bold\">(</span><span style=\"color: #808000; text-decoration-color: #808000\">current</span>=<span style=\"color: #008080; text-decoration-color: #008080; font-weight: bold\">5</span>, <span style=\"color: #808000; text-decoration-color: #808000\">memory</span>=<span style=\"color: #008080; text-decoration-color: #008080; font-weight: bold\">2</span><span style=\"font-weight: bold\">)</span>\n",
       "</pre>\n"
      ],
      "text/plain": [
       "Calculating drift between \u001b[1;35mTask\u001b[0m\u001b[1m(\u001b[0m\u001b[33mcurrent\u001b[0m=\u001b[1;36m5\u001b[0m, \u001b[33mmemory\u001b[0m=\u001b[1;36m2\u001b[0m\u001b[1m)\u001b[0m\n"
      ]
     },
     "metadata": {},
     "output_type": "display_data"
    },
    {
     "data": {
      "text/html": [
       "<pre style=\"white-space:pre;overflow-x:auto;line-height:normal;font-family:Menlo,'DejaVu Sans Mono',consolas,'Courier New',monospace\">Drift = <span style=\"color: #008080; text-decoration-color: #008080; font-weight: bold\">1</span>\n",
       "</pre>\n"
      ],
      "text/plain": [
       "Drift = \u001b[1;36m1\u001b[0m\n"
      ]
     },
     "metadata": {},
     "output_type": "display_data"
    },
    {
     "data": {
      "text/html": [
       "<pre style=\"white-space:pre;overflow-x:auto;line-height:normal;font-family:Menlo,'DejaVu Sans Mono',consolas,'Courier New',monospace\">Calculating drift between <span style=\"color: #800080; text-decoration-color: #800080; font-weight: bold\">Task</span><span style=\"font-weight: bold\">(</span><span style=\"color: #808000; text-decoration-color: #808000\">current</span>=<span style=\"color: #008080; text-decoration-color: #008080; font-weight: bold\">5</span>, <span style=\"color: #808000; text-decoration-color: #808000\">memory</span>=<span style=\"color: #008080; text-decoration-color: #008080; font-weight: bold\">1</span><span style=\"font-weight: bold\">)</span>\n",
       "</pre>\n"
      ],
      "text/plain": [
       "Calculating drift between \u001b[1;35mTask\u001b[0m\u001b[1m(\u001b[0m\u001b[33mcurrent\u001b[0m=\u001b[1;36m5\u001b[0m, \u001b[33mmemory\u001b[0m=\u001b[1;36m1\u001b[0m\u001b[1m)\u001b[0m\n"
      ]
     },
     "metadata": {},
     "output_type": "display_data"
    },
    {
     "data": {
      "text/html": [
       "<pre style=\"white-space:pre;overflow-x:auto;line-height:normal;font-family:Menlo,'DejaVu Sans Mono',consolas,'Courier New',monospace\">Drift = <span style=\"color: #008080; text-decoration-color: #008080; font-weight: bold\">1</span>\n",
       "</pre>\n"
      ],
      "text/plain": [
       "Drift = \u001b[1;36m1\u001b[0m\n"
      ]
     },
     "metadata": {},
     "output_type": "display_data"
    },
    {
     "data": {
      "text/html": [
       "<pre style=\"white-space:pre;overflow-x:auto;line-height:normal;font-family:Menlo,'DejaVu Sans Mono',consolas,'Courier New',monospace\">Calculating drift between <span style=\"color: #800080; text-decoration-color: #800080; font-weight: bold\">Task</span><span style=\"font-weight: bold\">(</span><span style=\"color: #808000; text-decoration-color: #808000\">current</span>=<span style=\"color: #008080; text-decoration-color: #008080; font-weight: bold\">5</span>, <span style=\"color: #808000; text-decoration-color: #808000\">memory</span>=<span style=\"color: #008080; text-decoration-color: #008080; font-weight: bold\">0</span><span style=\"font-weight: bold\">)</span>\n",
       "</pre>\n"
      ],
      "text/plain": [
       "Calculating drift between \u001b[1;35mTask\u001b[0m\u001b[1m(\u001b[0m\u001b[33mcurrent\u001b[0m=\u001b[1;36m5\u001b[0m, \u001b[33mmemory\u001b[0m=\u001b[1;36m0\u001b[0m\u001b[1m)\u001b[0m\n"
      ]
     },
     "metadata": {},
     "output_type": "display_data"
    },
    {
     "data": {
      "text/html": [
       "<pre style=\"white-space:pre;overflow-x:auto;line-height:normal;font-family:Menlo,'DejaVu Sans Mono',consolas,'Courier New',monospace\">Drift = <span style=\"color: #008080; text-decoration-color: #008080; font-weight: bold\">1</span>\n",
       "</pre>\n"
      ],
      "text/plain": [
       "Drift = \u001b[1;36m1\u001b[0m\n"
      ]
     },
     "metadata": {},
     "output_type": "display_data"
    },
    {
     "data": {
      "text/html": [
       "<pre style=\"white-space:pre;overflow-x:auto;line-height:normal;font-family:Menlo,'DejaVu Sans Mono',consolas,'Courier New',monospace\">Saving nearest centroids into Memory\n",
       "</pre>\n"
      ],
      "text/plain": [
       "Saving nearest centroids into Memory\n"
      ]
     },
     "metadata": {},
     "output_type": "display_data"
    },
    {
     "data": {
      "text/html": [
       "<pre style=\"white-space:pre;overflow-x:auto;line-height:normal;font-family:Menlo,'DejaVu Sans Mono',consolas,'Courier New',monospace\">Memory:\n",
       "<span style=\"font-weight: bold\">[</span>\n",
       "    <span style=\"color: #800080; text-decoration-color: #800080; font-weight: bold\">Memory</span><span style=\"font-weight: bold\">(</span><span style=\"color: #808000; text-decoration-color: #808000\">task</span>=<span style=\"color: #008080; text-decoration-color: #008080; font-weight: bold\">0</span>, <span style=\"color: #808000; text-decoration-color: #808000\">shape</span>=<span style=\"font-weight: bold\">(</span><span style=\"color: #008080; text-decoration-color: #008080; font-weight: bold\">11</span>, <span style=\"color: #008080; text-decoration-color: #008080; font-weight: bold\">512</span><span style=\"font-weight: bold\">))</span>,\n",
       "    <span style=\"color: #800080; text-decoration-color: #800080; font-weight: bold\">Memory</span><span style=\"font-weight: bold\">(</span><span style=\"color: #808000; text-decoration-color: #808000\">task</span>=<span style=\"color: #008080; text-decoration-color: #008080; font-weight: bold\">1</span>, <span style=\"color: #808000; text-decoration-color: #808000\">shape</span>=<span style=\"font-weight: bold\">(</span><span style=\"color: #008080; text-decoration-color: #008080; font-weight: bold\">11</span>, <span style=\"color: #008080; text-decoration-color: #008080; font-weight: bold\">512</span><span style=\"font-weight: bold\">))</span>,\n",
       "    <span style=\"color: #800080; text-decoration-color: #800080; font-weight: bold\">Memory</span><span style=\"font-weight: bold\">(</span><span style=\"color: #808000; text-decoration-color: #808000\">task</span>=<span style=\"color: #008080; text-decoration-color: #008080; font-weight: bold\">2</span>, <span style=\"color: #808000; text-decoration-color: #808000\">shape</span>=<span style=\"font-weight: bold\">(</span><span style=\"color: #008080; text-decoration-color: #008080; font-weight: bold\">11</span>, <span style=\"color: #008080; text-decoration-color: #008080; font-weight: bold\">512</span><span style=\"font-weight: bold\">))</span>,\n",
       "    <span style=\"color: #800080; text-decoration-color: #800080; font-weight: bold\">Memory</span><span style=\"font-weight: bold\">(</span><span style=\"color: #808000; text-decoration-color: #808000\">task</span>=<span style=\"color: #008080; text-decoration-color: #008080; font-weight: bold\">3</span>, <span style=\"color: #808000; text-decoration-color: #808000\">shape</span>=<span style=\"font-weight: bold\">(</span><span style=\"color: #008080; text-decoration-color: #008080; font-weight: bold\">11</span>, <span style=\"color: #008080; text-decoration-color: #008080; font-weight: bold\">512</span><span style=\"font-weight: bold\">))</span>,\n",
       "    <span style=\"color: #800080; text-decoration-color: #800080; font-weight: bold\">Memory</span><span style=\"font-weight: bold\">(</span><span style=\"color: #808000; text-decoration-color: #808000\">task</span>=<span style=\"color: #008080; text-decoration-color: #008080; font-weight: bold\">4</span>, <span style=\"color: #808000; text-decoration-color: #808000\">shape</span>=<span style=\"font-weight: bold\">(</span><span style=\"color: #008080; text-decoration-color: #008080; font-weight: bold\">11</span>, <span style=\"color: #008080; text-decoration-color: #008080; font-weight: bold\">512</span><span style=\"font-weight: bold\">))</span>,\n",
       "    <span style=\"color: #800080; text-decoration-color: #800080; font-weight: bold\">Memory</span><span style=\"font-weight: bold\">(</span><span style=\"color: #808000; text-decoration-color: #808000\">task</span>=<span style=\"color: #008080; text-decoration-color: #008080; font-weight: bold\">5</span>, <span style=\"color: #808000; text-decoration-color: #808000\">shape</span>=<span style=\"font-weight: bold\">(</span><span style=\"color: #008080; text-decoration-color: #008080; font-weight: bold\">11</span>, <span style=\"color: #008080; text-decoration-color: #008080; font-weight: bold\">512</span><span style=\"font-weight: bold\">))</span>\n",
       "<span style=\"font-weight: bold\">]</span>\n",
       "</pre>\n"
      ],
      "text/plain": [
       "Memory:\n",
       "\u001b[1m[\u001b[0m\n",
       "    \u001b[1;35mMemory\u001b[0m\u001b[1m(\u001b[0m\u001b[33mtask\u001b[0m=\u001b[1;36m0\u001b[0m, \u001b[33mshape\u001b[0m=\u001b[1m(\u001b[0m\u001b[1;36m11\u001b[0m, \u001b[1;36m512\u001b[0m\u001b[1m)\u001b[0m\u001b[1m)\u001b[0m,\n",
       "    \u001b[1;35mMemory\u001b[0m\u001b[1m(\u001b[0m\u001b[33mtask\u001b[0m=\u001b[1;36m1\u001b[0m, \u001b[33mshape\u001b[0m=\u001b[1m(\u001b[0m\u001b[1;36m11\u001b[0m, \u001b[1;36m512\u001b[0m\u001b[1m)\u001b[0m\u001b[1m)\u001b[0m,\n",
       "    \u001b[1;35mMemory\u001b[0m\u001b[1m(\u001b[0m\u001b[33mtask\u001b[0m=\u001b[1;36m2\u001b[0m, \u001b[33mshape\u001b[0m=\u001b[1m(\u001b[0m\u001b[1;36m11\u001b[0m, \u001b[1;36m512\u001b[0m\u001b[1m)\u001b[0m\u001b[1m)\u001b[0m,\n",
       "    \u001b[1;35mMemory\u001b[0m\u001b[1m(\u001b[0m\u001b[33mtask\u001b[0m=\u001b[1;36m3\u001b[0m, \u001b[33mshape\u001b[0m=\u001b[1m(\u001b[0m\u001b[1;36m11\u001b[0m, \u001b[1;36m512\u001b[0m\u001b[1m)\u001b[0m\u001b[1m)\u001b[0m,\n",
       "    \u001b[1;35mMemory\u001b[0m\u001b[1m(\u001b[0m\u001b[33mtask\u001b[0m=\u001b[1;36m4\u001b[0m, \u001b[33mshape\u001b[0m=\u001b[1m(\u001b[0m\u001b[1;36m11\u001b[0m, \u001b[1;36m512\u001b[0m\u001b[1m)\u001b[0m\u001b[1m)\u001b[0m,\n",
       "    \u001b[1;35mMemory\u001b[0m\u001b[1m(\u001b[0m\u001b[33mtask\u001b[0m=\u001b[1;36m5\u001b[0m, \u001b[33mshape\u001b[0m=\u001b[1m(\u001b[0m\u001b[1;36m11\u001b[0m, \u001b[1;36m512\u001b[0m\u001b[1m)\u001b[0m\u001b[1m)\u001b[0m\n",
       "\u001b[1m]\u001b[0m\n"
      ]
     },
     "metadata": {},
     "output_type": "display_data"
    },
    {
     "data": {
      "text/html": [
       "<pre style=\"white-space:pre;overflow-x:auto;line-height:normal;font-family:Menlo,'DejaVu Sans Mono',consolas,'Courier New',monospace\">Memory tasks: <span style=\"font-weight: bold\">[</span><span style=\"color: #008080; text-decoration-color: #008080; font-weight: bold\">0</span>, <span style=\"color: #008080; text-decoration-color: #008080; font-weight: bold\">1</span>, <span style=\"color: #008080; text-decoration-color: #008080; font-weight: bold\">2</span>, <span style=\"color: #008080; text-decoration-color: #008080; font-weight: bold\">3</span>, <span style=\"color: #008080; text-decoration-color: #008080; font-weight: bold\">4</span>, <span style=\"color: #008080; text-decoration-color: #008080; font-weight: bold\">5</span><span style=\"font-weight: bold\">]</span>\n",
       "</pre>\n"
      ],
      "text/plain": [
       "Memory tasks: \u001b[1m[\u001b[0m\u001b[1;36m0\u001b[0m, \u001b[1;36m1\u001b[0m, \u001b[1;36m2\u001b[0m, \u001b[1;36m3\u001b[0m, \u001b[1;36m4\u001b[0m, \u001b[1;36m5\u001b[0m\u001b[1m]\u001b[0m\n"
      ]
     },
     "metadata": {},
     "output_type": "display_data"
    },
    {
     "data": {
      "text/html": [
       "<pre style=\"white-space:pre;overflow-x:auto;line-height:normal;font-family:Menlo,'DejaVu Sans Mono',consolas,'Courier New',monospace\">Training multi-head model\n",
       "</pre>\n"
      ],
      "text/plain": [
       "Training multi-head model\n"
      ]
     },
     "metadata": {},
     "output_type": "display_data"
    },
    {
     "name": "stdout",
     "output_type": "stream",
     "text": [
      "-- >> Start of training phase << --\n",
      "100%|██████████| 9/9 [00:12<00:00,  1.39s/it]\n",
      "Epoch 0 ended.\n",
      "100%|██████████| 9/9 [00:12<00:00,  1.41s/it]\n",
      "Epoch 1 ended.\n",
      "100%|██████████| 9/9 [00:12<00:00,  1.35s/it]\n",
      "Epoch 2 ended.\n",
      "-- >> End of training phase << --\n"
     ]
    },
    {
     "data": {
      "text/html": [
       "<pre style=\"white-space:pre;overflow-x:auto;line-height:normal;font-family:Menlo,'DejaVu Sans Mono',consolas,'Courier New',monospace\">Training multi-head model completed\n",
       "</pre>\n"
      ],
      "text/plain": [
       "Training multi-head model completed\n"
      ]
     },
     "metadata": {},
     "output_type": "display_data"
    },
    {
     "data": {
      "text/html": [
       "<pre style=\"white-space:pre;overflow-x:auto;line-height:normal;font-family:Menlo,'DejaVu Sans Mono',consolas,'Courier New',monospace\">Getting Task Classifier\n",
       "</pre>\n"
      ],
      "text/plain": [
       "Getting Task Classifier\n"
      ]
     },
     "metadata": {},
     "output_type": "display_data"
    },
    {
     "data": {
      "text/html": [
       "<pre style=\"white-space:pre;overflow-x:auto;line-height:normal;font-family:Menlo,'DejaVu Sans Mono',consolas,'Courier New',monospace\">x_train_knn_total shape: \n",
       "<span style=\"font-weight: bold\">(</span><span style=\"color: #008080; text-decoration-color: #008080; font-weight: bold\">66</span>, <span style=\"color: #008080; text-decoration-color: #008080; font-weight: bold\">512</span><span style=\"font-weight: bold\">)</span>\n",
       "</pre>\n"
      ],
      "text/plain": [
       "x_train_knn_total shape: \n",
       "\u001b[1m(\u001b[0m\u001b[1;36m66\u001b[0m, \u001b[1;36m512\u001b[0m\u001b[1m)\u001b[0m\n"
      ]
     },
     "metadata": {},
     "output_type": "display_data"
    },
    {
     "data": {
      "text/html": [
       "<pre style=\"white-space:pre;overflow-x:auto;line-height:normal;font-family:Menlo,'DejaVu Sans Mono',consolas,'Courier New',monospace\">y_train_knn_total shape\n",
       "<span style=\"font-weight: bold\">(</span><span style=\"color: #008080; text-decoration-color: #008080; font-weight: bold\">66</span>,<span style=\"font-weight: bold\">)</span>\n",
       "</pre>\n"
      ],
      "text/plain": [
       "y_train_knn_total shape\n",
       "\u001b[1m(\u001b[0m\u001b[1;36m66\u001b[0m,\u001b[1m)\u001b[0m\n"
      ]
     },
     "metadata": {},
     "output_type": "display_data"
    },
    {
     "data": {
      "text/html": [
       "<pre style=\"white-space:pre;overflow-x:auto;line-height:normal;font-family:Menlo,'DejaVu Sans Mono',consolas,'Courier New',monospace\">Using the classifier:\n",
       "</pre>\n"
      ],
      "text/plain": [
       "Using the classifier:\n"
      ]
     },
     "metadata": {},
     "output_type": "display_data"
    },
    {
     "data": {
      "text/html": [
       "<pre style=\"white-space:pre;overflow-x:auto;line-height:normal;font-family:Menlo,'DejaVu Sans Mono',consolas,'Courier New',monospace\">Count predictions: \n",
       "<span style=\"font-weight: bold\">{</span><span style=\"color: #008080; text-decoration-color: #008080; font-weight: bold\">0</span>: <span style=\"color: #008080; text-decoration-color: #008080; font-weight: bold\">22</span>, <span style=\"color: #008080; text-decoration-color: #008080; font-weight: bold\">1</span>: <span style=\"color: #008080; text-decoration-color: #008080; font-weight: bold\">50</span>, <span style=\"color: #008080; text-decoration-color: #008080; font-weight: bold\">2</span>: <span style=\"color: #008080; text-decoration-color: #008080; font-weight: bold\">7</span>, <span style=\"color: #008080; text-decoration-color: #008080; font-weight: bold\">3</span>: <span style=\"color: #008080; text-decoration-color: #008080; font-weight: bold\">115</span>, <span style=\"color: #008080; text-decoration-color: #008080; font-weight: bold\">4</span>: <span style=\"color: #008080; text-decoration-color: #008080; font-weight: bold\">6</span>, <span style=\"color: #008080; text-decoration-color: #008080; font-weight: bold\">5</span>: <span style=\"color: #008080; text-decoration-color: #008080; font-weight: bold\">224</span><span style=\"font-weight: bold\">}</span>\n",
       "</pre>\n"
      ],
      "text/plain": [
       "Count predictions: \n",
       "\u001b[1m{\u001b[0m\u001b[1;36m0\u001b[0m: \u001b[1;36m22\u001b[0m, \u001b[1;36m1\u001b[0m: \u001b[1;36m50\u001b[0m, \u001b[1;36m2\u001b[0m: \u001b[1;36m7\u001b[0m, \u001b[1;36m3\u001b[0m: \u001b[1;36m115\u001b[0m, \u001b[1;36m4\u001b[0m: \u001b[1;36m6\u001b[0m, \u001b[1;36m5\u001b[0m: \u001b[1;36m224\u001b[0m\u001b[1m}\u001b[0m\n"
      ]
     },
     "metadata": {},
     "output_type": "display_data"
    },
    {
     "data": {
      "text/html": [
       "<pre style=\"white-space:pre;overflow-x:auto;line-height:normal;font-family:Menlo,'DejaVu Sans Mono',consolas,'Courier New',monospace\">Using the mode to get the most voted prediction:\n",
       "</pre>\n"
      ],
      "text/plain": [
       "Using the mode to get the most voted prediction:\n"
      ]
     },
     "metadata": {},
     "output_type": "display_data"
    },
    {
     "data": {
      "text/html": [
       "<pre style=\"white-space:pre;overflow-x:auto;line-height:normal;font-family:Menlo,'DejaVu Sans Mono',consolas,'Courier New',monospace\">Count predictions after: \n",
       "<span style=\"font-weight: bold\">{</span><span style=\"color: #008080; text-decoration-color: #008080; font-weight: bold\">5</span>: <span style=\"color: #008080; text-decoration-color: #008080; font-weight: bold\">424</span><span style=\"font-weight: bold\">}</span>\n",
       "</pre>\n"
      ],
      "text/plain": [
       "Count predictions after: \n",
       "\u001b[1m{\u001b[0m\u001b[1;36m5\u001b[0m: \u001b[1;36m424\u001b[0m\u001b[1m}\u001b[0m\n"
      ]
     },
     "metadata": {},
     "output_type": "display_data"
    },
    {
     "data": {
      "text/html": [
       "<pre style=\"white-space:pre;overflow-x:auto;line-height:normal;font-family:Menlo,'DejaVu Sans Mono',consolas,'Courier New',monospace\">Predictions: <span style=\"font-weight: bold\">[</span><span style=\"color: #008080; text-decoration-color: #008080; font-weight: bold\">5</span> <span style=\"color: #008080; text-decoration-color: #008080; font-weight: bold\">5</span> <span style=\"color: #008080; text-decoration-color: #008080; font-weight: bold\">5</span> <span style=\"color: #008080; text-decoration-color: #008080; font-weight: bold\">5</span> <span style=\"color: #008080; text-decoration-color: #008080; font-weight: bold\">5</span> <span style=\"color: #008080; text-decoration-color: #008080; font-weight: bold\">5</span> <span style=\"color: #008080; text-decoration-color: #008080; font-weight: bold\">5</span> <span style=\"color: #008080; text-decoration-color: #008080; font-weight: bold\">5</span> <span style=\"color: #008080; text-decoration-color: #008080; font-weight: bold\">5</span> <span style=\"color: #008080; text-decoration-color: #008080; font-weight: bold\">5</span><span style=\"font-weight: bold\">]</span>\n",
       "</pre>\n"
      ],
      "text/plain": [
       "Predictions: \u001b[1m[\u001b[0m\u001b[1;36m5\u001b[0m \u001b[1;36m5\u001b[0m \u001b[1;36m5\u001b[0m \u001b[1;36m5\u001b[0m \u001b[1;36m5\u001b[0m \u001b[1;36m5\u001b[0m \u001b[1;36m5\u001b[0m \u001b[1;36m5\u001b[0m \u001b[1;36m5\u001b[0m \u001b[1;36m5\u001b[0m\u001b[1m]\u001b[0m\n"
      ]
     },
     "metadata": {},
     "output_type": "display_data"
    },
    {
     "data": {
      "text/html": [
       "<pre style=\"white-space:pre;overflow-x:auto;line-height:normal;font-family:Menlo,'DejaVu Sans Mono',consolas,'Courier New',monospace\">Predictions shape: <span style=\"font-weight: bold\">(</span><span style=\"color: #008080; text-decoration-color: #008080; font-weight: bold\">424</span>,<span style=\"font-weight: bold\">)</span>\n",
       "</pre>\n"
      ],
      "text/plain": [
       "Predictions shape: \u001b[1m(\u001b[0m\u001b[1;36m424\u001b[0m,\u001b[1m)\u001b[0m\n"
      ]
     },
     "metadata": {},
     "output_type": "display_data"
    },
    {
     "data": {
      "text/html": [
       "<pre style=\"white-space:pre;overflow-x:auto;line-height:normal;font-family:Menlo,'DejaVu Sans Mono',consolas,'Courier New',monospace\">Evaluation benchmark: Ground Truth\n",
       "</pre>\n"
      ],
      "text/plain": [
       "Evaluation benchmark: Ground Truth\n"
      ]
     },
     "metadata": {},
     "output_type": "display_data"
    },
    {
     "name": "stdout",
     "output_type": "stream",
     "text": [
      "-- >> Start of eval phase << --\n",
      "-- Starting eval on experience 0 (Task 0) from test stream --\n",
      "100%|██████████| 6/6 [00:06<00:00,  1.07s/it]\n",
      "> Eval on experience 0 (Task 0) from test stream ended.\n",
      "\tTop1_Acc_Exp/eval_phase/test_stream/Task000/Exp000 = 0.5640\n",
      "-- Starting eval on experience 1 (Task 1) from test stream --\n",
      "100%|██████████| 2/2 [00:05<00:00,  2.92s/it]\n",
      "> Eval on experience 1 (Task 1) from test stream ended.\n",
      "\tTop1_Acc_Exp/eval_phase/test_stream/Task001/Exp001 = 0.8312\n",
      "-- Starting eval on experience 2 (Task 2) from test stream --\n",
      "100%|██████████| 7/7 [00:06<00:00,  1.01it/s]\n",
      "> Eval on experience 2 (Task 2) from test stream ended.\n",
      "\tTop1_Acc_Exp/eval_phase/test_stream/Task002/Exp002 = 0.5219\n",
      "-- Starting eval on experience 1 (Task 1) from test stream --\n",
      "100%|██████████| 2/2 [00:05<00:00,  2.98s/it]\n",
      "> Eval on experience 1 (Task 1) from test stream ended.\n",
      "\tTop1_Acc_Exp/eval_phase/test_stream/Task001/Exp001 = 0.8312\n",
      "-- Starting eval on experience 3 (Task 3) from test stream --\n",
      "100%|██████████| 3/3 [00:06<00:00,  2.09s/it]\n",
      "> Eval on experience 3 (Task 3) from test stream ended.\n",
      "\tTop1_Acc_Exp/eval_phase/test_stream/Task003/Exp003 = 0.8418\n",
      "-- Starting eval on experience 3 (Task 3) from test stream --\n",
      "100%|██████████| 3/3 [00:06<00:00,  2.09s/it]\n",
      "> Eval on experience 3 (Task 3) from test stream ended.\n",
      "\tTop1_Acc_Exp/eval_phase/test_stream/Task003/Exp003 = 0.8418\n",
      "-- Starting eval on experience 4 (Task 4) from test stream --\n",
      "100%|██████████| 5/5 [00:07<00:00,  1.41s/it]\n",
      "> Eval on experience 4 (Task 4) from test stream ended.\n",
      "\tTop1_Acc_Exp/eval_phase/test_stream/Task004/Exp004 = 0.6582\n",
      "-- Starting eval on experience 5 (Task 5) from test stream --\n",
      "100%|██████████| 3/3 [00:06<00:00,  2.06s/it]\n",
      "> Eval on experience 5 (Task 5) from test stream ended.\n",
      "\tTop1_Acc_Exp/eval_phase/test_stream/Task005/Exp005 = 0.6439\n",
      "-- >> End of eval phase << --\n"
     ]
    },
    {
     "data": {
      "text/html": [
       "<pre style=\"white-space:pre;overflow-x:auto;line-height:normal;font-family:Menlo,'DejaVu Sans Mono',consolas,'Courier New',monospace\">Evaluation benchmark: TADIL\n",
       "</pre>\n"
      ],
      "text/plain": [
       "Evaluation benchmark: TADIL\n"
      ]
     },
     "metadata": {},
     "output_type": "display_data"
    },
    {
     "name": "stdout",
     "output_type": "stream",
     "text": [
      "-- >> Start of eval phase << --\n",
      "-- Starting eval on experience 0 (Task 0) from test stream --\n",
      "100%|██████████| 6/6 [00:06<00:00,  1.07s/it]\n",
      "> Eval on experience 0 (Task 0) from test stream ended.\n",
      "\tTop1_Acc_Exp/eval_phase/test_stream/Task000/Exp000 = 0.5640\n",
      "-- Starting eval on experience 1 (Task 1) from test stream --\n",
      "100%|██████████| 2/2 [00:05<00:00,  2.96s/it]\n",
      "> Eval on experience 1 (Task 1) from test stream ended.\n",
      "\tTop1_Acc_Exp/eval_phase/test_stream/Task001/Exp001 = 0.8312\n",
      "-- Starting eval on experience 2 (Task 2) from test stream --\n",
      "100%|██████████| 7/7 [00:06<00:00,  1.00it/s]\n",
      "> Eval on experience 2 (Task 2) from test stream ended.\n",
      "\tTop1_Acc_Exp/eval_phase/test_stream/Task002/Exp002 = 0.5219\n",
      "-- Starting eval on experience 3 (Task 1) from test stream --\n",
      "100%|██████████| 2/2 [00:06<00:00,  3.01s/it]\n",
      "> Eval on experience 3 (Task 1) from test stream ended.\n",
      "\tTop1_Acc_Exp/eval_phase/test_stream/Task001/Exp003 = 0.8312\n",
      "-- Starting eval on experience 4 (Task 3) from test stream --\n",
      "100%|██████████| 3/3 [00:06<00:00,  2.13s/it]\n",
      "> Eval on experience 4 (Task 3) from test stream ended.\n",
      "\tTop1_Acc_Exp/eval_phase/test_stream/Task003/Exp004 = 0.8418\n",
      "-- Starting eval on experience 5 (Task 3) from test stream --\n",
      "100%|██████████| 3/3 [00:06<00:00,  2.13s/it]\n",
      "> Eval on experience 5 (Task 3) from test stream ended.\n",
      "\tTop1_Acc_Exp/eval_phase/test_stream/Task003/Exp005 = 0.8418\n",
      "-- Starting eval on experience 6 (Task 4) from test stream --\n",
      "100%|██████████| 5/5 [00:06<00:00,  1.38s/it]\n",
      "> Eval on experience 6 (Task 4) from test stream ended.\n",
      "\tTop1_Acc_Exp/eval_phase/test_stream/Task004/Exp006 = 0.6582\n",
      "-- Starting eval on experience 7 (Task 5) from test stream --\n",
      "100%|██████████| 3/3 [00:06<00:00,  2.07s/it]\n",
      "> Eval on experience 7 (Task 5) from test stream ended.\n",
      "\tTop1_Acc_Exp/eval_phase/test_stream/Task005/Exp007 = 0.6439\n",
      "-- >> End of eval phase << --\n"
     ]
    },
    {
     "data": {
      "text/html": [
       "<pre style=\"white-space:pre;overflow-x:auto;line-height:normal;font-family:Menlo,'DejaVu Sans Mono',consolas,'Courier New',monospace\">Evaluation benchmark: Normal\n",
       "</pre>\n"
      ],
      "text/plain": [
       "Evaluation benchmark: Normal\n"
      ]
     },
     "metadata": {},
     "output_type": "display_data"
    },
    {
     "name": "stdout",
     "output_type": "stream",
     "text": [
      "-- >> Start of eval phase << --\n",
      "-- Starting eval on experience 0 (Task 0) from test stream --\n",
      "100%|██████████| 6/6 [00:06<00:00,  1.07s/it]\n",
      "> Eval on experience 0 (Task 0) from test stream ended.\n",
      "\tTop1_Acc_Exp/eval_phase/test_stream/Task000/Exp000 = 0.5640\n",
      "-- Starting eval on experience 1 (Task 0) from test stream --\n",
      "100%|██████████| 2/2 [00:06<00:00,  3.00s/it]\n",
      "> Eval on experience 1 (Task 0) from test stream ended.\n",
      "\tTop1_Acc_Exp/eval_phase/test_stream/Task000/Exp001 = 0.8182\n",
      "-- Starting eval on experience 2 (Task 0) from test stream --\n",
      "100%|██████████| 7/7 [00:06<00:00,  1.00it/s]\n",
      "> Eval on experience 2 (Task 0) from test stream ended.\n",
      "\tTop1_Acc_Exp/eval_phase/test_stream/Task000/Exp002 = 0.5226\n",
      "-- Starting eval on experience 1 (Task 0) from test stream --\n",
      "100%|██████████| 2/2 [00:05<00:00,  2.96s/it]\n",
      "> Eval on experience 1 (Task 0) from test stream ended.\n",
      "\tTop1_Acc_Exp/eval_phase/test_stream/Task000/Exp001 = 0.8182\n",
      "-- Starting eval on experience 3 (Task 0) from test stream --\n",
      "100%|██████████| 3/3 [00:06<00:00,  2.07s/it]\n",
      "> Eval on experience 3 (Task 0) from test stream ended.\n",
      "\tTop1_Acc_Exp/eval_phase/test_stream/Task000/Exp003 = 0.8223\n",
      "-- Starting eval on experience 3 (Task 0) from test stream --\n",
      "100%|██████████| 3/3 [00:06<00:00,  2.09s/it]\n",
      "> Eval on experience 3 (Task 0) from test stream ended.\n",
      "\tTop1_Acc_Exp/eval_phase/test_stream/Task000/Exp003 = 0.8223\n",
      "-- Starting eval on experience 4 (Task 0) from test stream --\n",
      "100%|██████████| 5/5 [00:06<00:00,  1.39s/it]\n",
      "> Eval on experience 4 (Task 0) from test stream ended.\n",
      "\tTop1_Acc_Exp/eval_phase/test_stream/Task000/Exp004 = 0.5686\n",
      "-- Starting eval on experience 5 (Task 0) from test stream --\n",
      "100%|██████████| 3/3 [00:06<00:00,  2.04s/it]\n",
      "> Eval on experience 5 (Task 0) from test stream ended.\n",
      "\tTop1_Acc_Exp/eval_phase/test_stream/Task000/Exp005 = 0.5401\n",
      "-- >> End of eval phase << --\n"
     ]
    },
    {
     "data": {
      "text/html": [
       "<pre style=\"white-space:pre;overflow-x:auto;line-height:normal;font-family:Menlo,'DejaVu Sans Mono',consolas,'Courier New',monospace\">----------------------------------------\n",
       "</pre>\n"
      ],
      "text/plain": [
       "----------------------------------------\n"
      ]
     },
     "metadata": {},
     "output_type": "display_data"
    },
    {
     "data": {
      "text/html": [
       "<pre style=\"white-space:pre;overflow-x:auto;line-height:normal;font-family:Menlo,'DejaVu Sans Mono',consolas,'Courier New',monospace\">\n",
       "</pre>\n"
      ],
      "text/plain": [
       "\n"
      ]
     },
     "metadata": {},
     "output_type": "display_data"
    },
    {
     "data": {
      "text/html": [
       "<pre style=\"white-space:pre;overflow-x:auto;line-height:normal;font-family:Menlo,'DejaVu Sans Mono',consolas,'Courier New',monospace\">Saved results for LwF, exp: <span style=\"color: #008080; text-decoration-color: #008080; font-weight: bold\">0</span>:\n",
       "</pre>\n"
      ],
      "text/plain": [
       "Saved results for LwF, exp: \u001b[1;36m0\u001b[0m:\n"
      ]
     },
     "metadata": {},
     "output_type": "display_data"
    },
    {
     "data": {
      "text/html": [
       "<pre style=\"white-space:pre;overflow-x:auto;line-height:normal;font-family:Menlo,'DejaVu Sans Mono',consolas,'Courier New',monospace\">--------------------------------------------------------------------------------\n",
       "</pre>\n"
      ],
      "text/plain": [
       "--------------------------------------------------------------------------------\n"
      ]
     },
     "metadata": {},
     "output_type": "display_data"
    },
    {
     "data": {
      "text/html": [
       "<pre style=\"white-space:pre;overflow-x:auto;line-height:normal;font-family:Menlo,'DejaVu Sans Mono',consolas,'Courier New',monospace\">\n",
       "</pre>\n"
      ],
      "text/plain": [
       "\n"
      ]
     },
     "metadata": {},
     "output_type": "display_data"
    },
    {
     "data": {
      "text/html": [
       "<pre style=\"white-space:pre;overflow-x:auto;line-height:normal;font-family:Menlo,'DejaVu Sans Mono',consolas,'Courier New',monospace\">--------------------------------------------------------------------------------\n",
       "</pre>\n"
      ],
      "text/plain": [
       "--------------------------------------------------------------------------------\n"
      ]
     },
     "metadata": {},
     "output_type": "display_data"
    }
   ],
   "source": [
    "import torch\n",
    "import random\n",
    "import gc\n",
    "from torch.nn import CrossEntropyLoss\n",
    "import copy\n",
    "import statistics as st\n",
    "from torch.optim import Adam\n",
    "from rich import print\n",
    "from avalanche.models import as_multitask\n",
    "from avalanche.benchmarks.classic import SplitMNIST, PermutedMNIST\n",
    "from avalanche.models import MTSimpleMLP, MTSimpleCNN, SimpleCNN, SimpleMLP\n",
    "# from avalanche.training.supervised import EWC, Naive, LFL\n",
    "from avalanche.evaluation.metrics import (\n",
    "    forgetting_metrics,\n",
    "    accuracy_metrics,\n",
    ")\n",
    "from avalanche.training.plugins import EvaluationPlugin\n",
    "from avalanche.logging import InteractiveLogger, TextLogger, TensorboardLogger\n",
    "# from avalanche.training import Naive\n",
    "from torch.nn import CrossEntropyLoss\n",
    "from torch.optim import SGD\n",
    "from avalanche.benchmarks.classic import SplitMNIST, PermutedMNIST, RotatedMNIST, SplitCIFAR10, SplitCIFAR100\n",
    "from avalanche.benchmarks.generators import filelist_benchmark, dataset_benchmark\n",
    "from avalanche.training.utils import adapt_classification_layer\n",
    "\n",
    "from datetime import datetime\n",
    "from avalanche.evaluation.metrics.images_samples import images_samples_metrics\n",
    "from avalanche.evaluation.metrics.labels_repartition import (\n",
    "    labels_repartition_metrics,\n",
    ")\n",
    "from avalanche.evaluation.metrics.mean_scores import mean_scores_metrics\n",
    "from torch.nn import Linear\n",
    "from avalanche.training.supervised import Replay, GEM, LwF, EWC\n",
    "\n",
    "\n",
    "# choose some metrics and evaluation method\n",
    "loggers = []\n",
    "\n",
    "loggers.append(InteractiveLogger())\n",
    "\n",
    "eval_plugin = EvaluationPlugin(\n",
    "    accuracy_metrics(\n",
    "        minibatch=False, epoch=False, experience=True\n",
    "    ),\n",
    "\n",
    "    # forgetting_metrics(experience=True),\n",
    "    loggers=loggers,\n",
    ")\n",
    "    \n",
    "num_experiments = 1\n",
    "random_seeds = [42, 456, 123]\n",
    "\n",
    "# results_list = []\n",
    "\n",
    "\n",
    "for exp in range(num_experiments):\n",
    "           \n",
    "    memory = list()\n",
    "    \n",
    "    # train_stream = benchmark.train_stream\n",
    "    # test_stream = benchmark.test_stream\n",
    "\n",
    "    print(f\"Length training: {len(benchmark.train_stream[0].dataset)}\")\n",
    "    print(f\"Length testing: {len(benchmark.test_stream[0].dataset)}\")\n",
    "\n",
    "    print(\"-\"*50)\n",
    "\n",
    "\n",
    "    n_workers = 8\n",
    "\n",
    "    seed = random_seeds[exp]\n",
    "    random.seed(seed)\n",
    "    torch.manual_seed(seed)\n",
    "    # torch.cuda.manual_seed(seed)\n",
    "    all_strategies = ['LwF']\n",
    "    # all_strategies = ['EWC','Replay', 'LwF']\n",
    "    for strategy_name in all_strategies:\n",
    "        all_x_train_emb = list()\n",
    "        all_y_train = list()\n",
    "        all_t_train = list()\n",
    "\n",
    "        all_x_test_emb = list()\n",
    "        all_y_test = list()\n",
    "        all_t_test = list()\n",
    "    \n",
    "        model = torchvision.models.resnet18(weights=True)\n",
    "        model.fc = Linear(model.fc.in_features, 7, bias=True)\n",
    "        mt_model = as_multitask(model, 'fc')\n",
    "\n",
    "        optimizer = Adam(mt_model.parameters(), lr=0.01)\n",
    "        criterion = CrossEntropyLoss()\n",
    "        strategy = get_strategy(strategy_name, mt_model, optimizer, criterion)\n",
    "        \n",
    "        model2 = torchvision.models.resnet18(weights=True)\n",
    "        model2.fc = Linear(model2.fc.in_features, 7, bias=True)\n",
    "        mt_model2 = as_multitask(model2, 'fc')   \n",
    "        optimizer2 = Adam(mt_model2.parameters(), lr=0.01)\n",
    "        criterion2 = CrossEntropyLoss()\n",
    "        strategy_no_task = get_strategy(strategy_name, mt_model2, optimizer2, criterion2)\n",
    "        \n",
    "        print(f\"Running strategy: {strategy}, experiment: {exp}\")\n",
    "        results = {key: [] for key in ['ground_truth', 'TADIL', 'normal']}\n",
    "        \n",
    "        new_training = list()\n",
    "        new_testing = list()\n",
    "\n",
    "        memory = list()\n",
    "        # sequence = [0, 1, 2]\n",
    "        sequence = [0, 1, 2, 1, 3, 3, 4, 5]\n",
    "        \n",
    "        benchmark_train_stream = get_sequence(sequence, benchmark.train_stream)\n",
    "        benchmark_method_train_stream = get_sequence(sequence, benchmark_method.train_stream)\n",
    "        \n",
    "        benchmark_test_stream = get_sequence(sequence, benchmark.test_stream)\n",
    "        benchmark_method_test_stream = get_sequence(sequence, benchmark_method.test_stream)\n",
    "        benchmark_no_task_test_stream = get_sequence(sequence, benchmark_no_task.test_stream)\n",
    "        \n",
    "        print(f\"Sequence: {sequence}\")\n",
    "        for index, (task, experience) in enumerate(zip(sequence, benchmark_train_stream)):\n",
    "            \n",
    "            curr_experience = experience.current_experience\n",
    "            print(\"Current experience: \", curr_experience)    \n",
    "            print(\"Experience task ID \", experience.task_label)\n",
    "            print('Experience shape:', len(experience.dataset))            \n",
    "\n",
    "            drift_found = True\n",
    "            x_new_emb, _, _ = get_embeddings(benchmark_method_train_stream[index].dataset)\n",
    "            x_new_nearest_centroids = get_nearest_embedding_centroids(x_new_emb, n_neighbors=10)\n",
    "            \n",
    "            for x_ref in memory[::-1]:\n",
    "                print(f\"Calculating drift between Task(current={task}, memory={x_ref.task})\")\n",
    "                # print(f\"Values(current={x_new_nearest_centroids[0][:5]}, memory={x_ref.nearest_centroids[0][:5]})\") \n",
    "                if not get_drift(x_new_nearest_centroids, x_ref.nearest_centroids):\n",
    "                    print(\"Using the task classifier to predict Task ID\")\n",
    "                    task_id_pred = task_classifier.predict(x_test_emb)\n",
    "                    task_id_pred = st.mode(task_id_pred)\n",
    "                    if task != task_id_pred:\n",
    "                        print(f\"Expected task is {task}, but predicted {task_id_pred}\")\n",
    "                        \n",
    "                    print(f\"Expected task {task} == predicted task {task_id_pred}\")\n",
    "                        \n",
    "                    drift_found = False \n",
    "                    break #return\n",
    "\n",
    "            if drift_found: # Or memory is empty\n",
    "                print(\"Saving nearest centroids into Memory\")\n",
    "                memory.append(Memory(task=task, nearest_centroids=x_new_nearest_centroids))\n",
    "                print(\"Memory:\", memory)\n",
    "                print(f\"Memory tasks: {[m.task for m in memory]}\")\n",
    "                # Training\n",
    "                print(\"Training multi-head model\")\n",
    "                strategy.train(experience, num_workers=n_workers)\n",
    "                if index == 0:\n",
    "                    strategy_no_task.model = strategy.model\n",
    "\n",
    "                print('Training multi-head model completed')\n",
    "                \n",
    "                task_classifier = get_task_classifier(memory)\n",
    "                \n",
    "            # Run the method\n",
    "            benchmark_custom = get_benchmark_method(task_classifier, benchmark_method_train_stream, \n",
    "                                                                     benchmark_method_test_stream, benchmark_test_stream, \n",
    "                                                                     new_training, new_testing, task=index)\n",
    "\n",
    "            # Testing\n",
    "            print(\"Evaluation benchmark: Ground Truth\")\n",
    "            results['ground_truth'].append(strategy.eval(benchmark_test_stream[:index+1], num_workers=n_workers))\n",
    "\n",
    "            print(\"Evaluation benchmark: TADIL\")\n",
    "            results['TADIL'].append(strategy.eval(benchmark_custom.test_stream, num_workers=n_workers))\n",
    "\n",
    "            print(\"Evaluation benchmark: Normal\")\n",
    "            results['normal'].append(strategy_no_task.eval(benchmark_no_task_test_stream[:index+1], num_workers=n_workers))\n",
    "\n",
    "            print(\"-\"*40)\n",
    "            print()\n",
    "\n",
    "        \n",
    "        with open(f'Agnostic_online_{strategy_name}_{exp}.pickle', 'wb') as handle:\n",
    "            pickle.dump(results, handle, protocol=pickle.HIGHEST_PROTOCOL)\n",
    "            print(f\"Saved results for {strategy_name}, exp: {exp}:\")\n",
    "\n",
    "        print(\"-\"*80)\n",
    "        print()\n",
    "    print(\"-\"*80)"
   ]
  },
  {
   "cell_type": "markdown",
   "id": "b399fc51-0936-4fff-a836-1467c7eceda9",
   "metadata": {
    "tags": []
   },
   "source": [
    "## Plot the comparison using model's accuracies"
   ]
  },
  {
   "cell_type": "markdown",
   "id": "91cd9029-9222-442c-95e1-c73568e73a61",
   "metadata": {},
   "source": [
    "### Get the results"
   ]
  },
  {
   "cell_type": "code",
   "execution_count": 220,
   "id": "1117baad-9896-4275-806d-ace9b10507a7",
   "metadata": {},
   "outputs": [],
   "source": [
    "strategy_name = \"LwF\"\n",
    "n_exp = 0\n",
    "\n",
    "with open(f'Agnostic_online_{strategy_name}_{n_exp}.pickle', 'rb') as handle:\n",
    "    results = pickle.load(handle)"
   ]
  },
  {
   "cell_type": "code",
   "execution_count": 222,
   "id": "3bd89072-a743-493e-89db-598fadd1a1be",
   "metadata": {},
   "outputs": [
    {
     "data": {
      "text/plain": [
       "dict_keys(['ground_truth', 'TADIL', 'normal'])"
      ]
     },
     "execution_count": 222,
     "metadata": {},
     "output_type": "execute_result"
    }
   ],
   "source": [
    "results.keys()"
   ]
  },
  {
   "cell_type": "code",
   "execution_count": 141,
   "id": "76469831-b6c5-482d-a038-3f8d0e2bc306",
   "metadata": {
    "tags": []
   },
   "outputs": [],
   "source": [
    "# import matplotlib.pyplot as plt\n",
    "\n",
    "# # Extract the eval_phase values\n",
    "# def get_eval_phase_values(data, keyword):\n",
    "#     eval_values = []\n",
    "#     for exp in data:\n",
    "#         eval_values.append({k: v for k, v in exp.items() if ('eval_phase/test_stream' in k) and (keyword in k)})\n",
    "#     return eval_values\n",
    "\n",
    "# results_clean = {k:get_eval_phase_values(results[k], \"Top1_Acc_Exp\") for k in results.keys()}"
   ]
  },
  {
   "cell_type": "markdown",
   "id": "b5b3377c-5b56-42e9-814d-88214c4dc4f9",
   "metadata": {},
   "source": [
    "### Plot the numbers"
   ]
  },
  {
   "cell_type": "code",
   "execution_count": 223,
   "id": "da9b538f-9645-4b3b-aa4a-2ff6a12f6987",
   "metadata": {
    "tags": []
   },
   "outputs": [
    {
     "name": "stderr",
     "output_type": "stream",
     "text": [
      "<ipython-input-223-47e811329427>:39: MatplotlibDeprecationWarning: The get_cmap function was deprecated in Matplotlib 3.7 and will be removed two minor releases later. Use ``matplotlib.colormaps[name]`` or ``matplotlib.colormaps.get_cmap(obj)`` instead.\n",
      "  colors = plt.cm.get_cmap('tab10', len(unique_tasks))\n"
     ]
    },
    {
     "data": {
      "image/png": "[encoded data removed]",
      "text/plain": [
       "<Figure size 1080x360 with 3 Axes>"
      ]
     },
     "metadata": {
      "needs_background": "light"
     },
     "output_type": "display_data"
    }
   ],
   "source": [
    "import matplotlib.pyplot as plt\n",
    "import numpy as np\n",
    "\n",
    "sequence = [0, 1, 2, 1, 3, 3, 4, 5]\n",
    "\n",
    "method_scores = {\n",
    "    'ground_truth': [],\n",
    "    'TADIL': [],\n",
    "    'normal': [],\n",
    "}\n",
    "\n",
    "unique_tasks = list(set(sequence))\n",
    "for domain in sequence:\n",
    "    scores_ground_truth = []\n",
    "    scores_TADIL = []\n",
    "    scores_normal = []\n",
    "    iters_ = []\n",
    "    for index, r in enumerate(results['ground_truth']):\n",
    "        try:\n",
    "            score_task = r[f\"{metric_root_name}/Task00{domain}/Exp00{domain}\"]\n",
    "            score_TADIL = results['TADIL'][index][f\"{metric_root_name}/Task00{domain}/Exp00{domain}\"]\n",
    "            score_normal = results['normal'][index][f\"{metric_root_name}/Task00{0}/Exp00{domain}\"]\n",
    "            if score_task != 0:\n",
    "                scores_ground_truth.append(score_task)\n",
    "                scores_TADIL.append(score_TADIL)\n",
    "                scores_normal.append(score_normal)\n",
    "                iters_.append(index + 1)\n",
    "        except:\n",
    "            pass\n",
    "    method_scores['ground_truth'].append((iters_, scores_ground_truth))\n",
    "    method_scores['TADIL'].append((iters_, scores_TADIL))\n",
    "    method_scores['normal'].append((iters_, scores_normal))\n",
    "\n",
    "max_iter = max([max(scores, key=lambda s: s[0][-1])[0][-1] if scores else 0 for scores in method_scores.values()])\n",
    "\n",
    "fig, axs = plt.subplots(1, 3, figsize=(15, 5))\n",
    "plt.suptitle(f\"Strategy: {strategy_name}, Dataset: Soda10-class with {len(results['ground_truth'])} tasks\")\n",
    "\n",
    "colors = plt.cm.get_cmap('tab10', len(unique_tasks))\n",
    "\n",
    "plotted_tasks = set()\n",
    "\n",
    "for i, (method_name, method_scores_list) in enumerate(method_scores.items()):\n",
    "    \n",
    "    avg_list = list()\n",
    "    for j, (x, y) in enumerate(method_scores_list):\n",
    "        average_accuracy = np.mean(y)\n",
    "        avg_list.append(average_accuracy)\n",
    "        label_task_num = sequence[j]\n",
    "        if label_task_num not in plotted_tasks:\n",
    "            axs[i].plot(x, y, '*--', color=colors(unique_tasks.index(label_task_num)), label=f'{method_name}-Task{label_task_num+1} (Avg Acc: {average_accuracy:.2f})')\n",
    "            plotted_tasks.add(label_task_num)\n",
    "        else:\n",
    "            axs[i].plot(x, y, '*--', color=colors(unique_tasks.index(label_task_num)))\n",
    "        axs[i].set_yticks(np.arange(0, 1.1, 0.1))\n",
    "        axs[i].set_yticklabels([\"{:.2f}\".format(val) for val in np.arange(0, 1.1, 0.1)])\n",
    "        axs[i].legend()\n",
    "        \n",
    "    plotted_tasks.clear()\n",
    "    \n",
    "    axs[i].set_title(f\"Approach: {method_name} | Avg Acc: {round(np.mean(avg_list), 2)}\")\n",
    "    \n",
    "    axs[i].set_xlabel(\"Sequence\")\n",
    "    axs[i].set_ylabel(\"Performance\")\n",
    "    axs[i].set_xticks(np.arange(1, len(sequence)+1))\n",
    "    axs[i].set_xticklabels([str(task+1) for task in sequence])\n",
    "\n",
    "plt.tight_layout()\n",
    "plt.savefig(f'Agnostic_online_{strategy_name}.pdf', bbox_inches='tight', pad_inches=0)\n",
    "plt.show()\n"
   ]
  }
 ],
 "metadata": {
  "kernelspec": {
   "display_name": "Python [conda env:pytorch] *",
   "language": "python",
   "name": "conda-env-pytorch-py"
  },
  "language_info": {
   "codemirror_mode": {
    "name": "ipython",
    "version": 3
   },
   "file_extension": ".py",
   "mimetype": "text/x-python",
   "name": "python",
   "nbconvert_exporter": "python",
   "pygments_lexer": "ipython3",
   "version": "3.9.15"
  }
 },
 "nbformat": 4,
 "nbformat_minor": 5
}
